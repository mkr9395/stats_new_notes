{
 "cells": [
  {
   "cell_type": "markdown",
   "id": "e1b80aff",
   "metadata": {
    "heading_collapsed": true
   },
   "source": [
    "# Z-test questions"
   ]
  },
  {
   "cell_type": "markdown",
   "id": "737ad171",
   "metadata": {
    "hidden": true
   },
   "source": [
    "### 🔹 Summary Table\n",
    "\n",
    "| Test Direction      | Alternate Hypothesis \\( H_1 \\) | Function for P-value         |\n",
    "|---------------------|------------------------------|-------------------------------|\n",
    "| Left-tailed         | $( \\mu < \\mu_0 )$             | `stats.norm.cdf(z)`          |\n",
    "| Right-tailed        | $( \\mu > \\mu_0 )$             | `1 - stats.norm.cdf(z)`      |\n",
    "| Two-tailed          | $( \\mu \\ne \\mu_0 )$           | `2 * (1 - stats.norm.cdf(abs(z)))` or similar |"
   ]
  },
  {
   "cell_type": "markdown",
   "id": "bceee21d",
   "metadata": {
    "hidden": true
   },
   "source": [
    "### use of abs(zstats) in 2-tailed_test only\n",
    "\n",
    "| Test Type      | Your Code Correct? | Reason                                     |\n",
    "|----------------|--------------------|--------------------------------------------|\n",
    "| One-tailed (left)  | ❌                  | Should use `stats.norm.cdf(z)`             |\n",
    "| One-tailed (right) | ✅ (but avoid `abs()`) | Better: `1 - stats.norm.cdf(z)` without `abs` |\n",
    "| Two-tailed         | ✅ if `* 2` is used | Use `2 * (1 - norm.cdf(abs(z)))`            |\n",
    "\n"
   ]
  },
  {
   "cell_type": "code",
   "execution_count": 1,
   "id": "7d42f92d",
   "metadata": {
    "ExecuteTime": {
     "end_time": "2025-04-13T19:36:44.617353Z",
     "start_time": "2025-04-13T19:36:41.486200Z"
    },
    "hidden": true
   },
   "outputs": [],
   "source": [
    "import scipy\n",
    "import numpy as np\n",
    "from scipy import stats"
   ]
  },
  {
   "cell_type": "markdown",
   "id": "e5cfb4c7",
   "metadata": {
    "heading_collapsed": true,
    "hidden": true
   },
   "source": [
    "## 🔹 **[1] One-Tailed Z-Test (Left-Tailed)**"
   ]
  },
  {
   "cell_type": "markdown",
   "id": "f68a255f",
   "metadata": {
    "hidden": true
   },
   "source": [
    "**Q1.** A bank claims that its new fraud detection algorithm flags frauds faster than the previous version, which had a mean detection time of 120 seconds. You collect a sample of 100 transactions and find a sample mean of 115 seconds with a known standard deviation of 30 seconds. Is there evidence that the new system is faster?"
   ]
  },
  {
   "cell_type": "markdown",
   "id": "93adac31",
   "metadata": {
    "hidden": true
   },
   "source": [
    "- null hypo : flag time is same. i.e $\\mu$ >= 120\n",
    "\n",
    "\n",
    "- alternate : flag time increased $\\mu$ < 120"
   ]
  },
  {
   "cell_type": "code",
   "execution_count": 2,
   "id": "b345448d",
   "metadata": {
    "ExecuteTime": {
     "end_time": "2025-04-13T19:36:44.632589Z",
     "start_time": "2025-04-13T19:36:44.620748Z"
    },
    "hidden": true
   },
   "outputs": [],
   "source": [
    "pop_mean = 120\n",
    "sample_size = 100\n",
    "sample_mean = 115\n",
    "population_std = 30"
   ]
  },
  {
   "cell_type": "code",
   "execution_count": 3,
   "id": "3bce8407",
   "metadata": {
    "ExecuteTime": {
     "end_time": "2025-04-13T19:36:44.647458Z",
     "start_time": "2025-04-13T19:36:44.635104Z"
    },
    "hidden": true
   },
   "outputs": [],
   "source": [
    "alpha = 0.05"
   ]
  },
  {
   "cell_type": "code",
   "execution_count": 4,
   "id": "8acb55fc",
   "metadata": {
    "ExecuteTime": {
     "end_time": "2025-04-13T19:36:44.662797Z",
     "start_time": "2025-04-13T19:36:44.651098Z"
    },
    "hidden": true
   },
   "outputs": [
    {
     "data": {
      "text/plain": [
       "-1.6666666666666667"
      ]
     },
     "execution_count": 4,
     "metadata": {},
     "output_type": "execute_result"
    }
   ],
   "source": [
    "z_stats = (sample_mean - pop_mean)/(population_std /np.sqrt(sample_size))\n",
    "z_stats"
   ]
  },
  {
   "cell_type": "markdown",
   "id": "6a2735de",
   "metadata": {
    "hidden": true
   },
   "source": [
    "####  p-value for one-tailed test (left tail)"
   ]
  },
  {
   "cell_type": "code",
   "execution_count": 5,
   "id": "ab63f4ef",
   "metadata": {
    "ExecuteTime": {
     "end_time": "2025-04-13T19:36:44.693994Z",
     "start_time": "2025-04-13T19:36:44.666134Z"
    },
    "hidden": true
   },
   "outputs": [
    {
     "data": {
      "text/plain": [
       "0.0477903522728147"
      ]
     },
     "execution_count": 5,
     "metadata": {},
     "output_type": "execute_result"
    }
   ],
   "source": [
    "p_value = stats.norm.cdf(z_stats)\n",
    "p_value"
   ]
  },
  {
   "cell_type": "code",
   "execution_count": 6,
   "id": "b0a89293",
   "metadata": {
    "ExecuteTime": {
     "end_time": "2025-04-13T19:36:44.709222Z",
     "start_time": "2025-04-13T19:36:44.697705Z"
    },
    "hidden": true
   },
   "outputs": [
    {
     "name": "stdout",
     "output_type": "stream",
     "text": [
      "Z-score: -1.6667\n",
      "P-value: 0.0478\n",
      "alpha: 0.0500\n"
     ]
    }
   ],
   "source": [
    "print(f\"Z-score: {z_stats:.4f}\")\n",
    "print(f\"P-value: {p_value:.4f}\")\n",
    "print(f\"alpha: {alpha:.4f}\")"
   ]
  },
  {
   "cell_type": "code",
   "execution_count": 7,
   "id": "d4ca4ba2",
   "metadata": {
    "ExecuteTime": {
     "end_time": "2025-04-13T19:36:44.724756Z",
     "start_time": "2025-04-13T19:36:44.711192Z"
    },
    "hidden": true
   },
   "outputs": [
    {
     "name": "stdout",
     "output_type": "stream",
     "text": [
      "Reject the null hypothesis. The new system is significantly faster.\n"
     ]
    }
   ],
   "source": [
    "# Decision\n",
    "if p_value < alpha:\n",
    "    print(\"Reject the null hypothesis. The new system is significantly faster.\")\n",
    "else:\n",
    "    print(\"Fail to reject the null hypothesis. Not enough evidence that it's faster.\")"
   ]
  },
  {
   "cell_type": "markdown",
   "id": "3e383920",
   "metadata": {
    "heading_collapsed": true,
    "hidden": true
   },
   "source": [
    "## 🔹 **[2] <span class=\"mark\"> Z-Test for Proportions : One-Tailed Z-Test (Left-Tailed)</span>**"
   ]
  },
  {
   "cell_type": "markdown",
   "id": "9b7ccc7a",
   "metadata": {
    "hidden": true
   },
   "source": [
    "**Q2.** A payment gateway asserts that their transaction failure rate has dropped below 2%. In a recent sample of 5000 transactions, 80 failed. Can you verify the claim?"
   ]
  },
  {
   "cell_type": "markdown",
   "id": "9ff745d7",
   "metadata": {
    "hidden": true
   },
   "source": [
    "### 🔸 Step 1: Define the Hypotheses\n",
    "\n",
    "We’re testing if the **true failure rate is less than 2%** → so this is a **left-tailed test** for proportions.\n",
    "\n",
    "Let:\n",
    "\n",
    "- $p_0 = 0.02$ (claimed failure rate)\n",
    "\n",
    "\n",
    "- $\\hat{p} = \\frac{80}{5000} = 0.016$ (observed failure rate)\n",
    "\n",
    "**Hypotheses:**\n",
    "\n",
    "\n",
    "\n",
    "- **Null Hypothesis (H₀):** $p = 0.02$  \n",
    "\n",
    "\n",
    "\n",
    "- **Alternative Hypothesis (H₁):** $p < 0.02$ (failure rate has dropped → better performance)"
   ]
  },
  {
   "cell_type": "markdown",
   "id": "3bd3f133",
   "metadata": {
    "hidden": true
   },
   "source": [
    "### 🔸 Step 2: Z-Test for Proportions\n",
    "\n",
    "Formula for z-test for a proportion:\n",
    "\n",
    "$$\n",
    "z = \\frac{\\hat{p} - p_0}{\\sqrt{\\frac{p_0(1 - p_0)}{n}}}\n",
    "$$\n",
    "\n",
    "Where:\n",
    "\n",
    "- $\\hat{p} = \\frac{80}{5000} = 0.016$\n",
    "- $p_0 = 0.02$\n",
    "- $n = 5000$\n",
    "\n",
    "Let’s compute this in Python:"
   ]
  },
  {
   "cell_type": "code",
   "execution_count": 8,
   "id": "fd57f090",
   "metadata": {
    "ExecuteTime": {
     "end_time": "2025-04-13T19:36:44.740839Z",
     "start_time": "2025-04-13T19:36:44.727265Z"
    },
    "hidden": true
   },
   "outputs": [
    {
     "data": {
      "text/plain": [
       "0.016"
      ]
     },
     "execution_count": 8,
     "metadata": {},
     "output_type": "execute_result"
    }
   ],
   "source": [
    "80/5000"
   ]
  },
  {
   "cell_type": "code",
   "execution_count": 9,
   "id": "322102f5",
   "metadata": {
    "ExecuteTime": {
     "end_time": "2025-04-13T19:36:44.756001Z",
     "start_time": "2025-04-13T19:36:44.743973Z"
    },
    "hidden": true
   },
   "outputs": [
    {
     "name": "stdout",
     "output_type": "stream",
     "text": [
      "Z-statistic: -2.0203\n",
      "P-value: 0.0217\n"
     ]
    }
   ],
   "source": [
    "from scipy import stats\n",
    "import math\n",
    "\n",
    "# Given values\n",
    "p_hat = 80 / 5000\n",
    "p_0 = 0.02\n",
    "n = 5000\n",
    "\n",
    "# Z-statistic\n",
    "z = (p_hat - p_0) / math.sqrt(p_0 * (1 - p_0) / n)\n",
    "\n",
    "# Left-tailed test → area to the left\n",
    "p_value = stats.norm.cdf(z)\n",
    "\n",
    "print(f\"Z-statistic: {z:.4f}\")\n",
    "print(f\"P-value: {p_value:.4f}\")\n"
   ]
  },
  {
   "cell_type": "markdown",
   "id": "3bf08c4b",
   "metadata": {
    "hidden": true
   },
   "source": [
    "```\n",
    "Z-statistic: -2.0203\n",
    "P-value: 0.0217\n",
    "```\n",
    "\n",
    "---\n",
    "\n",
    "### 🔸 Step 4: Conclusion\n",
    "\n",
    "Since **p-value (0.0217) < α (0.05)** → we **reject the null hypothesis**.\n",
    "\n",
    "---\n",
    "\n",
    "### ✅ Final Answer:\n",
    "\n",
    "> There is **enough statistical evidence** at the 5% level to conclude that the transaction failure rate has **dropped below 2%**. The company’s claim **is true** with this sample."
   ]
  },
  {
   "cell_type": "markdown",
   "id": "87e3e39a",
   "metadata": {
    "heading_collapsed": true,
    "hidden": true
   },
   "source": [
    "## 🔹 **[3] One-Tailed Z-Test (Left-Tailed)**"
   ]
  },
  {
   "cell_type": "markdown",
   "id": "f564222a",
   "metadata": {
    "hidden": true
   },
   "source": [
    "**Q3.** A fintech firm claims that its customer onboarding time is less than the industry average of 15 minutes. You gather onboarding time for 64 new customers. Mean time = 14.2 mins, known std dev = 3 mins. Is the claim valid?"
   ]
  },
  {
   "cell_type": "markdown",
   "id": "65426a31",
   "metadata": {
    "hidden": true
   },
   "source": [
    "Let μ be the population mean onboarding time.\n",
    "\n",
    "- Null Hypothesis (H₀): μ = 15 (onboarding time is not less than industry average)\n",
    "\n",
    "\n",
    "\n",
    "- Alternate Hypothesis (H₁): μ < 15 (onboarding time is less)"
   ]
  },
  {
   "cell_type": "code",
   "execution_count": 10,
   "id": "e340c9cb",
   "metadata": {
    "ExecuteTime": {
     "end_time": "2025-04-13T19:36:44.787113Z",
     "start_time": "2025-04-13T19:36:44.761081Z"
    },
    "hidden": true
   },
   "outputs": [],
   "source": [
    "pop_mean = 15\n",
    "sample_size = 64\n",
    "sample_mean = 14.2\n",
    "population_std = 3"
   ]
  },
  {
   "cell_type": "code",
   "execution_count": 11,
   "id": "6ae590d1",
   "metadata": {
    "ExecuteTime": {
     "end_time": "2025-04-13T19:36:44.802986Z",
     "start_time": "2025-04-13T19:36:44.790112Z"
    },
    "hidden": true
   },
   "outputs": [],
   "source": [
    "alpha = 0.05"
   ]
  },
  {
   "cell_type": "code",
   "execution_count": 12,
   "id": "6e227e1a",
   "metadata": {
    "ExecuteTime": {
     "end_time": "2025-04-13T19:36:44.834603Z",
     "start_time": "2025-04-13T19:36:44.805997Z"
    },
    "hidden": true
   },
   "outputs": [
    {
     "data": {
      "text/plain": [
       "-2.133333333333335"
      ]
     },
     "execution_count": 12,
     "metadata": {},
     "output_type": "execute_result"
    }
   ],
   "source": [
    "z_stats = (sample_mean - pop_mean)/(population_std/(np.sqrt(sample_size)))\n",
    "z_stats"
   ]
  },
  {
   "cell_type": "code",
   "execution_count": 13,
   "id": "93ff2275",
   "metadata": {
    "ExecuteTime": {
     "end_time": "2025-04-13T19:36:44.849975Z",
     "start_time": "2025-04-13T19:36:44.837606Z"
    },
    "hidden": true
   },
   "outputs": [
    {
     "data": {
      "text/plain": [
       "0.016448695822745253"
      ]
     },
     "execution_count": 13,
     "metadata": {},
     "output_type": "execute_result"
    }
   ],
   "source": [
    "p_value = stats.norm.cdf(z_stats)\n",
    "p_value"
   ]
  },
  {
   "cell_type": "code",
   "execution_count": 14,
   "id": "e0fd0d30",
   "metadata": {
    "ExecuteTime": {
     "end_time": "2025-04-13T19:36:44.865455Z",
     "start_time": "2025-04-13T19:36:44.851958Z"
    },
    "hidden": true
   },
   "outputs": [
    {
     "name": "stdout",
     "output_type": "stream",
     "text": [
      "Z-score: -2.1333\n",
      "P-value: 0.0164\n",
      "alpha: 0.0500\n"
     ]
    }
   ],
   "source": [
    "print(f\"Z-score: {z_stats:.4f}\")\n",
    "print(f\"P-value: {p_value:.4f}\")\n",
    "print(f\"alpha: {alpha:.4f}\")"
   ]
  },
  {
   "cell_type": "code",
   "execution_count": 15,
   "id": "0ee7649d",
   "metadata": {
    "ExecuteTime": {
     "end_time": "2025-04-13T19:36:44.896167Z",
     "start_time": "2025-04-13T19:36:44.868405Z"
    },
    "hidden": true
   },
   "outputs": [
    {
     "name": "stdout",
     "output_type": "stream",
     "text": [
      "Reject the null hypothesis. so,onboarding time is less.\n"
     ]
    }
   ],
   "source": [
    "# Decision\n",
    "if p_value < alpha:\n",
    "    print(\"Reject the null hypothesis. so,onboarding time is less.\")\n",
    "else:\n",
    "    print(\"Fail to reject the null hypothesis. Not enough evidence that onboarding time is less than industry average.\")"
   ]
  },
  {
   "cell_type": "markdown",
   "id": "3bee0067",
   "metadata": {
    "hidden": true
   },
   "source": [
    "At the 5% significance level, there is enough statistical evidence to support the claim that the fintech firm’s customer onboarding time is significantly less than the industry average of 15 minutes."
   ]
  },
  {
   "cell_type": "markdown",
   "id": "1e122545",
   "metadata": {
    "hidden": true
   },
   "source": [
    "## 🔹 **[4] <span class=\"girk\">One-Tailed Z-Test (Left-Tailed)</span>**"
   ]
  },
  {
   "cell_type": "markdown",
   "id": "92e03fa0",
   "metadata": {
    "hidden": true
   },
   "source": [
    "**Q4.** An e-commerce company wants to prove that their app crashes less than 3% of the time. From 10,000 sessions, 280 crashes were reported. Can they support their claim?"
   ]
  },
  {
   "cell_type": "code",
   "execution_count": 16,
   "id": "1ff4e828",
   "metadata": {
    "ExecuteTime": {
     "end_time": "2025-04-13T19:36:44.911679Z",
     "start_time": "2025-04-13T19:36:44.899158Z"
    },
    "hidden": true
   },
   "outputs": [
    {
     "data": {
      "text/plain": [
       "0.028"
      ]
     },
     "execution_count": 16,
     "metadata": {},
     "output_type": "execute_result"
    }
   ],
   "source": [
    "280/10000"
   ]
  },
  {
   "cell_type": "markdown",
   "id": "e03f9629",
   "metadata": {
    "hidden": true
   },
   "source": [
    "We’re testing if the true crash rate is less than 3% → so this is a left-tailed test for proportions.\n",
    "\n",
    "Let:\n",
    "\n",
    "- $p_0 = 0.03$ (claimed failure rate)\n",
    "- $\\hat{p} = \\frac{280}{10000} = 0.028$ (observed failure rate)\n",
    "\n",
    "**Hypotheses:**\n",
    "\n",
    "- **Null Hypothesis (H₀):** $p = 0.03$  \n",
    "\n",
    "\n",
    "- **Alternative Hypothesis (H₁):** $p < 0.03$ (crash rate has dropped → better performance)"
   ]
  },
  {
   "cell_type": "markdown",
   "id": "2cc728f4",
   "metadata": {
    "hidden": true
   },
   "source": [
    "\n",
    "Formula for z-test for a proportion:\n",
    "\n",
    "$$\n",
    "z = \\frac{\\hat{p} - p_0}{\\sqrt{\\frac{p_0(1 - p_0)}{n}}}\n",
    "$$\n",
    "\n",
    "Where:\n",
    "\n",
    "- $\\hat{p} = \\frac{280}{10000} = 0.028$\n",
    "- $p_0 = 0.03$\n",
    "- $n = 10000$"
   ]
  },
  {
   "cell_type": "code",
   "execution_count": 17,
   "id": "8b1a2361",
   "metadata": {
    "ExecuteTime": {
     "end_time": "2025-04-13T19:36:44.942769Z",
     "start_time": "2025-04-13T19:36:44.914702Z"
    },
    "hidden": true
   },
   "outputs": [],
   "source": [
    "p_hat = 280/10000\n",
    "p_o = 0.03\n",
    "n = 10000"
   ]
  },
  {
   "cell_type": "code",
   "execution_count": 18,
   "id": "1b3d7b59",
   "metadata": {
    "ExecuteTime": {
     "end_time": "2025-04-13T19:36:44.958258Z",
     "start_time": "2025-04-13T19:36:44.946289Z"
    },
    "hidden": true
   },
   "outputs": [],
   "source": [
    "alpha = 0.05"
   ]
  },
  {
   "cell_type": "code",
   "execution_count": 19,
   "id": "53a24809",
   "metadata": {
    "ExecuteTime": {
     "end_time": "2025-04-13T19:36:44.973931Z",
     "start_time": "2025-04-13T19:36:44.960331Z"
    },
    "hidden": true
   },
   "outputs": [
    {
     "data": {
      "text/plain": [
       "-1.1724207635210975"
      ]
     },
     "execution_count": 19,
     "metadata": {},
     "output_type": "execute_result"
    }
   ],
   "source": [
    "z_stats = (p_hat - p_o)/np.sqrt((p_o * (1 - p_o))/n)\n",
    "z_stats"
   ]
  },
  {
   "cell_type": "code",
   "execution_count": 20,
   "id": "563f98f9",
   "metadata": {
    "ExecuteTime": {
     "end_time": "2025-04-13T19:36:44.989461Z",
     "start_time": "2025-04-13T19:36:44.976943Z"
    },
    "hidden": true
   },
   "outputs": [
    {
     "data": {
      "text/plain": [
       "0.12051408363221616"
      ]
     },
     "execution_count": 20,
     "metadata": {},
     "output_type": "execute_result"
    }
   ],
   "source": [
    "p_value = stats.norm.cdf(z_stats)\n",
    "p_value"
   ]
  },
  {
   "cell_type": "code",
   "execution_count": 21,
   "id": "4a407941",
   "metadata": {
    "ExecuteTime": {
     "end_time": "2025-04-13T19:36:45.004997Z",
     "start_time": "2025-04-13T19:36:44.992965Z"
    },
    "hidden": true,
    "scrolled": true
   },
   "outputs": [
    {
     "name": "stdout",
     "output_type": "stream",
     "text": [
      "Z-statistic: -1.1724\n",
      "P-value: 0.1205\n",
      "alpha: 0.0500\n"
     ]
    }
   ],
   "source": [
    "print(f\"Z-statistic: {z_stats:.4f}\")\n",
    "print(f\"P-value: {p_value:.4f}\")\n",
    "print(f\"alpha: {alpha:.4f}\")"
   ]
  },
  {
   "cell_type": "markdown",
   "id": "a7ab7536",
   "metadata": {
    "hidden": true
   },
   "source": [
    "### 🔸 Conclusion\n",
    "Since **p-value (0.1205) > α (0.05)** → we **fail to reject the null hypothesis**."
   ]
  },
  {
   "cell_type": "markdown",
   "id": "538261d0",
   "metadata": {
    "hidden": true
   },
   "source": [
    "At the 5% significance level, there is not enough statistical evidence to support the e-commerce company’s claim that the app crashes less than 3% of the time."
   ]
  },
  {
   "cell_type": "markdown",
   "id": "b8cca97b",
   "metadata": {
    "hidden": true
   },
   "source": [
    "## 🔹 **[5] One-Tailed Z-Test (Right-Tailed)**"
   ]
  },
  {
   "cell_type": "markdown",
   "id": "a9bcdcd8",
   "metadata": {
    "hidden": true
   },
   "source": [
    "**Q5.** A trading algorithm has a historical win rate of 55%. A recent 200 trades show a win rate of 60%. Is this increase statistically significant?"
   ]
  },
  {
   "cell_type": "markdown",
   "id": "6699a65a",
   "metadata": {
    "hidden": true
   },
   "source": [
    "We are testing if the new win rate is greater than the historical average, so this is a right-tailed test.\n",
    "\n",
    "\n",
    "**Hypotheses:**\n",
    "\n",
    "- **Null Hypothesis (H₀):** $p = 0.55$  \n",
    "\n",
    "\n",
    "- **Alternative Hypothesis (H₁):** $p > 0.55$ "
   ]
  },
  {
   "cell_type": "markdown",
   "id": "6cdad253",
   "metadata": {
    "hidden": true
   },
   "source": [
    "\n",
    "Formula for z-test for a proportion:\n",
    "\n",
    "$$\n",
    "z = \\frac{\\hat{p} - p_0}{\\sqrt{\\frac{p_0(1 - p_0)}{n}}}\n",
    "$$\n",
    "\n",
    "Where:\n",
    "\n",
    "- $\\hat{p} = 0.60$\n",
    "- $p_0 = 0.55$\n",
    "- $n = 200$"
   ]
  },
  {
   "cell_type": "code",
   "execution_count": 22,
   "id": "f2fb0310",
   "metadata": {
    "ExecuteTime": {
     "end_time": "2025-04-13T19:36:45.020427Z",
     "start_time": "2025-04-13T19:36:45.007995Z"
    },
    "hidden": true
   },
   "outputs": [],
   "source": [
    "p_hat = 0.60\n",
    "p_o = 0.55\n",
    "n = 200"
   ]
  },
  {
   "cell_type": "code",
   "execution_count": 23,
   "id": "f429b0f9",
   "metadata": {
    "ExecuteTime": {
     "end_time": "2025-04-13T19:36:45.035863Z",
     "start_time": "2025-04-13T19:36:45.023942Z"
    },
    "hidden": true
   },
   "outputs": [],
   "source": [
    "alpha = 0.05"
   ]
  },
  {
   "cell_type": "code",
   "execution_count": 24,
   "id": "b0d342da",
   "metadata": {
    "ExecuteTime": {
     "end_time": "2025-04-13T19:36:45.051886Z",
     "start_time": "2025-04-13T19:36:45.038865Z"
    },
    "hidden": true
   },
   "outputs": [
    {
     "data": {
      "text/plain": [
       "1.4213381090374009"
      ]
     },
     "execution_count": 24,
     "metadata": {},
     "output_type": "execute_result"
    }
   ],
   "source": [
    "z_stats = (p_hat - p_o)/np.sqrt((p_o * (1 - p_o))/n)\n",
    "z_stats"
   ]
  },
  {
   "cell_type": "code",
   "execution_count": 25,
   "id": "73d80d11",
   "metadata": {
    "ExecuteTime": {
     "end_time": "2025-04-13T19:36:45.067930Z",
     "start_time": "2025-04-13T19:36:45.054402Z"
    },
    "hidden": true
   },
   "outputs": [
    {
     "data": {
      "text/plain": [
       "0.07760924484234233"
      ]
     },
     "execution_count": 25,
     "metadata": {},
     "output_type": "execute_result"
    }
   ],
   "source": [
    "p_value = 1 - stats.norm.cdf(z_stats)\n",
    "p_value"
   ]
  },
  {
   "cell_type": "code",
   "execution_count": 26,
   "id": "fb77e6f1",
   "metadata": {
    "ExecuteTime": {
     "end_time": "2025-04-13T19:36:45.083970Z",
     "start_time": "2025-04-13T19:36:45.070954Z"
    },
    "hidden": true,
    "scrolled": true
   },
   "outputs": [
    {
     "name": "stdout",
     "output_type": "stream",
     "text": [
      "Z-statistic: 1.4213\n",
      "P-value: 0.0776\n",
      "alpha: 0.0500\n"
     ]
    }
   ],
   "source": [
    "print(f\"Z-statistic: {z_stats:.4f}\")\n",
    "print(f\"P-value: {p_value:.4f}\")\n",
    "print(f\"alpha: {alpha:.4f}\")"
   ]
  },
  {
   "cell_type": "markdown",
   "id": "658a6b76",
   "metadata": {
    "hidden": true
   },
   "source": [
    "### 🔸 Conclusion\n",
    "Since **p-value (0.0776) > α (0.05)** → we **fail to reject the null hypothesis**."
   ]
  },
  {
   "cell_type": "markdown",
   "id": "ea195f2a",
   "metadata": {
    "hidden": true
   },
   "source": [
    "Since the p-value > 0.05, we fail to reject the null hypothesis.\n",
    "There is not enough statistical evidence to conclude that the trading algorithm’s win rate has significantly improved from 55% to 60%."
   ]
  },
  {
   "cell_type": "markdown",
   "id": "4c003fac",
   "metadata": {
    "hidden": true
   },
   "source": [
    "## 🔹 **[6] Two-Tailed Z-Test**"
   ]
  },
  {
   "cell_type": "markdown",
   "id": "beb5e3d9",
   "metadata": {
    "hidden": true
   },
   "source": [
    "**Q6.** A lending firm believes the average interest rate offered is **different** from the national average of 7.5%. You sample 50 loans with a sample mean of 7.9% and known population std dev of 1.2%. Can you verify this claim?"
   ]
  },
  {
   "cell_type": "markdown",
   "id": "853e607e",
   "metadata": {
    "hidden": true
   },
   "source": [
    "We are checking if the interest rate is different (could be higher or lower), so it's a two-tailed z-test.\n",
    "\n",
    "Let \n",
    "\n",
    "μ be the true mean interest rate of the lending firm.\n",
    "\n",
    "**Hypotheses:**\n",
    "\n",
    "Null Hypothesis (H₀):  $\\mu = 7.5$\n",
    " \n",
    "Alternative Hypothesis (H₁):  $\\mu \\neq$ 7.5"
   ]
  },
  {
   "cell_type": "code",
   "execution_count": 27,
   "id": "1bdc45fc",
   "metadata": {
    "ExecuteTime": {
     "end_time": "2025-04-13T19:36:45.099520Z",
     "start_time": "2025-04-13T19:36:45.086975Z"
    },
    "hidden": true
   },
   "outputs": [],
   "source": [
    "pop_mean = 7.5\n",
    "sample_size = 50\n",
    "sample_mean = 7.9\n",
    "population_std = 1.2"
   ]
  },
  {
   "cell_type": "code",
   "execution_count": 28,
   "id": "17725621",
   "metadata": {
    "ExecuteTime": {
     "end_time": "2025-04-13T19:36:45.115240Z",
     "start_time": "2025-04-13T19:36:45.110308Z"
    },
    "hidden": true
   },
   "outputs": [],
   "source": [
    "alpah = 0.05"
   ]
  },
  {
   "cell_type": "code",
   "execution_count": 29,
   "id": "fca77ac3",
   "metadata": {
    "ExecuteTime": {
     "end_time": "2025-04-13T19:36:45.130897Z",
     "start_time": "2025-04-13T19:36:45.117390Z"
    },
    "hidden": true
   },
   "outputs": [
    {
     "data": {
      "text/plain": [
       "2.3570226039551607"
      ]
     },
     "execution_count": 29,
     "metadata": {},
     "output_type": "execute_result"
    }
   ],
   "source": [
    "z_stats = (sample_mean - pop_mean)/(population_std/np.sqrt(sample_size))\n",
    "z_stats"
   ]
  },
  {
   "cell_type": "code",
   "execution_count": 30,
   "id": "46d3f19b",
   "metadata": {
    "ExecuteTime": {
     "end_time": "2025-04-13T19:36:45.146702Z",
     "start_time": "2025-04-13T19:36:45.134115Z"
    },
    "hidden": true
   },
   "outputs": [
    {
     "data": {
      "text/plain": [
       "0.018422125454098826"
      ]
     },
     "execution_count": 30,
     "metadata": {},
     "output_type": "execute_result"
    }
   ],
   "source": [
    "p_value = 2 * (1 - stats.norm.cdf(abs(z_stats)))\n",
    "p_value"
   ]
  },
  {
   "cell_type": "code",
   "execution_count": 31,
   "id": "52c5495f",
   "metadata": {
    "ExecuteTime": {
     "end_time": "2025-04-13T19:36:45.162906Z",
     "start_time": "2025-04-13T19:36:45.149712Z"
    },
    "hidden": true
   },
   "outputs": [
    {
     "name": "stdout",
     "output_type": "stream",
     "text": [
      "Z-statistic: 2.3570\n",
      "P-value: 0.0184\n",
      "alpha: 0.0500\n"
     ]
    }
   ],
   "source": [
    "print(f\"Z-statistic: {z_stats:.4f}\")\n",
    "print(f\"P-value: {p_value:.4f}\")\n",
    "print(f\"alpha: {alpha:.4f}\")"
   ]
  },
  {
   "cell_type": "code",
   "execution_count": 32,
   "id": "4460606a",
   "metadata": {
    "ExecuteTime": {
     "end_time": "2025-04-13T19:36:45.178790Z",
     "start_time": "2025-04-13T19:36:45.165916Z"
    },
    "hidden": true
   },
   "outputs": [
    {
     "name": "stdout",
     "output_type": "stream",
     "text": [
      "✅ Reject the null hypothesis — the firm's average interest rate is significantly different.\n"
     ]
    }
   ],
   "source": [
    "# Compare p-value with alpha\n",
    "if p_value < alpha:\n",
    "    print(\"✅ Reject the null hypothesis — the firm's average interest rate is significantly different.\")\n",
    "else:\n",
    "    print(\"❌ Fail to reject the null hypothesis — not enough evidence to say it's different.\")"
   ]
  },
  {
   "cell_type": "markdown",
   "id": "2c089ec0",
   "metadata": {
    "hidden": true
   },
   "source": [
    "Since p-value = 0.0184 < α = 0.05, we reject the null hypothesis.\n",
    "\n",
    "There is enough statistical evidence to support the claim that the firm’s average interest rate is significantly different from the national average of 7.5%."
   ]
  },
  {
   "cell_type": "markdown",
   "id": "a72b6814",
   "metadata": {
    "hidden": true
   },
   "source": [
    "## 🔹 **[7] Two-Tailed Z-Test**"
   ]
  },
  {
   "cell_type": "markdown",
   "id": "0d489749",
   "metadata": {
    "hidden": true
   },
   "source": [
    "**Q7.** You suspect the mean transaction amount on a website has changed from last year’s average of \\$85. \n",
    "\n",
    "Sample size = 150, sample mean = \\\\$87.5, population std dev = \\\\$10. Test this claim."
   ]
  },
  {
   "cell_type": "markdown",
   "id": "67d761fd",
   "metadata": {
    "hidden": true
   },
   "source": [
    "Since we're testing if the mean has changed, we use a two-tailed test.\n",
    "\n",
    "Let \n",
    "\n",
    "μ be the true mean transaction amount.\n",
    "\n",
    "\n",
    "Hypotheses:\n",
    "\n",
    "Null Hypothesis (H₀):  𝜇= 85\n",
    " \n",
    "\n",
    "Alternative Hypothesis (H₁):  𝜇≠ 85"
   ]
  },
  {
   "cell_type": "code",
   "execution_count": 33,
   "id": "513abef7",
   "metadata": {
    "ExecuteTime": {
     "end_time": "2025-04-13T19:36:45.194273Z",
     "start_time": "2025-04-13T19:36:45.181776Z"
    },
    "hidden": true
   },
   "outputs": [],
   "source": [
    "pop_mean = 85\n",
    "sample_size = 150\n",
    "sample_mean = 87.5\n",
    "population_std = 10"
   ]
  },
  {
   "cell_type": "code",
   "execution_count": 34,
   "id": "8f0017ee",
   "metadata": {
    "ExecuteTime": {
     "end_time": "2025-04-13T19:36:45.210294Z",
     "start_time": "2025-04-13T19:36:45.197290Z"
    },
    "hidden": true
   },
   "outputs": [],
   "source": [
    "alpha = 0.05"
   ]
  },
  {
   "cell_type": "code",
   "execution_count": 35,
   "id": "0656ae1b",
   "metadata": {
    "ExecuteTime": {
     "end_time": "2025-04-13T19:36:45.226110Z",
     "start_time": "2025-04-13T19:36:45.211294Z"
    },
    "hidden": true
   },
   "outputs": [
    {
     "data": {
      "text/plain": [
       "37.5"
      ]
     },
     "execution_count": 35,
     "metadata": {},
     "output_type": "execute_result"
    }
   ],
   "source": [
    "z_stats = (sample_mean - pop_mean)/(population_std/sample_size)\n",
    "z_stats"
   ]
  },
  {
   "cell_type": "code",
   "execution_count": 36,
   "id": "e3f35448",
   "metadata": {
    "ExecuteTime": {
     "end_time": "2025-04-13T19:36:45.256649Z",
     "start_time": "2025-04-13T19:36:45.229111Z"
    },
    "hidden": true
   },
   "outputs": [
    {
     "data": {
      "text/plain": [
       "0.0"
      ]
     },
     "execution_count": 36,
     "metadata": {},
     "output_type": "execute_result"
    }
   ],
   "source": [
    "p_value = 2 * (1 - stats.norm.cdf(abs(z_stats)))\n",
    "p_value"
   ]
  },
  {
   "cell_type": "code",
   "execution_count": 37,
   "id": "afa8f0cb",
   "metadata": {
    "ExecuteTime": {
     "end_time": "2025-04-13T19:36:45.271911Z",
     "start_time": "2025-04-13T19:36:45.259657Z"
    },
    "hidden": true
   },
   "outputs": [
    {
     "name": "stdout",
     "output_type": "stream",
     "text": [
      "Z-statistic: -2.0203\n",
      "P-value: 0.0000\n",
      "Alpha: 0.05\n"
     ]
    }
   ],
   "source": [
    "# Print the results\n",
    "print(f\"Z-statistic: {z:.4f}\")\n",
    "print(f\"P-value: {p_value:.4f}\")\n",
    "print(f\"Alpha: {alpha}\")"
   ]
  },
  {
   "cell_type": "code",
   "execution_count": 38,
   "id": "24d44aa0",
   "metadata": {
    "ExecuteTime": {
     "end_time": "2025-04-13T19:36:45.287944Z",
     "start_time": "2025-04-13T19:36:45.275428Z"
    },
    "hidden": true
   },
   "outputs": [
    {
     "name": "stdout",
     "output_type": "stream",
     "text": [
      "✅ Reject the null hypothesis — transaction mean has significantly changed.\n"
     ]
    }
   ],
   "source": [
    "# Decision rule\n",
    "if p_value < alpha:\n",
    "    print(\"✅ Reject the null hypothesis — transaction mean has significantly changed.\")\n",
    "else:\n",
    "    print(\"❌ Fail to reject the null hypothesis — not enough evidence of change.\")"
   ]
  },
  {
   "cell_type": "markdown",
   "id": "c47a5ce2",
   "metadata": {
    "hidden": true
   },
   "source": [
    "Since p-value = 0.000 < α = 0.05, we reject the null hypothesis.\n",
    "\n",
    "There is significant evidence to suggest that the mean transaction amount has changed from last year’s average of $85."
   ]
  },
  {
   "cell_type": "markdown",
   "id": "db011913",
   "metadata": {
    "hidden": true
   },
   "source": [
    "## 🔹 **[8] Two-Tailed Z-Test**"
   ]
  },
  {
   "cell_type": "markdown",
   "id": "495bc7d2",
   "metadata": {
    "hidden": true
   },
   "source": [
    "**Q8.** A customer support manager believes the average resolution time has changed from the usual 30 minutes. Sample mean = 32 mins, population std dev = 8, n = 60. Can you test this hypothesis?"
   ]
  },
  {
   "cell_type": "markdown",
   "id": "c7f2a13c",
   "metadata": {
    "hidden": true
   },
   "source": [
    "This is a two-tailed test because the manager suspects the average has changed (could be higher or lower).\n",
    "\n",
    "Let \n",
    "𝜇\n",
    "μ be the true average resolution time.\n",
    "\n",
    "Hypotheses:\n",
    "\n",
    "Null Hypothesis (H₀): 𝜇= 30\n",
    "\n",
    "Alternative Hypothesis (H₁): 𝜇≠ 30"
   ]
  },
  {
   "cell_type": "code",
   "execution_count": 39,
   "id": "af5f9076",
   "metadata": {
    "ExecuteTime": {
     "end_time": "2025-04-13T19:36:45.303535Z",
     "start_time": "2025-04-13T19:36:45.290946Z"
    },
    "hidden": true
   },
   "outputs": [],
   "source": [
    "pop_mean = 30\n",
    "sample_size = 60\n",
    "sample_mean = 32\n",
    "population_std = 8"
   ]
  },
  {
   "cell_type": "code",
   "execution_count": 40,
   "id": "8750cea7",
   "metadata": {
    "ExecuteTime": {
     "end_time": "2025-04-13T19:36:45.318822Z",
     "start_time": "2025-04-13T19:36:45.305527Z"
    },
    "hidden": true
   },
   "outputs": [],
   "source": [
    "alpha = 0.05"
   ]
  },
  {
   "cell_type": "code",
   "execution_count": 41,
   "id": "ee8dc10c",
   "metadata": {
    "ExecuteTime": {
     "end_time": "2025-04-13T19:36:45.349890Z",
     "start_time": "2025-04-13T19:36:45.321825Z"
    },
    "hidden": true
   },
   "outputs": [
    {
     "data": {
      "text/plain": [
       "1.9364916731037087"
      ]
     },
     "execution_count": 41,
     "metadata": {},
     "output_type": "execute_result"
    }
   ],
   "source": [
    "z_stats = (sample_mean - pop_mean)/(population_std/(np.sqrt(sample_size)))\n",
    "z_stats"
   ]
  },
  {
   "cell_type": "code",
   "execution_count": 42,
   "id": "5dfc7dcd",
   "metadata": {
    "ExecuteTime": {
     "end_time": "2025-04-13T19:36:45.365707Z",
     "start_time": "2025-04-13T19:36:45.352869Z"
    },
    "hidden": true
   },
   "outputs": [
    {
     "data": {
      "text/plain": [
       "0.052807511416113506"
      ]
     },
     "execution_count": 42,
     "metadata": {},
     "output_type": "execute_result"
    }
   ],
   "source": [
    "p_value = 2 * (1-stats.norm.cdf(abs(z_stats)))\n",
    "p_value"
   ]
  },
  {
   "cell_type": "code",
   "execution_count": 43,
   "id": "3e1261ee",
   "metadata": {
    "ExecuteTime": {
     "end_time": "2025-04-13T19:36:45.397225Z",
     "start_time": "2025-04-13T19:36:45.368708Z"
    },
    "hidden": true
   },
   "outputs": [
    {
     "name": "stdout",
     "output_type": "stream",
     "text": [
      "Z-statistic: -2.0203\n",
      "P-value: 0.0528\n",
      "Alpha: 0.05\n"
     ]
    }
   ],
   "source": [
    "# Print the results\n",
    "print(f\"Z-statistic: {z:.4f}\")\n",
    "print(f\"P-value: {p_value:.4f}\")\n",
    "print(f\"Alpha: {alpha}\")"
   ]
  },
  {
   "cell_type": "code",
   "execution_count": 44,
   "id": "93194331",
   "metadata": {
    "ExecuteTime": {
     "end_time": "2025-04-13T19:36:45.412585Z",
     "start_time": "2025-04-13T19:36:45.400231Z"
    },
    "hidden": true
   },
   "outputs": [
    {
     "name": "stdout",
     "output_type": "stream",
     "text": [
      "❌ Fail to reject the null hypothesis — not enough evidence of change.\n"
     ]
    }
   ],
   "source": [
    "# Decision based on alpha\n",
    "if p_value < alpha:\n",
    "    print(\"✅ Reject the null hypothesis — average resolution time has significantly changed.\")\n",
    "else:\n",
    "    print(\"❌ Fail to reject the null hypothesis — not enough evidence of change.\")"
   ]
  },
  {
   "cell_type": "markdown",
   "id": "674297ab",
   "metadata": {
    "hidden": true
   },
   "source": [
    "Since p-value = 0.0528 > α = 0.05, we fail to reject the null hypothesis.\n",
    "\n",
    "There is not enough statistical evidence to say the average resolution time has changed from 30 minutes."
   ]
  },
  {
   "cell_type": "markdown",
   "id": "a123c48b",
   "metadata": {
    "hidden": true
   },
   "source": [
    "## 🔹 **[9] Two-Tailed Z-Test**"
   ]
  },
  {
   "cell_type": "markdown",
   "id": "c23eec1a",
   "metadata": {
    "hidden": true
   },
   "source": [
    "**Q9.** A SaaS platform’s average number of daily users was 5,000 last quarter. You collect a random sample from this quarter: sample mean = 5,100, known std dev = 300, n = 90. Has the average usage changed?"
   ]
  },
  {
   "cell_type": "markdown",
   "id": "641fc74f",
   "metadata": {
    "hidden": true
   },
   "source": [
    "Let \n",
    "\n",
    "μ be the current average number of users.\n",
    "\n",
    "Null Hypothesis (H₀):  μ=5000\n",
    "\n",
    "Alternative Hypothesis (H₁):  μ ≠ 5000 (average usage has changed)\n",
    "\n",
    "This is a two-tailed z-test because we are checking for any change (not just an increase or decrease)."
   ]
  },
  {
   "cell_type": "code",
   "execution_count": 45,
   "id": "5fd43467",
   "metadata": {
    "ExecuteTime": {
     "end_time": "2025-04-13T19:36:45.443025Z",
     "start_time": "2025-04-13T19:36:45.415615Z"
    },
    "hidden": true
   },
   "outputs": [],
   "source": [
    "pop_mean = 5000\n",
    "sample_size = 90\n",
    "sample_mean = 5100\n",
    "population_std = 300"
   ]
  },
  {
   "cell_type": "code",
   "execution_count": 46,
   "id": "e066aa99",
   "metadata": {
    "ExecuteTime": {
     "end_time": "2025-04-13T19:36:45.458725Z",
     "start_time": "2025-04-13T19:36:45.447044Z"
    },
    "hidden": true
   },
   "outputs": [],
   "source": [
    "alpha = 0.05"
   ]
  },
  {
   "cell_type": "code",
   "execution_count": 47,
   "id": "5387cacc",
   "metadata": {
    "ExecuteTime": {
     "end_time": "2025-04-13T19:36:45.473882Z",
     "start_time": "2025-04-13T19:36:45.462723Z"
    },
    "hidden": true
   },
   "outputs": [
    {
     "data": {
      "text/plain": [
       "3.1622776601683795"
      ]
     },
     "execution_count": 47,
     "metadata": {},
     "output_type": "execute_result"
    }
   ],
   "source": [
    "z_stats = (sample_mean - pop_mean)/(population_std/(np.sqrt(sample_size)))\n",
    "z_stats"
   ]
  },
  {
   "cell_type": "code",
   "execution_count": 48,
   "id": "2272a975",
   "metadata": {
    "ExecuteTime": {
     "end_time": "2025-04-13T19:36:45.488789Z",
     "start_time": "2025-04-13T19:36:45.477096Z"
    },
    "hidden": true
   },
   "outputs": [
    {
     "data": {
      "text/plain": [
       "0.0015654022580025018"
      ]
     },
     "execution_count": 48,
     "metadata": {},
     "output_type": "execute_result"
    }
   ],
   "source": [
    "p_value = 2 * (1 - stats.norm.cdf(abs(z_stats)))\n",
    "p_value"
   ]
  },
  {
   "cell_type": "code",
   "execution_count": 49,
   "id": "88d25ac8",
   "metadata": {
    "ExecuteTime": {
     "end_time": "2025-04-13T19:36:45.504481Z",
     "start_time": "2025-04-13T19:36:45.491832Z"
    },
    "hidden": true
   },
   "outputs": [
    {
     "name": "stdout",
     "output_type": "stream",
     "text": [
      "Z-statistic: -2.0203\n",
      "P-value: 0.0016\n",
      "Alpha: 0.05\n"
     ]
    }
   ],
   "source": [
    "# Print the results\n",
    "print(f\"Z-statistic: {z:.4f}\")\n",
    "print(f\"P-value: {p_value:.4f}\")\n",
    "print(f\"Alpha: {alpha}\")"
   ]
  },
  {
   "cell_type": "code",
   "execution_count": 50,
   "id": "857af5a0",
   "metadata": {
    "ExecuteTime": {
     "end_time": "2025-04-13T19:36:45.536048Z",
     "start_time": "2025-04-13T19:36:45.507503Z"
    },
    "hidden": true
   },
   "outputs": [
    {
     "name": "stdout",
     "output_type": "stream",
     "text": [
      "✅ Reject the null hypothesis — average usage has significantly changed.\n"
     ]
    }
   ],
   "source": [
    "\n",
    "# Decision\n",
    "if p_value < alpha:\n",
    "    print(\"✅ Reject the null hypothesis — average usage has significantly changed.\")\n",
    "else:\n",
    "    print(\"❌ Fail to reject the null hypothesis — no significant change in usage.\")"
   ]
  },
  {
   "cell_type": "markdown",
   "id": "14a921e8",
   "metadata": {
    "hidden": true
   },
   "source": [
    "Since p-value (0.0016) < α (0.05), we reject the null hypothesis.\n",
    "\n",
    "There is statistical evidence that the average number of daily users has changed this quarter."
   ]
  },
  {
   "cell_type": "markdown",
   "id": "8213d1b4",
   "metadata": {
    "hidden": true
   },
   "source": [
    "## 🔹 **[10] Two-Tailed Z-Test**"
   ]
  },
  {
   "cell_type": "markdown",
   "id": "c2d2b61f",
   "metadata": {
    "hidden": true
   },
   "source": [
    "**Q10.** An online food delivery service had an average delivery time of 40 minutes. You take a sample of 120 recent deliveries, mean = 41.2, std dev = 5 mins. Has the delivery time changed?\n",
    "\n"
   ]
  },
  {
   "cell_type": "markdown",
   "id": "87fb9af9",
   "metadata": {
    "hidden": true
   },
   "source": [
    "Let \n",
    "𝜇\n",
    "μ be the true average delivery time now.\n",
    "\n",
    "Null Hypothesis (H₀):  μ=40 (No change in average delivery time)\n",
    "\n",
    "Alternative Hypothesis (H₁):  𝜇 ≠ 40 (Delivery time has changed)\n",
    "\n",
    "This is a two-tailed test because we’re checking for any change, not just an increase or decrease."
   ]
  },
  {
   "cell_type": "code",
   "execution_count": 51,
   "id": "78a2e48c",
   "metadata": {
    "ExecuteTime": {
     "end_time": "2025-04-13T19:36:45.551201Z",
     "start_time": "2025-04-13T19:36:45.540046Z"
    },
    "hidden": true
   },
   "outputs": [],
   "source": [
    "pop_mean = 40\n",
    "sample_size = 120\n",
    "sample_mean = 41.2\n",
    "population_std = 5"
   ]
  },
  {
   "cell_type": "code",
   "execution_count": 52,
   "id": "597cf33d",
   "metadata": {
    "ExecuteTime": {
     "end_time": "2025-04-13T19:36:45.582591Z",
     "start_time": "2025-04-13T19:36:45.554719Z"
    },
    "hidden": true
   },
   "outputs": [
    {
     "data": {
      "text/plain": [
       "3.3941125496954365"
      ]
     },
     "execution_count": 52,
     "metadata": {},
     "output_type": "execute_result"
    }
   ],
   "source": [
    "z_stats = (sample_mean - pop_mean)/(population_std/(np.sqrt(n)))\n",
    "z_stats"
   ]
  },
  {
   "cell_type": "code",
   "execution_count": 53,
   "id": "9aacc9c3",
   "metadata": {
    "ExecuteTime": {
     "end_time": "2025-04-13T19:36:45.597890Z",
     "start_time": "2025-04-13T19:36:45.585605Z"
    },
    "hidden": true
   },
   "outputs": [
    {
     "data": {
      "text/plain": [
       "0.0006885138966450377"
      ]
     },
     "execution_count": 53,
     "metadata": {},
     "output_type": "execute_result"
    }
   ],
   "source": [
    "p_value = 2* (1 - stats.norm.cdf(abs(z_stats)))\n",
    "p_value"
   ]
  },
  {
   "cell_type": "code",
   "execution_count": 54,
   "id": "88eee805",
   "metadata": {
    "ExecuteTime": {
     "end_time": "2025-04-13T19:36:45.613923Z",
     "start_time": "2025-04-13T19:36:45.600890Z"
    },
    "hidden": true
   },
   "outputs": [
    {
     "name": "stdout",
     "output_type": "stream",
     "text": [
      "Z-statistic: -2.0203\n",
      "P-value: 0.0007\n",
      "Alpha: 0.05\n"
     ]
    }
   ],
   "source": [
    "# Print the results\n",
    "print(f\"Z-statistic: {z:.4f}\")\n",
    "print(f\"P-value: {p_value:.4f}\")\n",
    "print(f\"Alpha: {alpha}\")"
   ]
  },
  {
   "cell_type": "code",
   "execution_count": 55,
   "id": "c66c277d",
   "metadata": {
    "ExecuteTime": {
     "end_time": "2025-04-13T19:36:45.630025Z",
     "start_time": "2025-04-13T19:36:45.616946Z"
    },
    "hidden": true
   },
   "outputs": [
    {
     "name": "stdout",
     "output_type": "stream",
     "text": [
      "✅ Reject the null hypothesis — the delivery time has significantly changed.\n"
     ]
    }
   ],
   "source": [
    "# Decision rule\n",
    "if p_value < alpha:\n",
    "    print(\"✅ Reject the null hypothesis — the delivery time has significantly changed.\")\n",
    "else:\n",
    "    print(\"❌ Fail to reject the null hypothesis — no significant change in delivery time.\")"
   ]
  },
  {
   "cell_type": "markdown",
   "id": "e5431827",
   "metadata": {
    "hidden": true
   },
   "source": [
    "There is statistical evidence that the average delivery time has changed from the previous average of 40 minutes."
   ]
  },
  {
   "cell_type": "markdown",
   "id": "d9ef7ad0",
   "metadata": {
    "hidden": true
   },
   "source": [
    "### 🔹 **[11] Two-Sample Independent Z-Test**"
   ]
  },
  {
   "cell_type": "markdown",
   "id": "141ab5b0",
   "metadata": {
    "hidden": true
   },
   "source": [
    "**Q11.** Compare average salaries between Data Scientists in two different cities. City A: mean = \\\\$130k, std dev = \\\\$15k, n = 50. City B: mean = \\\\$125k, std dev = \\\\$14k, n = 50. Are the means significantly different?"
   ]
  },
  {
   "cell_type": "markdown",
   "id": "b6301b7a",
   "metadata": {
    "hidden": true
   },
   "source": [
    "**Scenario:**  \n",
    "Compare average salaries of Data Scientists in two cities:\n",
    "\n",
    "- **City A**  \n",
    "  - Mean = \\\\$130k  \n",
    "  - Standard deviation = \\\\$15k  \n",
    "  - Sample size = 50  \n",
    "\n",
    "- **City B**  \n",
    "  - Mean = \\\\$125k  \n",
    "  - Standard deviation = \\\\$14k  \n",
    "  - Sample size = 50  "
   ]
  },
  {
   "cell_type": "markdown",
   "id": "303522e5",
   "metadata": {
    "hidden": true
   },
   "source": [
    "---\n",
    "\n",
    "### 🔍 Step 1: Hypotheses\n",
    "\n",
    "Let $\\mu_1$ = mean salary in City A  \n",
    "\n",
    "\n",
    "Let $\\mu_2$ = mean salary in City B\n",
    "\n",
    "\n",
    "\n",
    "- **Null Hypothesis (H₀):** $\\mu_1 = \\mu_2$  \n",
    "  (No difference in average salary between the two cities)\n",
    "\n",
    "\n",
    "- **Alternate Hypothesis (H₁):** $\\mu_1 \\ne \\mu_2$  \n",
    "  (There **is** a significant difference)\n",
    "\n",
    "> Since we are checking for **any** difference, this is a **two-tailed z-test**."
   ]
  },
  {
   "cell_type": "markdown",
   "id": "9fc405a9",
   "metadata": {
    "hidden": true
   },
   "source": [
    "---\n",
    "\n",
    "#### 🧠 Step 2: Z-Test Formula\n",
    "\n",
    "$$\n",
    "Z = \\frac{\\bar{x}_1 - \\bar{x}_2}{\\sqrt{\\frac{\\sigma_1^2}{n_1} + \\frac{\\sigma_2^2}{n_2}}}\n",
    "$$"
   ]
  },
  {
   "cell_type": "code",
   "execution_count": 56,
   "id": "5a81b453",
   "metadata": {
    "ExecuteTime": {
     "end_time": "2025-04-13T19:36:45.645568Z",
     "start_time": "2025-04-13T19:36:45.632932Z"
    },
    "hidden": true
   },
   "outputs": [],
   "source": [
    "sample_mean1 = 130\n",
    "sample_std1 = 15\n",
    "sample_mean2 = 125\n",
    "sample_std2 = 14\n",
    "sample_size1 = 50\n",
    "sample_size2 = 50"
   ]
  },
  {
   "cell_type": "code",
   "execution_count": 57,
   "id": "e3823b46",
   "metadata": {
    "ExecuteTime": {
     "end_time": "2025-04-13T19:36:45.691778Z",
     "start_time": "2025-04-13T19:36:45.649082Z"
    },
    "hidden": true
   },
   "outputs": [],
   "source": [
    "alpha = 0.05"
   ]
  },
  {
   "cell_type": "code",
   "execution_count": 58,
   "id": "7eb51638",
   "metadata": {
    "ExecuteTime": {
     "end_time": "2025-04-13T19:36:45.723964Z",
     "start_time": "2025-04-13T19:36:45.695300Z"
    },
    "hidden": true
   },
   "outputs": [
    {
     "data": {
      "text/plain": [
       "1.723113791988944"
      ]
     },
     "execution_count": 58,
     "metadata": {},
     "output_type": "execute_result"
    }
   ],
   "source": [
    "z_stats = (sample_mean1 - sample_mean2)/(np.sqrt((sample_std1**2/sample_size1) + (sample_std2**2/sample_size2)))\n",
    "z_stats"
   ]
  },
  {
   "cell_type": "code",
   "execution_count": 59,
   "id": "e29c2876",
   "metadata": {
    "ExecuteTime": {
     "end_time": "2025-04-13T19:36:45.739101Z",
     "start_time": "2025-04-13T19:36:45.726970Z"
    },
    "hidden": true
   },
   "outputs": [
    {
     "data": {
      "text/plain": [
       "0.08486794918330598"
      ]
     },
     "execution_count": 59,
     "metadata": {},
     "output_type": "execute_result"
    }
   ],
   "source": [
    "# Two-tailed p-value\n",
    "p_value = 2 * (1-stats.norm.cdf(abs(z_stats)))\n",
    "p_value"
   ]
  },
  {
   "cell_type": "code",
   "execution_count": 60,
   "id": "1b9ff039",
   "metadata": {
    "ExecuteTime": {
     "end_time": "2025-04-13T19:36:45.754708Z",
     "start_time": "2025-04-13T19:36:45.742608Z"
    },
    "hidden": true
   },
   "outputs": [
    {
     "name": "stdout",
     "output_type": "stream",
     "text": [
      "Z-statistic: -2.0203\n",
      "p-value: 0.0849\n",
      "alpha: 0.0500\n"
     ]
    }
   ],
   "source": [
    "# Output\n",
    "print(f\"Z-statistic: {z:.4f}\")\n",
    "print(f\"p-value: {p_value:.4f}\")\n",
    "print(f\"alpha: {alpha:.4f}\")"
   ]
  },
  {
   "cell_type": "code",
   "execution_count": 61,
   "id": "996cf39a",
   "metadata": {
    "ExecuteTime": {
     "end_time": "2025-04-13T19:36:45.770182Z",
     "start_time": "2025-04-13T19:36:45.758690Z"
    },
    "hidden": true
   },
   "outputs": [
    {
     "name": "stdout",
     "output_type": "stream",
     "text": [
      "❌ Fail to reject the null hypothesis — no significant difference in salaries.\n"
     ]
    }
   ],
   "source": [
    "# Decision\n",
    "if p_value < alpha:\n",
    "    print(\"✅ Reject the null hypothesis — there is a significant difference in salaries.\")\n",
    "else:\n",
    "    print(\"❌ Fail to reject the null hypothesis — no significant difference in salaries.\")"
   ]
  },
  {
   "cell_type": "markdown",
   "id": "df706967",
   "metadata": {
    "hidden": true
   },
   "source": [
    "There is **no statistically significant difference** in average salaries between Data Scientists in City A and City B, based on the sample data.\n"
   ]
  },
  {
   "cell_type": "markdown",
   "id": "7d3d48a1",
   "metadata": {
    "hidden": true
   },
   "source": [
    "## 🔹 **[12] <span class=\"mark\">Z-test for two Proportions : Two-Sample Independent Z-Test</span>**"
   ]
  },
  {
   "cell_type": "markdown",
   "id": "ac6299b2",
   "metadata": {
    "hidden": true
   },
   "source": [
    "**Q12.** You are comparing credit card default rates between two banks. Bank A: 100 defaults out of 4000, Bank B: 140 out of 4200. Is there a significant difference?"
   ]
  },
  {
   "cell_type": "markdown",
   "id": "fcd8c329",
   "metadata": {
    "hidden": true
   },
   "source": [
    "$$z = \\frac{(\\hat{p}_1 - \\hat{p}_2)}{\\sqrt{p(1-p)(\\frac{1}{n_1} + \\frac{1}{n_2})}}$$"
   ]
  },
  {
   "cell_type": "markdown",
   "id": "cda13c59",
   "metadata": {
    "ExecuteTime": {
     "end_time": "2025-04-13T13:30:42.803823Z",
     "start_time": "2025-04-13T13:30:42.793797Z"
    },
    "hidden": true
   },
   "source": [
    "* Where:\n",
    "    * $\\hat{p}_1$ and $\\hat{p}_2$ = sample proportions\n",
    "    * $n_1$ and $n_2$ = sample sizes\n",
    "    * $p = \\frac{x 1 +x 2}{n_1 + n_2}$ (pooled proportion)"
   ]
  },
  {
   "cell_type": "markdown",
   "id": "04f4cd8d",
   "metadata": {
    "hidden": true
   },
   "source": [
    "- **Bank A**: 100 defaults out of 4000 → $\\hat{p}_1 = \\frac{100}{4000}$\n",
    "\n",
    "\n",
    "- **Bank B**: 140 defaults out of 4200 → $\\hat{p}_2 = \\frac{140}{4200}$\n",
    "\n",
    "\n",
    "- **Goal**: Test if there's a significant difference between the two banks' default rates."
   ]
  },
  {
   "cell_type": "markdown",
   "id": "89ee8e6e",
   "metadata": {
    "hidden": true
   },
   "source": [
    "### 📊 Hypotheses\n",
    "\n",
    "- **Null Hypothesis (H₀)**:  \n",
    "  $p_1 = p_2$  \n",
    "  → The default rates of both banks are the same.\n",
    "\n",
    "\n",
    "\n",
    "- **Alternate Hypothesis (H₁)**:  \n",
    "  $p_1 \\ne p_2$  \n",
    "  → The default rates of the two banks are different.\n",
    "\n",
    "This is a **two-tailed z-test for proportions**."
   ]
  },
  {
   "cell_type": "code",
   "execution_count": 62,
   "id": "9d1661a1",
   "metadata": {
    "ExecuteTime": {
     "end_time": "2025-04-13T19:36:45.786250Z",
     "start_time": "2025-04-13T19:36:45.773689Z"
    },
    "hidden": true
   },
   "outputs": [],
   "source": [
    "import numpy as np\n",
    "from scipy import stats"
   ]
  },
  {
   "cell_type": "code",
   "execution_count": 63,
   "id": "44756b1a",
   "metadata": {
    "ExecuteTime": {
     "end_time": "2025-04-13T19:36:45.817834Z",
     "start_time": "2025-04-13T19:36:45.789255Z"
    },
    "hidden": true
   },
   "outputs": [],
   "source": [
    "# Bank A\n",
    "x1 = 100  # defaults\n",
    "n1 = 4000  # total\n",
    "\n",
    "# Bank B\n",
    "x2 = 140\n",
    "n2 = 4200\n",
    "\n",
    "# sample proportions : \n",
    "p1_hat = 100/4000\n",
    "p2_hat = 140/4200\n",
    "\n",
    "n1 = 4000\n",
    "n2 = 4200\n",
    "\n"
   ]
  },
  {
   "cell_type": "code",
   "execution_count": 64,
   "id": "7fc3f179",
   "metadata": {
    "ExecuteTime": {
     "end_time": "2025-04-13T19:36:45.833927Z",
     "start_time": "2025-04-13T19:36:45.821850Z"
    },
    "hidden": true
   },
   "outputs": [
    {
     "data": {
      "text/plain": [
       "0.02926829268292683"
      ]
     },
     "execution_count": 64,
     "metadata": {},
     "output_type": "execute_result"
    }
   ],
   "source": [
    "# Pooled proportion\n",
    "p_pool = (x1 + x2) / (n1 + n2)\n",
    "p_pool"
   ]
  },
  {
   "cell_type": "code",
   "execution_count": 65,
   "id": "10985f5b",
   "metadata": {
    "ExecuteTime": {
     "end_time": "2025-04-13T19:36:45.881105Z",
     "start_time": "2025-04-13T19:36:45.836913Z"
    },
    "hidden": true
   },
   "outputs": [
    {
     "data": {
      "text/plain": [
       "0.0037239221016040778"
      ]
     },
     "execution_count": 65,
     "metadata": {},
     "output_type": "execute_result"
    }
   ],
   "source": [
    "# Standard error\n",
    "se = np.sqrt(p_pool * (1 - p_pool) * (1/n1 + 1/n2))\n",
    "se"
   ]
  },
  {
   "cell_type": "code",
   "execution_count": 66,
   "id": "a9e95547",
   "metadata": {
    "ExecuteTime": {
     "end_time": "2025-04-13T19:36:45.912029Z",
     "start_time": "2025-04-13T19:36:45.883831Z"
    },
    "hidden": true
   },
   "outputs": [
    {
     "data": {
      "text/plain": [
       "-2.237784009967274"
      ]
     },
     "execution_count": 66,
     "metadata": {},
     "output_type": "execute_result"
    }
   ],
   "source": [
    "# Z-statistic\n",
    "z_stats = (p1_hat - p2_hat) / se\n",
    "z_stats"
   ]
  },
  {
   "cell_type": "code",
   "execution_count": 67,
   "id": "2fcffb09",
   "metadata": {
    "ExecuteTime": {
     "end_time": "2025-04-13T19:36:45.928097Z",
     "start_time": "2025-04-13T19:36:45.914586Z"
    },
    "hidden": true
   },
   "outputs": [
    {
     "data": {
      "text/plain": [
       "0.04335175126086255"
      ]
     },
     "execution_count": 67,
     "metadata": {},
     "output_type": "execute_result"
    }
   ],
   "source": [
    "# Two-tailed p-value\n",
    "p_value = 2 * (1 - stats.norm.cdf(abs(z)))\n",
    "p_value"
   ]
  },
  {
   "cell_type": "code",
   "execution_count": 68,
   "id": "64c31470",
   "metadata": {
    "ExecuteTime": {
     "end_time": "2025-04-13T19:36:45.943627Z",
     "start_time": "2025-04-13T19:36:45.931106Z"
    },
    "hidden": true
   },
   "outputs": [],
   "source": [
    "# Significance level\n",
    "alpha = 0.05"
   ]
  },
  {
   "cell_type": "code",
   "execution_count": 69,
   "id": "d6f6519a",
   "metadata": {
    "ExecuteTime": {
     "end_time": "2025-04-13T19:36:45.959146Z",
     "start_time": "2025-04-13T19:36:45.946944Z"
    },
    "hidden": true
   },
   "outputs": [
    {
     "name": "stdout",
     "output_type": "stream",
     "text": [
      "Z-statistic: -2.0203\n",
      "P-value: 0.0434\n",
      "Alpha: 0.0500\n"
     ]
    }
   ],
   "source": [
    "# Output\n",
    "print(f\"Z-statistic: {z:.4f}\")\n",
    "print(f\"P-value: {p_value:.4f}\")\n",
    "print(f\"Alpha: {alpha:.4f}\")"
   ]
  },
  {
   "cell_type": "code",
   "execution_count": 70,
   "id": "b5da828d",
   "metadata": {
    "ExecuteTime": {
     "end_time": "2025-04-13T19:36:45.975242Z",
     "start_time": "2025-04-13T19:36:45.961146Z"
    },
    "hidden": true
   },
   "outputs": [
    {
     "name": "stdout",
     "output_type": "stream",
     "text": [
      "Reject the null hypothesis: There is a significant difference between default rates.\n"
     ]
    }
   ],
   "source": [
    "# Conclusion\n",
    "if p_value < alpha:\n",
    "    print(\"Reject the null hypothesis: There is a significant difference between default rates.\")\n",
    "else:\n",
    "    print(\"Fail to reject the null hypothesis: No significant difference between default rates.\")"
   ]
  },
  {
   "cell_type": "markdown",
   "id": "48fd7f6e",
   "metadata": {
    "hidden": true
   },
   "source": [
    "There is a statistically significant difference in the default rates between the two banks."
   ]
  },
  {
   "cell_type": "markdown",
   "id": "a2c66b04",
   "metadata": {
    "hidden": true
   },
   "source": [
    "## 🔹 **[13] <span class=\"girk\">Two-Sample Independent Z-Test</span>**"
   ]
  },
  {
   "cell_type": "markdown",
   "id": "bd06864f",
   "metadata": {
    "hidden": true
   },
   "source": [
    "**Q13.** A/B testing: Group A conversion rate = 6.1% (n=10,000), Group B = 6.6% (n=10,000). Is the difference statistically significant?"
   ]
  },
  {
   "cell_type": "markdown",
   "id": "132bbf5d",
   "metadata": {
    "hidden": true
   },
   "source": [
    "$$z = \\frac{(\\hat{p}_1 - \\hat{p}_2)}{\\sqrt{p(1-p)(\\frac{1}{n_1} + \\frac{1}{n_2})}}$$"
   ]
  },
  {
   "cell_type": "markdown",
   "id": "b72aef6f",
   "metadata": {
    "hidden": true
   },
   "source": [
    "Where:\n",
    "- $\\hat p_1 = \\frac{x_1}{n_1}$, $\\hat p_2 = \\frac{x_2}{n_2}$\n",
    "\n",
    "\n",
    "- pooled $(p) = \\frac{x_1 + x_2}{n_1 + n_2}$"
   ]
  },
  {
   "cell_type": "markdown",
   "id": "36f5fe71",
   "metadata": {
    "hidden": true
   },
   "source": [
    "You are running an A/B test:\n",
    "\n",
    "- **Group A:**  \n",
    "  \n",
    "  - Conversion rate = 6.1%  \n",
    "  \n",
    "  \n",
    "  - Sample size = 10,000  \n",
    "\n",
    "- **Group B:**  \n",
    "  \n",
    "  \n",
    "  - Conversion rate = 6.6%  \n",
    "  \n",
    "  \n",
    "  - Sample size = 10,000  \n",
    "\n"
   ]
  },
  {
   "cell_type": "markdown",
   "id": "e0b4e86f",
   "metadata": {
    "hidden": true
   },
   "source": [
    "\n",
    "### 📑 **Step 1: Hypotheses**\n",
    "\n",
    "This is a **two-tailed test**.\n",
    "\n",
    "\n",
    "- **Null Hypothesis (H₀):**  \n",
    "  $p_1 = p_2$  → No difference in conversion rates.\n",
    "\n",
    "\n",
    "\n",
    "- **Alternative Hypothesis (H₁):**  \n",
    "  $p_1 \\ne p_2$  → There is a difference in conversion rates."
   ]
  },
  {
   "cell_type": "code",
   "execution_count": 71,
   "id": "9b7c4ada",
   "metadata": {
    "ExecuteTime": {
     "end_time": "2025-04-13T19:36:46.006210Z",
     "start_time": "2025-04-13T19:36:45.978261Z"
    },
    "hidden": true
   },
   "outputs": [],
   "source": [
    "n1 = n2 = 10000\n",
    "p1_hat = 0.061\n",
    "p2_hat = 0.066"
   ]
  },
  {
   "cell_type": "code",
   "execution_count": 72,
   "id": "878b10c5",
   "metadata": {
    "ExecuteTime": {
     "end_time": "2025-04-13T19:36:46.021729Z",
     "start_time": "2025-04-13T19:36:46.008212Z"
    },
    "hidden": true
   },
   "outputs": [
    {
     "data": {
      "text/plain": [
       "(610.0, 660.0)"
      ]
     },
     "execution_count": 72,
     "metadata": {},
     "output_type": "execute_result"
    }
   ],
   "source": [
    "x1 = p1_hat * n1\n",
    "x2 = p2_hat * n2\n",
    "\n",
    "x1, x2"
   ]
  },
  {
   "cell_type": "code",
   "execution_count": 73,
   "id": "42993ab2",
   "metadata": {
    "ExecuteTime": {
     "end_time": "2025-04-13T19:36:46.052939Z",
     "start_time": "2025-04-13T19:36:46.025246Z"
    },
    "hidden": true
   },
   "outputs": [
    {
     "data": {
      "text/plain": [
       "0.0635"
      ]
     },
     "execution_count": 73,
     "metadata": {},
     "output_type": "execute_result"
    }
   ],
   "source": [
    "pooled = (x1+x2)/(n1+n2)\n",
    "pooled"
   ]
  },
  {
   "cell_type": "code",
   "execution_count": 74,
   "id": "a7843f82",
   "metadata": {
    "ExecuteTime": {
     "end_time": "2025-04-13T19:36:46.068018Z",
     "start_time": "2025-04-13T19:36:46.055336Z"
    },
    "hidden": true
   },
   "outputs": [
    {
     "data": {
      "text/plain": [
       "0.0034487026546224596"
      ]
     },
     "execution_count": 74,
     "metadata": {},
     "output_type": "execute_result"
    }
   ],
   "source": [
    "# Standard error\n",
    "se = np.sqrt( pooled * (1 - pooled) * (1/n1 + 1/n2 ) )\n",
    "se"
   ]
  },
  {
   "cell_type": "code",
   "execution_count": 75,
   "id": "ee99b483",
   "metadata": {
    "ExecuteTime": {
     "end_time": "2025-04-13T19:36:46.084287Z",
     "start_time": "2025-04-13T19:36:46.071020Z"
    },
    "hidden": true
   },
   "outputs": [
    {
     "data": {
      "text/plain": [
       "-1.4498205559410196"
      ]
     },
     "execution_count": 75,
     "metadata": {},
     "output_type": "execute_result"
    }
   ],
   "source": [
    "z_stats = (p1_hat - p2_hat)/se\n",
    "z_stats"
   ]
  },
  {
   "cell_type": "code",
   "execution_count": 76,
   "id": "aab50955",
   "metadata": {
    "ExecuteTime": {
     "end_time": "2025-04-13T19:36:46.099810Z",
     "start_time": "2025-04-13T19:36:46.087295Z"
    },
    "hidden": true
   },
   "outputs": [
    {
     "data": {
      "text/plain": [
       "0.14710856570321806"
      ]
     },
     "execution_count": 76,
     "metadata": {},
     "output_type": "execute_result"
    }
   ],
   "source": [
    "p_value = 2 * (1 - stats.norm.cdf(abs(z_stats)))\n",
    "p_value"
   ]
  },
  {
   "cell_type": "code",
   "execution_count": 77,
   "id": "a0e5506c",
   "metadata": {
    "ExecuteTime": {
     "end_time": "2025-04-13T19:36:46.115799Z",
     "start_time": "2025-04-13T19:36:46.102747Z"
    },
    "hidden": true
   },
   "outputs": [
    {
     "name": "stdout",
     "output_type": "stream",
     "text": [
      "x1 = 610.0, x2 = 660.0\n",
      "p1 = 0.061, p2 = 0.066\n",
      "pooled p = 0.0635\n",
      "standard error = 0.003449\n",
      "\n",
      "alpha :0.05\n",
      "z-statistic = -1.4498\n",
      "p-value = 0.1471\n"
     ]
    }
   ],
   "source": [
    "\n",
    "# Display results\n",
    "print(f\"x1 = {x1}, x2 = {x2}\")\n",
    "print(f\"p1 = {p1_hat}, p2 = {p2_hat}\")\n",
    "print(f\"pooled p = {pooled:.4f}\")\n",
    "print(f\"standard error = {se:.6f}\")\n",
    "print()\n",
    "print(f\"alpha :{alpha}\")\n",
    "print(f\"z-statistic = {z_stats:.4f}\")\n",
    "print(f\"p-value = {p_value:.4f}\")"
   ]
  },
  {
   "cell_type": "code",
   "execution_count": 78,
   "id": "b0f2695a",
   "metadata": {
    "ExecuteTime": {
     "end_time": "2025-04-13T19:36:46.131891Z",
     "start_time": "2025-04-13T19:36:46.118801Z"
    },
    "hidden": true
   },
   "outputs": [
    {
     "name": "stdout",
     "output_type": "stream",
     "text": [
      "Fail to reject the null hypothesis: No significant difference between conversion rates.\n"
     ]
    }
   ],
   "source": [
    "# Conclusion\n",
    "if p_value < alpha:\n",
    "    print(\"Reject the null hypothesis: There is a significant difference between conversion rates.\")\n",
    "else:\n",
    "    print(\"Fail to reject the null hypothesis: No significant difference between conversion rates.\")"
   ]
  },
  {
   "cell_type": "markdown",
   "id": "d9c53d2f",
   "metadata": {
    "hidden": true
   },
   "source": [
    "Here:\n",
    "- **p-value = 0.1471 > 0.05**\n",
    "\n",
    "🔍 **Conclusion**:  \n",
    "\n",
    "\n",
    "We **fail to reject** the null hypothesis.  \n",
    "\n",
    "\n",
    "👉 The observed difference in conversion rates **is not statistically significant**.\n",
    "\n"
   ]
  },
  {
   "cell_type": "markdown",
   "id": "1368d626",
   "metadata": {
    "hidden": true
   },
   "source": [
    "## 🔹 **[14] Two-Sample Independent Z-Test**"
   ]
  },
  {
   "cell_type": "markdown",
   "id": "4934f60b",
   "metadata": {
    "hidden": true
   },
   "source": [
    "**Q14.** Two mobile apps report battery usage. App X: mean = 4.2 hrs, std dev = 0.8, n = 60. App Y: mean = 4.5 hrs, std dev = 0.6, n = 60. Is there a significant difference?"
   ]
  },
  {
   "cell_type": "markdown",
   "id": "58330f7a",
   "metadata": {
    "hidden": true
   },
   "source": [
    "$$Z-statistics=\\frac{(\\bar x_1 - \\bar x_2 )}{\\sqrt{\\frac{(\\sigma_1^2)}{n_1}+\\frac{(\\sigma_2^2)}{n_2}}}$$\n",
    "\n",
    "Where:\n",
    "- Z is the test statistic.\n",
    "- x̄1 and x̄2 are the sample means of the two samples.\n",
    "- σ1 and σ2 are the population standard deviations of the two samples.\n",
    "- n1 and n2 are the sample sizes of the two samples."
   ]
  },
  {
   "cell_type": "markdown",
   "id": "1105ac55",
   "metadata": {
    "hidden": true
   },
   "source": [
    "### 📑 **Step 1: Hypotheses**\n",
    "\n",
    "This is a **two-tailed test**.\n",
    "\n",
    "- **Null Hypothesis (H₀):**  \n",
    "  $\\mu_1 = \\mu_2$  → No difference in average battery usage.\n",
    "\n",
    "\n",
    "- **Alternative Hypothesis (H₁):**  \n",
    "  $\\mu_1 \\ne \\mu_2$  → There is a significant difference in average battery usage."
   ]
  },
  {
   "cell_type": "code",
   "execution_count": 79,
   "id": "e16cf153",
   "metadata": {
    "ExecuteTime": {
     "end_time": "2025-04-13T19:36:46.147671Z",
     "start_time": "2025-04-13T19:36:46.135117Z"
    },
    "hidden": true
   },
   "outputs": [],
   "source": [
    "\n",
    "x1_mean = 4.2\n",
    "x2_mean = 4.5\n",
    "\n",
    "std1 = 0.8\n",
    "std2 = 0.6\n",
    "\n",
    "\n",
    "n1 = 60\n",
    "n2 = 60"
   ]
  },
  {
   "cell_type": "code",
   "execution_count": 80,
   "id": "adc834f8",
   "metadata": {
    "ExecuteTime": {
     "end_time": "2025-04-13T19:36:46.179043Z",
     "start_time": "2025-04-13T19:36:46.151182Z"
    },
    "hidden": true
   },
   "outputs": [],
   "source": [
    "alpha = 0.05"
   ]
  },
  {
   "cell_type": "code",
   "execution_count": 81,
   "id": "18ab2eef",
   "metadata": {
    "ExecuteTime": {
     "end_time": "2025-04-13T19:36:46.195137Z",
     "start_time": "2025-04-13T19:36:46.182547Z"
    },
    "hidden": true
   },
   "outputs": [
    {
     "data": {
      "text/plain": [
       "0.12909944487358058"
      ]
     },
     "execution_count": 81,
     "metadata": {},
     "output_type": "execute_result"
    }
   ],
   "source": [
    "se = np.sqrt((std1**2/n1) + (std2**2/n2))\n",
    "se"
   ]
  },
  {
   "cell_type": "code",
   "execution_count": 82,
   "id": "20fd0f47",
   "metadata": {
    "ExecuteTime": {
     "end_time": "2025-04-13T19:36:46.226207Z",
     "start_time": "2025-04-13T19:36:46.209690Z"
    },
    "hidden": true
   },
   "outputs": [
    {
     "data": {
      "text/plain": [
       "-2.3237900077244484"
      ]
     },
     "execution_count": 82,
     "metadata": {},
     "output_type": "execute_result"
    }
   ],
   "source": [
    "z_stats = (x1_mean - x2_mean)/se\n",
    "z_stats"
   ]
  },
  {
   "cell_type": "code",
   "execution_count": 83,
   "id": "ac28eeb7",
   "metadata": {
    "ExecuteTime": {
     "end_time": "2025-04-13T19:36:46.257394Z",
     "start_time": "2025-04-13T19:36:46.229326Z"
    },
    "hidden": true
   },
   "outputs": [
    {
     "data": {
      "text/plain": [
       "0.020136751550346332"
      ]
     },
     "execution_count": 83,
     "metadata": {},
     "output_type": "execute_result"
    }
   ],
   "source": [
    "p_value = 2 * (1 - stats.norm.cdf(abs(z_stats)))\n",
    "p_value"
   ]
  },
  {
   "cell_type": "code",
   "execution_count": 84,
   "id": "7a332537",
   "metadata": {
    "ExecuteTime": {
     "end_time": "2025-04-13T19:36:46.272941Z",
     "start_time": "2025-04-13T19:36:46.261380Z"
    },
    "hidden": true
   },
   "outputs": [
    {
     "name": "stdout",
     "output_type": "stream",
     "text": [
      "alpha : 0.05\n",
      "Standard Error = 0.1291\n",
      "Z-statistic = -2.0203\n",
      "P-value = 0.0201\n"
     ]
    }
   ],
   "source": [
    "# Output\n",
    "print(f\"alpha : {alpha}\")\n",
    "print(f\"Standard Error = {se:.4f}\")\n",
    "print(f\"Z-statistic = {z:.4f}\")\n",
    "print(f\"P-value = {p_value:.4f}\")"
   ]
  },
  {
   "cell_type": "code",
   "execution_count": 85,
   "id": "3574aecf",
   "metadata": {
    "ExecuteTime": {
     "end_time": "2025-04-13T19:36:46.303325Z",
     "start_time": "2025-04-13T19:36:46.276251Z"
    },
    "hidden": true
   },
   "outputs": [
    {
     "name": "stdout",
     "output_type": "stream",
     "text": [
      "Reject the null hypothesis: There is a significant difference.\n"
     ]
    }
   ],
   "source": [
    "# Decision\n",
    "if p_value < alpha:\n",
    "    print(\"Reject the null hypothesis: There is a significant difference.\")\n",
    "else:\n",
    "    print(\"Fail to reject the null hypothesis: No significant difference.\")"
   ]
  },
  {
   "cell_type": "markdown",
   "id": "a78bbb77",
   "metadata": {
    "hidden": true
   },
   "source": [
    "📌 **Conclusion:**  \n",
    "\n",
    "\n",
    "We **reject the null hypothesis**.  \n",
    "\n",
    "\n",
    "There **is a statistically significant difference** in battery usage between App X and App Y."
   ]
  },
  {
   "cell_type": "markdown",
   "id": "b42b3782",
   "metadata": {
    "hidden": true
   },
   "source": [
    "## 🔹 **[15] Two-Sample Independent Z-Test**"
   ]
  },
  {
   "cell_type": "markdown",
   "id": "09d5aaf5",
   "metadata": {
    "hidden": true
   },
   "source": [
    "**Q15.** Two insurance companies have mean claim processing times of 22 days and 24 days respectively. Standard deviations are 4.5 and 5.0. Sample sizes are 100 and 120. Are the processing times significantly different?"
   ]
  },
  {
   "cell_type": "markdown",
   "id": "868a3e9c",
   "metadata": {
    "hidden": true
   },
   "source": [
    "$$Z-statistics=\\frac{(\\bar x_1 - \\bar x_2 )}{\\sqrt{\\frac{(\\sigma_1^2)}{n_1}+\\frac{(\\sigma_2^2)}{n_2}}}$$\n",
    "\n",
    "Where:\n",
    "- Z is the test statistic.\n",
    "- x̄1 and x̄2 are the sample means of the two samples.\n",
    "- σ1 and σ2 are the population standard deviations of the two samples.\n",
    "- n1 and n2 are the sample sizes of the two samples."
   ]
  },
  {
   "cell_type": "markdown",
   "id": "a8d9cf19",
   "metadata": {
    "hidden": true
   },
   "source": [
    "### 📑 **Step 1: Hypotheses**\n",
    "\n",
    "This is a **two-tailed Z-test**.\n",
    "\n",
    "- **Null Hypothesis (H₀):**  \n",
    "  $\\mu_1 = \\mu_2$  → No difference in mean processing times.\n",
    "\n",
    "- **Alternate Hypothesis (H₁):**  \n",
    "  $\\mu_1 \\ne \\mu_2$  → There is a significant difference in mean processing times."
   ]
  },
  {
   "cell_type": "code",
   "execution_count": 86,
   "id": "cb87011f",
   "metadata": {
    "ExecuteTime": {
     "end_time": "2025-04-13T19:36:46.318870Z",
     "start_time": "2025-04-13T19:36:46.306318Z"
    },
    "hidden": true
   },
   "outputs": [],
   "source": [
    "x1_mean = 22\n",
    "x2_mean = 24\n",
    "\n",
    "std1 = 4.5\n",
    "std2 = 5.0\n",
    "\n",
    "\n",
    "n1 = 100\n",
    "n2 = 120"
   ]
  },
  {
   "cell_type": "code",
   "execution_count": 87,
   "id": "3b38bfbb",
   "metadata": {
    "ExecuteTime": {
     "end_time": "2025-04-13T19:36:46.348828Z",
     "start_time": "2025-04-13T19:36:46.322856Z"
    },
    "hidden": true
   },
   "outputs": [],
   "source": [
    "alpha = 0.05"
   ]
  },
  {
   "cell_type": "code",
   "execution_count": 88,
   "id": "1bd84c11",
   "metadata": {
    "ExecuteTime": {
     "end_time": "2025-04-13T19:36:46.364758Z",
     "start_time": "2025-04-13T19:36:46.351833Z"
    },
    "hidden": true
   },
   "outputs": [],
   "source": [
    "se = np.sqrt((std1**2/n1) + (std2**2/n2))"
   ]
  },
  {
   "cell_type": "code",
   "execution_count": 89,
   "id": "4a5c1958",
   "metadata": {
    "ExecuteTime": {
     "end_time": "2025-04-13T19:36:46.380360Z",
     "start_time": "2025-04-13T19:36:46.367743Z"
    },
    "hidden": true
   },
   "outputs": [
    {
     "data": {
      "text/plain": [
       "-3.1203058049540626"
      ]
     },
     "execution_count": 89,
     "metadata": {},
     "output_type": "execute_result"
    }
   ],
   "source": [
    "z_stats = (x1_mean - x2_mean)/se\n",
    "z_stats"
   ]
  },
  {
   "cell_type": "code",
   "execution_count": 90,
   "id": "20bf3ae2",
   "metadata": {
    "ExecuteTime": {
     "end_time": "2025-04-13T19:36:46.395985Z",
     "start_time": "2025-04-13T19:36:46.382868Z"
    },
    "hidden": true
   },
   "outputs": [
    {
     "data": {
      "text/plain": [
       "0.001806633766843646"
      ]
     },
     "execution_count": 90,
     "metadata": {},
     "output_type": "execute_result"
    }
   ],
   "source": [
    "p_value = 2 * (1 - stats.norm.cdf(abs(z_stats)))\n",
    "p_value"
   ]
  },
  {
   "cell_type": "code",
   "execution_count": 91,
   "id": "33107f8b",
   "metadata": {
    "ExecuteTime": {
     "end_time": "2025-04-13T19:36:46.411343Z",
     "start_time": "2025-04-13T19:36:46.397971Z"
    },
    "hidden": true
   },
   "outputs": [
    {
     "name": "stdout",
     "output_type": "stream",
     "text": [
      "alpha : 0.05\n",
      "Standard Error = 0.6410\n",
      "Z-statistic = -2.0203\n",
      "P-value = 0.0018\n"
     ]
    }
   ],
   "source": [
    "# Output\n",
    "print(f\"alpha : {alpha}\")\n",
    "print(f\"Standard Error = {se:.4f}\")\n",
    "print(f\"Z-statistic = {z:.4f}\")\n",
    "print(f\"P-value = {p_value:.4f}\")"
   ]
  },
  {
   "cell_type": "code",
   "execution_count": 92,
   "id": "30caccbf",
   "metadata": {
    "ExecuteTime": {
     "end_time": "2025-04-13T19:36:46.441771Z",
     "start_time": "2025-04-13T19:36:46.414862Z"
    },
    "hidden": true
   },
   "outputs": [
    {
     "name": "stdout",
     "output_type": "stream",
     "text": [
      "Reject the null hypothesis: There is a significant time difference.\n"
     ]
    }
   ],
   "source": [
    "# Decision\n",
    "if p_value < alpha:\n",
    "    print(\"Reject the null hypothesis: There is a significant time difference.\")\n",
    "else:\n",
    "    print(\"Fail to reject the null hypothesis: No significant time difference.\")"
   ]
  },
  {
   "cell_type": "markdown",
   "id": "34ae268e",
   "metadata": {
    "hidden": true
   },
   "source": [
    "✅ **Conclusion:**  \n",
    "\n",
    "We **reject the null hypothesis**.  \n",
    "\n",
    "\n",
    "There **is a statistically significant difference** in claim processing times between the two insurance companies.\n",
    "\n"
   ]
  },
  {
   "cell_type": "markdown",
   "id": "4f968784",
   "metadata": {
    "hidden": true
   },
   "source": [
    "## 🔹 <span class=\"girk\">[16] Two-Sample Paired (Dependent) (One tailed - right tailed) Z-Test</span> "
   ]
  },
  {
   "cell_type": "markdown",
   "id": "50619cc9",
   "metadata": {
    "hidden": true
   },
   "source": [
    "**Q16.** A company tests the effectiveness of a training program by measuring employee performance scores before and after the training. Is there a significant improvement?"
   ]
  },
  {
   "cell_type": "code",
   "execution_count": 93,
   "id": "3564bb9c",
   "metadata": {
    "ExecuteTime": {
     "end_time": "2025-04-13T19:36:46.457340Z",
     "start_time": "2025-04-13T19:36:46.445296Z"
    },
    "hidden": true
   },
   "outputs": [],
   "source": [
    "# Let's simulate performance scores before and after training for 30 employees.\n",
    "\n",
    "\n",
    "import numpy as np\n",
    "from scipy.stats import norm\n",
    "\n",
    "# Simulate paired scores (30 employees)\n",
    "np.random.seed(42)\n",
    "before = [70, 65, 80, 72, 68, 74, 77, 69, 71, 73]\n",
    "after  = [75, 70, 85, 76, 74, 78, 80, 72, 74, 76]\n"
   ]
  },
  {
   "cell_type": "markdown",
   "id": "d716e3e5",
   "metadata": {
    "hidden": true
   },
   "source": [
    "### 📑 **Step 1: Hypotheses**\n",
    "\n",
    "This is a **one-tailed paired Z-test** (right-tailed if we expect improvement):\n",
    "\n",
    "- **Null Hypothesis (H₀):**  \n",
    "  $\\mu_d = 0$  → There is **no improvement** in performance (mean difference = 0)\n",
    "\n",
    "\n",
    "- **Alternative Hypothesis (H₁):**  \n",
    "  $\\mu_d > 0$  → There **is an improvement** in performance (mean difference > 0)"
   ]
  },
  {
   "cell_type": "markdown",
   "id": "2b919df1",
   "metadata": {
    "hidden": true
   },
   "source": [
    "### 🧠 **Step 2: Z-Test Formula for Paired Samples**\n",
    "\n",
    "We apply the Z-test on the **differences** (after - before):\n",
    "\n",
    "$$Z-statistics = \\frac{(\\bar x_d - \\mu_d)} {(\\sigma_d/\\sqrt n)}$$\n",
    "\n",
    "Where:\n",
    "- Z is the test statistic.\n",
    "- x̄d is the mean of the paired differences.\n",
    "- μd is the hypothesized population mean of the paired differences.\n",
    "- σd is the population standard deviation of the paired differences.\n",
    "- n is the number of paired data points.\n",
    "\n",
    "**- μd (pop_mean_paired_diff) is the hypothesized population mean of the paired differences which is 0 here**"
   ]
  },
  {
   "cell_type": "code",
   "execution_count": 94,
   "id": "bd12d597",
   "metadata": {
    "ExecuteTime": {
     "end_time": "2025-04-13T19:36:46.472894Z",
     "start_time": "2025-04-13T19:36:46.461341Z"
    },
    "hidden": true
   },
   "outputs": [
    {
     "data": {
      "text/plain": [
       "array([5, 5, 5, 4, 6, 4, 3, 3, 3, 3])"
      ]
     },
     "execution_count": 94,
     "metadata": {},
     "output_type": "execute_result"
    }
   ],
   "source": [
    "# Step 1: Differences\n",
    "differences = np.subtract(after, before)\n",
    "differences"
   ]
  },
  {
   "cell_type": "markdown",
   "id": "ce57683b",
   "metadata": {
    "hidden": true
   },
   "source": [
    "- x̄_d -> mean_paired_diff\n",
    "\n",
    "- s_d -> std\n",
    "\n",
    "- μ_d -> pop_mean_paired_diff"
   ]
  },
  {
   "cell_type": "code",
   "execution_count": 95,
   "id": "3ed97129",
   "metadata": {
    "ExecuteTime": {
     "end_time": "2025-04-13T19:36:46.505009Z",
     "start_time": "2025-04-13T19:36:46.476289Z"
    },
    "hidden": true
   },
   "outputs": [],
   "source": [
    "# Step 2: Sample statistics\n",
    "\n",
    "mean_paired_diff = np.mean(differences)       # Mean of differences\n",
    "\n",
    "std = np.std(differences, ddof=1) # Sample standard deviation\n",
    "\n",
    "n = len(differences)              # Number of pairs\n",
    "\n",
    "pop_mean_paired_diff = 0  "
   ]
  },
  {
   "cell_type": "code",
   "execution_count": 96,
   "id": "b2d3c09d",
   "metadata": {
    "ExecuteTime": {
     "end_time": "2025-04-13T19:36:46.521066Z",
     "start_time": "2025-04-13T19:36:46.507981Z"
    },
    "hidden": true
   },
   "outputs": [
    {
     "data": {
      "text/plain": [
       "0.348010216963685"
      ]
     },
     "execution_count": 96,
     "metadata": {},
     "output_type": "execute_result"
    }
   ],
   "source": [
    "se = std/np.sqrt(n)\n",
    "se"
   ]
  },
  {
   "cell_type": "code",
   "execution_count": 97,
   "id": "fb0b9134",
   "metadata": {
    "ExecuteTime": {
     "end_time": "2025-04-13T19:36:46.552752Z",
     "start_time": "2025-04-13T19:36:46.524618Z"
    },
    "hidden": true
   },
   "outputs": [
    {
     "data": {
      "text/plain": [
       "11.781263308220161"
      ]
     },
     "execution_count": 97,
     "metadata": {},
     "output_type": "execute_result"
    }
   ],
   "source": [
    "z_stats = (mean_paired_diff - pop_mean_paired_diff)/se\n",
    "z_stats"
   ]
  },
  {
   "cell_type": "code",
   "execution_count": 98,
   "id": "7c9926e2",
   "metadata": {
    "ExecuteTime": {
     "end_time": "2025-04-13T19:36:46.568764Z",
     "start_time": "2025-04-13T19:36:46.555254Z"
    },
    "hidden": true
   },
   "outputs": [
    {
     "data": {
      "text/plain": [
       "0.0"
      ]
     },
     "execution_count": 98,
     "metadata": {},
     "output_type": "execute_result"
    }
   ],
   "source": [
    "# Step 4: p-value (right-tailed)\n",
    "p_value = 1 - stats.norm.cdf(z_stats)\n",
    "p_value"
   ]
  },
  {
   "cell_type": "code",
   "execution_count": 99,
   "id": "17f60bef",
   "metadata": {
    "ExecuteTime": {
     "end_time": "2025-04-13T19:36:46.584264Z",
     "start_time": "2025-04-13T19:36:46.571152Z"
    },
    "hidden": true
   },
   "outputs": [],
   "source": [
    "# Step 5: Decision at α = 0.05\n",
    "alpha = 0.05"
   ]
  },
  {
   "cell_type": "code",
   "execution_count": 100,
   "id": "f1ea51e5",
   "metadata": {
    "ExecuteTime": {
     "end_time": "2025-04-13T19:36:46.615050Z",
     "start_time": "2025-04-13T19:36:46.586435Z"
    },
    "hidden": true
   },
   "outputs": [
    {
     "name": "stdout",
     "output_type": "stream",
     "text": [
      "Mean Difference = 4.1000\n",
      "Std Dev of Differences = 1.1005\n",
      "Z-statistic = 11.7813\n",
      "P-value = 0.0000\n"
     ]
    }
   ],
   "source": [
    "# Output results\n",
    "print(f\"Mean Difference = {mean_paired_diff:.4f}\")\n",
    "print(f\"Std Dev of Differences = {std:.4f}\")\n",
    "print(f\"Z-statistic = {z_stats:.4f}\")\n",
    "print(f\"P-value = {p_value:.4f}\")"
   ]
  },
  {
   "cell_type": "code",
   "execution_count": 101,
   "id": "6282f9cc",
   "metadata": {
    "ExecuteTime": {
     "end_time": "2025-04-13T19:36:46.630569Z",
     "start_time": "2025-04-13T19:36:46.618056Z"
    },
    "hidden": true
   },
   "outputs": [
    {
     "name": "stdout",
     "output_type": "stream",
     "text": [
      "✅ Reject the null hypothesis: There is a significant improvement.\n"
     ]
    }
   ],
   "source": [
    "# Decision\n",
    "if p_value < alpha:\n",
    "    print(\"✅ Reject the null hypothesis: There is a significant improvement.\")\n",
    "else:\n",
    "    print(\"❌ Fail to reject the null hypothesis: No significant improvement.\")"
   ]
  },
  {
   "cell_type": "markdown",
   "id": "8e62f583",
   "metadata": {
    "hidden": true
   },
   "source": [
    "## 🔹 [17] <span class=\"girk\">Two-Sample Paired Dependent Z-Test (2 tailed)</span>"
   ]
  },
  {
   "cell_type": "markdown",
   "id": "e46324cb",
   "metadata": {
    "hidden": true
   },
   "source": [
    "**Q17.** Test user engagement before and after a UI redesign. Engagement scores (e.g., time on app) for 30 users were recorded before and after the redesign. Is the mean difference significant?"
   ]
  },
  {
   "cell_type": "markdown",
   "id": "a9749841",
   "metadata": {
    "hidden": true
   },
   "source": [
    "> 📍 Goal: Test if the **mean difference is significant**."
   ]
  },
  {
   "cell_type": "markdown",
   "id": "0a43e500",
   "metadata": {
    "hidden": true
   },
   "source": [
    "\n",
    "### ✅ **Hypotheses**\n",
    "\n",
    "This is a **two-tailed paired Z-test**.\n",
    "\n",
    "- **Null Hypothesis (H₀):** No change in engagement → $\\mu_d = 0$\n",
    "\n",
    "\n",
    "- **Alternate Hypothesis (H₁):** There is a change → $\\mu_d \\neq 0$"
   ]
  },
  {
   "cell_type": "markdown",
   "id": "ed15f33f",
   "metadata": {
    "hidden": true
   },
   "source": [
    "### 🧠 **Step 2: Z-Test Formula for Paired Samples**\n",
    "\n",
    "We apply the Z-test on the **differences** (after - before):\n",
    "\n",
    "$$Z-statistics = \\frac{(\\bar x_d - \\mu_d)} {(\\sigma_d/\\sqrt n)}$$\n",
    "\n",
    "Where:\n",
    "- Z is the test statistic.\n",
    "- x̄d is the mean of the paired differences.\n",
    "- μd is the hypothesized population mean of the paired differences.\n",
    "- σd is the population standard deviation of the paired differences.\n",
    "- n is the number of paired data points."
   ]
  },
  {
   "cell_type": "code",
   "execution_count": 102,
   "id": "27927f3b",
   "metadata": {
    "ExecuteTime": {
     "end_time": "2025-04-13T19:36:46.661357Z",
     "start_time": "2025-04-13T19:36:46.634117Z"
    },
    "hidden": true
   },
   "outputs": [],
   "source": [
    "import numpy as np\n",
    "from scipy.stats import norm\n",
    "\n",
    "# Simulated engagement scores for 30 users\n",
    "np.random.seed(42)\n",
    "before = np.random.normal(loc=60, scale=10, size=30)\n",
    "after = before + np.random.normal(loc=3, scale=5, size=30)  # Small improvement"
   ]
  },
  {
   "cell_type": "code",
   "execution_count": 103,
   "id": "20a63a59",
   "metadata": {
    "ExecuteTime": {
     "end_time": "2025-04-13T19:36:46.677428Z",
     "start_time": "2025-04-13T19:36:46.665879Z"
    },
    "hidden": true
   },
   "outputs": [
    {
     "data": {
      "text/plain": [
       "array([-8.53306115e-03,  1.22613909e+01,  2.93251388e+00, -2.28855464e+00,\n",
       "        7.11272456e+00, -3.10421825e+00,  4.04431798e+00, -6.79835062e+00,\n",
       "       -3.64093024e+00,  3.98430618e+00,  6.69233290e+00,  3.85684141e+00,\n",
       "        2.42175859e+00,  1.49448152e+00, -4.39260995e+00, -5.99221042e-01,\n",
       "        6.96806145e-01,  8.28561113e+00,  4.71809145e+00, -5.81520078e+00,\n",
       "        4.62041985e+00,  1.07458860e+00, -3.84610002e-01,  6.05838144e+00,\n",
       "        8.15499761e+00,  7.65640060e+00, -1.19608762e+00,  1.45393812e+00,\n",
       "        4.65631716e+00,  7.87772564e+00])"
      ]
     },
     "execution_count": 103,
     "metadata": {},
     "output_type": "execute_result"
    }
   ],
   "source": [
    "difference = np.subtract(after, before)\n",
    "difference"
   ]
  },
  {
   "cell_type": "markdown",
   "id": "a02c25a7",
   "metadata": {
    "hidden": true
   },
   "source": [
    "- x̄_d -> mean_paired_diff\n",
    "\n",
    "- s_d -> std\n",
    "\n",
    "- μ_d -> pop_mean_paired_diff\n"
   ]
  },
  {
   "cell_type": "code",
   "execution_count": 104,
   "id": "b581595a",
   "metadata": {
    "ExecuteTime": {
     "end_time": "2025-04-13T19:36:46.708873Z",
     "start_time": "2025-04-13T19:36:46.681430Z"
    },
    "hidden": true
   },
   "outputs": [],
   "source": [
    "# Step 2: Stats\n",
    "mean_paired_diff = np.mean(differences)         # Mean of differences\n",
    "std = np.std(differences, ddof=1)   # Sample standard deviation\n",
    "n = len(differences)                # Number of users\n",
    "pop_mean_paired_diff = 0           "
   ]
  },
  {
   "cell_type": "markdown",
   "id": "99e52192",
   "metadata": {
    "hidden": true
   },
   "source": [
    "differences is the array of differences between paired values (e.g., after - before).\n",
    "\n",
    "`ddof=1` **means \"Delta Degrees of Freedom = 1\", which makes it compute the sample standard deviation instead of the population standard deviation.**\n",
    "\n"
   ]
  },
  {
   "cell_type": "markdown",
   "id": "0cc26f74",
   "metadata": {
    "hidden": true
   },
   "source": [
    "If you used `ddof=0:`\n",
    "**That would calculate the population standard deviation, assuming you have data for the entire population — which is not true here (we only have a sample of users)**."
   ]
  },
  {
   "cell_type": "code",
   "execution_count": 105,
   "id": "8490d1f2",
   "metadata": {
    "ExecuteTime": {
     "end_time": "2025-04-13T19:36:46.724069Z",
     "start_time": "2025-04-13T19:36:46.711879Z"
    },
    "hidden": true
   },
   "outputs": [
    {
     "data": {
      "text/plain": [
       "4.1"
      ]
     },
     "execution_count": 105,
     "metadata": {},
     "output_type": "execute_result"
    }
   ],
   "source": [
    "mean_paired_diff"
   ]
  },
  {
   "cell_type": "code",
   "execution_count": 106,
   "id": "a3e43533",
   "metadata": {
    "ExecuteTime": {
     "end_time": "2025-04-13T19:36:46.754030Z",
     "start_time": "2025-04-13T19:36:46.727506Z"
    },
    "hidden": true
   },
   "outputs": [
    {
     "data": {
      "text/plain": [
       "0.348010216963685"
      ]
     },
     "execution_count": 106,
     "metadata": {},
     "output_type": "execute_result"
    }
   ],
   "source": [
    "se = std/np.sqrt(n)\n",
    "se"
   ]
  },
  {
   "cell_type": "code",
   "execution_count": 107,
   "id": "480e74fb",
   "metadata": {
    "ExecuteTime": {
     "end_time": "2025-04-13T19:36:46.785924Z",
     "start_time": "2025-04-13T19:36:46.757031Z"
    },
    "hidden": true
   },
   "outputs": [
    {
     "data": {
      "text/plain": [
       "11.781263308220161"
      ]
     },
     "execution_count": 107,
     "metadata": {},
     "output_type": "execute_result"
    }
   ],
   "source": [
    "z_stats = (mean_paired_diff - pop_mean_paired_diff)/se\n",
    "z_stats"
   ]
  },
  {
   "cell_type": "code",
   "execution_count": 108,
   "id": "b3eabdfb",
   "metadata": {
    "ExecuteTime": {
     "end_time": "2025-04-13T19:36:46.801577Z",
     "start_time": "2025-04-13T19:36:46.789924Z"
    },
    "hidden": true
   },
   "outputs": [
    {
     "data": {
      "text/plain": [
       "0.0"
      ]
     },
     "execution_count": 108,
     "metadata": {},
     "output_type": "execute_result"
    }
   ],
   "source": [
    "# Step 4: Two-tailed p-value\n",
    "p_value = 2 * (1 - stats.norm.cdf(abs(z_stats)))\n",
    "p_value"
   ]
  },
  {
   "cell_type": "code",
   "execution_count": 109,
   "id": "b06443da",
   "metadata": {
    "ExecuteTime": {
     "end_time": "2025-04-13T19:36:46.817600Z",
     "start_time": "2025-04-13T19:36:46.805118Z"
    },
    "hidden": true
   },
   "outputs": [],
   "source": [
    "# Step 5: Decision\n",
    "alpha = 0.05"
   ]
  },
  {
   "cell_type": "code",
   "execution_count": 110,
   "id": "2ae51602",
   "metadata": {
    "ExecuteTime": {
     "end_time": "2025-04-13T19:36:46.832594Z",
     "start_time": "2025-04-13T19:36:46.820611Z"
    },
    "hidden": true
   },
   "outputs": [
    {
     "name": "stdout",
     "output_type": "stream",
     "text": [
      "✅ Reject the null hypothesis: There is a significant difference.\n"
     ]
    }
   ],
   "source": [
    "# Decision\n",
    "if p_value < alpha:\n",
    "    print(\"✅ Reject the null hypothesis: There is a significant difference.\")\n",
    "else:\n",
    "    print(\"❌ Fail to reject the null hypothesis: No significant diference.\")"
   ]
  },
  {
   "cell_type": "code",
   "execution_count": 111,
   "id": "95f69b3f",
   "metadata": {
    "ExecuteTime": {
     "end_time": "2025-04-13T19:36:46.847835Z",
     "start_time": "2025-04-13T19:36:46.836603Z"
    },
    "hidden": true
   },
   "outputs": [
    {
     "data": {
      "text/plain": [
       "{'mean_paired_difference (x̄_d)': 4.1,\n",
       " 'sample_std_dev (std)': 1.101,\n",
       " 'sample_size (n)': 10,\n",
       " 'z_statistic': 11.781,\n",
       " 'p_value': 0.0,\n",
       " 'alpha': 0.05}"
      ]
     },
     "execution_count": 111,
     "metadata": {},
     "output_type": "execute_result"
    }
   ],
   "source": [
    "# Results\n",
    "{\n",
    "    \"mean_paired_difference (x̄_d)\": round(mean_paired_diff, 3),\n",
    "    \"sample_std_dev (std)\": round(std, 3),\n",
    "    \"sample_size (n)\": n,\n",
    "    \"z_statistic\": round(z_stats, 3),\n",
    "    \"p_value\": round(p_value, 4),\n",
    "    \"alpha\": alpha,\n",
    "}"
   ]
  },
  {
   "cell_type": "markdown",
   "id": "5decb0d9",
   "metadata": {
    "hidden": true
   },
   "source": [
    "### ✅ Conclusion\n",
    "\n",
    "Since **p-value < α (0.0001 < 0.05)**, we **reject the null hypothesis**.\n",
    "\n",
    "➡️ There is statistically significant evidence that **user engagement changed** after the UI redesign.\n"
   ]
  },
  {
   "cell_type": "markdown",
   "id": "87ec6bbb",
   "metadata": {
    "hidden": true
   },
   "source": [
    "## 🔹 [18] Two-Sample dependent Paired Z-Test (2-tailed) "
   ]
  },
  {
   "cell_type": "markdown",
   "id": "1d085edc",
   "metadata": {
    "hidden": true
   },
   "source": [
    "**Q18.** An e-learning company compares test scores of students before and after taking a course. Does the course significantly improve scores?"
   ]
  },
  {
   "cell_type": "code",
   "execution_count": 112,
   "id": "4aa98934",
   "metadata": {
    "ExecuteTime": {
     "end_time": "2025-04-13T19:36:47.875767Z",
     "start_time": "2025-04-13T19:36:46.851346Z"
    },
    "hidden": true
   },
   "outputs": [
    {
     "name": "stderr",
     "output_type": "stream",
     "text": [
      "C:\\Users\\Asus\\AppData\\Roaming\\Python\\Python39\\site-packages\\pandas\\core\\arrays\\masked.py:60: UserWarning: Pandas requires version '1.3.6' or newer of 'bottleneck' (version '1.3.5' currently installed).\n",
      "  from pandas.core import (\n"
     ]
    }
   ],
   "source": [
    "import pandas as pd\n",
    "import numpy as np\n",
    "\n",
    "np.random.seed(42)  # for reproducibility\n",
    "\n",
    "# Simulated test scores before the course\n",
    "before_scores = np.random.normal(loc=65, scale=5, size=20)\n",
    "\n",
    "# Simulated scores after course (slight improvement on average)\n",
    "after_scores = before_scores + np.random.normal(loc=5, scale=3, size=20)"
   ]
  },
  {
   "cell_type": "markdown",
   "id": "2b27dbe3",
   "metadata": {
    "hidden": true
   },
   "source": [
    "### 🧪 **Hypotheses**:\n",
    "\n",
    "- **Null Hypothesis (H₀)**: There is **no significant difference** in test scores before and after the course.  \n",
    "  → H₀: μ<sub>d</sub> = 0  \n",
    "\n",
    "\n",
    "- **Alternative Hypothesis (H₁)**: There **is a significant difference** in test scores before and after the course.  \n",
    "  → H₁: μ<sub>d</sub> ≠ 0\n",
    "\n",
    "(*This is a two-tailed test.*)"
   ]
  },
  {
   "cell_type": "markdown",
   "id": "879b82d4",
   "metadata": {
    "hidden": true
   },
   "source": [
    "### 🧠 **Step 2: Z-Test Formula for Paired Samples**\n",
    "\n",
    "We apply the Z-test on the **differences** (after - before):\n",
    "\n",
    "$$Z-statistics = \\frac{(\\bar x_d - \\mu_d)} {(\\sigma_d/\\sqrt n)}$$\n",
    "\n",
    "Where:\n",
    "- Z is the test statistic.\n",
    "- x̄d is the mean of the paired differences.\n",
    "- μd is the hypothesized population mean of the paired differences.\n",
    "- σd is the population standard deviation of the paired differences.\n",
    "- n is the number of paired data points."
   ]
  },
  {
   "cell_type": "code",
   "execution_count": 113,
   "id": "77bd0eb5",
   "metadata": {
    "ExecuteTime": {
     "end_time": "2025-04-13T19:36:47.890908Z",
     "start_time": "2025-04-13T19:36:47.877973Z"
    },
    "hidden": true
   },
   "outputs": [
    {
     "data": {
      "text/plain": [
       "array([ 9.39694631,  4.3226711 ,  5.20258461,  0.72575544,  3.36685183,\n",
       "        5.33276777,  1.54701927,  6.12709406,  3.19808393,  4.12491875,\n",
       "        3.19488016, 10.55683455,  4.95950833,  1.82686721,  7.46763474,\n",
       "        1.33746905,  5.62659079, -0.87901037,  1.01544185,  5.59058371])"
      ]
     },
     "execution_count": 113,
     "metadata": {},
     "output_type": "execute_result"
    }
   ],
   "source": [
    "differences = np.subtract(after_scores,before_scores)\n",
    "differences"
   ]
  },
  {
   "cell_type": "markdown",
   "id": "cde5906d",
   "metadata": {
    "hidden": true
   },
   "source": [
    "- x̄_d -> mean_paired_diff\n",
    "\n",
    "- s_d -> std\n",
    "\n",
    "- μ_d -> pop_mean_paired_diff"
   ]
  },
  {
   "cell_type": "code",
   "execution_count": 114,
   "id": "88048d54",
   "metadata": {
    "ExecuteTime": {
     "end_time": "2025-04-13T19:36:47.922100Z",
     "start_time": "2025-04-13T19:36:47.894935Z"
    },
    "hidden": true
   },
   "outputs": [],
   "source": [
    "mean_paired_diff = np.mean(differences)  # x̄_d\n",
    "\n",
    "std = np.std(differences, ddof=1)\n",
    "\n",
    "pop_mean_paired_diff = 0\n",
    "\n",
    "n = len(differences)"
   ]
  },
  {
   "cell_type": "code",
   "execution_count": 115,
   "id": "89517c19",
   "metadata": {
    "ExecuteTime": {
     "end_time": "2025-04-13T19:36:47.937241Z",
     "start_time": "2025-04-13T19:36:47.925525Z"
    },
    "hidden": true
   },
   "outputs": [],
   "source": [
    "se = std/np.sqrt(n)"
   ]
  },
  {
   "cell_type": "code",
   "execution_count": 116,
   "id": "97187f44",
   "metadata": {
    "ExecuteTime": {
     "end_time": "2025-04-13T19:36:47.999653Z",
     "start_time": "2025-04-13T19:36:47.941221Z"
    },
    "hidden": true
   },
   "outputs": [
    {
     "data": {
      "text/plain": [
       "6.4709014098957365"
      ]
     },
     "execution_count": 116,
     "metadata": {},
     "output_type": "execute_result"
    }
   ],
   "source": [
    "z_stats = (mean_paired_diff - pop_mean_paired_diff)/se\n",
    "z_stats"
   ]
  },
  {
   "cell_type": "code",
   "execution_count": 117,
   "id": "9617d706",
   "metadata": {
    "ExecuteTime": {
     "end_time": "2025-04-13T19:36:48.029913Z",
     "start_time": "2025-04-13T19:36:48.000940Z"
    },
    "hidden": true
   },
   "outputs": [
    {
     "data": {
      "text/plain": [
       "9.742007200941316e-11"
      ]
     },
     "execution_count": 117,
     "metadata": {},
     "output_type": "execute_result"
    }
   ],
   "source": [
    "p_value = 2 * (1 -  stats.norm.cdf(abs(z_stats)))\n",
    "p_value"
   ]
  },
  {
   "cell_type": "code",
   "execution_count": 118,
   "id": "6c8c94d6",
   "metadata": {
    "ExecuteTime": {
     "end_time": "2025-04-13T19:36:48.092567Z",
     "start_time": "2025-04-13T19:36:48.032488Z"
    },
    "hidden": true
   },
   "outputs": [],
   "source": [
    "alpha = 0.05"
   ]
  },
  {
   "cell_type": "code",
   "execution_count": 119,
   "id": "ed4f076d",
   "metadata": {
    "ExecuteTime": {
     "end_time": "2025-04-13T19:36:48.107466Z",
     "start_time": "2025-04-13T19:36:48.095603Z"
    },
    "hidden": true
   },
   "outputs": [
    {
     "name": "stdout",
     "output_type": "stream",
     "text": [
      "🔍 Mean of paired Differences (x̄_d): 4.202\n",
      "📏 Standard Deviation of Differences (std): 2.904\n",
      "📊 Sample Size (n): 20\n",
      "📉 Z-Statistic: 6.471\n",
      "📈 P-Value: 0.0\n"
     ]
    }
   ],
   "source": [
    "# Print results\n",
    "print(\"🔍 Mean of paired Differences (x̄_d):\", round(mean_paired_diff, 3))\n",
    "print(\"📏 Standard Deviation of Differences (std):\", round(std, 3))\n",
    "print(\"📊 Sample Size (n):\", n)\n",
    "print(\"📉 Z-Statistic:\", round(z_stats, 3))\n",
    "print(\"📈 P-Value:\", round(p_value, 6))"
   ]
  },
  {
   "cell_type": "code",
   "execution_count": 120,
   "id": "5e1f12a4",
   "metadata": {
    "ExecuteTime": {
     "end_time": "2025-04-13T19:36:48.139296Z",
     "start_time": "2025-04-13T19:36:48.111481Z"
    },
    "hidden": true
   },
   "outputs": [
    {
     "name": "stdout",
     "output_type": "stream",
     "text": [
      "✅ Reject the null hypothesis: Significant improvement in scores.\n"
     ]
    }
   ],
   "source": [
    "# Decision\n",
    "if p_value < alpha:\n",
    "    print(\"✅ Reject the null hypothesis: Significant improvement in scores.\")\n",
    "else:\n",
    "    print(\"❌ Fail to reject the null hypothesis: No significant improvement.\")"
   ]
  },
  {
   "cell_type": "markdown",
   "id": "138d66ee",
   "metadata": {
    "hidden": true
   },
   "source": [
    "### 📌 **Interpretation**:\n",
    "\n",
    "- Since **p-value < alpha (0.05)**, we **reject** the null hypothesis.\n",
    "\n",
    "\n",
    "- ✅ This means the course has **significantly improved** student test scores.\n",
    "\n"
   ]
  },
  {
   "cell_type": "markdown",
   "id": "c75b10b7",
   "metadata": {
    "hidden": true
   },
   "source": [
    "## 🔹 [19] Two-Sample Paired Z-Test (Left tailed)"
   ]
  },
  {
   "cell_type": "markdown",
   "id": "087daaf9",
   "metadata": {
    "hidden": true
   },
   "source": [
    "**Q19.** A bank implements a new risk model and checks the credit score predictions vs actual scores before and after. Is the mean error reduced?"
   ]
  },
  {
   "cell_type": "code",
   "execution_count": 121,
   "id": "c9ed5b75",
   "metadata": {
    "ExecuteTime": {
     "end_time": "2025-04-13T19:36:48.154931Z",
     "start_time": "2025-04-13T19:36:48.142800Z"
    },
    "hidden": true
   },
   "outputs": [],
   "source": [
    "before  = [16.49, 14.59, 16.94, 19.57, 14.30]\n",
    "\n",
    "after = [13.27, 13.89, 13.19, 17.77, 11.88]"
   ]
  },
  {
   "cell_type": "markdown",
   "id": "76d71e1d",
   "metadata": {
    "hidden": true
   },
   "source": [
    "### 🧠 **Step 2: Z-Test Formula for Paired Samples**\n",
    "\n",
    "We apply the Z-test on the **differences** (after - before):\n",
    "\n",
    "$$Z-statistics = \\frac{(\\bar x_d - \\mu_d)} {(\\sigma_d/\\sqrt n)}$$\n",
    "\n",
    "Where:\n",
    "- Z is the test statistic.\n",
    "- x̄d is the mean of the paired differences.\n",
    "- μd is the hypothesized population mean of the paired differences.\n",
    "- σd is the population standard deviation of the paired differences.\n",
    "- n is the number of paired data points."
   ]
  },
  {
   "cell_type": "markdown",
   "id": "79cf446d",
   "metadata": {
    "hidden": true
   },
   "source": [
    "- x̄_d -> mean_paired_diff\n",
    "\n",
    "- s_d -> std\n",
    "\n",
    "- μ_d -> pop_mean_paired_diff"
   ]
  },
  {
   "cell_type": "markdown",
   "id": "ab9f2781",
   "metadata": {
    "hidden": true
   },
   "source": [
    "\n",
    "### **Step 1: Define Hypotheses**\n",
    "\n",
    "- **Null Hypothesis (H₀):**  \n",
    "  $\\mu_d = 0$  (There is no change in mean error; the new model does not reduce error.)\n",
    "\n",
    "\n",
    "\n",
    "- **Alternative Hypothesis (H₁):**  \n",
    "  $\\mu_d < 0$   (There is significant evidence that the mean error is reduced after the new risk model is implemented)\n",
    "  "
   ]
  },
  {
   "cell_type": "code",
   "execution_count": 122,
   "id": "22b338d8",
   "metadata": {
    "ExecuteTime": {
     "end_time": "2025-04-13T19:36:48.186548Z",
     "start_time": "2025-04-13T19:36:48.158931Z"
    },
    "hidden": true
   },
   "outputs": [
    {
     "data": {
      "text/plain": [
       "array([-3.22, -0.7 , -3.75, -1.8 , -2.42])"
      ]
     },
     "execution_count": 122,
     "metadata": {},
     "output_type": "execute_result"
    }
   ],
   "source": [
    "differences = np.subtract(after, before)\n",
    "differences"
   ]
  },
  {
   "cell_type": "code",
   "execution_count": 123,
   "id": "19b444d5",
   "metadata": {
    "ExecuteTime": {
     "end_time": "2025-04-13T19:36:48.202885Z",
     "start_time": "2025-04-13T19:36:48.188955Z"
    },
    "hidden": true
   },
   "outputs": [],
   "source": [
    "# Calculate the sample mean of differences (x̄_d)\n",
    "mean_paired_diff = np.mean(differences)\n",
    "\n",
    "\n",
    "# Calculate the sample standard deviation of differences (s_d), using Bessel's correction (ddof=1)\n",
    "std = np.std(differences, ddof=1)\n",
    "\n",
    "# Hypothesized mean difference (μ_d) under H0 (no reduction in error)\n",
    "pop_mean_paired_diff = 0\n",
    "\n",
    "n = len(differences)"
   ]
  },
  {
   "cell_type": "markdown",
   "id": "7060d3f7",
   "metadata": {
    "hidden": true
   },
   "source": [
    "A reduction in error will yield a **negative mean difference**.  \n",
    "\n",
    "\n",
    "Because we want to test if the mean error is reduced, our alternative hypothesis is that the mean difference is less than 0. This is a **left-tailed** test."
   ]
  },
  {
   "cell_type": "code",
   "execution_count": 124,
   "id": "4e8a1c78",
   "metadata": {
    "ExecuteTime": {
     "end_time": "2025-04-13T19:36:48.218808Z",
     "start_time": "2025-04-13T19:36:48.205891Z"
    },
    "hidden": true
   },
   "outputs": [
    {
     "data": {
      "text/plain": [
       "0.5358581901958765"
      ]
     },
     "execution_count": 124,
     "metadata": {},
     "output_type": "execute_result"
    }
   ],
   "source": [
    "se = std/np.sqrt(n)\n",
    "se"
   ]
  },
  {
   "cell_type": "code",
   "execution_count": 125,
   "id": "66ad55a7",
   "metadata": {
    "ExecuteTime": {
     "end_time": "2025-04-13T19:36:48.250114Z",
     "start_time": "2025-04-13T19:36:48.221703Z"
    },
    "hidden": true
   },
   "outputs": [
    {
     "data": {
      "text/plain": [
       "-4.437741259736556"
      ]
     },
     "execution_count": 125,
     "metadata": {},
     "output_type": "execute_result"
    }
   ],
   "source": [
    "z_stats = (mean_paired_diff - pop_mean_paired_diff)/se\n",
    "z_stats"
   ]
  },
  {
   "cell_type": "code",
   "execution_count": 126,
   "id": "dca86b15",
   "metadata": {
    "ExecuteTime": {
     "end_time": "2025-04-13T19:36:48.266185Z",
     "start_time": "2025-04-13T19:36:48.253653Z"
    },
    "hidden": true
   },
   "outputs": [
    {
     "data": {
      "text/plain": [
       "4.545390116142142e-06"
      ]
     },
     "execution_count": 126,
     "metadata": {},
     "output_type": "execute_result"
    }
   ],
   "source": [
    "# Since we are testing if the mean difference is less than 0, this is a left-tailed test.\n",
    "\n",
    "# p-value for a left-tailed test\n",
    "p_value = stats.norm.cdf(z_stats)\n",
    "p_value"
   ]
  },
  {
   "cell_type": "code",
   "execution_count": 127,
   "id": "c5c44e37",
   "metadata": {
    "ExecuteTime": {
     "end_time": "2025-04-13T19:36:48.296885Z",
     "start_time": "2025-04-13T19:36:48.269190Z"
    },
    "hidden": true
   },
   "outputs": [],
   "source": [
    "alpha = 0.05"
   ]
  },
  {
   "cell_type": "code",
   "execution_count": 131,
   "id": "1c4a2fe4",
   "metadata": {
    "ExecuteTime": {
     "end_time": "2025-04-13T19:37:04.013642Z",
     "start_time": "2025-04-13T19:37:03.995760Z"
    },
    "hidden": true
   },
   "outputs": [
    {
     "name": "stdout",
     "output_type": "stream",
     "text": [
      "🔍 Mean of paired Differences (x̄_d): -2.378\n",
      "📏 Standard Deviation of Differences (std): 1.198\n",
      "📊 Sample Size (n): 5\n",
      "📉 Z-Statistic: -4.438\n",
      "📈 P-Value: 0.0\n"
     ]
    }
   ],
   "source": [
    "# Print results\n",
    "print(\"🔍 Mean of paired Differences (x̄_d):\", round(mean_paired_diff, 3))\n",
    "print(\"📏 Standard Deviation of Differences (std):\", round(std, 3))\n",
    "print(\"📊 Sample Size (n):\", n)\n",
    "print(\"📉 Z-Statistic:\", round(z_stats, 3))\n",
    "print(\"📈 P-Value:\", round(p_value, 5))"
   ]
  },
  {
   "cell_type": "code",
   "execution_count": 129,
   "id": "f3f7eb5d",
   "metadata": {
    "ExecuteTime": {
     "end_time": "2025-04-13T19:36:48.328659Z",
     "start_time": "2025-04-13T19:36:48.314939Z"
    },
    "hidden": true
   },
   "outputs": [
    {
     "name": "stdout",
     "output_type": "stream",
     "text": [
      "Decision: Reject the null hypothesis. There is significant evidence that the mean error is reduced.\n"
     ]
    }
   ],
   "source": [
    "# Decision:\n",
    "if p_value < alpha:\n",
    "    print(\"Decision: Reject the null hypothesis. There is significant evidence that the mean error is reduced.\")\n",
    "else:\n",
    "    print(\"Decision: Fail to reject the null hypothesis. There is not enough evidence that the mean error is reduced.\")"
   ]
  },
  {
   "cell_type": "markdown",
   "id": "72bdd087",
   "metadata": {
    "hidden": true
   },
   "source": [
    "\n",
    "\n",
    "**Decision:** Reject the null hypothesis.  \n",
    "There is significant evidence that the mean error is reduced after the new risk model is implemented.\n"
   ]
  },
  {
   "cell_type": "markdown",
   "id": "08bd780c",
   "metadata": {},
   "source": [
    "# t-test"
   ]
  },
  {
   "cell_type": "code",
   "execution_count": 2,
   "id": "e41039ad",
   "metadata": {
    "ExecuteTime": {
     "end_time": "2025-04-17T11:45:50.944788Z",
     "start_time": "2025-04-17T11:45:44.309100Z"
    }
   },
   "outputs": [
    {
     "name": "stderr",
     "output_type": "stream",
     "text": [
      "C:\\Users\\Asus\\AppData\\Roaming\\Python\\Python39\\site-packages\\pandas\\core\\arrays\\masked.py:60: UserWarning: Pandas requires version '1.3.6' or newer of 'bottleneck' (version '1.3.5' currently installed).\n",
      "  from pandas.core import (\n"
     ]
    }
   ],
   "source": [
    "import pandas as pd\n",
    "import numpy as np\n",
    "from scipy import stats\n",
    "from scipy.stats import shapiro\n",
    "from scipy.stats import levene"
   ]
  },
  {
   "cell_type": "markdown",
   "id": "77007861",
   "metadata": {},
   "source": [
    "\n",
    "\n",
    "## ✅ Should We Apply the Shapiro-Wilk Test Before a t-test?\n",
    "\n",
    "### Short Answer: **Yes, if the sample size is small (n < 30)**.\n",
    "\n",
    "---\n",
    "\n",
    "## 📌 Why?\n",
    "\n",
    "The **one-sample t-test assumes that the sample comes from a normally distributed population**.  \n",
    "If this assumption is violated, the test results might not be valid.\n",
    "\n",
    "### 🧪 The Shapiro-Wilk test:\n",
    "- Tests **null hypothesis**: data is normally distributed.\n",
    "- If **p-value > 0.05** → You **fail to reject** → Data is likely normal → ✅ OK for t-test\n",
    "- If **p-value ≤ 0.05** → Reject normality → ❌ You might need a non-parametric alternative (e.g., Wilcoxon signed-rank test)\n",
    "\n",
    "---\n",
    "\n",
    "### ✅ When to Apply Shapiro-Wilk:\n",
    "| Sample Size | Should You Test for Normality? | Notes |\n",
    "|-------------|-------------------------------|-------|\n",
    "| n < 30      | ✅ Yes                        | Use Shapiro-Wilk or visual checks (Q-Q plots) |\n",
    "| 30 ≤ n < 50 | Optional                     | CLT starts kicking in, but still wise to check |\n",
    "| n ≥ 50      | ❌ Not necessary               | Central Limit Theorem makes t-test robust to normality |\n",
    "\n",
    "---\n",
    "\n",
    "### 🔁 Example with Your Data:\n",
    "\n",
    "```python\n",
    "from scipy.stats import shapiro\n",
    "\n",
    "sample = [30, 34, 36, 37, 33, 32, 38, 40, 31, 35]\n",
    "stat, p = shapiro(sample)\n",
    "print(f\"Shapiro-Wilk Test p-value = {p:.4f}\")\n",
    "```\n",
    "\n",
    "- If `p > 0.05` → You can proceed with t-test.\n",
    "- If `p ≤ 0.05` → Consider using a **non-parametric test** instead.\n",
    "\n",
    "---\n",
    "\n",
    "### 🧪 Alternative If Not Normal:\n",
    "- **Wilcoxon signed-rank test** for comparing sample mean to a median.\n",
    "  ```python\n",
    "  from scipy.stats import wilcoxon\n",
    "  wilcoxon(sample - 35)\n",
    "  ```\n",
    "\n",
    "---\n",
    "\n",
    "### ✅ Summary\n",
    "\n",
    "| Step | Why It's Important |\n",
    "|------|--------------------|\n",
    "| Shapiro-Wilk | Confirms normality assumption of t-test |\n",
    "| p > 0.05 | Data is approximately normal → safe to use t-test |\n",
    "| p ≤ 0.05 | Use non-parametric tests instead (e.g., Wilcoxon) |\n",
    "\n",
    "---\n",
    "\n",
    "Let me know if you'd like me to run the full code for both Shapiro-Wilk and Wilcoxon on your data!"
   ]
  },
  {
   "cell_type": "markdown",
   "id": "c790f701",
   "metadata": {},
   "source": [
    "## 🔹 1. One-tailed One Sample t-test\n",
    "\n",
    "**Q1.** A bank claims that the average loan approval time is less than 48 hours. Given the sample loan approval times in hours:  \n",
    "`[47, 45, 46, 49, 48, 46, 44, 47, 45, 46]`,  \n",
    "test this claim at a 5% significance level."
   ]
  },
  {
   "cell_type": "markdown",
   "id": "b89af204",
   "metadata": {},
   "source": [
    "#### Formula:\n",
    "$$\n",
    "t = \\frac{{\\bar{X} - \\mu}}{{s / \\sqrt{n}}}\n",
    "$$\n",
    "\n",
    "- t is the t-statistic.\n",
    "- $\\bar{X}$ is the sample mean.\n",
    "- $\\mu$ is the population mean or hypothesized mean.\n",
    "- s is the sample standard deviation.\n",
    "- n is the sample size."
   ]
  },
  {
   "cell_type": "markdown",
   "id": "5b97771a",
   "metadata": {},
   "source": [
    "- **Null Hypothesis (H₀) :** μ = 48 (The average loan approval time is 48 hours)\n",
    "\n",
    "\n",
    "\n",
    "- **Alternate Hypothesis (H₁) :** μ < 48 (The average loan approval time is less than 48 hours)\n",
    "\n",
    "\n",
    "\n",
    "**This is a left-tailed test.**"
   ]
  },
  {
   "cell_type": "code",
   "execution_count": 110,
   "id": "bbc00452",
   "metadata": {
    "ExecuteTime": {
     "end_time": "2025-04-15T17:53:29.142298Z",
     "start_time": "2025-04-15T17:53:29.135789Z"
    }
   },
   "outputs": [],
   "source": [
    "import scipy.stats as stats"
   ]
  },
  {
   "cell_type": "code",
   "execution_count": 111,
   "id": "88efe93c",
   "metadata": {
    "ExecuteTime": {
     "end_time": "2025-04-15T17:53:29.439038Z",
     "start_time": "2025-04-15T17:53:29.434123Z"
    }
   },
   "outputs": [
    {
     "data": {
      "text/plain": [
       "[47, 45, 46, 49, 48, 46, 44, 47, 45, 46]"
      ]
     },
     "execution_count": 111,
     "metadata": {},
     "output_type": "execute_result"
    }
   ],
   "source": [
    "sample = [47, 45, 46, 49, 48, 46, 44, 47, 45, 46]\n",
    "sample"
   ]
  },
  {
   "cell_type": "code",
   "execution_count": 112,
   "id": "08eb928e",
   "metadata": {
    "ExecuteTime": {
     "end_time": "2025-04-15T17:53:31.722830Z",
     "start_time": "2025-04-15T17:53:31.708776Z"
    }
   },
   "outputs": [
    {
     "name": "stdout",
     "output_type": "stream",
     "text": [
      "Shapiro-Wilk Test p-value = 0.8540\n"
     ]
    }
   ],
   "source": [
    "from scipy.stats import shapiro\n",
    "\n",
    "# sample = [47, 45, 46, 49, 48, 46, 44, 47, 45, 46]\n",
    "stat, p = shapiro(sample)\n",
    "print(f\"Shapiro-Wilk Test p-value = {p:.4f}\")"
   ]
  },
  {
   "cell_type": "code",
   "execution_count": 113,
   "id": "ef96869c",
   "metadata": {
    "ExecuteTime": {
     "end_time": "2025-04-15T17:54:18.219685Z",
     "start_time": "2025-04-15T17:54:18.210175Z"
    }
   },
   "outputs": [
    {
     "name": "stdout",
     "output_type": "stream",
     "text": [
      "You can proceed with t-test.\n"
     ]
    }
   ],
   "source": [
    "if p > 0.05:\n",
    "    print(\"You can proceed with t-test.\")\n",
    "else:\n",
    "    print(\"Consider using a non-parametric test instead.\")"
   ]
  },
  {
   "cell_type": "code",
   "execution_count": 70,
   "id": "9b35c87e",
   "metadata": {
    "ExecuteTime": {
     "end_time": "2025-04-15T16:27:05.237435Z",
     "start_time": "2025-04-15T16:27:05.224102Z"
    }
   },
   "outputs": [],
   "source": [
    "mu = 48\n",
    "x_bar = np.mean(sample)\n",
    "s = np.std(sample)\n",
    "n = len(sample)"
   ]
  },
  {
   "cell_type": "code",
   "execution_count": 71,
   "id": "e3f8d8e1",
   "metadata": {
    "ExecuteTime": {
     "end_time": "2025-04-15T16:27:05.408777Z",
     "start_time": "2025-04-15T16:27:05.401072Z"
    }
   },
   "outputs": [
    {
     "data": {
      "text/plain": [
       "(46.3, 1.4177446878757827)"
      ]
     },
     "execution_count": 71,
     "metadata": {},
     "output_type": "execute_result"
    }
   ],
   "source": [
    "x_bar,s"
   ]
  },
  {
   "cell_type": "code",
   "execution_count": 72,
   "id": "469d92ce",
   "metadata": {
    "ExecuteTime": {
     "end_time": "2025-04-15T16:27:05.595141Z",
     "start_time": "2025-04-15T16:27:05.587617Z"
    }
   },
   "outputs": [],
   "source": [
    "se = s/np.sqrt(n)"
   ]
  },
  {
   "cell_type": "code",
   "execution_count": 73,
   "id": "b772699b",
   "metadata": {
    "ExecuteTime": {
     "end_time": "2025-04-15T16:27:05.748935Z",
     "start_time": "2025-04-15T16:27:05.731662Z"
    }
   },
   "outputs": [
    {
     "data": {
      "text/plain": [
       "-3.7918477623365057"
      ]
     },
     "execution_count": 73,
     "metadata": {},
     "output_type": "execute_result"
    }
   ],
   "source": [
    "t_stats = (x_bar - mu)/se\n",
    "t_stats"
   ]
  },
  {
   "cell_type": "code",
   "execution_count": 74,
   "id": "3e087035",
   "metadata": {
    "ExecuteTime": {
     "end_time": "2025-04-15T16:27:05.965895Z",
     "start_time": "2025-04-15T16:27:05.951738Z"
    }
   },
   "outputs": [],
   "source": [
    "alpha = 0.05"
   ]
  },
  {
   "cell_type": "code",
   "execution_count": 75,
   "id": "f94f40a3",
   "metadata": {
    "ExecuteTime": {
     "end_time": "2025-04-15T16:27:06.164762Z",
     "start_time": "2025-04-15T16:27:06.151730Z"
    }
   },
   "outputs": [
    {
     "data": {
      "text/plain": [
       "0.0021352559276629733"
      ]
     },
     "execution_count": 75,
     "metadata": {},
     "output_type": "execute_result"
    }
   ],
   "source": [
    "p_value = stats.t.cdf(t_stats,df=(n-1))\n",
    "p_value"
   ]
  },
  {
   "cell_type": "code",
   "execution_count": 76,
   "id": "eae8f46b",
   "metadata": {
    "ExecuteTime": {
     "end_time": "2025-04-15T16:27:06.969114Z",
     "start_time": "2025-04-15T16:27:06.954472Z"
    }
   },
   "outputs": [
    {
     "name": "stdout",
     "output_type": "stream",
     "text": [
      "t-statistic: -3.597262640878857\n",
      "p-value (one-tailed): 0.0021352559276629733\n"
     ]
    }
   ],
   "source": [
    "print(\"t-statistic:\", t_statistic)\n",
    "print(\"p-value (one-tailed):\", p_value)"
   ]
  },
  {
   "cell_type": "code",
   "execution_count": 77,
   "id": "6702618e",
   "metadata": {
    "ExecuteTime": {
     "end_time": "2025-04-15T16:27:09.006246Z",
     "start_time": "2025-04-15T16:27:08.991669Z"
    }
   },
   "outputs": [
    {
     "name": "stdout",
     "output_type": "stream",
     "text": [
      "Reject the null hypothesis\n",
      "hence, The average loan approval time is less than 48 hours\n"
     ]
    }
   ],
   "source": [
    "if t_statistic < 0 and p_value < 0.05:\n",
    "    print(\"Reject the null hypothesis\")\n",
    "    print(\"hence, The average loan approval time is less than 48 hours\")\n",
    "else:\n",
    "    print(\"Fail to reject the null hypothesis\")\n",
    "    print(\"The average loan approval time is 48 hours\")"
   ]
  },
  {
   "cell_type": "markdown",
   "id": "bf930cb6",
   "metadata": {},
   "source": [
    "#### or using `scipy.stats.ttest_1samp()`"
   ]
  },
  {
   "cell_type": "code",
   "execution_count": 78,
   "id": "8832348c",
   "metadata": {
    "ExecuteTime": {
     "end_time": "2025-04-15T16:27:14.294180Z",
     "start_time": "2025-04-15T16:27:14.276151Z"
    }
   },
   "outputs": [
    {
     "data": {
      "text/plain": [
       "(-3.597262640878857, 0.00577292933808138)"
      ]
     },
     "execution_count": 78,
     "metadata": {},
     "output_type": "execute_result"
    }
   ],
   "source": [
    "t_statistic, p_value = stats.ttest_1samp(sample, popmean=48)\n",
    "t_statistic, p_value"
   ]
  },
  {
   "cell_type": "code",
   "execution_count": 79,
   "id": "3bac35b3",
   "metadata": {
    "ExecuteTime": {
     "end_time": "2025-04-15T16:27:22.475883Z",
     "start_time": "2025-04-15T16:27:22.458820Z"
    }
   },
   "outputs": [
    {
     "data": {
      "text/plain": [
       "0.00288646466904069"
      ]
     },
     "execution_count": 79,
     "metadata": {},
     "output_type": "execute_result"
    }
   ],
   "source": [
    "p_value/2"
   ]
  },
  {
   "cell_type": "code",
   "execution_count": 80,
   "id": "4ec4d381",
   "metadata": {
    "ExecuteTime": {
     "end_time": "2025-04-15T16:27:23.670594Z",
     "start_time": "2025-04-15T16:27:23.659147Z"
    }
   },
   "outputs": [
    {
     "name": "stdout",
     "output_type": "stream",
     "text": [
      "t-statistic: -3.597262640878857\n",
      "p-value (one-tailed): 0.00288646466904069\n"
     ]
    }
   ],
   "source": [
    "print(\"t-statistic:\", t_statistic)\n",
    "print(\"p-value (one-tailed):\", p_value/2)"
   ]
  },
  {
   "cell_type": "code",
   "execution_count": 67,
   "id": "220a8925",
   "metadata": {
    "ExecuteTime": {
     "end_time": "2025-04-15T16:26:42.693444Z",
     "start_time": "2025-04-15T16:26:42.677500Z"
    }
   },
   "outputs": [
    {
     "name": "stdout",
     "output_type": "stream",
     "text": [
      "Reject the null hypothesis\n",
      "hence, The average loan approval time is less than 48 hours\n"
     ]
    }
   ],
   "source": [
    "# For one-tailed (less than), divide p-value by 2\n",
    "if t_statistic < 0 and (p_value / 2) < 0.05:\n",
    "    print(\"Reject the null hypothesis\")\n",
    "    print(\"hence, The average loan approval time is less than 48 hours\")\n",
    "else:\n",
    "    print(\"Fail to reject the null hypothesis\")\n",
    "    print(\"The average loan approval time is 48 hours\")"
   ]
  },
  {
   "cell_type": "markdown",
   "id": "3eb9dc72",
   "metadata": {},
   "source": [
    "This double-check is important because:\n",
    "\n",
    "| Check | Why it matters |\n",
    "|-------|----------------|\n",
    "| `t_statistic < 0` | Ensures the sample mean is **less than** 48 |\n",
    "| `p_value/2 < alpha` | Ensures the probability of observing this or more extreme result under H₀ is small |"
   ]
  },
  {
   "cell_type": "markdown",
   "id": "57726d43",
   "metadata": {},
   "source": [
    "### 📌 What if `t_statistic >= 0`?\n",
    "\n",
    "Then your sample mean is **not less than 48** — it’s **equal to or greater**, so:\n",
    "\n",
    "- Even if the p-value is small (e.g., due to a weird calculation), it’s **not in the direction you're testing for**\n",
    "\n",
    "\n",
    "- Hence, **we cannot reject H₀** for a one-tailed test"
   ]
  },
  {
   "cell_type": "markdown",
   "id": "b5bf4473",
   "metadata": {},
   "source": [
    "### ✅ Final Summary\n",
    "\n",
    "| Situation | Conclusion |\n",
    "|-----------|------------|\n",
    "| `t_stat < 0` and `p/2 < alpha` | ✅ Strong evidence that μ < 48 (reject H₀) |\n",
    "| `t_stat >= 0` | ❌ Sample mean not less than 48 → fail to reject H₀ |\n",
    "| `t_stat < 0`, but `p/2 > alpha` | ❌ Not enough evidence → fail to reject H₀ |"
   ]
  },
  {
   "cell_type": "markdown",
   "id": "b9a5b96f",
   "metadata": {
    "heading_collapsed": true
   },
   "source": [
    "## 🔹 2. Two-tailed One Sample t-test\n",
    "\n",
    "**Q2.** A fintech startup claims that the average customer age is 35. From a recent customer dataset, you observe the following ages:  \n",
    "`[30, 34, 36, 37, 33, 32, 38, 40, 31, 35]`.  \n",
    "Test if the actual mean is different from 35."
   ]
  },
  {
   "cell_type": "code",
   "execution_count": 115,
   "id": "f19d82c6",
   "metadata": {
    "ExecuteTime": {
     "end_time": "2025-04-15T17:55:01.574812Z",
     "start_time": "2025-04-15T17:55:01.556781Z"
    },
    "hidden": true
   },
   "outputs": [
    {
     "data": {
      "text/plain": [
       "[30, 34, 36, 37, 33, 32, 38, 40, 31, 35]"
      ]
     },
     "execution_count": 115,
     "metadata": {},
     "output_type": "execute_result"
    }
   ],
   "source": [
    "sample = [30, 34, 36, 37, 33, 32, 38, 40, 31, 35]\n",
    "sample"
   ]
  },
  {
   "cell_type": "code",
   "execution_count": 116,
   "id": "8f823120",
   "metadata": {
    "ExecuteTime": {
     "end_time": "2025-04-15T17:55:02.470071Z",
     "start_time": "2025-04-15T17:55:02.463969Z"
    },
    "hidden": true
   },
   "outputs": [
    {
     "name": "stdout",
     "output_type": "stream",
     "text": [
      "Shapiro-Wilk Test p-value = 0.9697\n"
     ]
    }
   ],
   "source": [
    "from scipy.stats import shapiro\n",
    "\n",
    "stat, p = shapiro(sample)\n",
    "print(f\"Shapiro-Wilk Test p-value = {p:.4f}\")"
   ]
  },
  {
   "cell_type": "code",
   "execution_count": 117,
   "id": "bee7852d",
   "metadata": {
    "ExecuteTime": {
     "end_time": "2025-04-15T17:55:04.772847Z",
     "start_time": "2025-04-15T17:55:04.766323Z"
    },
    "hidden": true
   },
   "outputs": [
    {
     "name": "stdout",
     "output_type": "stream",
     "text": [
      "You can proceed with t-test.\n"
     ]
    }
   ],
   "source": [
    "if p > 0.05:\n",
    "    print(\"You can proceed with t-test.\")\n",
    "else:\n",
    "    print(\"Consider using a non-parametric test instead.\")"
   ]
  },
  {
   "cell_type": "markdown",
   "id": "76fc283f",
   "metadata": {
    "hidden": true
   },
   "source": [
    "#### This is a two-tailed test:\n",
    "\n",
    "- Null Hypothesis (H₀): μ = 35 (The true mean age is 35)\n",
    "\n",
    "\n",
    "- Alternate Hypothesis (H₁): μ ≠ 35 (The true mean age is not 35)"
   ]
  },
  {
   "cell_type": "markdown",
   "id": "05dd5658",
   "metadata": {
    "hidden": true
   },
   "source": [
    "#### Formula:\n",
    "$$\n",
    "t = \\frac{{\\bar{X} - \\mu}}{{s / \\sqrt{n}}}\n",
    "$$\n",
    "\n",
    "- t is the t-statistic.\n",
    "- $\\bar{X}$ is the sample mean.\n",
    "- $\\mu$ is the population mean or hypothesized mean.\n",
    "- s is the sample standard deviation.\n",
    "- n is the sample size."
   ]
  },
  {
   "cell_type": "code",
   "execution_count": 98,
   "id": "90a50c2e",
   "metadata": {
    "ExecuteTime": {
     "end_time": "2025-04-15T17:44:13.999521Z",
     "start_time": "2025-04-15T17:44:13.989010Z"
    },
    "hidden": true
   },
   "outputs": [],
   "source": [
    "mu = 35\n",
    "x_bar = np.mean(sample)\n",
    "s = np.std(sample)\n",
    "n = len(sample)\n",
    "df = n-1"
   ]
  },
  {
   "cell_type": "code",
   "execution_count": 108,
   "id": "d6e72dca",
   "metadata": {
    "ExecuteTime": {
     "end_time": "2025-04-15T17:45:13.009878Z",
     "start_time": "2025-04-15T17:45:13.005876Z"
    },
    "hidden": true
   },
   "outputs": [
    {
     "data": {
      "text/plain": [
       "(34.6, 3.0397368307141326, 10)"
      ]
     },
     "execution_count": 108,
     "metadata": {},
     "output_type": "execute_result"
    }
   ],
   "source": [
    "x_bar, s, n"
   ]
  },
  {
   "cell_type": "code",
   "execution_count": 99,
   "id": "a36acca4",
   "metadata": {
    "ExecuteTime": {
     "end_time": "2025-04-15T17:44:14.361044Z",
     "start_time": "2025-04-15T17:44:14.348533Z"
    },
    "hidden": true
   },
   "outputs": [
    {
     "data": {
      "text/plain": [
       "0.9612491872558332"
      ]
     },
     "execution_count": 99,
     "metadata": {},
     "output_type": "execute_result"
    }
   ],
   "source": [
    "se = s/np.sqrt(n)\n",
    "se"
   ]
  },
  {
   "cell_type": "code",
   "execution_count": 100,
   "id": "704c19bb",
   "metadata": {
    "ExecuteTime": {
     "end_time": "2025-04-15T17:44:14.905474Z",
     "start_time": "2025-04-15T17:44:14.893964Z"
    },
    "hidden": true
   },
   "outputs": [
    {
     "data": {
      "text/plain": [
       "-0.41612518928823805"
      ]
     },
     "execution_count": 100,
     "metadata": {},
     "output_type": "execute_result"
    }
   ],
   "source": [
    "t_statistics = (x_bar - mu)/se\n",
    "t_statistics"
   ]
  },
  {
   "cell_type": "code",
   "execution_count": 101,
   "id": "39236b85",
   "metadata": {
    "ExecuteTime": {
     "end_time": "2025-04-15T17:44:15.553907Z",
     "start_time": "2025-04-15T17:44:15.535870Z"
    },
    "hidden": true
   },
   "outputs": [],
   "source": [
    "alpha = 0.05"
   ]
  },
  {
   "cell_type": "code",
   "execution_count": 102,
   "id": "9161e9ec",
   "metadata": {
    "ExecuteTime": {
     "end_time": "2025-04-15T17:44:16.428993Z",
     "start_time": "2025-04-15T17:44:16.424910Z"
    },
    "hidden": true
   },
   "outputs": [
    {
     "data": {
      "text/plain": [
       "0.6870660174559524"
      ]
     },
     "execution_count": 102,
     "metadata": {},
     "output_type": "execute_result"
    }
   ],
   "source": [
    "p_value = 2 * (1 - stats.t.cdf(abs(t_statistics),df=df))\n",
    "p_value"
   ]
  },
  {
   "cell_type": "code",
   "execution_count": 103,
   "id": "2135ae6c",
   "metadata": {
    "ExecuteTime": {
     "end_time": "2025-04-15T17:44:19.941159Z",
     "start_time": "2025-04-15T17:44:19.921494Z"
    },
    "hidden": true
   },
   "outputs": [
    {
     "name": "stdout",
     "output_type": "stream",
     "text": [
      "t-statistic: -0.39477101697586\n",
      "p-value (two-tailed): 0.6870660174559524\n"
     ]
    }
   ],
   "source": [
    "print(\"t-statistic:\", t_statistic)\n",
    "print(\"p-value (two-tailed):\", p_value)"
   ]
  },
  {
   "cell_type": "code",
   "execution_count": 104,
   "id": "5b9c789c",
   "metadata": {
    "ExecuteTime": {
     "end_time": "2025-04-15T17:44:21.382205Z",
     "start_time": "2025-04-15T17:44:21.365096Z"
    },
    "hidden": true
   },
   "outputs": [
    {
     "name": "stdout",
     "output_type": "stream",
     "text": [
      "Fail to reject the null hypothesis\n",
      "hence, Mean is 35\n"
     ]
    }
   ],
   "source": [
    "if t_statistic < 0 and p_value < 0.05:\n",
    "    print(\"Reject the null hypothesis\")\n",
    "    print(\"hence, Mean is different from 35\")\n",
    "else:\n",
    "    print(\"Fail to reject the null hypothesis\")\n",
    "    print(\"hence, Mean is 35\")"
   ]
  },
  {
   "cell_type": "markdown",
   "id": "4ea4f9a3",
   "metadata": {
    "hidden": true
   },
   "source": [
    "#### or using `scipy.stats.ttest_1samp()`"
   ]
  },
  {
   "cell_type": "code",
   "execution_count": 109,
   "id": "ad3ca734",
   "metadata": {
    "ExecuteTime": {
     "end_time": "2025-04-15T17:48:34.631070Z",
     "start_time": "2025-04-15T17:48:34.612551Z"
    },
    "hidden": true
   },
   "outputs": [
    {
     "data": {
      "text/plain": [
       "(-0.39477101697586, 0.7022041268375009)"
      ]
     },
     "execution_count": 109,
     "metadata": {},
     "output_type": "execute_result"
    }
   ],
   "source": [
    "t_statistic, p_value = stats.ttest_1samp(sample, popmean=mu)\n",
    "t_statistic, p_value"
   ]
  },
  {
   "cell_type": "code",
   "execution_count": 106,
   "id": "6d85444f",
   "metadata": {
    "ExecuteTime": {
     "end_time": "2025-04-15T17:44:35.989647Z",
     "start_time": "2025-04-15T17:44:35.981636Z"
    },
    "hidden": true
   },
   "outputs": [
    {
     "name": "stdout",
     "output_type": "stream",
     "text": [
      "t-statistic: -0.39477101697586\n",
      "p-value (one-tailed): 0.7022041268375009\n"
     ]
    }
   ],
   "source": [
    "print(\"t-statistic:\", t_statistic)\n",
    "print(\"p-value (one-tailed):\", p_value)"
   ]
  },
  {
   "cell_type": "code",
   "execution_count": 107,
   "id": "22ee502c",
   "metadata": {
    "ExecuteTime": {
     "end_time": "2025-04-15T17:44:36.308821Z",
     "start_time": "2025-04-15T17:44:36.296415Z"
    },
    "hidden": true
   },
   "outputs": [
    {
     "name": "stdout",
     "output_type": "stream",
     "text": [
      "Fail to reject the null hypothesis\n",
      "hence, Mean is 35\n"
     ]
    }
   ],
   "source": [
    "if t_statistic < 0 and p_value < 0.05:\n",
    "    print(\"Reject the null hypothesis\")\n",
    "    print(\"hence, Mean is different from 35\")\n",
    "else:\n",
    "    print(\"Fail to reject the null hypothesis\")\n",
    "    print(\"hence, Mean is 35\")"
   ]
  },
  {
   "cell_type": "markdown",
   "id": "6e39d8cb",
   "metadata": {
    "hidden": true
   },
   "source": [
    " ### Final Conclusion:\n",
    "We do not have sufficient evidence to say the actual mean age is different from 35.\n",
    "\n",
    "Hence, we fail to reject the null hypothesis."
   ]
  },
  {
   "cell_type": "markdown",
   "id": "182e4fc4",
   "metadata": {},
   "source": [
    "## 🔹 3. One-tailed Independent Two-Sample t-test (Equal Variance) (Right tailed)\n",
    "\n",
    "**Q3.** Compare average daily sales (in USD) between Store A and Store B. Assume equal variances.  \n",
    "```python\n",
    "store_a = [450, 500, 520, 470, 480, 490, 510, 495, 500, 485]\n",
    "store_b = [420, 430, 410, 425, 435, 440, 415, 420, 425, 430]\n",
    "```\n",
    "Test if Store A has significantly higher average sales than Store B."
   ]
  },
  {
   "cell_type": "code",
   "execution_count": 2,
   "id": "0e811c6c",
   "metadata": {
    "ExecuteTime": {
     "end_time": "2025-04-15T20:40:07.940244Z",
     "start_time": "2025-04-15T20:40:07.929228Z"
    }
   },
   "outputs": [],
   "source": [
    "store_a = [450, 500, 520, 470, 480, 490, 510, 495, 500, 485]\n",
    "store_b = [420, 430, 410, 425, 435, 440, 415, 420, 425, 430]"
   ]
  },
  {
   "cell_type": "markdown",
   "id": "919c7e5b",
   "metadata": {},
   "source": [
    "#### shapiro wilk test for normality"
   ]
  },
  {
   "cell_type": "code",
   "execution_count": 3,
   "id": "29d54650",
   "metadata": {
    "ExecuteTime": {
     "end_time": "2025-04-15T20:40:08.932616Z",
     "start_time": "2025-04-15T20:40:08.924120Z"
    }
   },
   "outputs": [
    {
     "name": "stdout",
     "output_type": "stream",
     "text": [
      "Shapiro-Wilk p-value for Store A 0.9311825633049011 and for Store B 0.9819299578666687\n",
      "\n",
      "Normal → Use t-test\n"
     ]
    }
   ],
   "source": [
    "from scipy.stats import shapiro\n",
    "\n",
    "_, p1 = shapiro(store_a)\n",
    "_, p2 = shapiro(store_b)\n",
    "\n",
    "print(f\"Shapiro-Wilk p-value for Store A {p1} and for Store B {p2}\\n\")\n",
    "\n",
    "if p1 > 0.05 and p2 > 0.05:\n",
    "    print(\"Normal → Use t-test\")\n",
    "    # t_stat, p_val = ttest_ind(group1, group2, equal_var=True)\n",
    "else:\n",
    "    print(\"Not normal → Use Mann-Whitney U test\")\n",
    "    # u_stat, p_val = mannwhitneyu(group1, group2)"
   ]
  },
  {
   "cell_type": "markdown",
   "id": "b317554a",
   "metadata": {},
   "source": [
    "#### levene test to check variance"
   ]
  },
  {
   "cell_type": "markdown",
   "id": "07c962b3",
   "metadata": {},
   "source": [
    "It tests the null hypothesis that the variances of the populations are equal."
   ]
  },
  {
   "cell_type": "code",
   "execution_count": 5,
   "id": "0a0a04b1",
   "metadata": {
    "ExecuteTime": {
     "end_time": "2025-04-15T20:40:22.872742Z",
     "start_time": "2025-04-15T20:40:22.854678Z"
    }
   },
   "outputs": [
    {
     "name": "stdout",
     "output_type": "stream",
     "text": [
      "Levene statistic: 3.3440\n",
      "p-value: 0.0841\n"
     ]
    }
   ],
   "source": [
    "from scipy.stats import levene\n",
    "\n",
    "# Levene’s Test (center='mean' is default, but 'median' or 'trimmed' are robust options)\n",
    "statistic, p_value_levene = levene(store_a, store_b)\n",
    "\n",
    "print(f\"Levene statistic: {statistic:.4f}\")\n",
    "print(f\"p-value: {p_value_levene:.4f}\")\n"
   ]
  },
  {
   "cell_type": "code",
   "execution_count": 6,
   "id": "e9c6c531",
   "metadata": {
    "ExecuteTime": {
     "end_time": "2025-04-15T20:40:23.987684Z",
     "start_time": "2025-04-15T20:40:23.976097Z"
    }
   },
   "outputs": [
    {
     "name": "stdout",
     "output_type": "stream",
     "text": [
      "Equal variances (assume homogeneity)\n",
      "Use pooled t-test (equal_var=True in ttest_ind)\n"
     ]
    }
   ],
   "source": [
    "if p_value_levene > 0.05:\n",
    "    print(\"Equal variances (assume homogeneity)\")\n",
    "    print(\"Use pooled t-test (equal_var=True in ttest_ind)\")\n",
    "else:\n",
    "    print(\"Variances are different\")\n",
    "    print(\"Use Welch’s t-test (equal_var=False in ttest_ind)\")"
   ]
  },
  {
   "cell_type": "markdown",
   "id": "adee2326",
   "metadata": {},
   "source": [
    "### Hypotheses\n",
    "We are checking if Store A has higher average daily sales than Store B.\n",
    "\n",
    "- **Null Hypothesis (H₀):** μ₁ ≤ μ₂ (Store A is less than or equal to Store B)\n",
    "\n",
    "\n",
    "- **Alternative Hypothesis (H₁) :** μ₁ > μ₂ (Store A > Store B)"
   ]
  },
  {
   "cell_type": "markdown",
   "id": "bf95bfc7",
   "metadata": {},
   "source": [
    "#### This is a one-tailed, right-sided test."
   ]
  },
  {
   "cell_type": "markdown",
   "id": "a0ba9ac7",
   "metadata": {},
   "source": [
    "### Equal Variances Assumed (Pooled t-Test)"
   ]
  },
  {
   "cell_type": "markdown",
   "id": "43ccb639",
   "metadata": {},
   "source": [
    "#### 📌 Formula:\n",
    "\n",
    "Let:  \n",
    "\n",
    "- $\\bar{X}_1, \\bar{X}_2$ = sample means  \n",
    "- $s_1^2, s_2^2$ = sample variances  \n",
    "- $n_1, n_2$ = sample sizes  \n",
    "\n",
    "#### a. **Pooled Standard Deviation:**\n",
    "\n",
    "$$\n",
    "s_p^2 = \\frac{(n_1 - 1)s_1^2 + (n_2 - 1)s_2^2}{n_1 + n_2 - 2}\n",
    "$$\n",
    "\n",
    "#### b. **t-Statistic:**\n",
    "\n",
    "\n",
    "$$\n",
    "t = \\frac{\\bar{X}_1 - \\bar{X}_2}{\\sqrt{s_p^2}* \\sqrt{\\cdot {\\frac{1}{n_1} + \\frac{1}{n_2}}}}\n",
    "$$\n",
    "\n",
    "\n",
    "#### c. **Degrees of Freedom:**\n",
    "\n",
    "$$\n",
    "df = n_1 + n_2 - 2\n",
    "$$"
   ]
  },
  {
   "cell_type": "code",
   "execution_count": 7,
   "id": "304d2d51",
   "metadata": {
    "ExecuteTime": {
     "end_time": "2025-04-15T20:41:21.914054Z",
     "start_time": "2025-04-15T20:41:21.898759Z"
    }
   },
   "outputs": [],
   "source": [
    "x1_bar = np.mean(store_a)\n",
    "x2_bar = np.mean(store_b)\n",
    "\n",
    "var_a = np.var(store_a,ddof=1)\n",
    "var_b = np.var(store_b,ddof=1)\n",
    "\n",
    "n1 = len(store_a)\n",
    "n2 = len(store_b)\n",
    "\n",
    "df = n1 + n2 - 2"
   ]
  },
  {
   "cell_type": "code",
   "execution_count": 8,
   "id": "f6f4360f",
   "metadata": {
    "ExecuteTime": {
     "end_time": "2025-04-15T20:41:22.471682Z",
     "start_time": "2025-04-15T20:41:22.455506Z"
    }
   },
   "outputs": [
    {
     "data": {
      "text/plain": [
       "244.44444444444446"
      ]
     },
     "execution_count": 8,
     "metadata": {},
     "output_type": "execute_result"
    }
   ],
   "source": [
    "# Pooled variance\n",
    "pooled_var = ((n1 - 1) * var_a + (n2 - 1) * var_b) / (n1 + n2 - 2)\n",
    "pooled_var"
   ]
  },
  {
   "cell_type": "code",
   "execution_count": 9,
   "id": "55f80f7f",
   "metadata": {
    "ExecuteTime": {
     "end_time": "2025-04-15T20:41:22.858898Z",
     "start_time": "2025-04-15T20:41:22.849387Z"
    }
   },
   "outputs": [
    {
     "data": {
      "text/plain": [
       "6.992058987801011"
      ]
     },
     "execution_count": 9,
     "metadata": {},
     "output_type": "execute_result"
    }
   ],
   "source": [
    "se = np.sqrt(pooled_var * (1/n1 + 1/n2))\n",
    "se"
   ]
  },
  {
   "cell_type": "code",
   "execution_count": 10,
   "id": "0e795963",
   "metadata": {
    "ExecuteTime": {
     "end_time": "2025-04-15T20:41:23.342471Z",
     "start_time": "2025-04-15T20:41:23.326705Z"
    }
   },
   "outputs": [
    {
     "data": {
      "text/plain": [
       "9.296260245144524"
      ]
     },
     "execution_count": 10,
     "metadata": {},
     "output_type": "execute_result"
    }
   ],
   "source": [
    "t_statistics = (x1_bar - x2_bar)/se\n",
    "t_statistics"
   ]
  },
  {
   "cell_type": "code",
   "execution_count": 11,
   "id": "7c7725e8",
   "metadata": {
    "ExecuteTime": {
     "end_time": "2025-04-15T20:41:23.729411Z",
     "start_time": "2025-04-15T20:41:23.715898Z"
    }
   },
   "outputs": [
    {
     "data": {
      "text/plain": [
       "1.3560940037571356e-08"
      ]
     },
     "execution_count": 11,
     "metadata": {},
     "output_type": "execute_result"
    }
   ],
   "source": [
    "# One-tailed p-value (right-tailed)\n",
    "p_value = 1 - stats.t.cdf(t_statistics,df=df)\n",
    "p_value"
   ]
  },
  {
   "cell_type": "code",
   "execution_count": 12,
   "id": "56bee093",
   "metadata": {
    "ExecuteTime": {
     "end_time": "2025-04-15T20:41:24.165819Z",
     "start_time": "2025-04-15T20:41:24.157289Z"
    }
   },
   "outputs": [],
   "source": [
    "alpha = 0.05"
   ]
  },
  {
   "cell_type": "code",
   "execution_count": 13,
   "id": "719306cf",
   "metadata": {
    "ExecuteTime": {
     "end_time": "2025-04-15T20:41:24.601100Z",
     "start_time": "2025-04-15T20:41:24.583009Z"
    }
   },
   "outputs": [
    {
     "name": "stdout",
     "output_type": "stream",
     "text": [
      "Mean A = 490.00, Mean B = 425.00\n",
      "t-statistic = 9.2963\n",
      "p-value (one-tailed) = 0.0000\n"
     ]
    }
   ],
   "source": [
    "# Output\n",
    "print(f\"Mean A = {x1_bar:.2f}, Mean B = {x2_bar:.2f}\")\n",
    "print(f\"t-statistic = {t_statistics:.4f}\")\n",
    "print(f\"p-value (one-tailed) = {p_value:.4f}\")"
   ]
  },
  {
   "cell_type": "code",
   "execution_count": 14,
   "id": "d3be8cce",
   "metadata": {
    "ExecuteTime": {
     "end_time": "2025-04-15T20:41:25.445899Z",
     "start_time": "2025-04-15T20:41:25.434389Z"
    }
   },
   "outputs": [
    {
     "name": "stdout",
     "output_type": "stream",
     "text": [
      "Reject null → Store A has significantly higher mean sales than Store B.\n"
     ]
    }
   ],
   "source": [
    "if p_value < 0.05: \n",
    "    print(\"Reject null → Store A has significantly higher mean sales than Store B.\")\n",
    "else:\n",
    "    print(\"Fail to reject null → Not enough evidence to say Store A is higher or equal.\")"
   ]
  },
  {
   "cell_type": "markdown",
   "id": "1da24caf",
   "metadata": {},
   "source": [
    "#### `use stats.ttest_ind( group1, group2, equal_var=True )`"
   ]
  },
  {
   "cell_type": "code",
   "execution_count": 15,
   "id": "a8c448d1",
   "metadata": {
    "ExecuteTime": {
     "end_time": "2025-04-15T20:41:26.475081Z",
     "start_time": "2025-04-15T20:41:26.469573Z"
    }
   },
   "outputs": [
    {
     "data": {
      "text/plain": [
       "(9.296260245144524, 2.7121880083357685e-08)"
      ]
     },
     "execution_count": 15,
     "metadata": {},
     "output_type": "execute_result"
    }
   ],
   "source": [
    "# Since this is a one-tailed test (Store A > Store B), divide the p-value by 2\n",
    "# But also check if t_stat is positive (mean A > mean B)\n",
    "\n",
    "\n",
    "t_stat, p_value_two_tailed = stats.ttest_ind(store_a, store_b, equal_var=True)\n",
    "t_stat, p_value_two_tailed"
   ]
  },
  {
   "cell_type": "code",
   "execution_count": 16,
   "id": "dd0af077",
   "metadata": {
    "ExecuteTime": {
     "end_time": "2025-04-15T20:41:27.182025Z",
     "start_time": "2025-04-15T20:41:27.164405Z"
    }
   },
   "outputs": [],
   "source": [
    "if t_stat > 0:\n",
    "    p_value_one_tailed = p_value_two_tailed / 2\n",
    "else:\n",
    "    p_value_one_tailed = 1 - (p_value_two_tailed / 2)"
   ]
  },
  {
   "cell_type": "markdown",
   "id": "b4d53120",
   "metadata": {},
   "source": [
    "### Whent to use `p_value_one_tailed = 1 - (p_value_two_tailed / 2) or  1(p_value_two_tailed / 2)`:"
   ]
  },
  {
   "cell_type": "markdown",
   "id": "04b0aa79",
   "metadata": {},
   "source": [
    "`t_stat > 0:\n",
    "    p_value_one_tailed = p_value_two_tailed / 2\n",
    "else:\n",
    "    p_value_one_tailed = 1 - (p_value_two_tailed / 2)`"
   ]
  },
  {
   "cell_type": "markdown",
   "id": "93634b96",
   "metadata": {},
   "source": [
    "### NOTE : When applying ttest_ind or any other lib we cant assign by ourselves that we want left tailed or right tailed option. \n",
    "\n",
    "if we want __right tailed (\">\")__ we use : p_value_two_tailed / 2\n",
    "\n",
    "\n",
    "or __left tailed (\"<\")__ we want  : 1 - (p_value_two_tailed / 2"
   ]
  },
  {
   "cell_type": "markdown",
   "id": "7f9f7f1f",
   "metadata": {},
   "source": [
    "Great question! This logic:\n",
    "\n",
    "```python\n",
    "if t_stat > 0:\n",
    "    p_value_one_tailed = p_value_two_tailed / 2\n",
    "else:\n",
    "    p_value_one_tailed = 1 - (p_value_two_tailed / 2)\n",
    "```\n",
    "\n",
    "…is used **only in the context of converting a two-tailed p-value to a one-tailed p-value** in a **one-sample or two-sample t-test**.\n",
    "\n",
    "---\n",
    "\n",
    "### 🔍 **Why Do We Do This?**\n",
    "\n",
    "When you use:\n",
    "\n",
    "```python\n",
    "t_stat, p_value = ttest_ind(a, b)\n",
    "```\n",
    "\n",
    "You're getting a **two-tailed p-value** by default. But in many situations, especially in **one-tailed hypothesis testing**, we’re only interested in **one direction of the difference** (greater than or less than).\n",
    "\n",
    "---\n",
    "\n",
    "### ⚖️ **What’s the Logic?**\n",
    "\n",
    "For a **right-tailed test** (e.g., H₁: μ₁ > μ₂):\n",
    "\n",
    "- If the **t-statistic is positive** (i.e., sample mean A > sample mean B), then the one-tailed p-value is:\n",
    "  \n",
    "  $$\n",
    "  \\text{p-value (one-tailed)} = \\frac{\\text{two-tailed p-value}}{2}\n",
    "  $$\n",
    "\n",
    "- If the **t-statistic is negative**, this means the sample mean A is actually **less than** B, so your sample contradicts the alternative hypothesis. In this case, we want the **area in the right tail** corresponding to this t-stat (which is:\n",
    "\n",
    "  $$\n",
    "  \\text{p-value (one-tailed)} = 1 - \\left( \\frac{\\text{two-tailed p-value}}{2} \\right)\n",
    "  $$\n",
    "\n",
    "---\n",
    "\n",
    "### 🧪 **When Should You Do This?**\n",
    "\n",
    "You should apply this logic **only when you're performing a one-tailed test** but using a function like `ttest_ind()` or `ttest_1samp()` that gives a **two-tailed p-value by default**.\n",
    "\n",
    "---\n",
    "\n",
    "### ✅ Summary\n",
    "\n",
    "| Situation                          | What to do                                     |\n",
    "|-----------------------------------|------------------------------------------------|\n",
    "| You want a **two-tailed test**    | Use p-value as is (`ttest_*()` returns this)   |\n",
    "| You want a **one-tailed test**    | Use logic based on the sign of the t-statistic |\n",
    "\n"
   ]
  },
  {
   "cell_type": "code",
   "execution_count": 17,
   "id": "363f97d4",
   "metadata": {
    "ExecuteTime": {
     "end_time": "2025-04-15T20:41:29.310322Z",
     "start_time": "2025-04-15T20:41:29.291468Z"
    }
   },
   "outputs": [
    {
     "name": "stdout",
     "output_type": "stream",
     "text": [
      "Reject null → Store A has significantly higher mean sales than Store B.\n"
     ]
    }
   ],
   "source": [
    "if p_value_one_tailed < 0.05: \n",
    "    print(\"Reject null → Store A has significantly higher mean sales than Store B.\")\n",
    "else:\n",
    "    print(\"Fail to reject null → Not enough evidence to say Store A is higher or equal.\")"
   ]
  },
  {
   "cell_type": "markdown",
   "id": "c039b43e",
   "metadata": {},
   "source": [
    "👉 Since p < 0.05, we reject the null hypothesis.\n",
    "\n",
    "\n",
    "🔔 Conclusion: Store A does have significantly higher daily sales than Store B."
   ]
  },
  {
   "cell_type": "markdown",
   "id": "4e4a34b0",
   "metadata": {},
   "source": [
    "## 🔹 4. Two-tailed Independent Two-Sample t-test (Unequal Variance)\n",
    "\n",
    "**Q4.** A bank's fraud detection model is tested on two datasets with different sample sizes and variances.  \n",
    "```python\n",
    "model_a_scores = [0.85, 0.83, 0.82, 0.86, 0.88, 0.87]  \n",
    "model_b_scores = [0.50, 0.95, 0.45, 1.00, 0.55, 0.60, 1.10, 0.40] \n",
    "```\n",
    "Check if there's a significant performance difference."
   ]
  },
  {
   "cell_type": "code",
   "execution_count": 3,
   "id": "31834247",
   "metadata": {
    "ExecuteTime": {
     "end_time": "2025-04-15T21:07:11.753628Z",
     "start_time": "2025-04-15T21:07:11.734718Z"
    }
   },
   "outputs": [],
   "source": [
    "model_a_scores = [0.85, 0.83, 0.82, 0.86, 0.88, 0.87]  # small spread\n",
    "model_b_scores = [0.50, 0.95, 0.45, 1.00, 0.55, 0.60, 1.10, 0.40]  # much wider spread"
   ]
  },
  {
   "cell_type": "markdown",
   "id": "8d4f0a99",
   "metadata": {},
   "source": [
    "#### shapiro wilk test for normality :"
   ]
  },
  {
   "cell_type": "code",
   "execution_count": 4,
   "id": "f6fb8a71",
   "metadata": {
    "ExecuteTime": {
     "end_time": "2025-04-15T21:07:14.446063Z",
     "start_time": "2025-04-15T21:07:14.437060Z"
    }
   },
   "outputs": [
    {
     "name": "stdout",
     "output_type": "stream",
     "text": [
      "Normal → Use t-test\n"
     ]
    }
   ],
   "source": [
    "_, p1 = shapiro(model_a_scores)\n",
    "_, p2 = shapiro(model_b_scores)\n",
    "\n",
    "if p1> 0.05 and p2>0.05:\n",
    "    print(\"Normal → Use t-test\")\n",
    "else :\n",
    "    print(\"Not normal → Use Mann-Whitney U test\")"
   ]
  },
  {
   "cell_type": "markdown",
   "id": "52f180b9",
   "metadata": {},
   "source": [
    "#### levene test for variance test\n"
   ]
  },
  {
   "cell_type": "code",
   "execution_count": 5,
   "id": "1686c42e",
   "metadata": {
    "ExecuteTime": {
     "end_time": "2025-04-15T21:07:18.864201Z",
     "start_time": "2025-04-15T21:07:18.858201Z"
    }
   },
   "outputs": [
    {
     "name": "stdout",
     "output_type": "stream",
     "text": [
      "p-value :  0.028768809675003112 \n",
      "\n",
      "\n",
      "Variances are different\n",
      "Use Welch’s t-test (equal_var=False in ttest_ind)\n"
     ]
    }
   ],
   "source": [
    "statistics, levene_p_value = levene(model_a_scores, model_b_scores)\n",
    "\n",
    "print(\"p-value : \",levene_p_value,\"\\n\\n\")\n",
    "\n",
    "if levene_p_value > 0.05:\n",
    "    print(\"Equal variances (assume homogeneity)\")\n",
    "    print(\"Use pooled t-test (equal_var=True in ttest_ind)\")\n",
    "else:\n",
    "    print(\"Variances are different\")\n",
    "    print(\"Use Welch’s t-test (equal_var=False in ttest_ind)\")"
   ]
  },
  {
   "cell_type": "markdown",
   "id": "91d97f50",
   "metadata": {},
   "source": [
    "### ✅ **Define Hypotheses for Welch’s t-test (Two-sample, Unequal Variance)**\n",
    "\n",
    "We're testing whether the means of `model_a_scores` and `model_b_scores` are different.\n",
    "\n",
    "#### **Null Hypothesis (H₀):**  \n",
    "There is **no difference** in the mean scores of Model A and Model B.  \n",
    "$$\n",
    "H_0: \\mu_A = \\mu_B\n",
    "$$\n",
    "\n",
    "#### **Alternate Hypothesis (H₁):**  \n",
    "There **is a difference** in the mean scores.  \n",
    "$$\n",
    "H_1: \\mu_A \\ne \\mu_B\n",
    "$$\n",
    "(Two-tailed test)"
   ]
  },
  {
   "cell_type": "markdown",
   "id": "817924df",
   "metadata": {},
   "source": [
    "### **Unequal Variances Assumed (Welch’s t-Test)**  "
   ]
  },
  {
   "cell_type": "markdown",
   "id": "b94be5e8",
   "metadata": {},
   "source": [
    "\n",
    "#### 📌 Formula:\n",
    "$$\n",
    "t = \\frac{\\bar{x}_A - \\bar{x}_B}{\\sqrt{\\frac{s_A^2}{n_A} + \\frac{s_B^2}{n_B}}}\n",
    "$$\n",
    "\n",
    "Where:  \n",
    "- $\\bar{x}_A, \\bar{x}_B$: Sample means  \n",
    "- $s_A^2, s_B^2$: Sample variances  \n",
    "- $n_A, n_B$: Sample sizes  \n",
    "\n",
    "#### Degrees of Freedom (Welch–Satterthwaite equation):\n",
    "\n",
    "$$\n",
    "df = \\frac{\\left(\\frac{s_A^2}{n_A} + \\frac{s_B^2}{n_B}\\right)^2}{\\frac{(s_A^2 / n_A)^2}{n_A - 1} + \\frac{(s_B^2 / n_B)^2}{n_B - 1}}\n",
    "$$"
   ]
  },
  {
   "cell_type": "code",
   "execution_count": 6,
   "id": "0885999c",
   "metadata": {
    "ExecuteTime": {
     "end_time": "2025-04-15T21:07:24.679974Z",
     "start_time": "2025-04-15T21:07:24.663966Z"
    }
   },
   "outputs": [],
   "source": [
    "mean1 = np.mean(model_a_scores)\n",
    "mean2 = np.mean(model_b_scores)\n",
    "\n",
    "# Sample variances (ddof=1 for sample variance)\n",
    "var_1 = np.var(model_a_scores, ddof=1)\n",
    "var_2 = np.var(model_b_scores,ddof=1)\n",
    "\n",
    "n1 = len(model_a_scores)\n",
    "n2 = len(model_b_scores)"
   ]
  },
  {
   "cell_type": "code",
   "execution_count": 7,
   "id": "53cf3f19",
   "metadata": {
    "ExecuteTime": {
     "end_time": "2025-04-15T21:07:25.412081Z",
     "start_time": "2025-04-15T21:07:25.402065Z"
    }
   },
   "outputs": [
    {
     "data": {
      "text/plain": [
       "0.09839755267798012"
      ]
     },
     "execution_count": 7,
     "metadata": {},
     "output_type": "execute_result"
    }
   ],
   "source": [
    "# Standard error\n",
    "se = np.sqrt(var_1/n1 + var_2/n2)\n",
    "se"
   ]
  },
  {
   "cell_type": "code",
   "execution_count": 8,
   "id": "c73c86bc",
   "metadata": {
    "ExecuteTime": {
     "end_time": "2025-04-15T21:07:26.768344Z",
     "start_time": "2025-04-15T21:07:26.752743Z"
    }
   },
   "outputs": [
    {
     "data": {
      "text/plain": [
       "1.6048840887686637"
      ]
     },
     "execution_count": 8,
     "metadata": {},
     "output_type": "execute_result"
    }
   ],
   "source": [
    "# Welch's t-statistic\n",
    "t_statistics = (mean1 - mean2)/se\n",
    "t_statistics"
   ]
  },
  {
   "cell_type": "code",
   "execution_count": 9,
   "id": "68ba5af3",
   "metadata": {
    "ExecuteTime": {
     "end_time": "2025-04-15T21:07:27.737811Z",
     "start_time": "2025-04-15T21:07:27.724587Z"
    }
   },
   "outputs": [
    {
     "name": "stdout",
     "output_type": "stream",
     "text": [
      "degree of freedom :  7.130280681995536\n"
     ]
    }
   ],
   "source": [
    "# Degrees of freedom (Welch-Satterthwaite)\n",
    "df_num = (var_1/n1 + var_2/n2)**2\n",
    "df_denom = ((var_1/n1)**2)/(n1 - 1) + ((var_2/n2)**2)/(n2 - 1)\n",
    "df = df_num / df_denom\n",
    "print(\"degree of freedom : \",df)"
   ]
  },
  {
   "cell_type": "code",
   "execution_count": 10,
   "id": "8f085faf",
   "metadata": {
    "ExecuteTime": {
     "end_time": "2025-04-15T21:07:29.066118Z",
     "start_time": "2025-04-15T21:07:29.052593Z"
    }
   },
   "outputs": [
    {
     "data": {
      "text/plain": [
       "0.15177240492051758"
      ]
     },
     "execution_count": 10,
     "metadata": {},
     "output_type": "execute_result"
    }
   ],
   "source": [
    "p_value = 2 * (1 - stats.t.cdf(abs(t_statistics),df=df))\n",
    "p_value"
   ]
  },
  {
   "cell_type": "code",
   "execution_count": 11,
   "id": "c4894f14",
   "metadata": {
    "ExecuteTime": {
     "end_time": "2025-04-15T21:07:31.207621Z",
     "start_time": "2025-04-15T21:07:31.194660Z"
    }
   },
   "outputs": [],
   "source": [
    "alpha = 0.05"
   ]
  },
  {
   "cell_type": "code",
   "execution_count": 12,
   "id": "e7aa9f58",
   "metadata": {
    "ExecuteTime": {
     "end_time": "2025-04-15T21:07:31.644179Z",
     "start_time": "2025-04-15T21:07:31.627663Z"
    }
   },
   "outputs": [
    {
     "name": "stdout",
     "output_type": "stream",
     "text": [
      "Mean A = 0.85, Mean B = 0.69\n",
      "t-statistic = 1.6049\n",
      "p-value (two-tailed) = 0.1518\n"
     ]
    }
   ],
   "source": [
    "# Output\n",
    "print(f\"Mean A = {mean1:.2f}, Mean B = {mean2:.2f}\")\n",
    "print(f\"t-statistic = {t_statistics:.4f}\")\n",
    "print(f\"p-value (two-tailed) = {p_value:.4f}\")"
   ]
  },
  {
   "cell_type": "markdown",
   "id": "5b2c4fb9",
   "metadata": {},
   "source": [
    "#### `use stats.ttest_ind( group1, group2, equal_var = False )`"
   ]
  },
  {
   "cell_type": "code",
   "execution_count": 18,
   "id": "d51a0b9e",
   "metadata": {
    "ExecuteTime": {
     "end_time": "2025-04-15T21:23:06.034971Z",
     "start_time": "2025-04-15T21:23:06.016868Z"
    }
   },
   "outputs": [
    {
     "name": "stdout",
     "output_type": "stream",
     "text": [
      "t-statistic: 1.6049\n",
      "p-value (two-tailed): 0.1518\n"
     ]
    }
   ],
   "source": [
    "t_statistics, p_value = stats.ttest_ind(model_a_scores, model_b_scores, equal_var=False)\n",
    "print(f\"t-statistic: {t_statistics:.4f}\")\n",
    "print(f\"p-value (two-tailed): {p_value:.4f}\")"
   ]
  },
  {
   "cell_type": "code",
   "execution_count": 13,
   "id": "3a61face",
   "metadata": {
    "ExecuteTime": {
     "end_time": "2025-04-15T21:07:32.766206Z",
     "start_time": "2025-04-15T21:07:32.751036Z"
    }
   },
   "outputs": [
    {
     "name": "stdout",
     "output_type": "stream",
     "text": [
      "Fail to reject null → Not enough evidence to say that there is difference in the mean scores of Model A and Model B.\n"
     ]
    }
   ],
   "source": [
    "if p_value < 0.05: \n",
    "    print(\"Reject null → There is a difference in the mean scores..\")\n",
    "else:\n",
    "    print(\"Fail to reject null → Not enough evidence to say that there is difference in the mean scores of Model A and Model B.\")"
   ]
  },
  {
   "cell_type": "markdown",
   "id": "9a0d28ea",
   "metadata": {},
   "source": [
    "### ✅ **Conclusion:**\n",
    "\n",
    "- Since **p-value = 0.1518 > 0.05**, we **fail to reject the null hypothesis**.\n",
    "\n",
    "\n",
    "- There is **no significant difference** between the average scores of Model A and Model B at 5% significance level."
   ]
  },
  {
   "cell_type": "markdown",
   "id": "1353c933",
   "metadata": {},
   "source": [
    "## 🔹 5. One-tailed Paired t-test (Dependent) (right-tailed)\n",
    "\n",
    "**Q5.** You run an A/B test where users rated the same product before and after UI changes.  \n",
    "```python\n",
    "before_ui = [3.5, 3.8, 4.0, 3.7, 3.6, 3.9]\n",
    "after_ui = [4.1, 4.0, 4.2, 3.9, 4.0, 4.3]\n",
    "```\n",
    "Is the UI update significantly improving user ratings?"
   ]
  },
  {
   "cell_type": "code",
   "execution_count": 14,
   "id": "d4466162",
   "metadata": {
    "ExecuteTime": {
     "end_time": "2025-04-15T21:15:37.136675Z",
     "start_time": "2025-04-15T21:15:37.120882Z"
    }
   },
   "outputs": [],
   "source": [
    "before_ui = [3.5, 3.8, 4.0, 3.7, 3.6, 3.9]\n",
    "after_ui = [4.1, 4.0, 4.2, 3.9, 4.0, 4.3]"
   ]
  },
  {
   "cell_type": "markdown",
   "id": "2b007cc3",
   "metadata": {},
   "source": [
    "#### shapiro-wilk test for normality: "
   ]
  },
  {
   "cell_type": "code",
   "execution_count": 15,
   "id": "cc6bba9f",
   "metadata": {
    "ExecuteTime": {
     "end_time": "2025-04-15T21:16:55.724423Z",
     "start_time": "2025-04-15T21:16:55.715897Z"
    }
   },
   "outputs": [
    {
     "name": "stdout",
     "output_type": "stream",
     "text": [
      "Normal → Use t-test\n"
     ]
    }
   ],
   "source": [
    "_, p1 = shapiro(before_ui)\n",
    "_, p2 = shapiro(after_ui)\n",
    "\n",
    "if p1>0.05 and p2> 0.05:\n",
    "    print(\"Normal → Use t-test\")\n",
    "else :\n",
    "    print(\"Not normal → Use Mann-Whitney U test\")"
   ]
  },
  {
   "cell_type": "markdown",
   "id": "03037472",
   "metadata": {},
   "source": [
    "### ✅ Step 1: Hypotheses\n",
    "\n",
    "- **H₀ (Null):** The UI update has **no effect** on ratings (mean difference = 0)\n",
    "\n",
    "\n",
    "- **H₁ (Alternate):** The UI update has **improved** ratings (mean difference > 0)"
   ]
  },
  {
   "cell_type": "markdown",
   "id": "60de3357",
   "metadata": {},
   "source": [
    "#### 👉 This is a one-tailed paired t-test."
   ]
  },
  {
   "cell_type": "markdown",
   "id": "433ff7e2",
   "metadata": {},
   "source": [
    "### Paired t-test (dependent two-sample t-test):\n",
    "Formula:\n",
    "   $$\n",
    "   t = \\frac{{\\bar{X}_d - \\mu_d}}{\\frac{s_d}  {\\sqrt{n}}}\n",
    "   $$\n",
    "\n",
    "   - t is the t-statistic.\n",
    "   - $\\bar{X}_d$ is the mean of the differences between paired observations.\n",
    "   - $\\mu_d$ is the population mean of the differences (usually 0 under the null hypothesis).\n",
    "   - $s_d$ is the standard deviation of the differences.\n",
    "   - n is the number of paired observations."
   ]
  },
  {
   "cell_type": "code",
   "execution_count": 27,
   "id": "85123f12",
   "metadata": {
    "ExecuteTime": {
     "end_time": "2025-04-15T21:34:22.754364Z",
     "start_time": "2025-04-15T21:34:22.737686Z"
    }
   },
   "outputs": [],
   "source": [
    "pop_mean = 0"
   ]
  },
  {
   "cell_type": "code",
   "execution_count": 35,
   "id": "dd51d824",
   "metadata": {
    "ExecuteTime": {
     "end_time": "2025-04-15T21:38:34.239156Z",
     "start_time": "2025-04-15T21:38:34.222397Z"
    }
   },
   "outputs": [
    {
     "data": {
      "text/plain": [
       "array([0.6, 0.2, 0.2, 0.2, 0.4, 0.4])"
      ]
     },
     "execution_count": 35,
     "metadata": {},
     "output_type": "execute_result"
    }
   ],
   "source": [
    "differences = np.subtract(after_ui,before_ui)\n",
    "differences"
   ]
  },
  {
   "cell_type": "code",
   "execution_count": 36,
   "id": "5eca6900",
   "metadata": {
    "ExecuteTime": {
     "end_time": "2025-04-15T21:38:35.252590Z",
     "start_time": "2025-04-15T21:38:35.238395Z"
    }
   },
   "outputs": [
    {
     "data": {
      "text/plain": [
       "6"
      ]
     },
     "execution_count": 36,
     "metadata": {},
     "output_type": "execute_result"
    }
   ],
   "source": [
    "n = len(differences)\n",
    "n"
   ]
  },
  {
   "cell_type": "code",
   "execution_count": 37,
   "id": "95769a62",
   "metadata": {
    "ExecuteTime": {
     "end_time": "2025-04-15T21:38:35.857999Z",
     "start_time": "2025-04-15T21:38:35.843980Z"
    }
   },
   "outputs": [
    {
     "data": {
      "text/plain": [
       "0.33333333333333326"
      ]
     },
     "execution_count": 37,
     "metadata": {},
     "output_type": "execute_result"
    }
   ],
   "source": [
    "mean_difference_paired = np.mean(differences)\n",
    "mean_difference_paired"
   ]
  },
  {
   "cell_type": "code",
   "execution_count": 38,
   "id": "b3ce8b1e",
   "metadata": {
    "ExecuteTime": {
     "end_time": "2025-04-15T21:38:36.523733Z",
     "start_time": "2025-04-15T21:38:36.504623Z"
    }
   },
   "outputs": [
    {
     "data": {
      "text/plain": [
       "0.16329931618554508"
      ]
     },
     "execution_count": 38,
     "metadata": {},
     "output_type": "execute_result"
    }
   ],
   "source": [
    "# standard deviation of differences of samples\n",
    "std = np.std(differences,ddof=1)\n",
    "std"
   ]
  },
  {
   "cell_type": "code",
   "execution_count": 39,
   "id": "fe70508a",
   "metadata": {
    "ExecuteTime": {
     "end_time": "2025-04-15T21:38:37.129950Z",
     "start_time": "2025-04-15T21:38:37.112689Z"
    }
   },
   "outputs": [
    {
     "data": {
      "text/plain": [
       "0.06666666666666662"
      ]
     },
     "execution_count": 39,
     "metadata": {},
     "output_type": "execute_result"
    }
   ],
   "source": [
    "# standard error : \n",
    "se = std/np.sqrt(n)\n",
    "se"
   ]
  },
  {
   "cell_type": "code",
   "execution_count": 40,
   "id": "c4a956b5",
   "metadata": {
    "ExecuteTime": {
     "end_time": "2025-04-15T21:38:37.765364Z",
     "start_time": "2025-04-15T21:38:37.754825Z"
    }
   },
   "outputs": [
    {
     "data": {
      "text/plain": [
       "5.000000000000002"
      ]
     },
     "execution_count": 40,
     "metadata": {},
     "output_type": "execute_result"
    }
   ],
   "source": [
    "t_statistics = (mean_difference_paired - pop_mean)/se\n",
    "t_statistics"
   ]
  },
  {
   "cell_type": "code",
   "execution_count": 41,
   "id": "d9c4868b",
   "metadata": {
    "ExecuteTime": {
     "end_time": "2025-04-15T21:38:38.802577Z",
     "start_time": "2025-04-15T21:38:38.788416Z"
    },
    "scrolled": true
   },
   "outputs": [
    {
     "data": {
      "text/plain": [
       "5"
      ]
     },
     "execution_count": 41,
     "metadata": {},
     "output_type": "execute_result"
    }
   ],
   "source": [
    "df = (n-1)\n",
    "df"
   ]
  },
  {
   "cell_type": "code",
   "execution_count": 42,
   "id": "f76c5955",
   "metadata": {
    "ExecuteTime": {
     "end_time": "2025-04-15T21:38:39.746990Z",
     "start_time": "2025-04-15T21:38:39.729128Z"
    }
   },
   "outputs": [],
   "source": [
    "alpha = 0.05"
   ]
  },
  {
   "cell_type": "code",
   "execution_count": 43,
   "id": "bd58bad2",
   "metadata": {
    "ExecuteTime": {
     "end_time": "2025-04-15T21:38:41.005849Z",
     "start_time": "2025-04-15T21:38:40.992131Z"
    }
   },
   "outputs": [
    {
     "data": {
      "text/plain": [
       "0.0020523579900266764"
      ]
     },
     "execution_count": 43,
     "metadata": {},
     "output_type": "execute_result"
    }
   ],
   "source": [
    "#p_value\n",
    "p_value = 1 - stats.t.cdf(t_statistics,df=df)\n",
    "p_value"
   ]
  },
  {
   "cell_type": "code",
   "execution_count": 44,
   "id": "a1c143fb",
   "metadata": {
    "ExecuteTime": {
     "end_time": "2025-04-15T21:38:41.851570Z",
     "start_time": "2025-04-15T21:38:41.834053Z"
    }
   },
   "outputs": [
    {
     "name": "stdout",
     "output_type": "stream",
     "text": [
      "Mean Difference = 0.3333\n",
      "t-statistic = 5.0000\n",
      "p-value (one-tailed) = 0.0021\n"
     ]
    }
   ],
   "source": [
    "print(f\"Mean Difference = {mean_difference_paired:.4f}\")\n",
    "print(f\"t-statistic = {t_statistics:.4f}\")\n",
    "print(f\"p-value (one-tailed) = {p_value:.4f}\")"
   ]
  },
  {
   "cell_type": "markdown",
   "id": "82f265d0",
   "metadata": {},
   "source": [
    "#### now using `ttest_rel()` :"
   ]
  },
  {
   "cell_type": "code",
   "execution_count": 46,
   "id": "91a3a29c",
   "metadata": {
    "ExecuteTime": {
     "end_time": "2025-04-15T21:41:29.972330Z",
     "start_time": "2025-04-15T21:41:29.954646Z"
    }
   },
   "outputs": [],
   "source": [
    "# Perform paired t-test\n",
    "t_stat, p_value = stats.ttest_rel(after_ui, before_ui)"
   ]
  },
  {
   "cell_type": "code",
   "execution_count": 47,
   "id": "273246e6",
   "metadata": {
    "ExecuteTime": {
     "end_time": "2025-04-15T21:42:20.488046Z",
     "start_time": "2025-04-15T21:42:20.479534Z"
    }
   },
   "outputs": [
    {
     "name": "stdout",
     "output_type": "stream",
     "text": [
      "t-statistic = 5.0000\n",
      "p-value (two-tailed) = 0.0041\n",
      "p-value (one-tailed) = 0.0021\n"
     ]
    }
   ],
   "source": [
    "# For one-tailed p-value\n",
    "p_value_one_tailed = p_value / 2 if t_stat > 0 else 1 - (p_value / 2)\n",
    "\n",
    "# Output results\n",
    "print(f\"t-statistic = {t_stat:.4f}\")\n",
    "print(f\"p-value (two-tailed) = {p_value:.4f}\")\n",
    "print(f\"p-value (one-tailed) = {p_value_one_tailed:.4f}\")"
   ]
  },
  {
   "cell_type": "code",
   "execution_count": 45,
   "id": "aface1e2",
   "metadata": {
    "ExecuteTime": {
     "end_time": "2025-04-15T21:40:02.585295Z",
     "start_time": "2025-04-15T21:40:02.580784Z"
    }
   },
   "outputs": [
    {
     "name": "stdout",
     "output_type": "stream",
     "text": [
      "Reject null → There is significant evidence that the UI update improved user ratings.\n"
     ]
    }
   ],
   "source": [
    "if p_value < 0.05: \n",
    "    print(\"Reject null → There is significant evidence that the UI update improved user ratings.\")\n",
    "else:\n",
    "    print(\"Fail to reject null → Not enough evidence to say that  the UI update improved user ratings\")"
   ]
  },
  {
   "cell_type": "markdown",
   "id": "68e3ef1d",
   "metadata": {},
   "source": [
    "## 🔹 6. One-tailed Independent Two-Sample t-test (Equal Variance) (right tailed)\n",
    "\n",
    "**Q6.** Is the average monthly spending of premium users higher than regular users?  \n",
    "```python\n",
    "premium = [200, 210, 190, 220, 215, 205, 195]\n",
    "regular = [180, 170, 185, 175, 172, 178, 169]\n",
    "```"
   ]
  },
  {
   "cell_type": "code",
   "execution_count": 50,
   "id": "eba12dfd",
   "metadata": {
    "ExecuteTime": {
     "end_time": "2025-04-15T21:49:39.170131Z",
     "start_time": "2025-04-15T21:49:39.155610Z"
    }
   },
   "outputs": [],
   "source": [
    "premium = [200, 210, 190, 220, 215, 205, 195]\n",
    "regular = [180, 170, 185, 175, 172, 178, 169]"
   ]
  },
  {
   "cell_type": "markdown",
   "id": "14e7a9ea",
   "metadata": {},
   "source": [
    "#### shapiro wilk test for normality"
   ]
  },
  {
   "cell_type": "code",
   "execution_count": 51,
   "id": "a2db1722",
   "metadata": {
    "ExecuteTime": {
     "end_time": "2025-04-15T21:49:39.617399Z",
     "start_time": "2025-04-15T21:49:39.602542Z"
    }
   },
   "outputs": [
    {
     "name": "stdout",
     "output_type": "stream",
     "text": [
      "Shapiro-Wilk p-value for premium 0.9492886662483215 and for regular 0.7342914938926697\n",
      "\n",
      "Normal → Use t-test\n"
     ]
    }
   ],
   "source": [
    "from scipy.stats import shapiro\n",
    "\n",
    "_, p1 = shapiro(premium)\n",
    "_, p2 = shapiro(regular)\n",
    "\n",
    "print(f\"Shapiro-Wilk p-value for premium {p1} and for regular {p2}\\n\")\n",
    "\n",
    "if p1 > 0.05 and p2 > 0.05:\n",
    "    print(\"Normal → Use t-test\")\n",
    "    # t_stat, p_val = ttest_ind(group1, group2, equal_var=True)\n",
    "else:\n",
    "    print(\"Not normal → Use Mann-Whitney U test\")\n",
    "    # u_stat, p_val = mannwhitneyu(group1, group2)"
   ]
  },
  {
   "cell_type": "markdown",
   "id": "de8c9d06",
   "metadata": {},
   "source": [
    "#### levene test to check variance"
   ]
  },
  {
   "cell_type": "markdown",
   "id": "88a19c4a",
   "metadata": {},
   "source": [
    "It tests the null hypothesis that the variances of the populations are equal."
   ]
  },
  {
   "cell_type": "code",
   "execution_count": 52,
   "id": "ce5117b7",
   "metadata": {
    "ExecuteTime": {
     "end_time": "2025-04-15T21:50:06.427882Z",
     "start_time": "2025-04-15T21:50:06.412835Z"
    }
   },
   "outputs": [
    {
     "name": "stdout",
     "output_type": "stream",
     "text": [
      "Levene statistic: 2.7606\n",
      "p-value: 0.1225\n"
     ]
    }
   ],
   "source": [
    "from scipy.stats import levene\n",
    "\n",
    "# Levene’s Test (center='mean' is default, but 'median' or 'trimmed' are robust options)\n",
    "statistic, p_value_levene = levene(premium, regular)\n",
    "\n",
    "print(f\"Levene statistic: {statistic:.4f}\")\n",
    "print(f\"p-value: {p_value_levene:.4f}\")\n"
   ]
  },
  {
   "cell_type": "code",
   "execution_count": 6,
   "id": "9e49dbbc",
   "metadata": {
    "ExecuteTime": {
     "end_time": "2025-04-15T20:40:23.987684Z",
     "start_time": "2025-04-15T20:40:23.976097Z"
    }
   },
   "outputs": [
    {
     "name": "stdout",
     "output_type": "stream",
     "text": [
      "Equal variances (assume homogeneity)\n",
      "Use pooled t-test (equal_var=True in ttest_ind)\n"
     ]
    }
   ],
   "source": [
    "if p_value_levene > 0.05:\n",
    "    print(\"Equal variances (assume homogeneity)\")\n",
    "    print(\"Use pooled t-test (equal_var=True in ttest_ind)\")\n",
    "else:\n",
    "    print(\"Variances are different\")\n",
    "    print(\"Use Welch’s t-test (equal_var=False in ttest_ind)\")"
   ]
  },
  {
   "cell_type": "markdown",
   "id": "35005868",
   "metadata": {},
   "source": [
    "### Hypotheses\n",
    "\n",
    "\n",
    "- **Null Hypothesis (H₀):** The average monthly spending of premium users is **less than or equal to** that of regular users.  \n",
    "  $H_0: \\mu_{\\text{premium}} \\leq \\mu_{\\text{regular}}$\n",
    "  \n",
    "\n",
    "- **Alternate Hypothesis (H₁):** The average monthly spending of premium users is **greater than** that of regular users.  \n",
    "  $H_1: \\mu_{\\text{premium}} > \\mu_{\\text{regular}}$"
   ]
  },
  {
   "cell_type": "markdown",
   "id": "1ed7367f",
   "metadata": {},
   "source": [
    "#### This is a one-tailed, right-sided test."
   ]
  },
  {
   "cell_type": "markdown",
   "id": "bb0031d8",
   "metadata": {},
   "source": [
    "### Equal Variances Assumed (Pooled t-Test)"
   ]
  },
  {
   "cell_type": "markdown",
   "id": "bec98075",
   "metadata": {},
   "source": [
    "#### 📌 Formula:\n",
    "\n",
    "Let:  \n",
    "\n",
    "- $\\bar{X}_1, \\bar{X}_2$ = sample means  \n",
    "- $s_1^2, s_2^2$ = sample variances  \n",
    "- $n_1, n_2$ = sample sizes  \n",
    "\n",
    "#### a. **Pooled Standard Deviation:**\n",
    "\n",
    "$$\n",
    "s_p^2 = \\frac{(n_1 - 1)s_1^2 + (n_2 - 1)s_2^2}{n_1 + n_2 - 2}\n",
    "$$\n",
    "\n",
    "#### b. **t-Statistic:**\n",
    "\n",
    "\n",
    "$$\n",
    "t = \\frac{\\bar{X}_1 - \\bar{X}_2}{\\sqrt{s_p^2}* \\sqrt{\\cdot {\\frac{1}{n_1} + \\frac{1}{n_2}}}}\n",
    "$$\n",
    "\n",
    "\n",
    "#### c. **Degrees of Freedom:**\n",
    "\n",
    "$$\n",
    "df = n_1 + n_2 - 2\n",
    "$$"
   ]
  },
  {
   "cell_type": "code",
   "execution_count": 53,
   "id": "c1580973",
   "metadata": {
    "ExecuteTime": {
     "end_time": "2025-04-15T21:53:02.863951Z",
     "start_time": "2025-04-15T21:53:02.857943Z"
    }
   },
   "outputs": [],
   "source": [
    "x1_bar = np.mean(premium)\n",
    "x2_bar = np.mean(regular)\n",
    "\n",
    "var_a = np.var(premium,ddof=1)\n",
    "var_b = np.var(regular,ddof=1)\n",
    "\n",
    "n1 = len(premium)\n",
    "n2 = len(regular)\n",
    "\n",
    "df = n1 + n2 - 2"
   ]
  },
  {
   "cell_type": "code",
   "execution_count": 54,
   "id": "628ed0ad",
   "metadata": {
    "ExecuteTime": {
     "end_time": "2025-04-15T21:53:08.523985Z",
     "start_time": "2025-04-15T21:53:08.519982Z"
    }
   },
   "outputs": [
    {
     "data": {
      "text/plain": [
       "75.14285714285714"
      ]
     },
     "execution_count": 54,
     "metadata": {},
     "output_type": "execute_result"
    }
   ],
   "source": [
    "# Pooled variance\n",
    "pooled_var = ((n1 - 1) * var_a + (n2 - 1) * var_b) / (n1 + n2 - 2)\n",
    "pooled_var"
   ]
  },
  {
   "cell_type": "code",
   "execution_count": 56,
   "id": "439804ba",
   "metadata": {
    "ExecuteTime": {
     "end_time": "2025-04-15T21:54:32.173085Z",
     "start_time": "2025-04-15T21:54:32.159567Z"
    }
   },
   "outputs": [
    {
     "data": {
      "text/plain": [
       "4.633507068636244"
      ]
     },
     "execution_count": 56,
     "metadata": {},
     "output_type": "execute_result"
    }
   ],
   "source": [
    "se = np.sqrt(pooled_var * (1/n1 + 1/n2))\n",
    "se"
   ]
  },
  {
   "cell_type": "code",
   "execution_count": 57,
   "id": "1ceaccce",
   "metadata": {
    "ExecuteTime": {
     "end_time": "2025-04-15T21:54:33.617433Z",
     "start_time": "2025-04-15T21:54:33.611434Z"
    }
   },
   "outputs": [
    {
     "data": {
      "text/plain": [
       "6.351252084575534"
      ]
     },
     "execution_count": 57,
     "metadata": {},
     "output_type": "execute_result"
    }
   ],
   "source": [
    "t_statistics = (x1_bar - x2_bar)/se\n",
    "t_statistics"
   ]
  },
  {
   "cell_type": "code",
   "execution_count": 58,
   "id": "8f35365e",
   "metadata": {
    "ExecuteTime": {
     "end_time": "2025-04-15T21:54:53.372094Z",
     "start_time": "2025-04-15T21:54:53.361576Z"
    }
   },
   "outputs": [
    {
     "data": {
      "text/plain": [
       "1.8287574437003684e-05"
      ]
     },
     "execution_count": 58,
     "metadata": {},
     "output_type": "execute_result"
    }
   ],
   "source": [
    "# One-tailed p-value (right-tailed)\n",
    "p_value = 1 - stats.t.cdf(t_statistics,df=df)\n",
    "p_value"
   ]
  },
  {
   "cell_type": "code",
   "execution_count": 59,
   "id": "43c67876",
   "metadata": {
    "ExecuteTime": {
     "end_time": "2025-04-15T21:54:55.286759Z",
     "start_time": "2025-04-15T21:54:55.272261Z"
    }
   },
   "outputs": [],
   "source": [
    "alpha = 0.05"
   ]
  },
  {
   "cell_type": "code",
   "execution_count": 60,
   "id": "f3cfb765",
   "metadata": {
    "ExecuteTime": {
     "end_time": "2025-04-15T21:55:00.629909Z",
     "start_time": "2025-04-15T21:55:00.615004Z"
    }
   },
   "outputs": [
    {
     "name": "stdout",
     "output_type": "stream",
     "text": [
      "Mean A = 205.00, Mean B = 175.57\n",
      "t-statistic = 6.3513\n",
      "p-value (one-tailed) = 0.0000\n"
     ]
    }
   ],
   "source": [
    "# Output\n",
    "print(f\"Mean A = {x1_bar:.2f}, Mean B = {x2_bar:.2f}\")\n",
    "print(f\"t-statistic = {t_statistics:.4f}\")\n",
    "print(f\"p-value (one-tailed) = {p_value:.4f}\")"
   ]
  },
  {
   "cell_type": "markdown",
   "id": "e4072925",
   "metadata": {},
   "source": [
    "#### `use stats.ttest_ind( group1, group2, equal_var=True )`"
   ]
  },
  {
   "cell_type": "code",
   "execution_count": 62,
   "id": "30125642",
   "metadata": {
    "ExecuteTime": {
     "end_time": "2025-04-15T21:56:59.492807Z",
     "start_time": "2025-04-15T21:56:59.473741Z"
    }
   },
   "outputs": [
    {
     "data": {
      "text/plain": [
       "(6.351252084575534, 3.657514887401965e-05)"
      ]
     },
     "execution_count": 62,
     "metadata": {},
     "output_type": "execute_result"
    }
   ],
   "source": [
    "# Since this is a one-tailed test (Store A > Store B), divide the p-value by 2\n",
    "# But also check if t_stat is positive (mean A > mean B)\n",
    "\n",
    "\n",
    "t_stat, p_value_two_tailed = stats.ttest_ind(premium, regular, equal_var=True)\n",
    "t_stat, p_value_two_tailed"
   ]
  },
  {
   "cell_type": "code",
   "execution_count": 63,
   "id": "ed2eb793",
   "metadata": {
    "ExecuteTime": {
     "end_time": "2025-04-15T21:57:12.444454Z",
     "start_time": "2025-04-15T21:57:12.440462Z"
    }
   },
   "outputs": [],
   "source": [
    "if t_stat > 0:\n",
    "    p_value_one_tailed = p_value_two_tailed / 2\n",
    "else:\n",
    "    p_value_one_tailed = 1 - (p_value_two_tailed / 2)"
   ]
  },
  {
   "cell_type": "code",
   "execution_count": 65,
   "id": "dc6c19f5",
   "metadata": {
    "ExecuteTime": {
     "end_time": "2025-04-15T22:00:54.057818Z",
     "start_time": "2025-04-15T22:00:54.041334Z"
    }
   },
   "outputs": [
    {
     "name": "stdout",
     "output_type": "stream",
     "text": [
      "t-statistic = 6.3513\n",
      "p-value (two-tailed) = 0.0000\n",
      "p-value (one-tailed) = 0.0000\n"
     ]
    }
   ],
   "source": [
    "# Output results\n",
    "print(f\"t-statistic = {t_stat:.4f}\")\n",
    "print(f\"p-value (two-tailed) = {p_value_two_tailed:.4f}\")\n",
    "print(f\"p-value (one-tailed) = {p_value_one_tailed:.4f}\")"
   ]
  },
  {
   "cell_type": "code",
   "execution_count": 61,
   "id": "9b4c7b61",
   "metadata": {
    "ExecuteTime": {
     "end_time": "2025-04-15T21:55:48.642175Z",
     "start_time": "2025-04-15T21:55:48.629618Z"
    }
   },
   "outputs": [
    {
     "name": "stdout",
     "output_type": "stream",
     "text": [
      "Reject null → The average monthly spending of premium users is greater than that of regular users\n"
     ]
    }
   ],
   "source": [
    "if p_value < 0.05: \n",
    "    print(\"Reject null → The average monthly spending of premium users is greater than that of regular users\")\n",
    "else:\n",
    "    print(\"Fail to reject null → Not enough evidence to the average monthly spending of premium users is greater than that of regular users\")"
   ]
  },
  {
   "cell_type": "markdown",
   "id": "10460e42",
   "metadata": {},
   "source": [
    "## 🔹 7. Two-tailed Independent Two-Sample t-test (Unequal Variance)\n",
    "\n",
    "**Q7.** Compare conversion rates from two campaigns.  \n",
    "```python\n",
    "campaign_1 = [0.12, 0.15, 0.14, 0.11, 0.16, 0.13]  \n",
    "campaign_2 = [0.05, 0.18, 0.03, 0.21, 0.09]        \n",
    "```\n",
    "Test if they differ significantly."
   ]
  },
  {
   "cell_type": "code",
   "execution_count": 69,
   "id": "7908dd6f",
   "metadata": {
    "ExecuteTime": {
     "end_time": "2025-04-15T22:04:45.293263Z",
     "start_time": "2025-04-15T22:04:45.282784Z"
    }
   },
   "outputs": [],
   "source": [
    "campaign_1 = [0.12, 0.15, 0.14, 0.11, 0.16, 0.13]  \n",
    "campaign_2 = [0.05, 0.18, 0.03, 0.21, 0.09] "
   ]
  },
  {
   "cell_type": "markdown",
   "id": "7fd34914",
   "metadata": {},
   "source": [
    "#### shapiro wilk test for normality :"
   ]
  },
  {
   "cell_type": "code",
   "execution_count": 70,
   "id": "3ae837a5",
   "metadata": {
    "ExecuteTime": {
     "end_time": "2025-04-15T22:04:46.393855Z",
     "start_time": "2025-04-15T22:04:46.377240Z"
    }
   },
   "outputs": [
    {
     "name": "stdout",
     "output_type": "stream",
     "text": [
      "Normal → Use t-test\n"
     ]
    }
   ],
   "source": [
    "_, p1 = shapiro(campaign_1)\n",
    "_, p2 = shapiro(campaign_2)\n",
    "\n",
    "if p1> 0.05 and p2>0.05:\n",
    "    print(\"Normal → Use t-test\")\n",
    "else :\n",
    "    print(\"Not normal → Use Mann-Whitney U test\")"
   ]
  },
  {
   "cell_type": "markdown",
   "id": "f6ba94b7",
   "metadata": {},
   "source": [
    "#### levene test for variance test\n"
   ]
  },
  {
   "cell_type": "code",
   "execution_count": 71,
   "id": "fde7a773",
   "metadata": {
    "ExecuteTime": {
     "end_time": "2025-04-15T22:04:48.636771Z",
     "start_time": "2025-04-15T22:04:48.620853Z"
    }
   },
   "outputs": [
    {
     "name": "stdout",
     "output_type": "stream",
     "text": [
      "p-value :  0.035510578828875296 \n",
      "\n",
      "\n",
      "Variances are different\n",
      "Use Welch’s t-test (equal_var=False in ttest_ind)\n"
     ]
    }
   ],
   "source": [
    "_, levene_p_value = levene(campaign_1, campaign_2)\n",
    "\n",
    "print(\"p-value : \",levene_p_value,\"\\n\\n\")\n",
    "\n",
    "if levene_p_value > 0.05:\n",
    "    print(\"Equal variances (assume homogeneity)\")\n",
    "    print(\"Use pooled t-test (equal_var=True in ttest_ind)\")\n",
    "else:\n",
    "    print(\"Variances are different\")\n",
    "    print(\"Use Welch’s t-test (equal_var=False in ttest_ind)\")"
   ]
  },
  {
   "cell_type": "markdown",
   "id": "02ac30bd",
   "metadata": {},
   "source": [
    "### ✅ **Define Hypotheses for Welch’s t-test (Two-sample, Unequal Variance)**\n",
    "\n",
    "We're testing whether the means of `campaign_1` and `campaign_2` are different.\n",
    "\n",
    "#### **Null Hypothesis (H₀):**  \n",
    "There is **no difference** in the conversion rates of `campaign_1` and `campaign_2`.  \n",
    "$$\n",
    "H_0: \\mu_A = \\mu_B\n",
    "$$\n",
    "\n",
    "#### **Alternate Hypothesis (H₁):**  \n",
    "There **is a difference** in the mean of conversion rates.  \n",
    "$$\n",
    "H_1: \\mu_A \\ne \\mu_B\n",
    "$$\n",
    "(Two-tailed test)"
   ]
  },
  {
   "cell_type": "markdown",
   "id": "e97d814f",
   "metadata": {},
   "source": [
    "### **Unequal Variances Assumed (Welch’s t-Test)**  "
   ]
  },
  {
   "cell_type": "markdown",
   "id": "d15e2096",
   "metadata": {},
   "source": [
    "\n",
    "#### 📌 Formula:\n",
    "$$\n",
    "t = \\frac{\\bar{x}_A - \\bar{x}_B}{\\sqrt{\\frac{s_A^2}{n_A} + \\frac{s_B^2}{n_B}}}\n",
    "$$\n",
    "\n",
    "Where:  \n",
    "- $\\bar{x}_A, \\bar{x}_B$: Sample means  \n",
    "- $s_A^2, s_B^2$: Sample variances  \n",
    "- $n_A, n_B$: Sample sizes  \n",
    "\n",
    "#### Degrees of Freedom (Welch–Satterthwaite equation):\n",
    "\n",
    "$$\n",
    "df = \\frac{\\left(\\frac{s_A^2}{n_A} + \\frac{s_B^2}{n_B}\\right)^2}{\\frac{(s_A^2 / n_A)^2}{n_A - 1} + \\frac{(s_B^2 / n_B)^2}{n_B - 1}}\n",
    "$$"
   ]
  },
  {
   "cell_type": "code",
   "execution_count": 73,
   "id": "16f45c3e",
   "metadata": {
    "ExecuteTime": {
     "end_time": "2025-04-15T22:06:57.832861Z",
     "start_time": "2025-04-15T22:06:57.826864Z"
    }
   },
   "outputs": [],
   "source": [
    "mean1 = np.mean(campaign_1)\n",
    "mean2 = np.mean(campaign_2)\n",
    "\n",
    "# Sample variances (ddof=1 for sample variance)\n",
    "var_1 = np.var(campaign_1, ddof=1)\n",
    "var_2 = np.var(campaign_2,ddof=1)\n",
    "\n",
    "n1 = len(campaign_1)\n",
    "n2 = len(campaign_2)"
   ]
  },
  {
   "cell_type": "code",
   "execution_count": 74,
   "id": "2713a7d3",
   "metadata": {
    "ExecuteTime": {
     "end_time": "2025-04-15T22:07:00.534182Z",
     "start_time": "2025-04-15T22:07:00.515854Z"
    }
   },
   "outputs": [
    {
     "data": {
      "text/plain": [
       "0.036363901514184824"
      ]
     },
     "execution_count": 74,
     "metadata": {},
     "output_type": "execute_result"
    }
   ],
   "source": [
    "# Standard error\n",
    "se = np.sqrt(var_1/n1 + var_2/n2)\n",
    "se"
   ]
  },
  {
   "cell_type": "code",
   "execution_count": 75,
   "id": "175c70c7",
   "metadata": {
    "ExecuteTime": {
     "end_time": "2025-04-15T22:07:06.635286Z",
     "start_time": "2025-04-15T22:07:06.629844Z"
    }
   },
   "outputs": [
    {
     "data": {
      "text/plain": [
       "0.6324953880712768"
      ]
     },
     "execution_count": 75,
     "metadata": {},
     "output_type": "execute_result"
    }
   ],
   "source": [
    "# Welch's t-statistic\n",
    "t_statistics = (mean1 - mean2)/se\n",
    "t_statistics"
   ]
  },
  {
   "cell_type": "code",
   "execution_count": 76,
   "id": "8b2b59da",
   "metadata": {
    "ExecuteTime": {
     "end_time": "2025-04-15T22:07:11.162066Z",
     "start_time": "2025-04-15T22:07:11.151839Z"
    }
   },
   "outputs": [
    {
     "name": "stdout",
     "output_type": "stream",
     "text": [
      "degree of freedom :  4.370271270759504\n"
     ]
    }
   ],
   "source": [
    "# Degrees of freedom (Welch-Satterthwaite)\n",
    "df_num = (var_1/n1 + var_2/n2)**2\n",
    "df_denom = ((var_1/n1)**2)/(n1 - 1) + ((var_2/n2)**2)/(n2 - 1)\n",
    "df = df_num / df_denom\n",
    "print(\"degree of freedom : \",df)"
   ]
  },
  {
   "cell_type": "code",
   "execution_count": 77,
   "id": "7672078b",
   "metadata": {
    "ExecuteTime": {
     "end_time": "2025-04-15T22:07:37.172204Z",
     "start_time": "2025-04-15T22:07:37.161672Z"
    }
   },
   "outputs": [
    {
     "data": {
      "text/plain": [
       "0.5586554094570322"
      ]
     },
     "execution_count": 77,
     "metadata": {},
     "output_type": "execute_result"
    }
   ],
   "source": [
    "p_value = 2 * (1 - stats.t.cdf(abs(t_statistics),df=df))\n",
    "p_value"
   ]
  },
  {
   "cell_type": "code",
   "execution_count": 78,
   "id": "9c969a4b",
   "metadata": {
    "ExecuteTime": {
     "end_time": "2025-04-15T22:07:40.975061Z",
     "start_time": "2025-04-15T22:07:40.967062Z"
    }
   },
   "outputs": [],
   "source": [
    "alpha = 0.05"
   ]
  },
  {
   "cell_type": "code",
   "execution_count": 79,
   "id": "1a9cf91e",
   "metadata": {
    "ExecuteTime": {
     "end_time": "2025-04-15T22:07:45.974175Z",
     "start_time": "2025-04-15T22:07:45.963662Z"
    }
   },
   "outputs": [
    {
     "name": "stdout",
     "output_type": "stream",
     "text": [
      "Mean A = 0.14, Mean B = 0.11\n",
      "t-statistic = 0.6325\n",
      "p-value (two-tailed) = 0.5587\n"
     ]
    }
   ],
   "source": [
    "# Output\n",
    "print(f\"Mean A = {mean1:.2f}, Mean B = {mean2:.2f}\")\n",
    "print(f\"t-statistic = {t_statistics:.4f}\")\n",
    "print(f\"p-value (two-tailed) = {p_value:.4f}\")"
   ]
  },
  {
   "cell_type": "markdown",
   "id": "e46fd228",
   "metadata": {},
   "source": [
    "#### `use stats.ttest_ind( group1, group2, equal_var = False )`"
   ]
  },
  {
   "cell_type": "code",
   "execution_count": 80,
   "id": "be126008",
   "metadata": {
    "ExecuteTime": {
     "end_time": "2025-04-15T22:08:04.585235Z",
     "start_time": "2025-04-15T22:08:04.567675Z"
    }
   },
   "outputs": [
    {
     "name": "stdout",
     "output_type": "stream",
     "text": [
      "t-statistic: 1.6049\n",
      "p-value (two-tailed): 0.1518\n"
     ]
    }
   ],
   "source": [
    "t_statistics, p_value = stats.ttest_ind(model_a_scores, model_b_scores, equal_var=False)\n",
    "print(f\"t-statistic: {t_statistics:.4f}\")\n",
    "print(f\"p-value (two-tailed): {p_value:.4f}\")"
   ]
  },
  {
   "cell_type": "code",
   "execution_count": 81,
   "id": "e52e6b86",
   "metadata": {
    "ExecuteTime": {
     "end_time": "2025-04-15T22:09:08.363416Z",
     "start_time": "2025-04-15T22:09:08.346222Z"
    }
   },
   "outputs": [
    {
     "name": "stdout",
     "output_type": "stream",
     "text": [
      "Fail to reject null → Not enough evidence to say that There is a difference in the mean of conversion rates.\n"
     ]
    }
   ],
   "source": [
    "if p_value < 0.05: \n",
    "    print(\"Reject null → There is a difference in the mean of conversion rates.\")\n",
    "else:\n",
    "    print(\"Fail to reject null → Not enough evidence to say that There is a difference in the mean of conversion rates.\")"
   ]
  },
  {
   "cell_type": "markdown",
   "id": "7291c3c0",
   "metadata": {
    "heading_collapsed": true
   },
   "source": [
    "## 🔹 8. One-tailed One Sample t-test (left-test)\n",
    "\n",
    "**Q8.** The customer support team claims to resolve issues in less than 3 hours. From your data:  \n",
    "`[2.9, 3.1, 2.8, 3.0, 3.2, 2.7, 2.6, 2.8, 2.9, 3.0]`.  \n",
    "Test the claim."
   ]
  },
  {
   "cell_type": "code",
   "execution_count": 2,
   "id": "19c9bd3d",
   "metadata": {
    "ExecuteTime": {
     "end_time": "2025-04-16T07:16:57.257741Z",
     "start_time": "2025-04-16T07:16:57.239216Z"
    },
    "hidden": true
   },
   "outputs": [
    {
     "data": {
      "text/plain": [
       "[2.9, 3.1, 2.8, 3.0, 3.2, 2.7, 2.6, 2.8, 2.9, 3.0]"
      ]
     },
     "execution_count": 2,
     "metadata": {},
     "output_type": "execute_result"
    }
   ],
   "source": [
    "sample = [2.9, 3.1, 2.8, 3.0, 3.2, 2.7, 2.6, 2.8, 2.9, 3.0]\n",
    "sample"
   ]
  },
  {
   "cell_type": "markdown",
   "id": "a6270f99",
   "metadata": {
    "hidden": true
   },
   "source": [
    "#### shapiro-wilk for normality :"
   ]
  },
  {
   "cell_type": "code",
   "execution_count": 4,
   "id": "fc2a7aaa",
   "metadata": {
    "ExecuteTime": {
     "end_time": "2025-04-16T07:20:39.922599Z",
     "start_time": "2025-04-16T07:20:39.901905Z"
    },
    "hidden": true
   },
   "outputs": [
    {
     "name": "stdout",
     "output_type": "stream",
     "text": [
      "You can proceed with t-test.\n"
     ]
    }
   ],
   "source": [
    "_, p1 = shapiro(sample)\n",
    "\n",
    "if p1 > 0.05:\n",
    "    print(\"You can proceed with t-test.\")\n",
    "else:\n",
    "    print(\"Consider using a non-parametric test instead.\")"
   ]
  },
  {
   "cell_type": "markdown",
   "id": "253ff5a4",
   "metadata": {
    "hidden": true
   },
   "source": [
    " **null and alternate hypothesis** for your **one-tailed one-sample t-test**:\n",
    "\n",
    "- **Null Hypothesis (H₀):** The mean resolution time is **greater than or equal to 3 hours**.  \n",
    "  $H_0: \\mu \\geq 3$\n",
    "\n",
    "\n",
    "- **Alternate Hypothesis (H₁):** The mean resolution time is **less than 3 hours** (supporting the team's claim).  \n",
    "  $H_1: \\mu < 3$\n",
    "\n"
   ]
  },
  {
   "cell_type": "markdown",
   "id": "1f652088",
   "metadata": {
    "hidden": true
   },
   "source": [
    "#### Formula:\n",
    "$$\n",
    "t = \\frac{{\\bar{X} - \\mu}}{{s / \\sqrt{n}}}\n",
    "$$\n",
    "\n",
    "- t is the t-statistic.\n",
    "- $\\bar{X}$ is the sample mean.\n",
    "- $\\mu$ is the population mean or hypothesized mean.\n",
    "- s is the sample standard deviation.\n",
    "- n is the sample size."
   ]
  },
  {
   "cell_type": "code",
   "execution_count": 14,
   "id": "0fa8f590",
   "metadata": {
    "ExecuteTime": {
     "end_time": "2025-04-16T07:28:23.404200Z",
     "start_time": "2025-04-16T07:28:23.388648Z"
    },
    "hidden": true
   },
   "outputs": [],
   "source": [
    "mu = 3\n",
    "x_mean = np.mean(sample)\n",
    "std = np.std(sample,ddof=1)\n",
    "n = len(sample)\n",
    "df = n-1"
   ]
  },
  {
   "cell_type": "code",
   "execution_count": 15,
   "id": "8f925d06",
   "metadata": {
    "ExecuteTime": {
     "end_time": "2025-04-16T07:28:23.667127Z",
     "start_time": "2025-04-16T07:28:23.659125Z"
    },
    "hidden": true
   },
   "outputs": [],
   "source": [
    "se = std/np.sqrt(n)"
   ]
  },
  {
   "cell_type": "code",
   "execution_count": 16,
   "id": "eb770c9c",
   "metadata": {
    "ExecuteTime": {
     "end_time": "2025-04-16T07:28:23.992219Z",
     "start_time": "2025-04-16T07:28:23.986707Z"
    },
    "hidden": true
   },
   "outputs": [
    {
     "data": {
      "text/plain": [
       "-1.7320508075688785"
      ]
     },
     "execution_count": 16,
     "metadata": {},
     "output_type": "execute_result"
    }
   ],
   "source": [
    "t_statistics = (x_mean - mu)/se\n",
    "t_statistics"
   ]
  },
  {
   "cell_type": "code",
   "execution_count": 17,
   "id": "5cb46a7b",
   "metadata": {
    "ExecuteTime": {
     "end_time": "2025-04-16T07:28:24.381981Z",
     "start_time": "2025-04-16T07:28:24.374454Z"
    },
    "hidden": true
   },
   "outputs": [
    {
     "data": {
      "text/plain": [
       "0.05865340150711898"
      ]
     },
     "execution_count": 17,
     "metadata": {},
     "output_type": "execute_result"
    }
   ],
   "source": [
    "# p-value -> left-test\n",
    "p_value = stats.t.cdf(t_statistics,df=df)\n",
    "p_value"
   ]
  },
  {
   "cell_type": "code",
   "execution_count": 18,
   "id": "ff1d8cc9",
   "metadata": {
    "ExecuteTime": {
     "end_time": "2025-04-16T07:28:24.709874Z",
     "start_time": "2025-04-16T07:28:24.692424Z"
    },
    "hidden": true
   },
   "outputs": [
    {
     "name": "stdout",
     "output_type": "stream",
     "text": [
      "t-statistic: -1.7320508075688785\n",
      "p-value (one-tailed): 0.05865340150711898\n"
     ]
    }
   ],
   "source": [
    "print(\"t-statistic:\", t_statistics)\n",
    "print(\"p-value (one-tailed):\", p_value)"
   ]
  },
  {
   "cell_type": "code",
   "execution_count": 24,
   "id": "4def1c00",
   "metadata": {
    "ExecuteTime": {
     "end_time": "2025-04-16T07:48:15.303435Z",
     "start_time": "2025-04-16T07:48:15.293354Z"
    },
    "hidden": true
   },
   "outputs": [
    {
     "name": "stdout",
     "output_type": "stream",
     "text": [
      "Fail to reject the null hypothesis\n",
      "\n",
      "There isn't enough statistical evidence to support the claim that the customer support team resolves issues in less than 3 hours.\n"
     ]
    }
   ],
   "source": [
    "if t_statistics < 0 and p_value < 0.05:\n",
    "    print(\"Reject the null hypothesis\\n\")\n",
    "    print(\"hence, The mean resolution time is less than 3 hours\")\n",
    "else:\n",
    "    print(\"Fail to reject the null hypothesis\\n\")\n",
    "    print(\"There isn't enough statistical evidence to support the claim that the customer support team resolves issues in less than 3 hours.\")"
   ]
  },
  {
   "cell_type": "markdown",
   "id": "0fea22c9",
   "metadata": {
    "hidden": true
   },
   "source": [
    "#### or using `scipy.stats.ttest_1samp()`"
   ]
  },
  {
   "cell_type": "code",
   "execution_count": 20,
   "id": "3b4f4490",
   "metadata": {
    "ExecuteTime": {
     "end_time": "2025-04-16T07:41:08.287852Z",
     "start_time": "2025-04-16T07:41:08.271817Z"
    },
    "hidden": true
   },
   "outputs": [
    {
     "data": {
      "text/plain": [
       "(-1.7320508075688785, 0.11730680301423796)"
      ]
     },
     "execution_count": 20,
     "metadata": {},
     "output_type": "execute_result"
    }
   ],
   "source": [
    "t_statistics, p_value = stats.ttest_1samp(sample,popmean=mu)\n",
    "t_statistics, p_value"
   ]
  },
  {
   "cell_type": "code",
   "execution_count": 21,
   "id": "c42c9110",
   "metadata": {
    "ExecuteTime": {
     "end_time": "2025-04-16T07:41:47.286482Z",
     "start_time": "2025-04-16T07:41:47.278971Z"
    },
    "hidden": true
   },
   "outputs": [
    {
     "name": "stdout",
     "output_type": "stream",
     "text": [
      "t-statistic: -1.7320508075688785\n",
      "p-value (one-tailed): 0.05865340150711898\n"
     ]
    }
   ],
   "source": [
    "print(\"t-statistic:\", t_statistics)\n",
    "print(\"p-value (one-tailed):\", p_value/2)"
   ]
  },
  {
   "cell_type": "code",
   "execution_count": 25,
   "id": "b31acf79",
   "metadata": {
    "ExecuteTime": {
     "end_time": "2025-04-16T07:48:29.770277Z",
     "start_time": "2025-04-16T07:48:29.761754Z"
    },
    "hidden": true
   },
   "outputs": [
    {
     "name": "stdout",
     "output_type": "stream",
     "text": [
      "Fail to reject the null hypothesis\n",
      "\n",
      "There isn't enough statistical evidence to support the claim that the customer support team resolves issues in less than 3 hours.\n"
     ]
    }
   ],
   "source": [
    "# For one-tailed (less than), divide p-value by 2\n",
    "if t_statistics < 0 and p_value/2 < 0.05:\n",
    "    print(\"Reject the null hypothesis\\n\")\n",
    "    print(\"hence, The mean resolution time is less than 3 hours\")\n",
    "else:\n",
    "    print(\"Fail to reject the null hypothesis\\n\")\n",
    "    print(\"There isn't enough statistical evidence to support the claim that the customer support team resolves issues in less than 3 hours.\")"
   ]
  },
  {
   "cell_type": "markdown",
   "id": "4f3a7157",
   "metadata": {},
   "source": [
    "## 🔹 9. One-tailed Paired t-test (Dependent) (right-tailed)\n",
    "\n",
    "**Q9.** You test a new algorithm on execution time for the same set of jobs.  \n",
    "```python\n",
    "old_algo = [30, 35, 40, 33, 38, 36]\n",
    "new_algo = [28, 33, 37, 31, 36, 34]\n",
    "```\n",
    "Did the new algorithm reduce execution time significantly?"
   ]
  },
  {
   "cell_type": "code",
   "execution_count": 26,
   "id": "a51af5b9",
   "metadata": {
    "ExecuteTime": {
     "end_time": "2025-04-16T07:48:49.203966Z",
     "start_time": "2025-04-16T07:48:49.199966Z"
    }
   },
   "outputs": [],
   "source": [
    "old_algo = [30, 35, 40, 33, 38, 36]\n",
    "new_algo = [28, 33, 37, 31, 36, 34]"
   ]
  },
  {
   "cell_type": "markdown",
   "id": "f7100f1e",
   "metadata": {},
   "source": [
    "#### shapiro wilk :"
   ]
  },
  {
   "cell_type": "code",
   "execution_count": 27,
   "id": "ae49a652",
   "metadata": {
    "ExecuteTime": {
     "end_time": "2025-04-16T07:50:02.077889Z",
     "start_time": "2025-04-16T07:50:02.068398Z"
    }
   },
   "outputs": [
    {
     "name": "stdout",
     "output_type": "stream",
     "text": [
      "Normal → Use t-test\n"
     ]
    }
   ],
   "source": [
    "_, p1 = shapiro(old_algo)\n",
    "_, p2 = shapiro(new_algo)\n",
    "\n",
    "if p1>0.05 and p2> 0.05:\n",
    "    print(\"Normal → Use t-test\")\n",
    "else :\n",
    "    print(\"Not normal → Use Mann-Whitney U test\")"
   ]
  },
  {
   "cell_type": "markdown",
   "id": "62b325ad",
   "metadata": {},
   "source": [
    "### ✅ Hypotheses (One-tailed Paired t-test)\n",
    "\n",
    "Let $\\mu_d$ be the **mean of the differences** between `old_algo - new_algo`.\n",
    "\n",
    "We want to test if the **new algorithm has significantly *lower* execution time**, so the difference should be **positive** (old > new):\n",
    "\n",
    "- **Null Hypothesis (H₀):** $\\mu_d \\leq 0$  \n",
    "  → New algorithm is not faster.\n",
    "\n",
    "\n",
    "\n",
    "- **Alternative Hypothesis (H₁):** $\\mu_d > 0$  \n",
    "  → New algorithm **is faster** (execution time reduced)."
   ]
  },
  {
   "cell_type": "markdown",
   "id": "ea4b90c3",
   "metadata": {},
   "source": [
    "### Paired t-test (dependent two-sample t-test):\n",
    "Formula:\n",
    "   $$\n",
    "   t = \\frac{{\\bar{X}_d - \\mu_d}}{\\frac{s_d}  {\\sqrt{n}}}\n",
    "   $$\n",
    "\n",
    "   - t is the t-statistic.\n",
    "   - $\\bar{X}_d$ is the mean of the differences between paired observations.\n",
    "   - $\\mu_d$ is the population mean of the differences (usually 0 under the null hypothesis).\n",
    "   - $s_d$ is the standard deviation of the differences.\n",
    "   - n is the number of paired observations."
   ]
  },
  {
   "cell_type": "code",
   "execution_count": 34,
   "id": "dbe70849",
   "metadata": {
    "ExecuteTime": {
     "end_time": "2025-04-16T08:26:45.851865Z",
     "start_time": "2025-04-16T08:26:45.839313Z"
    }
   },
   "outputs": [
    {
     "data": {
      "text/plain": [
       "array([2, 2, 3, 2, 2, 2])"
      ]
     },
     "execution_count": 34,
     "metadata": {},
     "output_type": "execute_result"
    }
   ],
   "source": [
    "differences = np.array(old_algo) - np.array(new_algo)\n",
    "differences"
   ]
  },
  {
   "cell_type": "code",
   "execution_count": 35,
   "id": "34bbb261",
   "metadata": {
    "ExecuteTime": {
     "end_time": "2025-04-16T08:26:47.512465Z",
     "start_time": "2025-04-16T08:26:47.496524Z"
    }
   },
   "outputs": [
    {
     "data": {
      "text/plain": [
       "2.1666666666666665"
      ]
     },
     "execution_count": 35,
     "metadata": {},
     "output_type": "execute_result"
    }
   ],
   "source": [
    "mean_paired_differences = np.mean(differences)\n",
    "mean_paired_differences"
   ]
  },
  {
   "cell_type": "code",
   "execution_count": 36,
   "id": "8db5be17",
   "metadata": {
    "ExecuteTime": {
     "end_time": "2025-04-16T08:26:48.070221Z",
     "start_time": "2025-04-16T08:26:48.053940Z"
    }
   },
   "outputs": [],
   "source": [
    "mu = 0\n",
    "sd = np.std(differences,ddof=1)\n",
    "n = len(differences)\n",
    "df = n-1"
   ]
  },
  {
   "cell_type": "code",
   "execution_count": 37,
   "id": "b4c9e1a9",
   "metadata": {
    "ExecuteTime": {
     "end_time": "2025-04-16T08:26:48.645835Z",
     "start_time": "2025-04-16T08:26:48.628309Z"
    }
   },
   "outputs": [
    {
     "data": {
      "text/plain": [
       "0.16666666666666666"
      ]
     },
     "execution_count": 37,
     "metadata": {},
     "output_type": "execute_result"
    }
   ],
   "source": [
    "se = sd/np.sqrt(n)\n",
    "se"
   ]
  },
  {
   "cell_type": "code",
   "execution_count": 38,
   "id": "1d50447d",
   "metadata": {
    "ExecuteTime": {
     "end_time": "2025-04-16T08:26:49.176158Z",
     "start_time": "2025-04-16T08:26:49.163029Z"
    }
   },
   "outputs": [
    {
     "data": {
      "text/plain": [
       "13.0"
      ]
     },
     "execution_count": 38,
     "metadata": {},
     "output_type": "execute_result"
    }
   ],
   "source": [
    "t_statistics = (mean_paired_differences - mu)/se\n",
    "t_statistics"
   ]
  },
  {
   "cell_type": "code",
   "execution_count": 54,
   "id": "fb2199ff",
   "metadata": {
    "ExecuteTime": {
     "end_time": "2025-04-16T08:44:04.587092Z",
     "start_time": "2025-04-16T08:44:04.560119Z"
    }
   },
   "outputs": [
    {
     "data": {
      "text/plain": [
       "2.4011014005065334e-05"
      ]
     },
     "execution_count": 54,
     "metadata": {},
     "output_type": "execute_result"
    }
   ],
   "source": [
    "# right tailed t-test\n",
    "p_value = 1- stats.t.cdf((t_statistics),df=df)\n",
    "p_value"
   ]
  },
  {
   "cell_type": "code",
   "execution_count": 55,
   "id": "ef1d3d4b",
   "metadata": {
    "ExecuteTime": {
     "end_time": "2025-04-16T08:44:06.277530Z",
     "start_time": "2025-04-16T08:44:06.258452Z"
    }
   },
   "outputs": [],
   "source": [
    "alpha = 0.05"
   ]
  },
  {
   "cell_type": "code",
   "execution_count": 56,
   "id": "f3b74aa5",
   "metadata": {
    "ExecuteTime": {
     "end_time": "2025-04-16T08:44:06.556821Z",
     "start_time": "2025-04-16T08:44:06.531077Z"
    }
   },
   "outputs": [
    {
     "name": "stdout",
     "output_type": "stream",
     "text": [
      "Mean of Differences: 2.1666666666666665\n",
      "Standard Deviation of Differences: 0.40824829046386296\n",
      "T-Statistic: 13.0\n",
      "Degrees of Freedom: 5\n",
      "P-Value: 2.4011014005065334e-05\n"
     ]
    }
   ],
   "source": [
    "print(f\"Mean of Differences: {mean_paired_differences}\")\n",
    "print(f\"Standard Deviation of Differences: {sd}\")\n",
    "print(f\"T-Statistic: {t_statistics}\")\n",
    "print(f\"Degrees of Freedom: {df}\")\n",
    "print(f\"P-Value: {p_value}\")"
   ]
  },
  {
   "cell_type": "code",
   "execution_count": 57,
   "id": "721bb479",
   "metadata": {
    "ExecuteTime": {
     "end_time": "2025-04-16T08:44:06.821743Z",
     "start_time": "2025-04-16T08:44:06.805382Z"
    }
   },
   "outputs": [
    {
     "name": "stdout",
     "output_type": "stream",
     "text": [
      "reject H₀ → significant difference → new algorithm likely faster.\n"
     ]
    }
   ],
   "source": [
    "if p_value < 0.05:\n",
    "    print(\"reject H₀ → significant difference → new algorithm likely faster.\")\n",
    "else:\n",
    "    print(\"If p-value >= 0.05, fail to reject H₀ → not significantly different.\")"
   ]
  },
  {
   "cell_type": "markdown",
   "id": "9dbd167a",
   "metadata": {},
   "source": [
    "#### using `ttest.rel()`"
   ]
  },
  {
   "cell_type": "code",
   "execution_count": 58,
   "id": "8908861f",
   "metadata": {
    "ExecuteTime": {
     "end_time": "2025-04-16T08:44:07.273052Z",
     "start_time": "2025-04-16T08:44:07.254722Z"
    }
   },
   "outputs": [
    {
     "data": {
      "text/plain": [
       "(13.0, 4.802202801017839e-05)"
      ]
     },
     "execution_count": 58,
     "metadata": {},
     "output_type": "execute_result"
    }
   ],
   "source": [
    "t_statistics, p_value_two_tailed = stats.ttest_rel(old_algo,new_algo)\n",
    "t_statistics, p_value_two_tailed"
   ]
  },
  {
   "cell_type": "code",
   "execution_count": 60,
   "id": "e384f58a",
   "metadata": {
    "ExecuteTime": {
     "end_time": "2025-04-16T08:46:46.254323Z",
     "start_time": "2025-04-16T08:46:46.227323Z"
    }
   },
   "outputs": [
    {
     "name": "stdout",
     "output_type": "stream",
     "text": [
      "p-value for right tailed t-test :  2.4011014005089193e-05\n"
     ]
    }
   ],
   "source": [
    "# for one-tailed test\n",
    "# Convert to one-tailed p-value (right-tail)\n",
    "\n",
    "if t_statistics > 0:\n",
    "    p_val_one_tailed = p_value_two_tailed / 2\n",
    "else:\n",
    "    p_val_one_tailed = 1 - (p_value_two_tailed / 2)\n",
    "    \n",
    "print(\"p-value for right tailed t-test : \",p_val_one_tailed)"
   ]
  },
  {
   "cell_type": "markdown",
   "id": "90ea4f53",
   "metadata": {},
   "source": [
    "If `t_stat > 0`, it means the direction of the difference matches our hypothesis (old > new).\n",
    "\n",
    "\n",
    "If `t_stat <= 0`, the difference is either in the wrong direction or not significant, so the one-tailed p-value is large, and we do not reject H₀."
   ]
  },
  {
   "cell_type": "markdown",
   "id": "c00fe7a5",
   "metadata": {},
   "source": [
    "#### NOTE : Only divide by 2 if the t-statistic is in the expected direction (i.e., positive if old > new). If not, the one-tailed p-value is > 0.5, and we fail to reject H₀."
   ]
  },
  {
   "cell_type": "markdown",
   "id": "9cc172de",
   "metadata": {},
   "source": [
    "##### if we have to use left tailed:"
   ]
  },
  {
   "cell_type": "markdown",
   "id": "01806b67",
   "metadata": {},
   "source": [
    "```python\n",
    "if t_stat < 0:\n",
    "    p_val_one_tailed = p_val_two_tailed / 2\n",
    "else:\n",
    "    p_val_one_tailed = 1 - (p_val_two_tailed / 2)\n",
    "\n",
    "print(\"p-value for left-tailed t-test:\", p_val_one_tailed)\n",
    "```"
   ]
  },
  {
   "cell_type": "code",
   "execution_count": 61,
   "id": "344e5ba2",
   "metadata": {
    "ExecuteTime": {
     "end_time": "2025-04-16T08:47:26.751342Z",
     "start_time": "2025-04-16T08:47:26.734280Z"
    }
   },
   "outputs": [
    {
     "name": "stdout",
     "output_type": "stream",
     "text": [
      "Reject Null Hypothesis: New algorithm significantly reduces execution time.\n"
     ]
    }
   ],
   "source": [
    "if p_val_one_tailed < alpha:\n",
    "    print(\"Reject Null Hypothesis: New algorithm significantly reduces execution time.\")\n",
    "else:\n",
    "    print(\"Fail to Reject Null Hypothesis: No significant reduction in execution time.\")\n"
   ]
  },
  {
   "cell_type": "markdown",
   "id": "1a58df99",
   "metadata": {},
   "source": [
    "## 🔹 10. One-tailed Independent Two-Sample t-test (Unequal Variance) (right-tailed)\n",
    "\n",
    "**Q10.** Test if marketing strategy A performs better than B in revenue.  \n",
    "```python\n",
    "strategy_a = [105, 110, 115, 108, 112]\n",
    "strategy_b = [90, 100, 110, 80, 120, 70]\n",
    "```"
   ]
  },
  {
   "cell_type": "code",
   "execution_count": 6,
   "id": "8d570e70",
   "metadata": {
    "ExecuteTime": {
     "end_time": "2025-04-17T11:49:45.297226Z",
     "start_time": "2025-04-17T11:49:45.284716Z"
    }
   },
   "outputs": [],
   "source": [
    "strategy_a = [105, 110, 115, 108, 112]\n",
    "strategy_b = [90, 100, 110, 80, 120, 70]"
   ]
  },
  {
   "cell_type": "code",
   "execution_count": 7,
   "id": "4e34c430",
   "metadata": {
    "ExecuteTime": {
     "end_time": "2025-04-17T11:49:46.333000Z",
     "start_time": "2025-04-17T11:49:46.317150Z"
    }
   },
   "outputs": [
    {
     "name": "stdout",
     "output_type": "stream",
     "text": [
      "Normal → Use t-test\n"
     ]
    }
   ],
   "source": [
    "_, p1 = shapiro(strategy_a)\n",
    "_, p2 = shapiro(strategy_b)\n",
    "\n",
    "if p1>0.05 and p2> 0.05:\n",
    "    print(\"Normal → Use t-test\")\n",
    "else :\n",
    "    print(\"Not normal → Use Mann-Whitney U test\")"
   ]
  },
  {
   "cell_type": "code",
   "execution_count": 8,
   "id": "e2d0edaa",
   "metadata": {
    "ExecuteTime": {
     "end_time": "2025-04-17T11:49:47.260586Z",
     "start_time": "2025-04-17T11:49:47.245601Z"
    }
   },
   "outputs": [
    {
     "name": "stdout",
     "output_type": "stream",
     "text": [
      "p-value :  0.016128038433226643 \n",
      "\n",
      "\n",
      "Variances are different\n",
      "Use Welch’s t-test (equal_var=False in ttest_ind)\n"
     ]
    }
   ],
   "source": [
    "_, levene_p_value = levene(strategy_a, strategy_b)\n",
    "\n",
    "\n",
    "print(\"p-value : \",levene_p_value,\"\\n\\n\")\n",
    "\n",
    "if levene_p_value > 0.05:\n",
    "    print(\"Equal variances (assume homogeneity)\")\n",
    "    print(\"Use pooled t-test (equal_var=True in ttest_ind)\")\n",
    "else:\n",
    "    print(\"Variances are different\")\n",
    "    print(\"Use Welch’s t-test (equal_var=False in ttest_ind)\")"
   ]
  },
  {
   "cell_type": "markdown",
   "id": "301c71c1",
   "metadata": {},
   "source": [
    "Let:\n",
    "\n",
    "- `μ₁` = Mean revenue of Strategy A  \n",
    "\n",
    "\n",
    "- `μ₂` = Mean revenue of Strategy B"
   ]
  },
  {
   "cell_type": "markdown",
   "id": "80cefbd1",
   "metadata": {},
   "source": [
    "#### 🧪 Hypotheses:\n",
    "- **Null Hypothesis (H₀):** μ₁ ≤ μ₂ (Strategy A is not better than Strategy B)\n",
    "\n",
    "\n",
    "- **Alternative Hypothesis (H₁):** μ₁ > μ₂ (Strategy A performs better than B)"
   ]
  },
  {
   "cell_type": "markdown",
   "id": "33201d33",
   "metadata": {},
   "source": [
    "### Use Welch’s t-test (unequal variances):"
   ]
  },
  {
   "cell_type": "markdown",
   "id": "7db49d86",
   "metadata": {},
   "source": [
    "#### 📌 Formula:\n",
    "$$\n",
    "t = \\frac{\\bar{x}_A - \\bar{x}_B}{\\sqrt{\\frac{s_A^2}{n_A} + \\frac{s_B^2}{n_B}}}\n",
    "$$\n",
    "\n",
    "Where:  \n",
    "- $\\bar{x}_A, \\bar{x}_B$: Sample means  \n",
    "- $s_A^2, s_B^2$: Sample variances  \n",
    "- $n_A, n_B$: Sample sizes  \n",
    "\n",
    "#### Degrees of Freedom (Welch–Satterthwaite equation):\n",
    "\n",
    "$$\n",
    "df = \\frac{\\left(\\frac{s_A^2}{n_A} + \\frac{s_B^2}{n_B}\\right)^2}{\\frac{(s_A^2 / n_A)^2}{n_A - 1} + \\frac{(s_B^2 / n_B)^2}{n_B - 1}}\n",
    "$$"
   ]
  },
  {
   "cell_type": "code",
   "execution_count": 29,
   "id": "eabae91d",
   "metadata": {
    "ExecuteTime": {
     "end_time": "2025-04-17T13:48:42.852159Z",
     "start_time": "2025-04-17T13:48:42.843159Z"
    }
   },
   "outputs": [],
   "source": [
    "mean1 , mean2 = np.mean(strategy_a), np.mean(strategy_b)\n",
    "var1, var2 = np.var(strategy_a,ddof=1), np.var(strategy_b,ddof=1)\n",
    "\n",
    "n1 = len(strategy_a)\n",
    "n2 = len(strategy_b)\n"
   ]
  },
  {
   "cell_type": "code",
   "execution_count": 30,
   "id": "bd2e014b",
   "metadata": {
    "ExecuteTime": {
     "end_time": "2025-04-17T13:48:43.722171Z",
     "start_time": "2025-04-17T13:48:43.707166Z"
    }
   },
   "outputs": [
    {
     "name": "stdout",
     "output_type": "stream",
     "text": [
      "degree of freedom :  5.492531847529001\n"
     ]
    }
   ],
   "source": [
    "# Degrees of freedom (Welch-Satterthwaite)\n",
    "df_num = (var1/n1 + var2/n2)**2\n",
    "df_denom = ((var1/n1)**2)/(n1 - 1) + ((var2/n2)**2)/(n2 - 1)\n",
    "df = df_num / df_denom\n",
    "print(\"degree of freedom : \",df)"
   ]
  },
  {
   "cell_type": "code",
   "execution_count": 31,
   "id": "0717104e",
   "metadata": {
    "ExecuteTime": {
     "end_time": "2025-04-17T13:48:44.908180Z",
     "start_time": "2025-04-17T13:48:44.892165Z"
    }
   },
   "outputs": [
    {
     "data": {
      "text/plain": [
       "7.825173054529422"
      ]
     },
     "execution_count": 31,
     "metadata": {},
     "output_type": "execute_result"
    }
   ],
   "source": [
    "se = np.sqrt(var1/n1 + var2/n2)\n",
    "se"
   ]
  },
  {
   "cell_type": "code",
   "execution_count": 32,
   "id": "dcd69bff",
   "metadata": {
    "ExecuteTime": {
     "end_time": "2025-04-17T13:48:46.659416Z",
     "start_time": "2025-04-17T13:48:46.649418Z"
    }
   },
   "outputs": [
    {
     "data": {
      "text/plain": [
       "1.9168905141743278"
      ]
     },
     "execution_count": 32,
     "metadata": {},
     "output_type": "execute_result"
    }
   ],
   "source": [
    "t_statistics = (mean1 - mean2)/se\n",
    "t_statistics"
   ]
  },
  {
   "cell_type": "code",
   "execution_count": 33,
   "id": "e9325e49",
   "metadata": {
    "ExecuteTime": {
     "end_time": "2025-04-17T13:48:51.890446Z",
     "start_time": "2025-04-17T13:48:51.874876Z"
    }
   },
   "outputs": [
    {
     "data": {
      "text/plain": [
       "0.05409336911304574"
      ]
     },
     "execution_count": 33,
     "metadata": {},
     "output_type": "execute_result"
    }
   ],
   "source": [
    "# one-tailed right\n",
    "p_value = 1 - stats.t.cdf(t_statistics,df=df)\n",
    "p_value"
   ]
  },
  {
   "cell_type": "code",
   "execution_count": 34,
   "id": "b220a165",
   "metadata": {
    "ExecuteTime": {
     "end_time": "2025-04-17T13:48:53.461034Z",
     "start_time": "2025-04-17T13:48:53.457015Z"
    }
   },
   "outputs": [],
   "source": [
    "alpha = 0.05"
   ]
  },
  {
   "cell_type": "code",
   "execution_count": 35,
   "id": "07d4d55a",
   "metadata": {
    "ExecuteTime": {
     "end_time": "2025-04-17T13:48:53.800704Z",
     "start_time": "2025-04-17T13:48:53.782415Z"
    }
   },
   "outputs": [
    {
     "name": "stdout",
     "output_type": "stream",
     "text": [
      "Mean A = 110.00, Mean B = 95.00\n",
      "t-statistic = 1.9169\n",
      "p-value (one-right-tailed) = 0.0541\n"
     ]
    }
   ],
   "source": [
    "# Output\n",
    "print(f\"Mean A = {mean1:.2f}, Mean B = {mean2:.2f}\")\n",
    "print(f\"t-statistic = {t_statistics:.4f}\")\n",
    "print(f\"p-value (one-right-tailed) = {p_value:.4f}\")"
   ]
  },
  {
   "cell_type": "code",
   "execution_count": 36,
   "id": "cc9ca070",
   "metadata": {
    "ExecuteTime": {
     "end_time": "2025-04-17T13:48:55.455427Z",
     "start_time": "2025-04-17T13:48:55.450429Z"
    }
   },
   "outputs": [
    {
     "name": "stdout",
     "output_type": "stream",
     "text": [
      "Fail to reject the null hypothesis: Not enough evidence that Strategy A performs better.\n"
     ]
    }
   ],
   "source": [
    "# Conclusion at alpha = 0.05\n",
    "alpha = 0.05\n",
    "if p_value < alpha:\n",
    "    print(\"Reject the null hypothesis: Strategy A performs significantly better than Strategy B.\")\n",
    "else:\n",
    "    print(\"Fail to reject the null hypothesis: Not enough evidence that Strategy A performs better.\")"
   ]
  },
  {
   "cell_type": "code",
   "execution_count": 37,
   "id": "3ddcbaed",
   "metadata": {
    "ExecuteTime": {
     "end_time": "2025-04-17T13:48:58.522718Z",
     "start_time": "2025-04-17T13:48:58.509704Z"
    }
   },
   "outputs": [
    {
     "data": {
      "text/plain": [
       "(1.9168905141743278, 0.10818673822609134)"
      ]
     },
     "execution_count": 37,
     "metadata": {},
     "output_type": "execute_result"
    }
   ],
   "source": [
    "t_statistics, p_value_two_tailed = stats.ttest_ind(strategy_a, strategy_b, equal_var=False)\n",
    "t_statistics, p_value_two_tailed"
   ]
  },
  {
   "cell_type": "code",
   "execution_count": 38,
   "id": "5e82f977",
   "metadata": {
    "ExecuteTime": {
     "end_time": "2025-04-17T13:49:01.662053Z",
     "start_time": "2025-04-17T13:49:01.654055Z"
    }
   },
   "outputs": [],
   "source": [
    "# One-tailed test: divide p-value by 2 and check direction\n",
    "# Check if mean of A > mean of B\n",
    "\n",
    "if t_statistics > 0:\n",
    "    p_value_one_tailed = p_value_two_tailed/2\n",
    "else:\n",
    "    p_value_one_tailed = 1 - (p_value_two_tailed / 2)"
   ]
  },
  {
   "cell_type": "code",
   "execution_count": 39,
   "id": "3737df7c",
   "metadata": {
    "ExecuteTime": {
     "end_time": "2025-04-17T13:49:04.914660Z",
     "start_time": "2025-04-17T13:49:04.898661Z"
    }
   },
   "outputs": [
    {
     "name": "stdout",
     "output_type": "stream",
     "text": [
      "T-statistic: 1.9169\n",
      "One-tailed P-value: 0.0541\n"
     ]
    }
   ],
   "source": [
    "# Print results\n",
    "print(f\"T-statistic: {t_statistics:.4f}\")\n",
    "print(f\"One-tailed P-value: {p_value_one_tailed:.4f}\")"
   ]
  },
  {
   "cell_type": "code",
   "execution_count": 40,
   "id": "4686be42",
   "metadata": {
    "ExecuteTime": {
     "end_time": "2025-04-17T13:49:07.416709Z",
     "start_time": "2025-04-17T13:49:07.403708Z"
    }
   },
   "outputs": [
    {
     "name": "stdout",
     "output_type": "stream",
     "text": [
      "Fail to reject the null hypothesis: Not enough evidence that Strategy A performs better.\n"
     ]
    }
   ],
   "source": [
    "# Conclusion at alpha = 0.05\n",
    "alpha = 0.05\n",
    "if p_value_one_tailed < alpha:\n",
    "    print(\"Reject the null hypothesis: Strategy A performs significantly better than Strategy B.\")\n",
    "else:\n",
    "    print(\"Fail to reject the null hypothesis: Not enough evidence that Strategy A performs better.\")"
   ]
  },
  {
   "cell_type": "markdown",
   "id": "ec84662c",
   "metadata": {},
   "source": [
    "### 🎯 Conclusion:\n",
    "Since the **one-tailed p-value = 0.0541 > 0.05**, we **Fail to reject the null hypothesis**.  \n",
    "\n",
    "\n",
    "✅ There is **not** sufficient evidence to conclude that Strategy A performs better than Strategy B in terms of revenue.\n"
   ]
  },
  {
   "cell_type": "markdown",
   "id": "5605c577",
   "metadata": {},
   "source": [
    "## 🔹 11. Two-tailed Independent Two-Sample t-test (Equal Variance)\n",
    "\n",
    "**Q11.** Compare battery life of phones from Brand X and Brand Y.  \n",
    "```python\n",
    "brand_x = [10, 12, 11, 13, 12]\n",
    "brand_y = [11, 10, 9, 12, 11]\n",
    "```"
   ]
  },
  {
   "cell_type": "code",
   "execution_count": 41,
   "id": "4735c559",
   "metadata": {
    "ExecuteTime": {
     "end_time": "2025-04-17T13:54:12.488533Z",
     "start_time": "2025-04-17T13:54:12.483530Z"
    }
   },
   "outputs": [],
   "source": [
    "brand_x = [10, 12, 11, 13, 12]\n",
    "brand_y = [11, 10, 9, 12, 11]"
   ]
  },
  {
   "cell_type": "code",
   "execution_count": 43,
   "id": "bb5c30c8",
   "metadata": {
    "ExecuteTime": {
     "end_time": "2025-04-17T13:56:53.127724Z",
     "start_time": "2025-04-17T13:56:53.112711Z"
    }
   },
   "outputs": [
    {
     "name": "stdout",
     "output_type": "stream",
     "text": [
      "p1 : 0.8139519691467285  p2 : 0.8139519691467285\n",
      "Normal → Use t-test\n"
     ]
    }
   ],
   "source": [
    "_, p1 = shapiro(brand_x)\n",
    "\n",
    "_, p2 = shapiro(brand_y)\n",
    "\n",
    "print(\"p1 :\",p1,\" p2 :\",p2)\n",
    "\n",
    "if p1 > 0.05 and p2 > 0.05:\n",
    "    print(\"Normal → Use t-test\")\n",
    "else :\n",
    "    print(\"Not normal → Use Mann-Whitney U test\")"
   ]
  },
  {
   "cell_type": "code",
   "execution_count": 44,
   "id": "e4521b28",
   "metadata": {
    "ExecuteTime": {
     "end_time": "2025-04-17T13:56:58.657927Z",
     "start_time": "2025-04-17T13:56:58.639419Z"
    }
   },
   "outputs": [
    {
     "name": "stdout",
     "output_type": "stream",
     "text": [
      "p_value:  1.0\n",
      "Equal variances (assume homogeneity)\n",
      "Use pooled t-test (equal_var=True in ttest_ind)\n"
     ]
    }
   ],
   "source": [
    "_, p_value_levene = levene(brand_x,brand_y)\n",
    "\n",
    "print(\"p_value: \", p_value_levene)\n",
    "\n",
    "if  p_value_levene > 0.05:\n",
    "    print(\"Equal variances (assume homogeneity)\")\n",
    "    print(\"Use pooled t-test (equal_var=True in ttest_ind)\")\n",
    "else:\n",
    "    print(\"Variances are different\")\n",
    "    print(\"Use Welch’s t-test (equal_var=False in ttest_ind)\")"
   ]
  },
  {
   "cell_type": "markdown",
   "id": "09d8145f",
   "metadata": {},
   "source": [
    "### Independent two-sample t-test Equal Variances Assumed (Pooled t-Test)"
   ]
  },
  {
   "cell_type": "markdown",
   "id": "6f740d7c",
   "metadata": {},
   "source": [
    "#### 📌 Formula:\n",
    "\n",
    "Let:  \n",
    "\n",
    "- $\\bar{X}_1, \\bar{X}_2$ = sample means  \n",
    "- $s_1^2, s_2^2$ = sample variances  \n",
    "- $n_1, n_2$ = sample sizes  \n",
    "\n",
    "#### a. **Pooled Variance:**\n",
    "\n",
    "$$\n",
    "s_p^2 = \\frac{(n_1 - 1)s_1^2 + (n_2 - 1)s_2^2}{n_1 + n_2 - 2}\n",
    "$$\n",
    "\n",
    "#### b. **t-Statistic:**\n",
    "\n",
    "$$\n",
    "t = \\frac{\\bar{X}_1 - \\bar{X}_2}{\\sqrt{s_p^2}* \\sqrt{\\cdot {\\frac{1}{n_1} + \\frac{1}{n_2}}}}\n",
    "$$\n",
    "\n",
    "#### c. **Degrees of Freedom:**\n",
    "\n",
    "$$\n",
    "df = n_1 + n_2 - 2\n",
    "$$"
   ]
  },
  {
   "cell_type": "markdown",
   "id": "f2c0d976",
   "metadata": {},
   "source": [
    "### 📘 **Hypotheses:**\n",
    "\n",
    "\n",
    "- **Null Hypothesis (H₀)**: The mean battery life of Brand X is equal to Brand Y.  \n",
    "  → $\\mu_X = \\mu_Y$\n",
    "  \n",
    "  \n",
    "\n",
    "- **Alternative Hypothesis (H₁)**: The mean battery life of Brand X is **not equal** to Brand Y.  \n",
    "  → $\\mu_X \\ne \\mu_Y$\n",
    "  \n",
    "  \n",
    "(This is a **two-tailed test**.)"
   ]
  },
  {
   "cell_type": "code",
   "execution_count": 59,
   "id": "60021ab9",
   "metadata": {
    "ExecuteTime": {
     "end_time": "2025-04-17T14:27:23.873427Z",
     "start_time": "2025-04-17T14:27:23.861441Z"
    }
   },
   "outputs": [],
   "source": [
    "mean1, mean2  = np.mean(brand_x), np.mean(brand_y)\n",
    "\n",
    "var1, var2 = np.var(brand_x,ddof=1), np.var(brand_y,ddof=1)\n",
    "\n",
    "n1, n2 = len(brand_x), len(brand_y)\n",
    "\n",
    "df = n1 + n2 - 2"
   ]
  },
  {
   "cell_type": "code",
   "execution_count": 60,
   "id": "1bdd008c",
   "metadata": {
    "ExecuteTime": {
     "end_time": "2025-04-17T14:27:25.800975Z",
     "start_time": "2025-04-17T14:27:25.790977Z"
    }
   },
   "outputs": [],
   "source": [
    "pooled_var = ( ((n1 - 1)*var1) + ((n2 - 1)*var2) )/(n1 + n2 - 2)"
   ]
  },
  {
   "cell_type": "code",
   "execution_count": 61,
   "id": "7e2fdd01",
   "metadata": {
    "ExecuteTime": {
     "end_time": "2025-04-17T14:27:26.371323Z",
     "start_time": "2025-04-17T14:27:26.357816Z"
    }
   },
   "outputs": [
    {
     "data": {
      "text/plain": [
       "1.386750490563073"
      ]
     },
     "execution_count": 61,
     "metadata": {},
     "output_type": "execute_result"
    }
   ],
   "source": [
    "t_statistics = (mean1 - mean2)/(np.sqrt(pooled_var) * np.sqrt((1/n1) + (1/n2)))\n",
    "t_statistics"
   ]
  },
  {
   "cell_type": "code",
   "execution_count": 62,
   "id": "bfedd584",
   "metadata": {
    "ExecuteTime": {
     "end_time": "2025-04-17T14:27:26.914475Z",
     "start_time": "2025-04-17T14:27:26.896458Z"
    }
   },
   "outputs": [
    {
     "data": {
      "text/plain": [
       "0.20293396786290097"
      ]
     },
     "execution_count": 62,
     "metadata": {},
     "output_type": "execute_result"
    }
   ],
   "source": [
    "p_value = 2 * (1 - stats.t.cdf(abs(t_statistics),df=df))\n",
    "p_value"
   ]
  },
  {
   "cell_type": "code",
   "execution_count": 63,
   "id": "ac39f379",
   "metadata": {
    "ExecuteTime": {
     "end_time": "2025-04-17T14:27:30.366502Z",
     "start_time": "2025-04-17T14:27:30.349503Z"
    }
   },
   "outputs": [],
   "source": [
    "alpha = 0.05"
   ]
  },
  {
   "cell_type": "code",
   "execution_count": 64,
   "id": "dfb92094",
   "metadata": {
    "ExecuteTime": {
     "end_time": "2025-04-17T14:27:31.018317Z",
     "start_time": "2025-04-17T14:27:31.014365Z"
    }
   },
   "outputs": [
    {
     "name": "stdout",
     "output_type": "stream",
     "text": [
      "Mean A = 11.60, Mean B = 10.60\n",
      "pooled variance = 1.2999999999999998\n",
      "t-statistic = 1.3868\n",
      "p-value (two-tailed) = 0.2029\n"
     ]
    }
   ],
   "source": [
    "# Output\n",
    "print(f\"Mean A = {mean1:.2f}, Mean B = {mean2:.2f}\")\n",
    "print(f\"pooled variance = {pooled_var}\")\n",
    "print(f\"t-statistic = {t_statistics:.4f}\")\n",
    "print(f\"p-value (two-tailed) = {p_value:.4f}\")"
   ]
  },
  {
   "cell_type": "code",
   "execution_count": 65,
   "id": "cb4160d9",
   "metadata": {
    "ExecuteTime": {
     "end_time": "2025-04-17T14:27:32.735196Z",
     "start_time": "2025-04-17T14:27:32.726179Z"
    }
   },
   "outputs": [
    {
     "name": "stdout",
     "output_type": "stream",
     "text": [
      "Fail to reject the null hypothesis: No significant difference in battery life.\n"
     ]
    }
   ],
   "source": [
    "if p_value < alpha:\n",
    "    print(\"Reject the null hypothesis: There is a significant difference in battery life.\")\n",
    "else:\n",
    "    print(\"Fail to reject the null hypothesis: No significant difference in battery life.\")"
   ]
  },
  {
   "cell_type": "code",
   "execution_count": 66,
   "id": "d26cdad5",
   "metadata": {
    "ExecuteTime": {
     "end_time": "2025-04-17T14:27:33.901242Z",
     "start_time": "2025-04-17T14:27:33.884229Z"
    }
   },
   "outputs": [
    {
     "data": {
      "text/plain": [
       "(1.386750490563073, 0.2029339678629011)"
      ]
     },
     "execution_count": 66,
     "metadata": {},
     "output_type": "execute_result"
    }
   ],
   "source": [
    "t_statistics, p_value = stats.ttest_ind(brand_x,brand_y, equal_var=True)\n",
    "t_statistics, p_value"
   ]
  },
  {
   "cell_type": "code",
   "execution_count": 68,
   "id": "f456601d",
   "metadata": {
    "ExecuteTime": {
     "end_time": "2025-04-17T14:30:18.191017Z",
     "start_time": "2025-04-17T14:30:18.185023Z"
    }
   },
   "outputs": [
    {
     "name": "stdout",
     "output_type": "stream",
     "text": [
      "Fail to reject the null hypothesis: No significant difference in battery life.\n"
     ]
    }
   ],
   "source": [
    "if p_value < alpha:\n",
    "    print(\"Reject the null hypothesis: There is a significant difference in battery life.\")\n",
    "else:\n",
    "    print(\"Fail to reject the null hypothesis: No significant difference in battery life.\")"
   ]
  },
  {
   "cell_type": "code",
   "execution_count": 67,
   "id": "684d739f",
   "metadata": {
    "ExecuteTime": {
     "end_time": "2025-04-17T14:29:54.355208Z",
     "start_time": "2025-04-17T14:29:54.347649Z"
    }
   },
   "outputs": [
    {
     "name": "stdout",
     "output_type": "stream",
     "text": [
      "=== Two-tailed Independent t-test (Equal Variance) ===\n",
      "Mean Brand X: 11.60\n",
      "Mean Brand Y: 10.60\n",
      "t-statistic : 1.3868\n",
      "p-value     : 0.2029\n",
      "Degrees of Freedom: 8\n"
     ]
    }
   ],
   "source": [
    "print(\"=== Two-tailed Independent t-test (Equal Variance) ===\")\n",
    "print(f\"Mean Brand X: {mean1:.2f}\")\n",
    "print(f\"Mean Brand Y: {mean2:.2f}\")\n",
    "print(f\"t-statistic : {t_statistics:.4f}\")\n",
    "print(f\"p-value     : {p_value:.4f}\")\n",
    "print(f\"Degrees of Freedom: {df}\")"
   ]
  },
  {
   "cell_type": "markdown",
   "id": "f6643e3d",
   "metadata": {},
   "source": [
    "✅ Fail to reject H₀: No significant difference in battery life.\n"
   ]
  },
  {
   "cell_type": "markdown",
   "id": "9aeab63b",
   "metadata": {},
   "source": [
    "## 🔹 12. Two-tailed One Sample t-test\n",
    "\n",
    "**Q12.** A financial analyst believes the average ROI on a portfolio is 5%.  \n",
    "```python\n",
    "sample_roi = [5.2, 4.8, 5.1, 5.0, 5.3, 4.9]\n",
    "```\n",
    "Test this assumption."
   ]
  },
  {
   "cell_type": "markdown",
   "id": "690cd258",
   "metadata": {},
   "source": [
    "## 🔹 13. One-tailed Paired t-test (Dependent) (right-tailed)\n",
    "\n",
    "**Q13.** Test whether a personalization feature increased user engagement.  \n",
    "```python\n",
    "before = [120, 130, 110, 125, 118]\n",
    "after = [135, 145, 120, 140, 130]\n",
    "```"
   ]
  },
  {
   "cell_type": "code",
   "execution_count": 136,
   "id": "ea3a7bd7",
   "metadata": {
    "ExecuteTime": {
     "end_time": "2025-04-17T16:06:15.492642Z",
     "start_time": "2025-04-17T16:06:15.483090Z"
    }
   },
   "outputs": [],
   "source": [
    "before = [120, 130, 110, 125, 118]\n",
    "after = [135, 145, 120, 140, 130]"
   ]
  },
  {
   "cell_type": "code",
   "execution_count": 137,
   "id": "7a8fee85",
   "metadata": {
    "ExecuteTime": {
     "end_time": "2025-04-17T16:06:16.177425Z",
     "start_time": "2025-04-17T16:06:16.173305Z"
    }
   },
   "outputs": [
    {
     "name": "stdout",
     "output_type": "stream",
     "text": [
      "p1 : 0.9721572399139404  p2 : 0.9276362061500549\n",
      "Normal → Use t-test\n"
     ]
    }
   ],
   "source": [
    "_, p1 = shapiro(before)\n",
    "\n",
    "_, p2 = shapiro(after)\n",
    "\n",
    "print(\"p1 :\",p1,\" p2 :\",p2)\n",
    "\n",
    "if p1 > 0.05 and p2 > 0.05:\n",
    "    print(\"Normal → Use t-test\")\n",
    "else :\n",
    "    print(\"Not normal → Use Mann-Whitney U test\")"
   ]
  },
  {
   "cell_type": "markdown",
   "id": "333ec23c",
   "metadata": {},
   "source": [
    "### 🎯 **Hypotheses (Right-Tailed Test)**\n",
    "\n",
    "- **Null Hypothesis (H₀)**: The mean user rating **after UI = before UI** (no improvement).  \n",
    "  → $\\mu_{after} - \\mu_{before} = 0$\n",
    "  \n",
    "  \n",
    "\n",
    "- **Alternative Hypothesis (H₁)**: The mean user rating **after UI > before UI** (improvement).  \n",
    "  → $\\mu_{after} - \\mu_{before} > 0$"
   ]
  },
  {
   "cell_type": "markdown",
   "id": "de4366ca",
   "metadata": {},
   "source": [
    "### Formula:\n",
    "   $$\n",
    "   t = \\frac{{\\bar{X}_d - \\mu_d}}{\\frac{s_d}  {\\sqrt{n}}}\n",
    "   $$\n",
    "\n",
    "   - t is the t-statistic.\n",
    "   - $\\bar{X}_d$ is the mean of the differences between paired observations.\n",
    "   - $\\mu_d$ is the population mean of the differences (usually 0 under the null hypothesis).\n",
    "   - $s_d$ is the standard deviation of the differences.\n",
    "   - n is the number of paired observations.\n",
    "   \n",
    "##### degree_of_freedom = (n-1)"
   ]
  },
  {
   "cell_type": "code",
   "execution_count": 138,
   "id": "aea768b9",
   "metadata": {
    "ExecuteTime": {
     "end_time": "2025-04-17T16:06:16.848133Z",
     "start_time": "2025-04-17T16:06:16.842566Z"
    }
   },
   "outputs": [
    {
     "data": {
      "text/plain": [
       "array([15, 15, 10, 15, 12])"
      ]
     },
     "execution_count": 138,
     "metadata": {},
     "output_type": "execute_result"
    }
   ],
   "source": [
    "differences = np.subtract(after,before)\n",
    "differences"
   ]
  },
  {
   "cell_type": "code",
   "execution_count": 139,
   "id": "be19fb6d",
   "metadata": {
    "ExecuteTime": {
     "end_time": "2025-04-17T16:06:17.189340Z",
     "start_time": "2025-04-17T16:06:17.182409Z"
    }
   },
   "outputs": [],
   "source": [
    "n = len(differences)"
   ]
  },
  {
   "cell_type": "code",
   "execution_count": 140,
   "id": "d34b48ab",
   "metadata": {
    "ExecuteTime": {
     "end_time": "2025-04-17T16:06:17.766497Z",
     "start_time": "2025-04-17T16:06:17.751668Z"
    }
   },
   "outputs": [],
   "source": [
    "pop_mean = 0"
   ]
  },
  {
   "cell_type": "code",
   "execution_count": 141,
   "id": "f7b030ac",
   "metadata": {
    "ExecuteTime": {
     "end_time": "2025-04-17T16:06:18.478939Z",
     "start_time": "2025-04-17T16:06:18.460709Z"
    }
   },
   "outputs": [
    {
     "data": {
      "text/plain": [
       "13.4"
      ]
     },
     "execution_count": 141,
     "metadata": {},
     "output_type": "execute_result"
    }
   ],
   "source": [
    "mean_paired_diff = np.mean(differences)\n",
    "mean_paired_diff"
   ]
  },
  {
   "cell_type": "code",
   "execution_count": 142,
   "id": "ac86a544",
   "metadata": {
    "ExecuteTime": {
     "end_time": "2025-04-17T16:06:18.774706Z",
     "start_time": "2025-04-17T16:06:18.766433Z"
    }
   },
   "outputs": [
    {
     "data": {
      "text/plain": [
       "2.3021728866442674"
      ]
     },
     "execution_count": 142,
     "metadata": {},
     "output_type": "execute_result"
    }
   ],
   "source": [
    "std_diff = np.std(differences,ddof=1)\n",
    "std_diff"
   ]
  },
  {
   "cell_type": "code",
   "execution_count": 143,
   "id": "d944c55a",
   "metadata": {
    "ExecuteTime": {
     "end_time": "2025-04-17T16:06:28.069259Z",
     "start_time": "2025-04-17T16:06:28.064200Z"
    }
   },
   "outputs": [
    {
     "data": {
      "text/plain": [
       "0.4604345773288535"
      ]
     },
     "execution_count": 143,
     "metadata": {},
     "output_type": "execute_result"
    }
   ],
   "source": [
    "se = std_diff/n\n",
    "se"
   ]
  },
  {
   "cell_type": "code",
   "execution_count": 144,
   "id": "3f23d66e",
   "metadata": {
    "ExecuteTime": {
     "end_time": "2025-04-17T16:06:29.219995Z",
     "start_time": "2025-04-17T16:06:29.210974Z"
    }
   },
   "outputs": [
    {
     "data": {
      "text/plain": [
       "13.4"
      ]
     },
     "execution_count": 144,
     "metadata": {},
     "output_type": "execute_result"
    }
   ],
   "source": [
    "t_statistics = mean_paired_diff - pop_mean/se\n",
    "t_statistics"
   ]
  },
  {
   "cell_type": "code",
   "execution_count": 145,
   "id": "8fa87f76",
   "metadata": {
    "ExecuteTime": {
     "end_time": "2025-04-17T16:06:30.356042Z",
     "start_time": "2025-04-17T16:06:30.354037Z"
    }
   },
   "outputs": [],
   "source": [
    "alpha = 0.05"
   ]
  },
  {
   "cell_type": "code",
   "execution_count": 146,
   "id": "ee32f97d",
   "metadata": {
    "ExecuteTime": {
     "end_time": "2025-04-17T16:06:32.426169Z",
     "start_time": "2025-04-17T16:06:32.410118Z"
    }
   },
   "outputs": [
    {
     "data": {
      "text/plain": [
       "4.6044154611291077e-07"
      ]
     },
     "execution_count": 146,
     "metadata": {},
     "output_type": "execute_result"
    }
   ],
   "source": [
    "p_value = 1 - stats.t.cdf(t_statistics,df=df)\n",
    "p_value"
   ]
  },
  {
   "cell_type": "code",
   "execution_count": 147,
   "id": "5e04ecca",
   "metadata": {
    "ExecuteTime": {
     "end_time": "2025-04-17T16:06:33.855184Z",
     "start_time": "2025-04-17T16:06:33.838643Z"
    }
   },
   "outputs": [
    {
     "name": "stdout",
     "output_type": "stream",
     "text": [
      "t-statistic   : 13.4000\n",
      "p-value (right-tailed): 0.0000\n"
     ]
    }
   ],
   "source": [
    "print(f\"t-statistic   : {t_statistics:.4f}\")\n",
    "print(f\"p-value (right-tailed): {p_value:.4f}\")"
   ]
  },
  {
   "cell_type": "code",
   "execution_count": 148,
   "id": "70ab5fd2",
   "metadata": {
    "ExecuteTime": {
     "end_time": "2025-04-17T16:06:35.823087Z",
     "start_time": "2025-04-17T16:06:35.808824Z"
    }
   },
   "outputs": [
    {
     "name": "stdout",
     "output_type": "stream",
     "text": [
      "✅ Reject H₀: UI change significantly improved user ratings.\n"
     ]
    }
   ],
   "source": [
    "if p_value < alpha:\n",
    "    print(\"✅ Reject H₀: UI change significantly improved user ratings.\")\n",
    "else:\n",
    "    print(\"❌ Fail to reject H₀: Not enough evidence that UI improved ratings.\")"
   ]
  },
  {
   "cell_type": "markdown",
   "id": "8c836e0b",
   "metadata": {},
   "source": [
    "#### using `ttest_rel()`"
   ]
  },
  {
   "cell_type": "code",
   "execution_count": 149,
   "id": "073ee3c9",
   "metadata": {
    "ExecuteTime": {
     "end_time": "2025-04-17T16:06:38.333301Z",
     "start_time": "2025-04-17T16:06:38.322707Z"
    }
   },
   "outputs": [
    {
     "data": {
      "text/plain": [
       "(13.01523055558734, 0.00020111403582833028)"
      ]
     },
     "execution_count": 149,
     "metadata": {},
     "output_type": "execute_result"
    }
   ],
   "source": [
    "t_statistics , p_value_two_tailed = stats.ttest_rel(after,before)\n",
    "t_statistics, p_value_two_tailed"
   ]
  },
  {
   "cell_type": "code",
   "execution_count": null,
   "id": "eacda95e",
   "metadata": {},
   "outputs": [],
   "source": [
    "if t_statistics > 0:\n",
    "    p_value_one_tailed = p_value_two_tailed/2\n",
    "else:\n",
    "    p_value_one_tailed = 1 - (p_value_two_tailed / 2)"
   ]
  },
  {
   "cell_type": "code",
   "execution_count": 120,
   "id": "7402acd3",
   "metadata": {
    "ExecuteTime": {
     "end_time": "2025-04-17T15:33:20.807045Z",
     "start_time": "2025-04-17T15:33:20.796044Z"
    }
   },
   "outputs": [],
   "source": [
    "# Since this is a right-tailed test (is \"after\" > \"before\"?), divide p-value by 2\n",
    "p_value_right_tailed = p_value_two_tailed / 2"
   ]
  },
  {
   "cell_type": "code",
   "execution_count": 121,
   "id": "cb0c8fb6",
   "metadata": {
    "ExecuteTime": {
     "end_time": "2025-04-17T15:33:23.429711Z",
     "start_time": "2025-04-17T15:33:23.423730Z"
    }
   },
   "outputs": [
    {
     "name": "stdout",
     "output_type": "stream",
     "text": [
      "✅ Reject H₀: UI change significantly improved user ratings.\n"
     ]
    }
   ],
   "source": [
    "# Conclusion\n",
    "alpha = 0.05\n",
    "if (t_statistics > 0) and (p_value_right_tailed < alpha):\n",
    "    print(\"✅ Reject H₀: UI change significantly improved user ratings.\")\n",
    "else:\n",
    "    print(\"❌ Fail to reject H₀: Not enough evidence that UI improved ratings.\")"
   ]
  },
  {
   "cell_type": "code",
   "execution_count": 122,
   "id": "50a68395",
   "metadata": {
    "ExecuteTime": {
     "end_time": "2025-04-17T15:33:25.687848Z",
     "start_time": "2025-04-17T15:33:25.682966Z"
    }
   },
   "outputs": [
    {
     "name": "stdout",
     "output_type": "stream",
     "text": [
      "=== Paired t-test using ttest_rel() ===\n",
      "Mean Before UI: 11.60\n",
      "Mean After UI : 10.60\n",
      "t-statistic   : 13.0152\n",
      "p-value (right-tailed): 0.0001\n"
     ]
    }
   ],
   "source": [
    "# Output\n",
    "print(\"=== Paired t-test using ttest_rel() ===\")\n",
    "print(f\"Mean Before UI: {mean1:.2f}\")\n",
    "print(f\"Mean After UI : {mean2:.2f}\")\n",
    "print(f\"t-statistic   : {t_statistics:.4f}\")\n",
    "print(f\"p-value (right-tailed): {p_value_right_tailed:.4f}\")"
   ]
  },
  {
   "cell_type": "markdown",
   "id": "3dbd78a5",
   "metadata": {},
   "source": [
    "## 🔹 14. <span class=\"girk\">One-tailed Independent Two-Sample t-test (Equal Variance) (Left tailed)</span>\n",
    "\n",
    "**Q14.** Test if churn rate of Region A is less than Region B.  \n",
    "```python\n",
    "region_a = [0.08, 0.07, 0.09, 0.08, 0.07]\n",
    "region_b = [0.10, 0.11, 0.09, 0.12, 0.10]\n",
    "```"
   ]
  },
  {
   "cell_type": "code",
   "execution_count": 123,
   "id": "1d530042",
   "metadata": {
    "ExecuteTime": {
     "end_time": "2025-04-17T15:37:04.903283Z",
     "start_time": "2025-04-17T15:37:04.887284Z"
    }
   },
   "outputs": [],
   "source": [
    "region_a = [0.08, 0.07, 0.09, 0.08, 0.07]\n",
    "region_b = [0.10, 0.11, 0.09, 0.12, 0.10]"
   ]
  },
  {
   "cell_type": "code",
   "execution_count": 124,
   "id": "3d9e24c6",
   "metadata": {
    "ExecuteTime": {
     "end_time": "2025-04-17T15:44:45.300621Z",
     "start_time": "2025-04-17T15:44:45.292595Z"
    }
   },
   "outputs": [
    {
     "name": "stdout",
     "output_type": "stream",
     "text": [
      "p1 : 0.3140396773815155  p2 : 0.8139519691467285\n",
      "Normal → Use t-test\n"
     ]
    }
   ],
   "source": [
    "_, p1 = shapiro(region_a)\n",
    "_, p2 = shapiro(region_b)\n",
    "\n",
    "\n",
    "print(\"p1 :\",p1,\" p2 :\",p2)\n",
    "\n",
    "if p1 > 0.05 and p2 > 0.05:\n",
    "    print(\"Normal → Use t-test\")\n",
    "else :\n",
    "    print(\"Not normal → Use Mann-Whitney U test\")"
   ]
  },
  {
   "cell_type": "code",
   "execution_count": 125,
   "id": "ab2fa694",
   "metadata": {
    "ExecuteTime": {
     "end_time": "2025-04-17T15:46:25.111196Z",
     "start_time": "2025-04-17T15:46:25.101196Z"
    }
   },
   "outputs": [
    {
     "name": "stdout",
     "output_type": "stream",
     "text": [
      "p-value :  0.6665811073830697\n",
      "p_value:  0.6665811073830697\n",
      "Equal variances (assume homogeneity)\n",
      "Use pooled t-test (equal_var=True in ttest_ind)\n"
     ]
    }
   ],
   "source": [
    "_, p_value_levene = levene(region_a, region_b)\n",
    "\n",
    "print(\"p-value : \",p_value_levene)\n",
    "\n",
    "print(\"p_value: \", p_value_levene)\n",
    "\n",
    "if  p_value_levene > 0.05:\n",
    "    print(\"Equal variances (assume homogeneity)\")\n",
    "    print(\"Use pooled t-test (equal_var=True in ttest_ind)\")\n",
    "else:\n",
    "    print(\"Variances are different\")\n",
    "    print(\"Use Welch’s t-test (equal_var=False in ttest_ind)\")\n",
    "    "
   ]
  },
  {
   "cell_type": "markdown",
   "id": "ed2e2245",
   "metadata": {},
   "source": [
    "### 🎯 Hypotheses\n",
    "\n",
    "- **Null Hypothesis (H₀)**: μₐ ≥ μ_b → Region A churn rate is **greater than or equal** to Region B\n",
    "\n",
    "\n",
    "- **Alternative Hypothesis (H₁)**: μₐ < μ_b → Region A churn rate is **less than** Region B  \n",
    "  (⏩ This is a **left-tailed** test)"
   ]
  },
  {
   "cell_type": "markdown",
   "id": "c47834f9",
   "metadata": {},
   "source": [
    "#### 📌 Formula:\n",
    "\n",
    "Let:  \n",
    "\n",
    "- $\\bar{X}_1, \\bar{X}_2$ = sample means  \n",
    "\n",
    "\n",
    "- $s_1^2, s_2^2$ = sample variances  \n",
    "\n",
    "\n",
    "- $n_1, n_2$ = sample sizes  \n",
    "\n",
    "#### a. **Pooled Variance:**\n",
    "\n",
    "$$\n",
    "s_p^2 = \\frac{(n_1 - 1)s_1^2 + (n_2 - 1)s_2^2}{n_1 + n_2 - 2}\n",
    "$$\n",
    "\n",
    "\n",
    "#### b. **t-Statistic:**\n",
    "\n",
    "\n",
    "$$\n",
    "t = \\frac{\\bar{X}_1 - \\bar{X}_2}{\\sqrt{s_p^2}* \\sqrt{\\cdot {\\frac{1}{n_1} + \\frac{1}{n_2}}}}\n",
    "$$\n",
    "\n",
    "#### c. **Degrees of Freedom:**\n",
    "\n",
    "$$\n",
    "df = n_1 + n_2 - 2\n",
    "$$"
   ]
  },
  {
   "cell_type": "code",
   "execution_count": 166,
   "id": "9e39f8be",
   "metadata": {
    "ExecuteTime": {
     "end_time": "2025-04-17T17:35:53.393451Z",
     "start_time": "2025-04-17T17:35:53.382451Z"
    }
   },
   "outputs": [],
   "source": [
    "mean1 = np.mean(region_a)\n",
    "mean2 = np.mean(region_b)\n",
    "\n",
    "var1, var2 = np.var(region_a, ddof=1), np.var(region_b, ddof = 1)\n",
    "\n",
    "n1, n2 = len(region_a), len(region_b)\n",
    "\n",
    "df = n1 + n2 -2"
   ]
  },
  {
   "cell_type": "code",
   "execution_count": 167,
   "id": "9dcb2ed3",
   "metadata": {
    "ExecuteTime": {
     "end_time": "2025-04-17T17:35:53.830782Z",
     "start_time": "2025-04-17T17:35:53.812775Z"
    }
   },
   "outputs": [
    {
     "data": {
      "text/plain": [
       "9.999999999999996e-05"
      ]
     },
     "execution_count": 167,
     "metadata": {},
     "output_type": "execute_result"
    }
   ],
   "source": [
    "pooled_var = ( ((n1 - 1) * var1) + ((n2 - 1) * var2) )/df\n",
    "pooled_var"
   ]
  },
  {
   "cell_type": "code",
   "execution_count": 168,
   "id": "e2c87704",
   "metadata": {
    "ExecuteTime": {
     "end_time": "2025-04-17T17:35:53.908310Z",
     "start_time": "2025-04-17T17:35:53.890295Z"
    }
   },
   "outputs": [
    {
     "data": {
      "text/plain": [
       "0.009999999999999998"
      ]
     },
     "execution_count": 168,
     "metadata": {},
     "output_type": "execute_result"
    }
   ],
   "source": [
    "pooled_std = np.sqrt(pooled_var)\n",
    "pooled_std"
   ]
  },
  {
   "cell_type": "code",
   "execution_count": 169,
   "id": "5e405fdf",
   "metadata": {
    "ExecuteTime": {
     "end_time": "2025-04-17T17:35:54.096928Z",
     "start_time": "2025-04-17T17:35:54.086459Z"
    }
   },
   "outputs": [
    {
     "data": {
      "text/plain": [
       "0.006324555320336758"
      ]
     },
     "execution_count": 169,
     "metadata": {},
     "output_type": "execute_result"
    }
   ],
   "source": [
    "se = pooled_std * np.sqrt((1/n1) + (1/n2))\n",
    "se"
   ]
  },
  {
   "cell_type": "code",
   "execution_count": 170,
   "id": "c811180a",
   "metadata": {
    "ExecuteTime": {
     "end_time": "2025-04-17T17:35:54.331690Z",
     "start_time": "2025-04-17T17:35:54.313673Z"
    }
   },
   "outputs": [
    {
     "data": {
      "text/plain": [
       "-4.110960958218895"
      ]
     },
     "execution_count": 170,
     "metadata": {},
     "output_type": "execute_result"
    }
   ],
   "source": [
    "t_statistics = (mean1 - mean2)/se\n",
    "t_statistics"
   ]
  },
  {
   "cell_type": "code",
   "execution_count": 171,
   "id": "d0f4471d",
   "metadata": {
    "ExecuteTime": {
     "end_time": "2025-04-17T17:35:54.581093Z",
     "start_time": "2025-04-17T17:35:54.570094Z"
    }
   },
   "outputs": [
    {
     "data": {
      "text/plain": [
       "0.0016930713054199395"
      ]
     },
     "execution_count": 171,
     "metadata": {},
     "output_type": "execute_result"
    }
   ],
   "source": [
    "p_value = stats.t.cdf(t_statistics,df=df)\n",
    "p_value"
   ]
  },
  {
   "cell_type": "code",
   "execution_count": 175,
   "id": "bfba9dee",
   "metadata": {
    "ExecuteTime": {
     "end_time": "2025-04-17T17:36:19.860983Z",
     "start_time": "2025-04-17T17:36:19.853673Z"
    }
   },
   "outputs": [
    {
     "name": "stdout",
     "output_type": "stream",
     "text": [
      "🔍 Manual Calculation\n",
      "Mean A: 0.0780, Mean B: 0.1040\n",
      "Variance A: 0.000070, Variance B: 0.000130\n",
      "t-statistic   : -4.1110\n",
      "p-value (left-tailed): 0.0017\n"
     ]
    }
   ],
   "source": [
    "print(\"🔍 Manual Calculation\")\n",
    "print(f\"Mean A: {mean1:.4f}, Mean B: {mean2:.4f}\")\n",
    "print(f\"Variance A: {var1:.6f}, Variance B: {var2:.6f}\")\n",
    "print(f\"t-statistic   : {t_statistics:.4f}\")\n",
    "print(f\"p-value (left-tailed): {p_value:.4f}\")"
   ]
  },
  {
   "cell_type": "code",
   "execution_count": 176,
   "id": "aea29977",
   "metadata": {
    "ExecuteTime": {
     "end_time": "2025-04-17T17:36:22.071170Z",
     "start_time": "2025-04-17T17:36:22.055638Z"
    }
   },
   "outputs": [
    {
     "name": "stdout",
     "output_type": "stream",
     "text": [
      "✅ Reject H₀: Region A churn rate is less than Region B\n"
     ]
    }
   ],
   "source": [
    "\n",
    "if (t_statistics < 0) and (p_value < alpha):\n",
    "    print(\"✅ Reject H₀: Region A churn rate is less than Region B\")\n",
    "else:\n",
    "    print(\"❌ Fail to reject H₀: Region A churn rate is greater than or equal to Region B\")"
   ]
  },
  {
   "cell_type": "markdown",
   "id": "a47672a0",
   "metadata": {},
   "source": [
    "#### using `ttest.ind()`"
   ]
  },
  {
   "cell_type": "code",
   "execution_count": 177,
   "id": "79f5afb5",
   "metadata": {
    "ExecuteTime": {
     "end_time": "2025-04-17T17:36:22.742784Z",
     "start_time": "2025-04-17T17:36:22.730772Z"
    }
   },
   "outputs": [
    {
     "data": {
      "text/plain": [
       "(-4.110960958218895, 0.003386142610839879)"
      ]
     },
     "execution_count": 177,
     "metadata": {},
     "output_type": "execute_result"
    }
   ],
   "source": [
    "t_statistics, p_value_two_tailed = stats.ttest_ind(region_a, region_b, equal_var=True)\n",
    "t_statistics, p_value_two_tailed"
   ]
  },
  {
   "cell_type": "code",
   "execution_count": 178,
   "id": "90deb9be",
   "metadata": {
    "ExecuteTime": {
     "end_time": "2025-04-17T17:36:22.991076Z",
     "start_time": "2025-04-17T17:36:22.978062Z"
    }
   },
   "outputs": [],
   "source": [
    "# as it is left-test, t_stat should be less than 0 then only we will do p_two/2 to get p_one tailed\n",
    "if t_statistics < 0:\n",
    "    p_value_one_tailed = p_value_two_tailed/2\n",
    "else:\n",
    "    p_value_one_tailed = 1 - (p_value_two_tailed / 2)"
   ]
  },
  {
   "cell_type": "code",
   "execution_count": 181,
   "id": "d0d4dc09",
   "metadata": {
    "ExecuteTime": {
     "end_time": "2025-04-17T17:36:33.369667Z",
     "start_time": "2025-04-17T17:36:33.364669Z"
    }
   },
   "outputs": [
    {
     "name": "stdout",
     "output_type": "stream",
     "text": [
      "🧪 Using ttest_ind()\n",
      "t-statistic: -4.1110\n",
      "p-value (left-tailed): 0.0017\n"
     ]
    }
   ],
   "source": [
    "print(\"🧪 Using ttest_ind()\")\n",
    "print(f\"t-statistic: {t_statistics:.4f}\")\n",
    "print(f\"p-value (left-tailed): {p_value_one_tailed:.4f}\")"
   ]
  },
  {
   "cell_type": "code",
   "execution_count": 180,
   "id": "ac399390",
   "metadata": {
    "ExecuteTime": {
     "end_time": "2025-04-17T17:36:28.860449Z",
     "start_time": "2025-04-17T17:36:28.850450Z"
    }
   },
   "outputs": [
    {
     "name": "stdout",
     "output_type": "stream",
     "text": [
      "✅ Reject H₀: Region A churn rate is less than Region B\n"
     ]
    }
   ],
   "source": [
    "\n",
    "if (t_statistics < 0) and (p_value_one_tailed < alpha):\n",
    "    print(\"✅ Reject H₀: Region A churn rate is less than Region B\")\n",
    "else:\n",
    "    print(\"❌ Fail to reject H₀: Region A churn rate is greater than or equal to Region B\")"
   ]
  },
  {
   "cell_type": "markdown",
   "id": "31a2cb9c",
   "metadata": {},
   "source": [
    "Since p-value < 0.05, we reject the null hypothesis — there's significant evidence that Region A has a lower churn rate than Region B."
   ]
  },
  {
   "cell_type": "markdown",
   "id": "f12735eb",
   "metadata": {},
   "source": [
    "## 🔹 15. Two-tailed Independent Two-Sample t-test (Unequal Variance)\n",
    "\n",
    "**Q15.** Compare stock price volatility for two companies.  \n",
    "```python\n",
    "company_1 = [2.5, 2.6, 2.4, 2.7, 2.5]\n",
    "company_2 = [3.0, 3.1, 2.9, 3.2]\n",
    "```"
   ]
  },
  {
   "cell_type": "markdown",
   "id": "1f82944e",
   "metadata": {},
   "source": [
    "## 🔹 16. One-tailed One Sample t-test\n",
    "\n",
    "**Q16.** A data pipeline is claimed to run under 100 seconds. From logs:  \n",
    "`[98, 97, 99, 101, 96, 100, 102, 95]`. Test the claim."
   ]
  },
  {
   "cell_type": "markdown",
   "id": "a18d9bac",
   "metadata": {},
   "source": [
    "## 🔹 17. Two-tailed Independent Two-Sample t-test (Equal Variance)\n",
    "\n",
    "**Q17.** Compare scores of Data Science and Machine Learning courses:  \n",
    "```python\n",
    "ds_scores = [85, 88, 87, 86, 89]\n",
    "ml_scores = [90, 92, 89, 88, 91]\n",
    "```"
   ]
  },
  {
   "cell_type": "markdown",
   "id": "d16e6b61",
   "metadata": {},
   "source": [
    "## 🔹 18. Two-tailed Paired t-test (Dependent)\n",
    "\n",
    "**Q18.** Test knowledge gain in employees pre and post-training:  \n",
    "```python\n",
    "pre_test = [60, 65, 70, 62, 68]\n",
    "post_test = [75, 78, 80, 76, 79]\n",
    "```"
   ]
  },
  {
   "cell_type": "markdown",
   "id": "27ae3fbe",
   "metadata": {},
   "source": [
    "## 🔹 19. One-tailed Independent Two-Sample t-test (Unequal Variance)\n",
    "\n",
    "**Q19.** Test whether remote employees are more productive (tasks/day):  \n",
    "```python\n",
    "remote = [12, 14, 15, 13, 14]\n",
    "onsite = [10, 11, 9, 10, 12]\n",
    "```"
   ]
  },
  {
   "cell_type": "markdown",
   "id": "0043cdad",
   "metadata": {},
   "source": [
    "## 🔹 20. One-tailed One Sample t-test\n",
    "\n",
    "**Q20.** The minimum expected app rating is 4.0. Sample ratings:  \n",
    "`[4.1, 3.9, 4.2, 4.0, 3.8, 4.3]`."
   ]
  },
  {
   "cell_type": "markdown",
   "id": "363dbddc",
   "metadata": {},
   "source": [
    "## 🔹 21. Two-tailed Independent Two-Sample t-test (Equal Variance)\n",
    "\n",
    "**Q21.** Compare training completion times (in minutes):  \n",
    "```python\n",
    "team_1 = [45, 50, 48, 47, 49]\n",
    "team_2 = [46, 47, 50, 48, 45]\n",
    "```"
   ]
  },
  {
   "cell_type": "markdown",
   "id": "5061d437",
   "metadata": {},
   "source": [
    "## 🔹 22. Two-tailed One Sample t-test\n",
    "\n",
    "**Q22.** Is average app load time 1.5s?  \n",
    "`[1.4, 1.5, 1.6, 1.4, 1.5, 1.3]`."
   ]
  },
  {
   "cell_type": "markdown",
   "id": "b2f467c8",
   "metadata": {},
   "source": [
    "## 🔹 23. Two-tailed Paired t-test (Dependent)\n",
    "\n",
    "**Q23.** Compare spending behavior before and after promo:  \n",
    "```python\n",
    "before = [300, 320, 310, 290]\n",
    "after = [350, 370, 360, 340]\n",
    "```"
   ]
  },
  {
   "cell_type": "markdown",
   "id": "e317dc27",
   "metadata": {},
   "source": [
    "## 🔹 24. One-tailed Independent Two-Sample t-test (Unequal Variance)\n",
    "\n",
    "**Q24.** Test if mobile app users spend more than web users:  \n",
    "```python\n",
    "mobile = [180, 190, 200, 195]\n",
    "web = [170, 160, 165, 175]\n",
    "```"
   ]
  },
  {
   "cell_type": "markdown",
   "id": "2cf3fd44",
   "metadata": {},
   "source": [
    "## 🔹 25. One-tailed Paired t-test (Dependent)\n",
    "\n",
    "**Q25.** Did the number of daily steps increase after wearable usage?  \n",
    "```python\n",
    "before = [5000, 5200, 4800, 5100]\n",
    "after = [6500, 6700, 6400, 6600]\n",
    "```"
   ]
  },
  {
   "cell_type": "markdown",
   "id": "c11af93d",
   "metadata": {},
   "source": [
    "## 🔹 26. Two-tailed Independent Two-Sample t-test (Equal Variance)\n",
    "\n",
    "**Q26.** Test if new onboarding flow reduces drop-offs compared to the old one:  \n",
    "```python\n",
    "old = [0.30, 0.28, 0.29, 0.31]\n",
    "new = [0.25, 0.24, 0.26, 0.27]\n",
    "```"
   ]
  },
  {
   "cell_type": "markdown",
   "id": "3e0fcc17",
   "metadata": {},
   "source": [
    "## 🔹 27. Two-tailed One Sample t-test\n",
    "\n",
    "**Q27.** The claim is that users spend on average 15 minutes per session. Data:  \n",
    "`[14, 16, 15, 15, 14.5, 15.5]`."
   ]
  },
  {
   "cell_type": "markdown",
   "id": "1c753037",
   "metadata": {},
   "source": [
    "## 🔹 28. One-tailed Independent Two-Sample t-test (Equal Variance)\n",
    "\n",
    "**Q28.** Does ad version A generate higher CTR than version B?  \n",
    "```python\n",
    "ad_a = [0.09, 0.1, 0.08, 0.11]\n",
    "ad_b = [0.07, 0.06, 0.08, 0.09]\n",
    "```"
   ]
  },
  {
   "cell_type": "markdown",
   "id": "ffeb1efc",
   "metadata": {},
   "source": [
    "## 🔹 29. Two-tailed Independent Two-Sample t-test (Unequal Variance)\n",
    "\n",
    "**Q29.** Compare click-through rates across two regions:  \n",
    "```python\n",
    "region_x = [0.13, 0.14, 0.12, 0.15]\n",
    "region_y = [0.10, 0.09, 0.11]\n",
    "```"
   ]
  },
  {
   "cell_type": "markdown",
   "id": "a76704fe",
   "metadata": {},
   "source": [
    "## 🔹 30. Two-tailed Paired t-test (Dependent)\n",
    "\n",
    "**Q30.** Compare actual delivery times vs estimated delivery times:  \n",
    "```python\n",
    "estimated = [30, 28, 35, 32]\n",
    "actual = [32, 30, 36, 34]\n",
    "```"
   ]
  },
  {
   "cell_type": "markdown",
   "id": "03d7612c",
   "metadata": {
    "heading_collapsed": true
   },
   "source": [
    "# chi-square test (goodness of fit)"
   ]
  },
  {
   "cell_type": "code",
   "execution_count": 145,
   "id": "98b9066e",
   "metadata": {
    "ExecuteTime": {
     "end_time": "2025-04-13T20:10:08.758635Z",
     "start_time": "2025-04-13T20:10:08.742594Z"
    },
    "hidden": true
   },
   "outputs": [],
   "source": [
    "import numpy as np\n",
    "import scipy.stats as stats\n",
    "from scipy.stats import chisquare"
   ]
  },
  {
   "cell_type": "markdown",
   "id": "84cc0c91",
   "metadata": {
    "hidden": true
   },
   "source": [
    "## **1. Distribution of Sales Across Regions (April 2025)**"
   ]
  },
  {
   "cell_type": "markdown",
   "id": "8e7a0262",
   "metadata": {
    "hidden": true
   },
   "source": [
    "A company sells products in four different regions: North, South, East, and West. The expected sales distribution across these regions is 25% in each region. After conducting a survey for 1000 sales, the company finds the following distribution:\n",
    "\n",
    "- North: 260\n",
    "- South: 240\n",
    "- East: 250\n",
    "- West: 250\n",
    "\n",
    "**Question:** Perform a Chi-Square Goodness of Fit test to determine if the actual sales distribution matches the expected distribution."
   ]
  },
  {
   "cell_type": "code",
   "execution_count": 137,
   "id": "1ef2e2a4",
   "metadata": {
    "ExecuteTime": {
     "end_time": "2025-04-13T20:08:15.130041Z",
     "start_time": "2025-04-13T20:08:15.114043Z"
    },
    "hidden": true
   },
   "outputs": [],
   "source": [
    "observed_frequencies = np.array([260, 240, 250, 250])\n",
    "expected_frequencies = np.array([250,250,250,250])"
   ]
  },
  {
   "cell_type": "code",
   "execution_count": 142,
   "id": "afc120e2",
   "metadata": {
    "ExecuteTime": {
     "end_time": "2025-04-13T20:09:21.445572Z",
     "start_time": "2025-04-13T20:09:21.428409Z"
    },
    "hidden": true
   },
   "outputs": [
    {
     "data": {
      "text/plain": [
       "0.8"
      ]
     },
     "execution_count": 142,
     "metadata": {},
     "output_type": "execute_result"
    }
   ],
   "source": [
    "chi_square_statistic = np.sum((observed_frequencies - expected_frequencies) ** 2 / expected_frequencies)\n",
    "chi_square_statistic"
   ]
  },
  {
   "cell_type": "code",
   "execution_count": 141,
   "id": "249f681c",
   "metadata": {
    "ExecuteTime": {
     "end_time": "2025-04-13T20:09:04.702914Z",
     "start_time": "2025-04-13T20:09:04.690887Z"
    },
    "hidden": true
   },
   "outputs": [
    {
     "data": {
      "text/plain": [
       "0.8"
      ]
     },
     "execution_count": 141,
     "metadata": {},
     "output_type": "execute_result"
    }
   ],
   "source": [
    "# or\n",
    "differences = np.subtract(observed, expected)\n",
    "np.sum(differences**2/250)"
   ]
  },
  {
   "cell_type": "code",
   "execution_count": 143,
   "id": "b06710bf",
   "metadata": {
    "ExecuteTime": {
     "end_time": "2025-04-13T20:09:40.591236Z",
     "start_time": "2025-04-13T20:09:40.583131Z"
    },
    "hidden": true
   },
   "outputs": [
    {
     "data": {
      "text/plain": [
       "3"
      ]
     },
     "execution_count": 143,
     "metadata": {},
     "output_type": "execute_result"
    }
   ],
   "source": [
    "dof = len(observed_frequencies)-1\n",
    "dof"
   ]
  },
  {
   "cell_type": "code",
   "execution_count": 144,
   "id": "eb564059",
   "metadata": {
    "ExecuteTime": {
     "end_time": "2025-04-13T20:09:47.515391Z",
     "start_time": "2025-04-13T20:09:47.510391Z"
    },
    "hidden": true
   },
   "outputs": [],
   "source": [
    "alpha = 0.05"
   ]
  },
  {
   "cell_type": "code",
   "execution_count": 146,
   "id": "4f512200",
   "metadata": {
    "ExecuteTime": {
     "end_time": "2025-04-13T20:10:54.958483Z",
     "start_time": "2025-04-13T20:10:54.944160Z"
    },
    "hidden": true
   },
   "outputs": [
    {
     "data": {
      "text/plain": [
       "0.8494670333918255"
      ]
     },
     "execution_count": 146,
     "metadata": {},
     "output_type": "execute_result"
    }
   ],
   "source": [
    "p_value = 1 - stats.chi2.cdf(chi_square_statistic, dof)\n",
    "p_value"
   ]
  },
  {
   "cell_type": "markdown",
   "id": "3d889847",
   "metadata": {
    "hidden": true
   },
   "source": [
    "#### OR do using chisqure library"
   ]
  },
  {
   "cell_type": "code",
   "execution_count": 147,
   "id": "f3565876",
   "metadata": {
    "ExecuteTime": {
     "end_time": "2025-04-13T20:11:56.025271Z",
     "start_time": "2025-04-13T20:11:56.014284Z"
    },
    "hidden": true
   },
   "outputs": [
    {
     "data": {
      "text/plain": [
       "(0.8, 0.8494670333918255)"
      ]
     },
     "execution_count": 147,
     "metadata": {},
     "output_type": "execute_result"
    }
   ],
   "source": [
    "chi_square_statistic, p_value = chisquare(f_obs = observed_frequencies, f_exp=expected_frequencies)\n",
    "chi_square_statistic, p_value"
   ]
  },
  {
   "cell_type": "code",
   "execution_count": 148,
   "id": "6303719f",
   "metadata": {
    "ExecuteTime": {
     "end_time": "2025-04-13T20:12:08.236111Z",
     "start_time": "2025-04-13T20:12:08.221685Z"
    },
    "hidden": true
   },
   "outputs": [
    {
     "name": "stdout",
     "output_type": "stream",
     "text": [
      "Chi-Square Statistic: 0.8\n",
      "P-value: 0.8494670333918255\n"
     ]
    }
   ],
   "source": [
    "# Print the results\n",
    "print(f\"Chi-Square Statistic: {chi_square_statistic}\")\n",
    "# print(f\"Critical Value: {critical_value}\")\n",
    "print(f\"P-value: {p_value}\")"
   ]
  },
  {
   "cell_type": "code",
   "execution_count": 150,
   "id": "30c42f6a",
   "metadata": {
    "ExecuteTime": {
     "end_time": "2025-04-13T20:15:18.929464Z",
     "start_time": "2025-04-13T20:15:18.914094Z"
    },
    "hidden": true
   },
   "outputs": [
    {
     "name": "stdout",
     "output_type": "stream",
     "text": [
      "Fail to reject the null hypothesis:  The sales distribution matches the expected distribution.\n"
     ]
    }
   ],
   "source": [
    "# Check if the null hypothesis is rejected\n",
    "if p_value < alpha:\n",
    "    print(\"Reject the null hypothesis: The sales distribution does NOT match the expected distribution.\")\n",
    "else:\n",
    "    print(\"Fail to reject the null hypothesis:  The sales distribution matches the expected distribution.\")"
   ]
  },
  {
   "cell_type": "markdown",
   "id": "9136fe5c",
   "metadata": {
    "hidden": true
   },
   "source": [
    "The p-value is greater than 0.05, so we fail to reject the null hypothesis. This means the observed sales distribution is consistent with the expected uniform distribution."
   ]
  },
  {
   "cell_type": "markdown",
   "id": "7157955d",
   "metadata": {
    "hidden": true
   },
   "source": [
    "## **2. Customer Preference for Product Colors (April 2025)**"
   ]
  },
  {
   "cell_type": "markdown",
   "id": "fcbb5f6d",
   "metadata": {
    "hidden": true
   },
   "source": [
    "A retail company offers three colors for its product: Red, Blue, and Green. The company expects the following customer preference distribution:\n",
    "\n",
    "- Red: 40%\n",
    "- Blue: 35%\n",
    "- Green: 25%\n",
    "\n",
    "After surveying 500 customers, the following color preferences were recorded:\n",
    "\n",
    "- Red: 210\n",
    "- Blue: 160\n",
    "- Green: 130\n",
    "\n",
    "**Question:** Use the Chi-Square Goodness of Fit test to determine if the observed preferences significantly differ from the expected preferences."
   ]
  },
  {
   "cell_type": "code",
   "execution_count": 154,
   "id": "71ee4341",
   "metadata": {
    "ExecuteTime": {
     "end_time": "2025-04-13T20:24:54.621332Z",
     "start_time": "2025-04-13T20:24:54.605954Z"
    },
    "hidden": true
   },
   "outputs": [
    {
     "data": {
      "text/plain": [
       "([210, 160, 130], [200.0, 175.0, 125.0])"
      ]
     },
     "execution_count": 154,
     "metadata": {},
     "output_type": "execute_result"
    }
   ],
   "source": [
    "observed_frequencies = [210,160,130]\n",
    "\n",
    "expected_frequencies = [500*0.4, 500*0.35, 500*0.25]\n",
    "\n",
    "observed_frequencies, expected_frequencies"
   ]
  },
  {
   "cell_type": "code",
   "execution_count": 156,
   "id": "df83cb27",
   "metadata": {
    "ExecuteTime": {
     "end_time": "2025-04-13T20:34:59.504195Z",
     "start_time": "2025-04-13T20:34:59.487804Z"
    },
    "hidden": true
   },
   "outputs": [
    {
     "data": {
      "text/plain": [
       "1.9857142857142858"
      ]
     },
     "execution_count": 156,
     "metadata": {},
     "output_type": "execute_result"
    }
   ],
   "source": [
    "chi_square_statistic = np.sum((observed_frequencies - expected_frequencies) ** 2 / expected_frequencies)\n",
    "chi_square_statistic"
   ]
  },
  {
   "cell_type": "code",
   "execution_count": 157,
   "id": "14b80239",
   "metadata": {
    "ExecuteTime": {
     "end_time": "2025-04-13T20:36:16.140160Z",
     "start_time": "2025-04-13T20:36:16.126355Z"
    },
    "hidden": true
   },
   "outputs": [
    {
     "data": {
      "text/plain": [
       "2"
      ]
     },
     "execution_count": 157,
     "metadata": {},
     "output_type": "execute_result"
    }
   ],
   "source": [
    "dof = len(observed_frequencies) - 1\n",
    "dof"
   ]
  },
  {
   "cell_type": "code",
   "execution_count": 158,
   "id": "1fc25adb",
   "metadata": {
    "ExecuteTime": {
     "end_time": "2025-04-13T20:36:30.733404Z",
     "start_time": "2025-04-13T20:36:30.722896Z"
    },
    "hidden": true
   },
   "outputs": [],
   "source": [
    "alpha = 0.05"
   ]
  },
  {
   "cell_type": "code",
   "execution_count": 159,
   "id": "7b366741",
   "metadata": {
    "ExecuteTime": {
     "end_time": "2025-04-13T20:36:39.376878Z",
     "start_time": "2025-04-13T20:36:39.360802Z"
    },
    "hidden": true
   },
   "outputs": [
    {
     "data": {
      "text/plain": [
       "0.3705165585295789"
      ]
     },
     "execution_count": 159,
     "metadata": {},
     "output_type": "execute_result"
    }
   ],
   "source": [
    "p_value = 1 - stats.chi2.cdf(chi_square_statistic, dof)\n",
    "p_value"
   ]
  },
  {
   "cell_type": "markdown",
   "id": "7926a1e0",
   "metadata": {
    "hidden": true
   },
   "source": [
    "#### OR do using chisqure library"
   ]
  },
  {
   "cell_type": "code",
   "execution_count": 160,
   "id": "a1da18e2",
   "metadata": {
    "ExecuteTime": {
     "end_time": "2025-04-13T20:38:19.156582Z",
     "start_time": "2025-04-13T20:38:19.147583Z"
    },
    "hidden": true
   },
   "outputs": [
    {
     "data": {
      "text/plain": [
       "(1.9857142857142858, 0.37051655852957893)"
      ]
     },
     "execution_count": 160,
     "metadata": {},
     "output_type": "execute_result"
    }
   ],
   "source": [
    "chi_square_statistic, p_value = chisquare(f_obs=observed_frequencies, f_exp=expected_frequencies)\n",
    "chi_square_statistic, p_value"
   ]
  },
  {
   "cell_type": "code",
   "execution_count": 161,
   "id": "a98fa053",
   "metadata": {
    "ExecuteTime": {
     "end_time": "2025-04-13T20:38:30.428255Z",
     "start_time": "2025-04-13T20:38:30.418233Z"
    },
    "hidden": true
   },
   "outputs": [
    {
     "name": "stdout",
     "output_type": "stream",
     "text": [
      "Chi-Square Statistic: 1.9857142857142858\n",
      "P-value: 0.37051655852957893\n"
     ]
    }
   ],
   "source": [
    "# Print the results\n",
    "print(f\"Chi-Square Statistic: {chi_square_statistic}\")\n",
    "# print(f\"Critical Value: {critical_value}\")\n",
    "print(f\"P-value: {p_value}\")"
   ]
  },
  {
   "cell_type": "code",
   "execution_count": 162,
   "id": "a5f135e1",
   "metadata": {
    "ExecuteTime": {
     "end_time": "2025-04-13T20:39:03.730316Z",
     "start_time": "2025-04-13T20:39:03.717301Z"
    },
    "hidden": true
   },
   "outputs": [
    {
     "name": "stdout",
     "output_type": "stream",
     "text": [
      "Fail to reject the null hypothesis: Customer preferences do not significantly differ from the expected distribution.\n"
     ]
    }
   ],
   "source": [
    "\n",
    "if p_value < alpha:\n",
    "    print(\"Reject the null hypothesis: Customer preferences significantly differ from the expected distribution.\")\n",
    "else:\n",
    "    print(\"Fail to reject the null hypothesis: Customer preferences do not significantly differ from the expected distribution.\")"
   ]
  },
  {
   "cell_type": "markdown",
   "id": "6e387e9a",
   "metadata": {
    "hidden": true
   },
   "source": [
    "The p-value is greater than 0.05, so we fail to reject the null hypothesis. This means the observed preferences are consistent with the expected preferences."
   ]
  },
  {
   "cell_type": "markdown",
   "id": "6d46b614",
   "metadata": {
    "hidden": true
   },
   "source": [
    "### **3. Distribution of Education Levels in a City (April 2025)**\n",
    "\n",
    "The city government believes that 40% of the population has a high school diploma, 30% has a bachelor's degree, and 30% has a master's degree or higher. A sample of 800 people from the city shows the following educational attainment distribution:\n",
    "\n",
    "- High School: 350\n",
    "- Bachelor’s Degree: 230\n",
    "- Master’s Degree or Higher: 220\n",
    "\n",
    "**Question:** Perform a Chi-Square Goodness of Fit test to check if the observed distribution matches the expected one."
   ]
  },
  {
   "cell_type": "markdown",
   "id": "468c77fe",
   "metadata": {
    "hidden": true
   },
   "source": [
    "### **4. Voter Preferences in an Election (April 2025)**\n",
    "\n",
    "A political analyst is testing the hypothesis that voters in a district are equally likely to vote for one of three candidates: Candidate A, Candidate B, and Candidate C. A random sample of 900 voters yields the following preferences:\n",
    "\n",
    "- Candidate A: 350 votes\n",
    "- Candidate B: 300 votes\n",
    "- Candidate C: 250 votes\n",
    "\n",
    "**Question:** Use a Chi-Square Goodness of Fit test to check if the voter preferences are equally distributed."
   ]
  },
  {
   "cell_type": "markdown",
   "id": "6d5d3983",
   "metadata": {
    "hidden": true
   },
   "source": [
    "### **5. Gender Distribution in a Class (April 2025)**\n",
    "\n",
    "A university professor surveys a class of 100 students to determine if the class's gender distribution follows the expected 50/50 split between males and females. The observed distribution is:\n",
    "\n",
    "- Males: 55\n",
    "- Females: 45\n",
    "\n",
    "**Question:** Perform a Chi-Square Goodness of Fit test to determine if the observed gender distribution significantly differs from the expected 50/50 split."
   ]
  },
  {
   "cell_type": "markdown",
   "id": "3d3f94f6",
   "metadata": {
    "hidden": true
   },
   "source": [
    "### **6. Age Group Distribution in a Hospital (April 2025)**\n",
    "\n",
    "A hospital expects the following age distribution among its patients:\n",
    "\n",
    "- Under 18: 15%\n",
    "- 18-35: 25%\n",
    "- 36-60: 35%\n",
    "- Over 60: 25%\n",
    "\n",
    "After observing 1200 patients, the following age group distribution was recorded:\n",
    "\n",
    "- Under 18: 190\n",
    "- 18-35: 320\n",
    "- 36-60: 450\n",
    "- Over 60: 240\n",
    "\n",
    "**Question:** Conduct a Chi-Square Goodness of Fit test to see if the observed age group distribution matches the expected one."
   ]
  },
  {
   "cell_type": "markdown",
   "id": "c06e512e",
   "metadata": {
    "hidden": true
   },
   "source": [
    "### **7. Survey on Pet Ownership (April 2025)**\n",
    "\n",
    "A survey was conducted to determine the pet ownership distribution among a group of 500 respondents. The expected distribution is as follows:\n",
    "\n",
    "- Dog: 50%\n",
    "- Cat: 30%\n",
    "- Other pets: 20%\n",
    "\n",
    "The observed distribution from the survey is:\n",
    "\n",
    "- Dog: 260\n",
    "- Cat: 170\n",
    "- Other pets: 70\n",
    "\n",
    "**Question:** Perform a Chi-Square Goodness of Fit test to check if the observed pet ownership distribution differs from the expected one."
   ]
  },
  {
   "cell_type": "markdown",
   "id": "d5975e8d",
   "metadata": {
    "hidden": true
   },
   "source": [
    "### **8. Outcome of a Coin Toss (April 2025)**\n",
    "\n",
    "You are testing whether a coin is biased. After tossing the coin 200 times, you observe 120 heads and 80 tails. The null hypothesis is that the coin is fair, so the expected probability for heads and tails is 50%.\n",
    "\n",
    "**Question:** Use the Chi-Square Goodness of Fit test to determine if the coin toss outcomes significantly deviate from the expected 50/50 distribution."
   ]
  },
  {
   "cell_type": "markdown",
   "id": "549ba277",
   "metadata": {
    "hidden": true
   },
   "source": [
    "### **9. Restaurant Preferences Among Students (April 2025)**\n",
    "\n",
    "In a survey of 300 students, the following restaurant preference was recorded:\n",
    "\n",
    "- Fast Food: 40%\n",
    "- Casual Dining: 35%\n",
    "- Fine Dining: 25%\n",
    "\n",
    "The expected restaurant preference distribution is:\n",
    "\n",
    "- Fast Food: 50%\n",
    "- Casual Dining: 30%\n",
    "- Fine Dining: 20%\n",
    "\n",
    "**Question:** Use a Chi-Square Goodness of Fit test to determine if the observed preferences differ from the expected preferences."
   ]
  },
  {
   "cell_type": "markdown",
   "id": "5ae19dec",
   "metadata": {
    "hidden": true
   },
   "source": [
    "### **10. Distribution of Product Defects (April 2025)**\n",
    "\n",
    "A quality control department in a manufacturing plant inspects 500 products. The department expects the following defect distribution:\n",
    "\n",
    "- Minor Defects: 50%\n",
    "- Major Defects: 30%\n",
    "- No Defects: 20%\n",
    "\n",
    "The observed defect distribution from the sample is:\n",
    "\n",
    "- Minor Defects: 240\n",
    "- Major Defects: 180\n",
    "- No Defects: 80\n",
    "\n",
    "**Question:** Perform a Chi-Square Goodness of Fit test to determine if the observed defect distribution matches the expected distribution.\n",
    "\n"
   ]
  },
  {
   "cell_type": "markdown",
   "id": "538dc12f",
   "metadata": {
    "heading_collapsed": true
   },
   "source": [
    "# Chi-square (test for independece)"
   ]
  },
  {
   "cell_type": "markdown",
   "id": "ce398851",
   "metadata": {
    "hidden": true
   },
   "source": [
    "### Use `stats.chi2_contingency()` function to conduct a test of independence automatically given a frequency table of observed counts:"
   ]
  },
  {
   "cell_type": "markdown",
   "id": "bad2f3dd",
   "metadata": {
    "hidden": true
   },
   "source": [
    "### `ddof = (number of rows - 1) * (number of columns - 1)`"
   ]
  },
  {
   "cell_type": "code",
   "execution_count": 2,
   "id": "7a9b1dd9",
   "metadata": {
    "ExecuteTime": {
     "end_time": "2025-04-14T09:35:07.293738Z",
     "start_time": "2025-04-14T09:35:05.987198Z"
    },
    "hidden": true
   },
   "outputs": [
    {
     "name": "stderr",
     "output_type": "stream",
     "text": [
      "C:\\Users\\Asus\\AppData\\Roaming\\Python\\Python39\\site-packages\\pandas\\core\\arrays\\masked.py:60: UserWarning: Pandas requires version '1.3.6' or newer of 'bottleneck' (version '1.3.5' currently installed).\n",
      "  from pandas.core import (\n"
     ]
    }
   ],
   "source": [
    "import pandas as pd\n",
    "import numpy as np\n",
    "\n",
    "from scipy.stats import chi2_contingency"
   ]
  },
  {
   "cell_type": "markdown",
   "id": "21817beb",
   "metadata": {
    "hidden": true
   },
   "source": [
    "## 📅 [2025-04-14] – Q1\n",
    "\n",
    "**Is PromotionStatus dependent on Department?**"
   ]
  },
  {
   "cell_type": "code",
   "execution_count": 2,
   "id": "128812f5",
   "metadata": {
    "ExecuteTime": {
     "end_time": "2025-04-14T09:25:07.715251Z",
     "start_time": "2025-04-14T09:25:07.688004Z"
    },
    "hidden": true
   },
   "outputs": [
    {
     "data": {
      "text/html": [
       "<div>\n",
       "<style scoped>\n",
       "    .dataframe tbody tr th:only-of-type {\n",
       "        vertical-align: middle;\n",
       "    }\n",
       "\n",
       "    .dataframe tbody tr th {\n",
       "        vertical-align: top;\n",
       "    }\n",
       "\n",
       "    .dataframe thead th {\n",
       "        text-align: right;\n",
       "    }\n",
       "</style>\n",
       "<table border=\"1\" class=\"dataframe\">\n",
       "  <thead>\n",
       "    <tr style=\"text-align: right;\">\n",
       "      <th></th>\n",
       "      <th>Department</th>\n",
       "      <th>PromotionStatus</th>\n",
       "      <th>Count</th>\n",
       "    </tr>\n",
       "  </thead>\n",
       "  <tbody>\n",
       "    <tr>\n",
       "      <th>0</th>\n",
       "      <td>Sales</td>\n",
       "      <td>Promoted</td>\n",
       "      <td>40</td>\n",
       "    </tr>\n",
       "    <tr>\n",
       "      <th>1</th>\n",
       "      <td>Sales</td>\n",
       "      <td>Not Promoted</td>\n",
       "      <td>60</td>\n",
       "    </tr>\n",
       "    <tr>\n",
       "      <th>2</th>\n",
       "      <td>HR</td>\n",
       "      <td>Promoted</td>\n",
       "      <td>30</td>\n",
       "    </tr>\n",
       "    <tr>\n",
       "      <th>3</th>\n",
       "      <td>HR</td>\n",
       "      <td>Not Promoted</td>\n",
       "      <td>70</td>\n",
       "    </tr>\n",
       "    <tr>\n",
       "      <th>4</th>\n",
       "      <td>Tech</td>\n",
       "      <td>Promoted</td>\n",
       "      <td>90</td>\n",
       "    </tr>\n",
       "    <tr>\n",
       "      <th>5</th>\n",
       "      <td>Tech</td>\n",
       "      <td>Not Promoted</td>\n",
       "      <td>110</td>\n",
       "    </tr>\n",
       "  </tbody>\n",
       "</table>\n",
       "</div>"
      ],
      "text/plain": [
       "  Department PromotionStatus  Count\n",
       "0      Sales        Promoted     40\n",
       "1      Sales    Not Promoted     60\n",
       "2         HR        Promoted     30\n",
       "3         HR    Not Promoted     70\n",
       "4       Tech        Promoted     90\n",
       "5       Tech    Not Promoted    110"
      ]
     },
     "execution_count": 2,
     "metadata": {},
     "output_type": "execute_result"
    }
   ],
   "source": [
    "data = pd.DataFrame({\n",
    "    'Department': ['Sales', 'Sales', 'HR', 'HR', 'Tech', 'Tech'],\n",
    "    'PromotionStatus': ['Promoted', 'Not Promoted', 'Promoted', 'Not Promoted', 'Promoted', 'Not Promoted'],\n",
    "    'Count': [40, 60, 30, 70, 90, 110]\n",
    "})\n",
    "\n",
    "data"
   ]
  },
  {
   "cell_type": "markdown",
   "id": "532ab15a",
   "metadata": {
    "hidden": true
   },
   "source": [
    "### **🧪 Hypotheses**\n",
    "\n",
    "- **Null Hypothesis (H₀)**: PromotionStatus is **independent** of Department.  \n",
    "\n",
    "\n",
    "- **Alternate Hypothesis (H₁)**: PromotionStatus is **dependent** on Department."
   ]
  },
  {
   "cell_type": "code",
   "execution_count": 3,
   "id": "0ad79065",
   "metadata": {
    "ExecuteTime": {
     "end_time": "2025-04-14T09:25:08.815362Z",
     "start_time": "2025-04-14T09:25:08.803844Z"
    },
    "hidden": true
   },
   "outputs": [
    {
     "name": "stdout",
     "output_type": "stream",
     "text": [
      "📊 Contingency Table:\n",
      " PromotionStatus  Not Promoted  Promoted\n",
      "Department                             \n",
      "HR                         70        30\n",
      "Sales                      60        40\n",
      "Tech                      110        90\n"
     ]
    }
   ],
   "source": [
    "# Step 2: Create contingency table\n",
    "contingency_table = data.pivot(index='Department', columns='PromotionStatus', values='Count')\n",
    "print(\"📊 Contingency Table:\\n\", contingency_table)"
   ]
  },
  {
   "cell_type": "code",
   "execution_count": 4,
   "id": "59291a0f",
   "metadata": {
    "ExecuteTime": {
     "end_time": "2025-04-14T09:25:09.296866Z",
     "start_time": "2025-04-14T09:25:09.280026Z"
    },
    "hidden": true
   },
   "outputs": [],
   "source": [
    "# Step 3: Apply chi2_contingency\n",
    "chi2_stat, p_val, dof, expected = chi2_contingency(contingency_table)"
   ]
  },
  {
   "cell_type": "code",
   "execution_count": 5,
   "id": "d7959087",
   "metadata": {
    "ExecuteTime": {
     "end_time": "2025-04-14T09:25:09.809999Z",
     "start_time": "2025-04-14T09:25:09.795931Z"
    },
    "hidden": true
   },
   "outputs": [
    {
     "name": "stdout",
     "output_type": "stream",
     "text": [
      "\n",
      "🔍 Chi-Square Test Results:\n",
      "Chi2 Statistic     : 6.25\n",
      "Degrees of Freedom : 2\n",
      "P-value            : 0.04393693362340742\n"
     ]
    }
   ],
   "source": [
    "# Step 4: Display results\n",
    "print(\"\\n🔍 Chi-Square Test Results:\")\n",
    "print(f\"Chi2 Statistic     : {chi2_stat}\")\n",
    "print(f\"Degrees of Freedom : {dof}\")\n",
    "print(f\"P-value            : {p_val}\")"
   ]
  },
  {
   "cell_type": "code",
   "execution_count": 6,
   "id": "17763c23",
   "metadata": {
    "ExecuteTime": {
     "end_time": "2025-04-14T09:25:10.247253Z",
     "start_time": "2025-04-14T09:25:10.230876Z"
    },
    "hidden": true
   },
   "outputs": [
    {
     "name": "stdout",
     "output_type": "stream",
     "text": [
      "\n",
      "📈 Expected Frequencies:\n",
      " PromotionStatus  Not Promoted  Promoted\n",
      "Department                             \n",
      "HR                       60.0      40.0\n",
      "Sales                    60.0      40.0\n",
      "Tech                    120.0      80.0\n"
     ]
    }
   ],
   "source": [
    "# Step 5: Expected frequencies\n",
    "expected_df = pd.DataFrame(expected, index=contingency_table.index, columns=contingency_table.columns)\n",
    "print(\"\\n📈 Expected Frequencies:\\n\", expected_df)"
   ]
  },
  {
   "cell_type": "code",
   "execution_count": 7,
   "id": "a9802272",
   "metadata": {
    "ExecuteTime": {
     "end_time": "2025-04-14T09:25:10.575748Z",
     "start_time": "2025-04-14T09:25:10.562882Z"
    },
    "hidden": true
   },
   "outputs": [
    {
     "name": "stdout",
     "output_type": "stream",
     "text": [
      "\n",
      "✅ Reject the Null Hypothesis.\n",
      "👉 Conclusion: PromotionStatus is dependent on Department.\n"
     ]
    }
   ],
   "source": [
    "# Step 6: Interpretation\n",
    "alpha = 0.05\n",
    "if p_val < alpha:\n",
    "    print(\"\\n✅ Reject the Null Hypothesis.\")\n",
    "    print(\"👉 Conclusion: PromotionStatus is dependent on Department.\")\n",
    "else:\n",
    "    print(\"\\n❌ Fail to Reject the Null Hypothesis.\")\n",
    "    print(\"👉 Conclusion: PromotionStatus is independent of Department.\")"
   ]
  },
  {
   "cell_type": "markdown",
   "id": "f1947395",
   "metadata": {
    "hidden": true
   },
   "source": [
    "## 📅 [2025-04-13] – Q2\n",
    "\n",
    "**Is bank preference influenced by education level?**"
   ]
  },
  {
   "cell_type": "code",
   "execution_count": 3,
   "id": "6c8ca1a9",
   "metadata": {
    "ExecuteTime": {
     "end_time": "2025-04-14T09:35:11.333059Z",
     "start_time": "2025-04-14T09:35:11.312999Z"
    },
    "hidden": true
   },
   "outputs": [
    {
     "data": {
      "text/html": [
       "<div>\n",
       "<style scoped>\n",
       "    .dataframe tbody tr th:only-of-type {\n",
       "        vertical-align: middle;\n",
       "    }\n",
       "\n",
       "    .dataframe tbody tr th {\n",
       "        vertical-align: top;\n",
       "    }\n",
       "\n",
       "    .dataframe thead th {\n",
       "        text-align: right;\n",
       "    }\n",
       "</style>\n",
       "<table border=\"1\" class=\"dataframe\">\n",
       "  <thead>\n",
       "    <tr style=\"text-align: right;\">\n",
       "      <th></th>\n",
       "      <th>Education_Level</th>\n",
       "      <th>Preferred_Bank</th>\n",
       "      <th>Count</th>\n",
       "    </tr>\n",
       "  </thead>\n",
       "  <tbody>\n",
       "    <tr>\n",
       "      <th>0</th>\n",
       "      <td>High School</td>\n",
       "      <td>Bank A</td>\n",
       "      <td>25</td>\n",
       "    </tr>\n",
       "    <tr>\n",
       "      <th>1</th>\n",
       "      <td>Bachelor</td>\n",
       "      <td>Bank A</td>\n",
       "      <td>40</td>\n",
       "    </tr>\n",
       "    <tr>\n",
       "      <th>2</th>\n",
       "      <td>Master</td>\n",
       "      <td>Bank A</td>\n",
       "      <td>35</td>\n",
       "    </tr>\n",
       "    <tr>\n",
       "      <th>3</th>\n",
       "      <td>PhD</td>\n",
       "      <td>Bank A</td>\n",
       "      <td>10</td>\n",
       "    </tr>\n",
       "    <tr>\n",
       "      <th>4</th>\n",
       "      <td>High School</td>\n",
       "      <td>Bank B</td>\n",
       "      <td>30</td>\n",
       "    </tr>\n",
       "    <tr>\n",
       "      <th>5</th>\n",
       "      <td>Bachelor</td>\n",
       "      <td>Bank B</td>\n",
       "      <td>50</td>\n",
       "    </tr>\n",
       "    <tr>\n",
       "      <th>6</th>\n",
       "      <td>Master</td>\n",
       "      <td>Bank B</td>\n",
       "      <td>40</td>\n",
       "    </tr>\n",
       "    <tr>\n",
       "      <th>7</th>\n",
       "      <td>PhD</td>\n",
       "      <td>Bank B</td>\n",
       "      <td>20</td>\n",
       "    </tr>\n",
       "    <tr>\n",
       "      <th>8</th>\n",
       "      <td>High School</td>\n",
       "      <td>Bank C</td>\n",
       "      <td>45</td>\n",
       "    </tr>\n",
       "    <tr>\n",
       "      <th>9</th>\n",
       "      <td>Bachelor</td>\n",
       "      <td>Bank C</td>\n",
       "      <td>60</td>\n",
       "    </tr>\n",
       "    <tr>\n",
       "      <th>10</th>\n",
       "      <td>Master</td>\n",
       "      <td>Bank C</td>\n",
       "      <td>50</td>\n",
       "    </tr>\n",
       "    <tr>\n",
       "      <th>11</th>\n",
       "      <td>PhD</td>\n",
       "      <td>Bank C</td>\n",
       "      <td>25</td>\n",
       "    </tr>\n",
       "  </tbody>\n",
       "</table>\n",
       "</div>"
      ],
      "text/plain": [
       "   Education_Level Preferred_Bank  Count\n",
       "0      High School         Bank A     25\n",
       "1         Bachelor         Bank A     40\n",
       "2           Master         Bank A     35\n",
       "3              PhD         Bank A     10\n",
       "4      High School         Bank B     30\n",
       "5         Bachelor         Bank B     50\n",
       "6           Master         Bank B     40\n",
       "7              PhD         Bank B     20\n",
       "8      High School         Bank C     45\n",
       "9         Bachelor         Bank C     60\n",
       "10          Master         Bank C     50\n",
       "11             PhD         Bank C     25"
      ]
     },
     "execution_count": 3,
     "metadata": {},
     "output_type": "execute_result"
    }
   ],
   "source": [
    "\n",
    "data = pd.DataFrame({\n",
    "    'Education_Level': ['High School', 'Bachelor', 'Master', 'PhD'] * 3,\n",
    "    'Preferred_Bank': ['Bank A']*4 + ['Bank B']*4 + ['Bank C']*4,\n",
    "    'Count': [25, 40, 35, 10, 30, 50, 40, 20, 45, 60, 50, 25]\n",
    "})\n",
    "\n",
    "data"
   ]
  },
  {
   "cell_type": "markdown",
   "id": "30e586b1",
   "metadata": {
    "hidden": true
   },
   "source": [
    "### **🧪 Hypotheses**\n",
    "\n",
    "- **Null Hypothesis (H₀)**: Bank preference is **independent** of education level.\n",
    "\n",
    "\n",
    "- **Alternate Hypothesis (H₁)**: Bank preference is **influenced by** (dependent on) education level."
   ]
  },
  {
   "cell_type": "code",
   "execution_count": 4,
   "id": "1553d08c",
   "metadata": {
    "ExecuteTime": {
     "end_time": "2025-04-14T09:35:13.087961Z",
     "start_time": "2025-04-14T09:35:13.073447Z"
    },
    "hidden": true
   },
   "outputs": [],
   "source": [
    "contingency_table = data.pivot(columns='Preferred_Bank',index='Education_Level',values='Count')"
   ]
  },
  {
   "cell_type": "code",
   "execution_count": 5,
   "id": "e763b914",
   "metadata": {
    "ExecuteTime": {
     "end_time": "2025-04-14T09:35:13.571547Z",
     "start_time": "2025-04-14T09:35:13.556618Z"
    },
    "hidden": true
   },
   "outputs": [
    {
     "data": {
      "text/html": [
       "<div>\n",
       "<style scoped>\n",
       "    .dataframe tbody tr th:only-of-type {\n",
       "        vertical-align: middle;\n",
       "    }\n",
       "\n",
       "    .dataframe tbody tr th {\n",
       "        vertical-align: top;\n",
       "    }\n",
       "\n",
       "    .dataframe thead th {\n",
       "        text-align: right;\n",
       "    }\n",
       "</style>\n",
       "<table border=\"1\" class=\"dataframe\">\n",
       "  <thead>\n",
       "    <tr style=\"text-align: right;\">\n",
       "      <th>Preferred_Bank</th>\n",
       "      <th>Bank A</th>\n",
       "      <th>Bank B</th>\n",
       "      <th>Bank C</th>\n",
       "    </tr>\n",
       "    <tr>\n",
       "      <th>Education_Level</th>\n",
       "      <th></th>\n",
       "      <th></th>\n",
       "      <th></th>\n",
       "    </tr>\n",
       "  </thead>\n",
       "  <tbody>\n",
       "    <tr>\n",
       "      <th>Bachelor</th>\n",
       "      <td>40</td>\n",
       "      <td>50</td>\n",
       "      <td>60</td>\n",
       "    </tr>\n",
       "    <tr>\n",
       "      <th>High School</th>\n",
       "      <td>25</td>\n",
       "      <td>30</td>\n",
       "      <td>45</td>\n",
       "    </tr>\n",
       "    <tr>\n",
       "      <th>Master</th>\n",
       "      <td>35</td>\n",
       "      <td>40</td>\n",
       "      <td>50</td>\n",
       "    </tr>\n",
       "    <tr>\n",
       "      <th>PhD</th>\n",
       "      <td>10</td>\n",
       "      <td>20</td>\n",
       "      <td>25</td>\n",
       "    </tr>\n",
       "  </tbody>\n",
       "</table>\n",
       "</div>"
      ],
      "text/plain": [
       "Preferred_Bank   Bank A  Bank B  Bank C\n",
       "Education_Level                        \n",
       "Bachelor             40      50      60\n",
       "High School          25      30      45\n",
       "Master               35      40      50\n",
       "PhD                  10      20      25"
      ]
     },
     "execution_count": 5,
     "metadata": {},
     "output_type": "execute_result"
    }
   ],
   "source": [
    "contingency_table"
   ]
  },
  {
   "cell_type": "code",
   "execution_count": 10,
   "id": "9ce7ac9a",
   "metadata": {
    "ExecuteTime": {
     "end_time": "2025-04-14T09:36:09.958790Z",
     "start_time": "2025-04-14T09:36:09.944239Z"
    },
    "hidden": true
   },
   "outputs": [],
   "source": [
    "chi2_stat, p_val, dof, expected = chi2_contingency(contingency_table)"
   ]
  },
  {
   "cell_type": "code",
   "execution_count": 11,
   "id": "55011d85",
   "metadata": {
    "ExecuteTime": {
     "end_time": "2025-04-14T09:36:10.240633Z",
     "start_time": "2025-04-14T09:36:10.236124Z"
    },
    "hidden": true
   },
   "outputs": [
    {
     "name": "stdout",
     "output_type": "stream",
     "text": [
      "\n",
      "🔍 Chi-Square Test Results:\n",
      "Chi2 Statistic     : 2.6631739472648555\n",
      "Degrees of Freedom : 6\n",
      "P-value            : 0.849777564361095\n"
     ]
    }
   ],
   "source": [
    "# Step 4: Display results\n",
    "print(\"\\n🔍 Chi-Square Test Results:\")\n",
    "print(f\"Chi2 Statistic     : {chi2_stat}\")\n",
    "print(f\"Degrees of Freedom : {dof}\")\n",
    "print(f\"P-value            : {p_val}\")"
   ]
  },
  {
   "cell_type": "code",
   "execution_count": 12,
   "id": "70916e1e",
   "metadata": {
    "ExecuteTime": {
     "end_time": "2025-04-14T09:36:11.097764Z",
     "start_time": "2025-04-14T09:36:11.084241Z"
    },
    "hidden": true
   },
   "outputs": [
    {
     "name": "stdout",
     "output_type": "stream",
     "text": [
      "\n",
      "📈 Expected Frequencies:\n",
      " Preferred_Bank      Bank A     Bank B     Bank C\n",
      "Education_Level                                 \n",
      "Bachelor         38.372093  48.837209  62.790698\n",
      "High School      25.581395  32.558140  41.860465\n",
      "Master           31.976744  40.697674  52.325581\n",
      "PhD              14.069767  17.906977  23.023256\n"
     ]
    }
   ],
   "source": [
    "# Step 5: Expected frequencies\n",
    "expected_df = pd.DataFrame(expected, index=contingency_table.index, columns=contingency_table.columns)\n",
    "print(\"\\n📈 Expected Frequencies:\\n\", expected_df)"
   ]
  },
  {
   "cell_type": "code",
   "execution_count": 13,
   "id": "2a7886a3",
   "metadata": {
    "ExecuteTime": {
     "end_time": "2025-04-14T09:36:12.512802Z",
     "start_time": "2025-04-14T09:36:12.496984Z"
    },
    "hidden": true
   },
   "outputs": [
    {
     "name": "stdout",
     "output_type": "stream",
     "text": [
      "\n",
      "❌ Fail to Reject the Null Hypothesis.\n",
      "👉 Conclusion: Bank preference is independent of education level.\n"
     ]
    }
   ],
   "source": [
    "# Step 6: Interpretation\n",
    "alpha = 0.05\n",
    "if p_val < alpha:\n",
    "    print(\"\\n✅ Reject the Null Hypothesis.\")\n",
    "    print(\"👉 Conclusion: Bank preference is influenced by education level.\")\n",
    "else:\n",
    "    print(\"\\n❌ Fail to Reject the Null Hypothesis.\")\n",
    "    print(\"👉 Conclusion: Bank preference is independent of education level.\")"
   ]
  },
  {
   "cell_type": "markdown",
   "id": "f2aa5878",
   "metadata": {
    "hidden": true
   },
   "source": [
    "## 📅 [2025-04-12] – Q3\n",
    "**Is smoking status associated with heart disease?**"
   ]
  },
  {
   "cell_type": "code",
   "execution_count": 14,
   "id": "974224fc",
   "metadata": {
    "ExecuteTime": {
     "end_time": "2025-04-14T09:40:23.749807Z",
     "start_time": "2025-04-14T09:40:23.729546Z"
    },
    "hidden": true
   },
   "outputs": [
    {
     "data": {
      "text/html": [
       "<div>\n",
       "<style scoped>\n",
       "    .dataframe tbody tr th:only-of-type {\n",
       "        vertical-align: middle;\n",
       "    }\n",
       "\n",
       "    .dataframe tbody tr th {\n",
       "        vertical-align: top;\n",
       "    }\n",
       "\n",
       "    .dataframe thead th {\n",
       "        text-align: right;\n",
       "    }\n",
       "</style>\n",
       "<table border=\"1\" class=\"dataframe\">\n",
       "  <thead>\n",
       "    <tr style=\"text-align: right;\">\n",
       "      <th></th>\n",
       "      <th>Smoking_Status</th>\n",
       "      <th>Has_Heart_Disease</th>\n",
       "      <th>Count</th>\n",
       "    </tr>\n",
       "  </thead>\n",
       "  <tbody>\n",
       "    <tr>\n",
       "      <th>0</th>\n",
       "      <td>Smoker</td>\n",
       "      <td>Yes</td>\n",
       "      <td>80</td>\n",
       "    </tr>\n",
       "    <tr>\n",
       "      <th>1</th>\n",
       "      <td>Smoker</td>\n",
       "      <td>No</td>\n",
       "      <td>120</td>\n",
       "    </tr>\n",
       "    <tr>\n",
       "      <th>2</th>\n",
       "      <td>Non-Smoker</td>\n",
       "      <td>Yes</td>\n",
       "      <td>40</td>\n",
       "    </tr>\n",
       "    <tr>\n",
       "      <th>3</th>\n",
       "      <td>Non-Smoker</td>\n",
       "      <td>No</td>\n",
       "      <td>160</td>\n",
       "    </tr>\n",
       "  </tbody>\n",
       "</table>\n",
       "</div>"
      ],
      "text/plain": [
       "  Smoking_Status Has_Heart_Disease  Count\n",
       "0         Smoker               Yes     80\n",
       "1         Smoker                No    120\n",
       "2     Non-Smoker               Yes     40\n",
       "3     Non-Smoker                No    160"
      ]
     },
     "execution_count": 14,
     "metadata": {},
     "output_type": "execute_result"
    }
   ],
   "source": [
    "\n",
    "data = pd.DataFrame({\n",
    "    'Smoking_Status': ['Smoker', 'Smoker', 'Non-Smoker', 'Non-Smoker'],\n",
    "    'Has_Heart_Disease': ['Yes', 'No', 'Yes', 'No'],\n",
    "    'Count': [80, 120, 40, 160]\n",
    "})\n",
    "data"
   ]
  },
  {
   "cell_type": "markdown",
   "id": "6af1239e",
   "metadata": {
    "hidden": true
   },
   "source": [
    "\n",
    "### **🧪 Hypotheses**\n",
    "\n",
    "- **Null Hypothesis (H₀):**  \n",
    "🧘‍♂️ *Smoking status is independent of heart disease.*  \n",
    "(*There is no association between smoking and heart disease.*)\n",
    "\n",
    "\n",
    "\n",
    "- **Alternate Hypothesis (H₁):**  \n",
    "🚭❤️ *Smoking status is associated with heart disease.*  \n",
    "(*There **is** a statistically significant relationship between smoking and heart disease.*)\n"
   ]
  },
  {
   "cell_type": "code",
   "execution_count": 16,
   "id": "363a5172",
   "metadata": {
    "ExecuteTime": {
     "end_time": "2025-04-14T09:44:16.534194Z",
     "start_time": "2025-04-14T09:44:16.515179Z"
    },
    "hidden": true
   },
   "outputs": [
    {
     "data": {
      "text/html": [
       "<div>\n",
       "<style scoped>\n",
       "    .dataframe tbody tr th:only-of-type {\n",
       "        vertical-align: middle;\n",
       "    }\n",
       "\n",
       "    .dataframe tbody tr th {\n",
       "        vertical-align: top;\n",
       "    }\n",
       "\n",
       "    .dataframe thead th {\n",
       "        text-align: right;\n",
       "    }\n",
       "</style>\n",
       "<table border=\"1\" class=\"dataframe\">\n",
       "  <thead>\n",
       "    <tr style=\"text-align: right;\">\n",
       "      <th>Has_Heart_Disease</th>\n",
       "      <th>No</th>\n",
       "      <th>Yes</th>\n",
       "    </tr>\n",
       "    <tr>\n",
       "      <th>Smoking_Status</th>\n",
       "      <th></th>\n",
       "      <th></th>\n",
       "    </tr>\n",
       "  </thead>\n",
       "  <tbody>\n",
       "    <tr>\n",
       "      <th>Non-Smoker</th>\n",
       "      <td>160</td>\n",
       "      <td>40</td>\n",
       "    </tr>\n",
       "    <tr>\n",
       "      <th>Smoker</th>\n",
       "      <td>120</td>\n",
       "      <td>80</td>\n",
       "    </tr>\n",
       "  </tbody>\n",
       "</table>\n",
       "</div>"
      ],
      "text/plain": [
       "Has_Heart_Disease   No  Yes\n",
       "Smoking_Status             \n",
       "Non-Smoker         160   40\n",
       "Smoker             120   80"
      ]
     },
     "execution_count": 16,
     "metadata": {},
     "output_type": "execute_result"
    }
   ],
   "source": [
    "contingency_table = data.pivot(index='Smoking_Status', columns='Has_Heart_Disease', values='Count')\n",
    "contingency_table"
   ]
  },
  {
   "cell_type": "code",
   "execution_count": 17,
   "id": "94531ffe",
   "metadata": {
    "ExecuteTime": {
     "end_time": "2025-04-14T09:45:34.839922Z",
     "start_time": "2025-04-14T09:45:34.822923Z"
    },
    "hidden": true
   },
   "outputs": [],
   "source": [
    "chi_stats, p_val, dof, expected = chi2_contingency(contingency_table)"
   ]
  },
  {
   "cell_type": "code",
   "execution_count": 18,
   "id": "72920004",
   "metadata": {
    "ExecuteTime": {
     "end_time": "2025-04-14T09:45:44.483848Z",
     "start_time": "2025-04-14T09:45:44.479847Z"
    },
    "hidden": true
   },
   "outputs": [
    {
     "name": "stdout",
     "output_type": "stream",
     "text": [
      "\n",
      "🔍 Chi-Square Test Results:\n",
      "Chi2 Statistic     : 2.6631739472648555\n",
      "Degrees of Freedom : 1\n",
      "P-value            : 2.0881663011151384e-05\n"
     ]
    }
   ],
   "source": [
    "# Step 4: Display results\n",
    "print(\"\\n🔍 Chi-Square Test Results:\")\n",
    "print(f\"Chi2 Statistic     : {chi2_stat}\")\n",
    "print(f\"Degrees of Freedom : {dof}\")\n",
    "print(f\"P-value            : {p_val}\")"
   ]
  },
  {
   "cell_type": "code",
   "execution_count": 19,
   "id": "57c9cdb5",
   "metadata": {
    "ExecuteTime": {
     "end_time": "2025-04-14T09:46:21.770742Z",
     "start_time": "2025-04-14T09:46:21.759729Z"
    },
    "hidden": true
   },
   "outputs": [
    {
     "data": {
      "text/html": [
       "<div>\n",
       "<style scoped>\n",
       "    .dataframe tbody tr th:only-of-type {\n",
       "        vertical-align: middle;\n",
       "    }\n",
       "\n",
       "    .dataframe tbody tr th {\n",
       "        vertical-align: top;\n",
       "    }\n",
       "\n",
       "    .dataframe thead th {\n",
       "        text-align: right;\n",
       "    }\n",
       "</style>\n",
       "<table border=\"1\" class=\"dataframe\">\n",
       "  <thead>\n",
       "    <tr style=\"text-align: right;\">\n",
       "      <th>Has_Heart_Disease</th>\n",
       "      <th>No</th>\n",
       "      <th>Yes</th>\n",
       "    </tr>\n",
       "    <tr>\n",
       "      <th>Smoking_Status</th>\n",
       "      <th></th>\n",
       "      <th></th>\n",
       "    </tr>\n",
       "  </thead>\n",
       "  <tbody>\n",
       "    <tr>\n",
       "      <th>Non-Smoker</th>\n",
       "      <td>140.0</td>\n",
       "      <td>60.0</td>\n",
       "    </tr>\n",
       "    <tr>\n",
       "      <th>Smoker</th>\n",
       "      <td>140.0</td>\n",
       "      <td>60.0</td>\n",
       "    </tr>\n",
       "  </tbody>\n",
       "</table>\n",
       "</div>"
      ],
      "text/plain": [
       "Has_Heart_Disease     No   Yes\n",
       "Smoking_Status                \n",
       "Non-Smoker         140.0  60.0\n",
       "Smoker             140.0  60.0"
      ]
     },
     "execution_count": 19,
     "metadata": {},
     "output_type": "execute_result"
    }
   ],
   "source": [
    "expected_df = pd.DataFrame(expected, columns=contingency_table.columns, index=contingency_table.index)\n",
    "expected_df"
   ]
  },
  {
   "cell_type": "code",
   "execution_count": 20,
   "id": "2786c919",
   "metadata": {
    "ExecuteTime": {
     "end_time": "2025-04-14T09:47:41.302573Z",
     "start_time": "2025-04-14T09:47:41.296574Z"
    },
    "hidden": true
   },
   "outputs": [
    {
     "name": "stdout",
     "output_type": "stream",
     "text": [
      "\n",
      "✅ Reject the Null Hypothesis.\n",
      "👉 Conclusion: smoking status is associated with heart disease.\n"
     ]
    }
   ],
   "source": [
    "alpha = 0.05\n",
    "if p_val < alpha:\n",
    "    print(\"\\n✅ Reject the Null Hypothesis.\")\n",
    "    print(\"👉 Conclusion: smoking status is associated with heart disease.\")\n",
    "else:\n",
    "    print(\"\\n❌ Fail to Reject the Null Hypothesis.\")\n",
    "    print(\"👉 Conclusion: smoking status is not associated with heart disease.\")"
   ]
  },
  {
   "cell_type": "markdown",
   "id": "0e6c1468",
   "metadata": {
    "hidden": true
   },
   "source": [
    "## 📅 [2025-04-11] – Q4\n",
    "\n",
    "**Are purchase frequencies dependent on payment method?**"
   ]
  },
  {
   "cell_type": "code",
   "execution_count": 21,
   "id": "8fff91e5",
   "metadata": {
    "ExecuteTime": {
     "end_time": "2025-04-14T09:55:19.441665Z",
     "start_time": "2025-04-14T09:55:19.425078Z"
    },
    "hidden": true
   },
   "outputs": [
    {
     "data": {
      "text/html": [
       "<div>\n",
       "<style scoped>\n",
       "    .dataframe tbody tr th:only-of-type {\n",
       "        vertical-align: middle;\n",
       "    }\n",
       "\n",
       "    .dataframe tbody tr th {\n",
       "        vertical-align: top;\n",
       "    }\n",
       "\n",
       "    .dataframe thead th {\n",
       "        text-align: right;\n",
       "    }\n",
       "</style>\n",
       "<table border=\"1\" class=\"dataframe\">\n",
       "  <thead>\n",
       "    <tr style=\"text-align: right;\">\n",
       "      <th></th>\n",
       "      <th>Online_Shopping_Frequency</th>\n",
       "      <th>Payment_Method</th>\n",
       "      <th>Count</th>\n",
       "    </tr>\n",
       "  </thead>\n",
       "  <tbody>\n",
       "    <tr>\n",
       "      <th>0</th>\n",
       "      <td>Frequent</td>\n",
       "      <td>Credit Card</td>\n",
       "      <td>90</td>\n",
       "    </tr>\n",
       "    <tr>\n",
       "      <th>1</th>\n",
       "      <td>Frequent</td>\n",
       "      <td>UPI</td>\n",
       "      <td>60</td>\n",
       "    </tr>\n",
       "    <tr>\n",
       "      <th>2</th>\n",
       "      <td>Occasional</td>\n",
       "      <td>Credit Card</td>\n",
       "      <td>70</td>\n",
       "    </tr>\n",
       "    <tr>\n",
       "      <th>3</th>\n",
       "      <td>Occasional</td>\n",
       "      <td>UPI</td>\n",
       "      <td>80</td>\n",
       "    </tr>\n",
       "    <tr>\n",
       "      <th>4</th>\n",
       "      <td>Never</td>\n",
       "      <td>Credit Card</td>\n",
       "      <td>20</td>\n",
       "    </tr>\n",
       "    <tr>\n",
       "      <th>5</th>\n",
       "      <td>Never</td>\n",
       "      <td>UPI</td>\n",
       "      <td>40</td>\n",
       "    </tr>\n",
       "  </tbody>\n",
       "</table>\n",
       "</div>"
      ],
      "text/plain": [
       "  Online_Shopping_Frequency Payment_Method  Count\n",
       "0                  Frequent    Credit Card     90\n",
       "1                  Frequent            UPI     60\n",
       "2                Occasional    Credit Card     70\n",
       "3                Occasional            UPI     80\n",
       "4                     Never    Credit Card     20\n",
       "5                     Never            UPI     40"
      ]
     },
     "execution_count": 21,
     "metadata": {},
     "output_type": "execute_result"
    }
   ],
   "source": [
    "data = pd.DataFrame({\n",
    "    'Online_Shopping_Frequency': ['Frequent', 'Frequent', 'Occasional', 'Occasional', 'Never', 'Never'],\n",
    "    'Payment_Method': ['Credit Card', 'UPI', 'Credit Card', 'UPI', 'Credit Card', 'UPI'],\n",
    "    'Count': [90, 60, 70, 80, 20, 40]\n",
    "})\n",
    "\n",
    "data"
   ]
  },
  {
   "cell_type": "markdown",
   "id": "6f179a2b",
   "metadata": {
    "hidden": true
   },
   "source": [
    "\n",
    "\n",
    "### **🧪 Hypotheses**\n",
    "\n",
    "- **Null Hypothesis (H₀):**  \n",
    "🧾💳 *Purchase frequency is independent of payment method.*  \n",
    "(*The way people pay does not affect how frequently they make purchases.*)\n",
    "\n",
    "\n",
    "\n",
    "- **Alternate Hypothesis (H₁):**  \n",
    "🧾💳 *Purchase frequency is dependent on payment method.*  \n",
    "(*The choice of payment method has an impact on purchase frequency.*)\n"
   ]
  },
  {
   "cell_type": "code",
   "execution_count": 22,
   "id": "8f0807ea",
   "metadata": {
    "ExecuteTime": {
     "end_time": "2025-04-14T09:56:36.715490Z",
     "start_time": "2025-04-14T09:56:36.696858Z"
    },
    "hidden": true
   },
   "outputs": [
    {
     "data": {
      "text/html": [
       "<div>\n",
       "<style scoped>\n",
       "    .dataframe tbody tr th:only-of-type {\n",
       "        vertical-align: middle;\n",
       "    }\n",
       "\n",
       "    .dataframe tbody tr th {\n",
       "        vertical-align: top;\n",
       "    }\n",
       "\n",
       "    .dataframe thead th {\n",
       "        text-align: right;\n",
       "    }\n",
       "</style>\n",
       "<table border=\"1\" class=\"dataframe\">\n",
       "  <thead>\n",
       "    <tr style=\"text-align: right;\">\n",
       "      <th>Payment_Method</th>\n",
       "      <th>Credit Card</th>\n",
       "      <th>UPI</th>\n",
       "    </tr>\n",
       "    <tr>\n",
       "      <th>Online_Shopping_Frequency</th>\n",
       "      <th></th>\n",
       "      <th></th>\n",
       "    </tr>\n",
       "  </thead>\n",
       "  <tbody>\n",
       "    <tr>\n",
       "      <th>Frequent</th>\n",
       "      <td>90</td>\n",
       "      <td>60</td>\n",
       "    </tr>\n",
       "    <tr>\n",
       "      <th>Never</th>\n",
       "      <td>20</td>\n",
       "      <td>40</td>\n",
       "    </tr>\n",
       "    <tr>\n",
       "      <th>Occasional</th>\n",
       "      <td>70</td>\n",
       "      <td>80</td>\n",
       "    </tr>\n",
       "  </tbody>\n",
       "</table>\n",
       "</div>"
      ],
      "text/plain": [
       "Payment_Method             Credit Card  UPI\n",
       "Online_Shopping_Frequency                  \n",
       "Frequent                            90   60\n",
       "Never                               20   40\n",
       "Occasional                          70   80"
      ]
     },
     "execution_count": 22,
     "metadata": {},
     "output_type": "execute_result"
    }
   ],
   "source": [
    "contingency_table = data.pivot(columns='Payment_Method', index='Online_Shopping_Frequency', values='Count')\n",
    "contingency_table"
   ]
  },
  {
   "cell_type": "code",
   "execution_count": 23,
   "id": "742da3ac",
   "metadata": {
    "ExecuteTime": {
     "end_time": "2025-04-14T09:57:06.263178Z",
     "start_time": "2025-04-14T09:57:06.253152Z"
    },
    "hidden": true
   },
   "outputs": [],
   "source": [
    "chi2_stat, p_val, dof, expected = chi2_contingency(contingency_table)"
   ]
  },
  {
   "cell_type": "code",
   "execution_count": 25,
   "id": "ae249f8f",
   "metadata": {
    "ExecuteTime": {
     "end_time": "2025-04-14T09:58:10.383806Z",
     "start_time": "2025-04-14T09:58:10.373535Z"
    },
    "hidden": true
   },
   "outputs": [
    {
     "data": {
      "text/html": [
       "<div>\n",
       "<style scoped>\n",
       "    .dataframe tbody tr th:only-of-type {\n",
       "        vertical-align: middle;\n",
       "    }\n",
       "\n",
       "    .dataframe tbody tr th {\n",
       "        vertical-align: top;\n",
       "    }\n",
       "\n",
       "    .dataframe thead th {\n",
       "        text-align: right;\n",
       "    }\n",
       "</style>\n",
       "<table border=\"1\" class=\"dataframe\">\n",
       "  <thead>\n",
       "    <tr style=\"text-align: right;\">\n",
       "      <th>Payment_Method</th>\n",
       "      <th>Credit Card</th>\n",
       "      <th>UPI</th>\n",
       "    </tr>\n",
       "    <tr>\n",
       "      <th>Online_Shopping_Frequency</th>\n",
       "      <th></th>\n",
       "      <th></th>\n",
       "    </tr>\n",
       "  </thead>\n",
       "  <tbody>\n",
       "    <tr>\n",
       "      <th>Frequent</th>\n",
       "      <td>75.0</td>\n",
       "      <td>75.0</td>\n",
       "    </tr>\n",
       "    <tr>\n",
       "      <th>Never</th>\n",
       "      <td>30.0</td>\n",
       "      <td>30.0</td>\n",
       "    </tr>\n",
       "    <tr>\n",
       "      <th>Occasional</th>\n",
       "      <td>75.0</td>\n",
       "      <td>75.0</td>\n",
       "    </tr>\n",
       "  </tbody>\n",
       "</table>\n",
       "</div>"
      ],
      "text/plain": [
       "Payment_Method             Credit Card   UPI\n",
       "Online_Shopping_Frequency                   \n",
       "Frequent                          75.0  75.0\n",
       "Never                             30.0  30.0\n",
       "Occasional                        75.0  75.0"
      ]
     },
     "execution_count": 25,
     "metadata": {},
     "output_type": "execute_result"
    }
   ],
   "source": [
    "expected_df = pd.DataFrame(expected, columns=contingency_table.columns, index=contingency_table.index)\n",
    "expected_df"
   ]
  },
  {
   "cell_type": "code",
   "execution_count": 24,
   "id": "9bfc158a",
   "metadata": {
    "ExecuteTime": {
     "end_time": "2025-04-14T09:57:16.614689Z",
     "start_time": "2025-04-14T09:57:16.609589Z"
    },
    "hidden": true
   },
   "outputs": [
    {
     "name": "stdout",
     "output_type": "stream",
     "text": [
      "\n",
      "🔍 Chi-Square Test Results:\n",
      "Chi2 Statistic     : 13.333333333333336\n",
      "Degrees of Freedom : 2\n",
      "P-value            : 0.0012726338013398066\n"
     ]
    }
   ],
   "source": [
    "# Step 4: Display results\n",
    "print(\"\\n🔍 Chi-Square Test Results:\")\n",
    "print(f\"Chi2 Statistic     : {chi2_stat}\")\n",
    "print(f\"Degrees of Freedom : {dof}\")\n",
    "print(f\"P-value            : {p_val}\")"
   ]
  },
  {
   "cell_type": "code",
   "execution_count": 26,
   "id": "6c31d29c",
   "metadata": {
    "ExecuteTime": {
     "end_time": "2025-04-14T09:59:35.952944Z",
     "start_time": "2025-04-14T09:59:35.948944Z"
    },
    "hidden": true
   },
   "outputs": [
    {
     "name": "stdout",
     "output_type": "stream",
     "text": [
      "\n",
      "✅ Reject the Null Hypothesis.\n",
      "👉 Conclusion: Purchase frequency is dependent on payment method.\n"
     ]
    }
   ],
   "source": [
    "alpha = 0.05\n",
    "if p_val < alpha:\n",
    "    print(\"\\n✅ Reject the Null Hypothesis.\")\n",
    "    print(\"👉 Conclusion: Purchase frequency is dependent on payment method.\")\n",
    "else:\n",
    "    print(\"\\n❌ Fail to Reject the Null Hypothesis.\")\n",
    "    print(\"👉 Conclusion: Purchase frequency is independent of payment method.\")"
   ]
  },
  {
   "cell_type": "markdown",
   "id": "ca44b5af",
   "metadata": {
    "hidden": true
   },
   "source": [
    "## 📅 **[2025-04-10] – Q5**\n",
    "**Is contract type associated with customer churn?**"
   ]
  },
  {
   "cell_type": "markdown",
   "id": "53266e37",
   "metadata": {
    "hidden": true
   },
   "source": [
    "\n",
    "### **🧪 Hypotheses**\n",
    "\n",
    "- **Null Hypothesis (H₀):**  \n",
    "📄🙅 *Contract type is independent of customer churn.*  \n",
    "(*The type of contract a customer has does **not** affect whether they churn or not.*)\n",
    "\n",
    "\n",
    "\n",
    "- **Alternate Hypothesis (H₁):**  \n",
    "📄🔁 *Contract type is associated with customer churn.*  \n",
    "(*There **is** a relationship between contract type and customer churn.*)\n",
    "\n"
   ]
  },
  {
   "cell_type": "code",
   "execution_count": 28,
   "id": "5feef4d4",
   "metadata": {
    "ExecuteTime": {
     "end_time": "2025-04-14T10:02:09.239447Z",
     "start_time": "2025-04-14T10:02:09.230936Z"
    },
    "hidden": true
   },
   "outputs": [
    {
     "data": {
      "text/html": [
       "<div>\n",
       "<style scoped>\n",
       "    .dataframe tbody tr th:only-of-type {\n",
       "        vertical-align: middle;\n",
       "    }\n",
       "\n",
       "    .dataframe tbody tr th {\n",
       "        vertical-align: top;\n",
       "    }\n",
       "\n",
       "    .dataframe thead th {\n",
       "        text-align: right;\n",
       "    }\n",
       "</style>\n",
       "<table border=\"1\" class=\"dataframe\">\n",
       "  <thead>\n",
       "    <tr style=\"text-align: right;\">\n",
       "      <th></th>\n",
       "      <th>Contract_Type</th>\n",
       "      <th>Churn</th>\n",
       "      <th>Count</th>\n",
       "    </tr>\n",
       "  </thead>\n",
       "  <tbody>\n",
       "    <tr>\n",
       "      <th>0</th>\n",
       "      <td>Month-to-month</td>\n",
       "      <td>Yes</td>\n",
       "      <td>120</td>\n",
       "    </tr>\n",
       "    <tr>\n",
       "      <th>1</th>\n",
       "      <td>Month-to-month</td>\n",
       "      <td>No</td>\n",
       "      <td>80</td>\n",
       "    </tr>\n",
       "    <tr>\n",
       "      <th>2</th>\n",
       "      <td>One year</td>\n",
       "      <td>Yes</td>\n",
       "      <td>30</td>\n",
       "    </tr>\n",
       "    <tr>\n",
       "      <th>3</th>\n",
       "      <td>One year</td>\n",
       "      <td>No</td>\n",
       "      <td>70</td>\n",
       "    </tr>\n",
       "    <tr>\n",
       "      <th>4</th>\n",
       "      <td>Two year</td>\n",
       "      <td>Yes</td>\n",
       "      <td>10</td>\n",
       "    </tr>\n",
       "    <tr>\n",
       "      <th>5</th>\n",
       "      <td>Two year</td>\n",
       "      <td>No</td>\n",
       "      <td>90</td>\n",
       "    </tr>\n",
       "  </tbody>\n",
       "</table>\n",
       "</div>"
      ],
      "text/plain": [
       "    Contract_Type Churn  Count\n",
       "0  Month-to-month   Yes    120\n",
       "1  Month-to-month    No     80\n",
       "2        One year   Yes     30\n",
       "3        One year    No     70\n",
       "4        Two year   Yes     10\n",
       "5        Two year    No     90"
      ]
     },
     "execution_count": 28,
     "metadata": {},
     "output_type": "execute_result"
    }
   ],
   "source": [
    "\n",
    "data = pd.DataFrame({\n",
    "    'Contract_Type': ['Month-to-month', 'Month-to-month', 'One year', 'One year', 'Two year', 'Two year'],\n",
    "    'Churn': ['Yes', 'No'] * 3,\n",
    "    'Count': [120, 80, 30, 70, 10, 90]\n",
    "})\n",
    "data"
   ]
  },
  {
   "cell_type": "code",
   "execution_count": 29,
   "id": "729f392f",
   "metadata": {
    "ExecuteTime": {
     "end_time": "2025-04-14T10:02:53.179348Z",
     "start_time": "2025-04-14T10:02:53.166859Z"
    },
    "hidden": true
   },
   "outputs": [
    {
     "data": {
      "text/html": [
       "<div>\n",
       "<style scoped>\n",
       "    .dataframe tbody tr th:only-of-type {\n",
       "        vertical-align: middle;\n",
       "    }\n",
       "\n",
       "    .dataframe tbody tr th {\n",
       "        vertical-align: top;\n",
       "    }\n",
       "\n",
       "    .dataframe thead th {\n",
       "        text-align: right;\n",
       "    }\n",
       "</style>\n",
       "<table border=\"1\" class=\"dataframe\">\n",
       "  <thead>\n",
       "    <tr style=\"text-align: right;\">\n",
       "      <th>Churn</th>\n",
       "      <th>No</th>\n",
       "      <th>Yes</th>\n",
       "    </tr>\n",
       "    <tr>\n",
       "      <th>Contract_Type</th>\n",
       "      <th></th>\n",
       "      <th></th>\n",
       "    </tr>\n",
       "  </thead>\n",
       "  <tbody>\n",
       "    <tr>\n",
       "      <th>Month-to-month</th>\n",
       "      <td>80</td>\n",
       "      <td>120</td>\n",
       "    </tr>\n",
       "    <tr>\n",
       "      <th>One year</th>\n",
       "      <td>70</td>\n",
       "      <td>30</td>\n",
       "    </tr>\n",
       "    <tr>\n",
       "      <th>Two year</th>\n",
       "      <td>90</td>\n",
       "      <td>10</td>\n",
       "    </tr>\n",
       "  </tbody>\n",
       "</table>\n",
       "</div>"
      ],
      "text/plain": [
       "Churn           No  Yes\n",
       "Contract_Type          \n",
       "Month-to-month  80  120\n",
       "One year        70   30\n",
       "Two year        90   10"
      ]
     },
     "execution_count": 29,
     "metadata": {},
     "output_type": "execute_result"
    }
   ],
   "source": [
    "contingency_table = data.pivot(columns='Churn', index='Contract_Type', values='Count')\n",
    "contingency_table"
   ]
  },
  {
   "cell_type": "code",
   "execution_count": 30,
   "id": "b5259940",
   "metadata": {
    "ExecuteTime": {
     "end_time": "2025-04-14T10:07:28.301059Z",
     "start_time": "2025-04-14T10:07:28.283017Z"
    },
    "hidden": true
   },
   "outputs": [],
   "source": [
    "chi2_stat, p_val, dof, expected = chi2_contingency(contingency_table)"
   ]
  },
  {
   "cell_type": "code",
   "execution_count": 31,
   "id": "fd5828b9",
   "metadata": {
    "ExecuteTime": {
     "end_time": "2025-04-14T10:08:07.830925Z",
     "start_time": "2025-04-14T10:08:07.814368Z"
    },
    "hidden": true
   },
   "outputs": [
    {
     "data": {
      "text/html": [
       "<div>\n",
       "<style scoped>\n",
       "    .dataframe tbody tr th:only-of-type {\n",
       "        vertical-align: middle;\n",
       "    }\n",
       "\n",
       "    .dataframe tbody tr th {\n",
       "        vertical-align: top;\n",
       "    }\n",
       "\n",
       "    .dataframe thead th {\n",
       "        text-align: right;\n",
       "    }\n",
       "</style>\n",
       "<table border=\"1\" class=\"dataframe\">\n",
       "  <thead>\n",
       "    <tr style=\"text-align: right;\">\n",
       "      <th>Churn</th>\n",
       "      <th>No</th>\n",
       "      <th>Yes</th>\n",
       "    </tr>\n",
       "    <tr>\n",
       "      <th>Contract_Type</th>\n",
       "      <th></th>\n",
       "      <th></th>\n",
       "    </tr>\n",
       "  </thead>\n",
       "  <tbody>\n",
       "    <tr>\n",
       "      <th>Month-to-month</th>\n",
       "      <td>120.0</td>\n",
       "      <td>80.0</td>\n",
       "    </tr>\n",
       "    <tr>\n",
       "      <th>One year</th>\n",
       "      <td>60.0</td>\n",
       "      <td>40.0</td>\n",
       "    </tr>\n",
       "    <tr>\n",
       "      <th>Two year</th>\n",
       "      <td>60.0</td>\n",
       "      <td>40.0</td>\n",
       "    </tr>\n",
       "  </tbody>\n",
       "</table>\n",
       "</div>"
      ],
      "text/plain": [
       "Churn              No   Yes\n",
       "Contract_Type              \n",
       "Month-to-month  120.0  80.0\n",
       "One year         60.0  40.0\n",
       "Two year         60.0  40.0"
      ]
     },
     "execution_count": 31,
     "metadata": {},
     "output_type": "execute_result"
    }
   ],
   "source": [
    "expected_df = pd.DataFrame(expected, columns=contingency_table.columns, index= contingency_table.index)\n",
    "expected_df"
   ]
  },
  {
   "cell_type": "code",
   "execution_count": 32,
   "id": "ca4f4ff3",
   "metadata": {
    "ExecuteTime": {
     "end_time": "2025-04-14T10:08:23.924680Z",
     "start_time": "2025-04-14T10:08:23.906666Z"
    },
    "hidden": true
   },
   "outputs": [
    {
     "name": "stdout",
     "output_type": "stream",
     "text": [
      "\n",
      "🔍 Chi-Square Test Results:\n",
      "Chi2 Statistic     : 75.0\n",
      "Degrees of Freedom : 2\n",
      "P-value            : 5.175555005801876e-17\n"
     ]
    }
   ],
   "source": [
    "# Step 4: Display results\n",
    "print(\"\\n🔍 Chi-Square Test Results:\")\n",
    "print(f\"Chi2 Statistic     : {chi2_stat}\")\n",
    "print(f\"Degrees of Freedom : {dof}\")\n",
    "print(f\"P-value            : {p_val}\")"
   ]
  },
  {
   "cell_type": "code",
   "execution_count": 33,
   "id": "3bfa40c4",
   "metadata": {
    "ExecuteTime": {
     "end_time": "2025-04-14T10:09:08.047872Z",
     "start_time": "2025-04-14T10:09:08.029769Z"
    },
    "hidden": true
   },
   "outputs": [
    {
     "name": "stdout",
     "output_type": "stream",
     "text": [
      "\n",
      "✅ Reject the Null Hypothesis.\n",
      "👉 Conclusion: Contract type is associated with customer churn.\n"
     ]
    }
   ],
   "source": [
    "alpha = 0.05\n",
    "if p_val < alpha:\n",
    "    print(\"\\n✅ Reject the Null Hypothesis.\")\n",
    "    print(\"👉 Conclusion: Contract type is associated with customer churn.\")\n",
    "else:\n",
    "    print(\"\\n❌ Fail to Reject the Null Hypothesis.\")\n",
    "    print(\"👉 Conclusion: Contract type is independent of customer churn.\")"
   ]
  },
  {
   "cell_type": "markdown",
   "id": "7276646a",
   "metadata": {
    "heading_collapsed": true,
    "hidden": true
   },
   "source": [
    "### 📅 [2025-04-09] – Q6\n",
    "**Do different age groups have different notification click behaviors?**"
   ]
  },
  {
   "cell_type": "markdown",
   "id": "43d85acb",
   "metadata": {
    "hidden": true
   },
   "source": [
    "```python\n",
    "data = pd.DataFrame({\n",
    "    'Age_Group': ['18–25', '18–25', '26–35', '26–35', '36–50', '36–50'],\n",
    "    'Notification_Clicked': ['Yes', 'No'] * 3,\n",
    "    'Count': [150, 100, 130, 120, 110, 90]\n",
    "})\n",
    "```"
   ]
  },
  {
   "cell_type": "markdown",
   "id": "27a92853",
   "metadata": {
    "heading_collapsed": true,
    "hidden": true
   },
   "source": [
    "## 📅 **[2025-04-08] – Q7**\n",
    "**Does product return rate vary across countries?**"
   ]
  },
  {
   "cell_type": "markdown",
   "id": "7dad8972",
   "metadata": {
    "hidden": true
   },
   "source": [
    "```python\n",
    "data = pd.DataFrame({\n",
    "    'Country': ['US', 'US', 'UK', 'UK', 'India', 'India'],\n",
    "    'Product_Returned': ['Yes', 'No'] * 3,\n",
    "    'Count': [70, 130, 50, 150, 100, 100]\n",
    "})\n",
    "```\n",
    "\n"
   ]
  },
  {
   "cell_type": "markdown",
   "id": "640e32cc",
   "metadata": {
    "heading_collapsed": true,
    "hidden": true
   },
   "source": [
    "## 📅 **[2025-04-07] – Q8**\n",
    "**Is the type of product purchased related to time of purchase?**"
   ]
  },
  {
   "cell_type": "markdown",
   "id": "5154bdb5",
   "metadata": {
    "hidden": true
   },
   "source": [
    "```python\n",
    "data = pd.DataFrame({\n",
    "    'Time_of_Purchase': ['Morning', 'Afternoon', 'Evening', 'Night'] * 3,\n",
    "    'Purchase_Type': ['Electronics']*4 + ['Fashion']*4 + ['Groceries']*4,\n",
    "    'Count': [50, 70, 80, 60, 30, 90, 100, 50, 20, 40, 150, 90]\n",
    "})\n",
    "```"
   ]
  },
  {
   "cell_type": "markdown",
   "id": "1ef8f219",
   "metadata": {
    "heading_collapsed": true,
    "hidden": true
   },
   "source": [
    "## 📅 **[2025-04-06] – Q9**\n",
    "**Is loan approval status related to credit score category?**"
   ]
  },
  {
   "cell_type": "markdown",
   "id": "6eea5837",
   "metadata": {
    "hidden": true
   },
   "source": [
    "```python\n",
    "data = pd.DataFrame({\n",
    "    'Credit_Score_Category': ['Poor', 'Fair', 'Good', 'Excellent'] * 2,\n",
    "    'Loan_Approved': ['Yes'] * 4 + ['No'] * 4,\n",
    "    'Count': [10, 30, 50, 80, 90, 70, 40, 20]\n",
    "})\n",
    "```\n",
    "\n",
    "---"
   ]
  },
  {
   "cell_type": "markdown",
   "id": "3c5cef1c",
   "metadata": {
    "heading_collapsed": true,
    "hidden": true
   },
   "source": [
    "## 📅 **[2025-04-05] – Q10**\n",
    "**Is there a genre preference in fully watched content?**"
   ]
  },
  {
   "cell_type": "markdown",
   "id": "9fd96d6a",
   "metadata": {
    "hidden": true
   },
   "source": [
    "```python\n",
    "data = pd.DataFrame({\n",
    "    'Genre': ['Drama', 'Drama', 'Comedy', 'Comedy', 'Action', 'Action'],\n",
    "    'Watched_to_End': ['Yes', 'No'] * 3,\n",
    "    'Count': [100, 30, 90, 60, 80, 90]\n",
    "})\n",
    "```"
   ]
  },
  {
   "cell_type": "markdown",
   "id": "df9bfc23",
   "metadata": {
    "hidden": true
   },
   "source": [
    "## 📅 **<span class=\"burk\">More than 2 columns contigency</span>**\n",
    "**Find the strongest association among categorical features.**"
   ]
  },
  {
   "cell_type": "code",
   "execution_count": 50,
   "id": "87292604",
   "metadata": {
    "ExecuteTime": {
     "end_time": "2025-04-14T10:20:34.492822Z",
     "start_time": "2025-04-14T10:20:34.486321Z"
    },
    "hidden": true
   },
   "outputs": [
    {
     "data": {
      "text/html": [
       "<div>\n",
       "<style scoped>\n",
       "    .dataframe tbody tr th:only-of-type {\n",
       "        vertical-align: middle;\n",
       "    }\n",
       "\n",
       "    .dataframe tbody tr th {\n",
       "        vertical-align: top;\n",
       "    }\n",
       "\n",
       "    .dataframe thead th {\n",
       "        text-align: right;\n",
       "    }\n",
       "</style>\n",
       "<table border=\"1\" class=\"dataframe\">\n",
       "  <thead>\n",
       "    <tr style=\"text-align: right;\">\n",
       "      <th></th>\n",
       "      <th>Ad_Type</th>\n",
       "      <th>Clicked</th>\n",
       "      <th>Device</th>\n",
       "      <th>Count</th>\n",
       "    </tr>\n",
       "  </thead>\n",
       "  <tbody>\n",
       "    <tr>\n",
       "      <th>0</th>\n",
       "      <td>Video</td>\n",
       "      <td>Yes</td>\n",
       "      <td>Mobile</td>\n",
       "      <td>120</td>\n",
       "    </tr>\n",
       "    <tr>\n",
       "      <th>1</th>\n",
       "      <td>Banner</td>\n",
       "      <td>No</td>\n",
       "      <td>Desktop</td>\n",
       "      <td>80</td>\n",
       "    </tr>\n",
       "    <tr>\n",
       "      <th>2</th>\n",
       "      <td>Popup</td>\n",
       "      <td>Yes</td>\n",
       "      <td>Tablet</td>\n",
       "      <td>50</td>\n",
       "    </tr>\n",
       "    <tr>\n",
       "      <th>3</th>\n",
       "      <td>Video</td>\n",
       "      <td>No</td>\n",
       "      <td>Mobile</td>\n",
       "      <td>130</td>\n",
       "    </tr>\n",
       "    <tr>\n",
       "      <th>4</th>\n",
       "      <td>Banner</td>\n",
       "      <td>Yes</td>\n",
       "      <td>Desktop</td>\n",
       "      <td>70</td>\n",
       "    </tr>\n",
       "    <tr>\n",
       "      <th>5</th>\n",
       "      <td>Popup</td>\n",
       "      <td>No</td>\n",
       "      <td>Tablet</td>\n",
       "      <td>60</td>\n",
       "    </tr>\n",
       "  </tbody>\n",
       "</table>\n",
       "</div>"
      ],
      "text/plain": [
       "  Ad_Type Clicked   Device  Count\n",
       "0   Video     Yes   Mobile    120\n",
       "1  Banner      No  Desktop     80\n",
       "2   Popup     Yes   Tablet     50\n",
       "3   Video      No   Mobile    130\n",
       "4  Banner     Yes  Desktop     70\n",
       "5   Popup      No   Tablet     60"
      ]
     },
     "execution_count": 50,
     "metadata": {},
     "output_type": "execute_result"
    }
   ],
   "source": [
    "data = pd.DataFrame({\n",
    "    'Ad_Type': ['Video', 'Banner', 'Popup'] * 2,\n",
    "    'Clicked': ['Yes', 'No'] * 3,\n",
    "    'Device': ['Mobile', 'Desktop', 'Tablet', 'Mobile', 'Desktop', 'Tablet'],\n",
    "    'Count': [120, 80, 50, 130, 70, 60]  # Synthetic counts\n",
    "})\n",
    "data"
   ]
  },
  {
   "cell_type": "code",
   "execution_count": 53,
   "id": "33f3a0ae",
   "metadata": {
    "ExecuteTime": {
     "end_time": "2025-04-14T10:56:38.878466Z",
     "start_time": "2025-04-14T10:56:38.870450Z"
    },
    "hidden": true
   },
   "outputs": [],
   "source": [
    "from itertools import combinations"
   ]
  },
  {
   "cell_type": "code",
   "execution_count": 54,
   "id": "41be0b0c",
   "metadata": {
    "ExecuteTime": {
     "end_time": "2025-04-14T10:56:39.965143Z",
     "start_time": "2025-04-14T10:56:39.955151Z"
    },
    "hidden": true
   },
   "outputs": [],
   "source": [
    "categorical_cols = ['Ad_Type', 'Clicked', 'Device']"
   ]
  },
  {
   "cell_type": "code",
   "execution_count": 55,
   "id": "d413eb67",
   "metadata": {
    "ExecuteTime": {
     "end_time": "2025-04-14T10:56:42.543955Z",
     "start_time": "2025-04-14T10:56:42.537621Z"
    },
    "hidden": true
   },
   "outputs": [
    {
     "data": {
      "text/plain": [
       "[('Ad_Type', 'Clicked'), ('Ad_Type', 'Device'), ('Clicked', 'Device')]"
      ]
     },
     "execution_count": 55,
     "metadata": {},
     "output_type": "execute_result"
    }
   ],
   "source": [
    "pairs = list(combinations(categorical_cols,2))\n",
    "pairs"
   ]
  },
  {
   "cell_type": "code",
   "execution_count": 57,
   "id": "e07ce7db",
   "metadata": {
    "ExecuteTime": {
     "end_time": "2025-04-14T11:37:44.397624Z",
     "start_time": "2025-04-14T11:37:44.360234Z"
    },
    "hidden": true
   },
   "outputs": [],
   "source": [
    "# Run chi-square test for each pair\n",
    "results = []\n",
    "\n",
    "for col1, col2 in pairs:\n",
    "    ct = pd.pivot_table(data, index= col1, columns=col2, values='Count', aggfunc='sum', fill_value=0)\n",
    "    chi2_stats, p_value, dof, expected = chi2_contingency(ct)\n",
    "    results.append(\n",
    "    {'Feature_Pair':f\"{col1},{col2}\",\n",
    "     'chi2_statistics' : chi2_stats,\n",
    "     'p_value':p_value,\n",
    "     \"dof\":dof\n",
    "    })\n",
    "    "
   ]
  },
  {
   "cell_type": "code",
   "execution_count": 59,
   "id": "21f69f4c",
   "metadata": {
    "ExecuteTime": {
     "end_time": "2025-04-14T11:39:16.017466Z",
     "start_time": "2025-04-14T11:39:16.005949Z"
    },
    "hidden": true
   },
   "outputs": [
    {
     "data": {
      "text/html": [
       "<div>\n",
       "<style scoped>\n",
       "    .dataframe tbody tr th:only-of-type {\n",
       "        vertical-align: middle;\n",
       "    }\n",
       "\n",
       "    .dataframe tbody tr th {\n",
       "        vertical-align: top;\n",
       "    }\n",
       "\n",
       "    .dataframe thead th {\n",
       "        text-align: right;\n",
       "    }\n",
       "</style>\n",
       "<table border=\"1\" class=\"dataframe\">\n",
       "  <thead>\n",
       "    <tr style=\"text-align: right;\">\n",
       "      <th></th>\n",
       "      <th>Feature_Pair</th>\n",
       "      <th>chi2_statistics</th>\n",
       "      <th>p_value</th>\n",
       "      <th>dof</th>\n",
       "    </tr>\n",
       "  </thead>\n",
       "  <tbody>\n",
       "    <tr>\n",
       "      <th>1</th>\n",
       "      <td>Ad_Type,Device</td>\n",
       "      <td>1020.000000</td>\n",
       "      <td>1.652856e-219</td>\n",
       "      <td>4</td>\n",
       "    </tr>\n",
       "    <tr>\n",
       "      <th>0</th>\n",
       "      <td>Ad_Type,Clicked</td>\n",
       "      <td>0.211785</td>\n",
       "      <td>8.995216e-01</td>\n",
       "      <td>2</td>\n",
       "    </tr>\n",
       "    <tr>\n",
       "      <th>2</th>\n",
       "      <td>Clicked,Device</td>\n",
       "      <td>0.211785</td>\n",
       "      <td>8.995216e-01</td>\n",
       "      <td>2</td>\n",
       "    </tr>\n",
       "  </tbody>\n",
       "</table>\n",
       "</div>"
      ],
      "text/plain": [
       "      Feature_Pair  chi2_statistics        p_value  dof\n",
       "1   Ad_Type,Device      1020.000000  1.652856e-219    4\n",
       "0  Ad_Type,Clicked         0.211785   8.995216e-01    2\n",
       "2   Clicked,Device         0.211785   8.995216e-01    2"
      ]
     },
     "execution_count": 59,
     "metadata": {},
     "output_type": "execute_result"
    }
   ],
   "source": [
    "results_df = pd.DataFrame(results).sort_values(by='chi2_statistics',ascending=False)\n",
    "results_df"
   ]
  },
  {
   "cell_type": "markdown",
   "id": "57b1090f",
   "metadata": {
    "hidden": true
   },
   "source": [
    "### The pair with the highest Chi-Square statistic (and a low p-value) indicates the strongest association."
   ]
  },
  {
   "cell_type": "code",
   "execution_count": 63,
   "id": "836aa235",
   "metadata": {
    "ExecuteTime": {
     "end_time": "2025-04-14T11:41:12.080689Z",
     "start_time": "2025-04-14T11:41:12.070174Z"
    },
    "hidden": true
   },
   "outputs": [
    {
     "name": "stdout",
     "output_type": "stream",
     "text": [
      "\n",
      "✅ Strongest association is between: **Ad_Type,Device**\n",
      "Chi2 Statistic: 1020.00, p-value: 0.0000\n"
     ]
    }
   ],
   "source": [
    "strongest = results_df.iloc[0]\n",
    "print(f\"\\n✅ Strongest association is between: **{strongest['Feature_Pair']}**\")\n",
    "print(f\"Chi2 Statistic: {strongest['chi2_statistics']:.2f}, p-value: {strongest['p_value']:.4f}\")"
   ]
  },
  {
   "cell_type": "markdown",
   "id": "992c9bc0",
   "metadata": {
    "hidden": true
   },
   "source": [
    "## 📅 **[2025-04-03] – Q12**\n",
    "**Perform chi-square manually without using `chi2_contingency`.**"
   ]
  },
  {
   "cell_type": "code",
   "execution_count": 34,
   "id": "8b4aa80d",
   "metadata": {
    "ExecuteTime": {
     "end_time": "2025-04-14T10:11:14.089127Z",
     "start_time": "2025-04-14T10:11:14.077616Z"
    },
    "hidden": true
   },
   "outputs": [
    {
     "data": {
      "text/plain": [
       "array([[80, 20],\n",
       "       [50, 50]])"
      ]
     },
     "execution_count": 34,
     "metadata": {},
     "output_type": "execute_result"
    }
   ],
   "source": [
    "\n",
    "contingency_table = np.array([[80, 20], [50, 50]])\n",
    "contingency_table"
   ]
  },
  {
   "cell_type": "markdown",
   "id": "c68dc569",
   "metadata": {
    "hidden": true
   },
   "source": [
    "## 📅 **[2025-04-02] – Q13**\n",
    "**Handle small expected frequencies and justify Fisher's exact test.**"
   ]
  },
  {
   "cell_type": "markdown",
   "id": "76e41095",
   "metadata": {
    "hidden": true
   },
   "source": [
    "```python\n",
    "contingency_table = np.array([[1, 9], [11, 3]])\n",
    "```"
   ]
  },
  {
   "cell_type": "markdown",
   "id": "e5467728",
   "metadata": {
    "heading_collapsed": true,
    "hidden": true
   },
   "source": [
    "## 📅 [2025-04-01] – Q14\n",
    "**Is fraud report rate dependent on region?**"
   ]
  },
  {
   "cell_type": "markdown",
   "id": "d1f61747",
   "metadata": {
    "hidden": true
   },
   "source": [
    "```python\n",
    "data = pd.DataFrame({\n",
    "    'Region': ['North', 'North', 'South', 'South', 'East', 'East', 'West', 'West'],\n",
    "    'Fraud_Reported': ['Yes', 'No'] * 4,\n",
    "    'Count': [10, 90, 20, 80, 15, 85, 5, 95]\n",
    "})\n",
    "```"
   ]
  },
  {
   "cell_type": "markdown",
   "id": "e023426c",
   "metadata": {
    "heading_collapsed": true,
    "hidden": true
   },
   "source": [
    "## 📅 **[2025-03-31] – Q15**\n",
    "**Perform chi-square on Dask DataFrame with 3M rows.**"
   ]
  },
  {
   "cell_type": "markdown",
   "id": "0d01c6df",
   "metadata": {
    "hidden": true
   },
   "source": [
    "```python\n",
    "import dask.dataframe as dd\n",
    "# Simulate data using dask or load large file with `Customer_Segment` and `Is_Returned`\n",
    "```"
   ]
  },
  {
   "cell_type": "markdown",
   "id": "94d68c80",
   "metadata": {
    "hidden": true
   },
   "source": [
    "## 📅 **[2025-03-30] – Q16**\n",
    "**Use Cramér’s V to evaluate effect size after chi-square.**"
   ]
  },
  {
   "cell_type": "markdown",
   "id": "38d80c6b",
   "metadata": {
    "hidden": true
   },
   "source": [
    "```python\n",
    "data = pd.DataFrame({\n",
    "    'User_Type': ['New', 'Returning', 'Loyal'] * 2,\n",
    "    'Used_Coupon': ['Yes', 'No'] * 3,\n",
    "    'Count': [100, 50, 80, 20, 60, 10]\n",
    "})\n",
    "```"
   ]
  },
  {
   "cell_type": "markdown",
   "id": "9d297a93",
   "metadata": {
    "hidden": true
   },
   "source": [
    "## 📅 <span class=\"burk\">**[2025-03-29] – Q17</span>**\n",
    "**Use chi-square for feature selection from high-cardinality categorical columns.**"
   ]
  },
  {
   "cell_type": "markdown",
   "id": "495dab95",
   "metadata": {
    "hidden": true
   },
   "source": [
    "```python\n",
    "# Use feature selection with `Ad_ID`, `User_ID`, and `Converted` label\n",
    "# Generate >100 unique categories for realistic challenge\n",
    "```"
   ]
  },
  {
   "cell_type": "markdown",
   "id": "5f75f410",
   "metadata": {
    "hidden": true
   },
   "source": [
    "### ✅ **Goal**:\n",
    "Select the most relevant features (e.g., top `Ad_ID`s and `User_ID`s) that are significantly associated with the target variable (`Converted`) using **Chi-Square Test**."
   ]
  },
  {
   "cell_type": "markdown",
   "id": "8dbfb400",
   "metadata": {
    "hidden": true
   },
   "source": [
    "### 📦 **Step-by-step Implementation in Python**"
   ]
  },
  {
   "cell_type": "code",
   "execution_count": 36,
   "id": "d748d673",
   "metadata": {
    "ExecuteTime": {
     "end_time": "2025-04-14T10:15:59.351458Z",
     "start_time": "2025-04-14T10:15:57.381310Z"
    },
    "hidden": true
   },
   "outputs": [],
   "source": [
    "import pandas as pd\n",
    "import numpy as np\n",
    "from sklearn.feature_selection import SelectKBest, chi2\n",
    "from sklearn.preprocessing import LabelEncoder\n",
    "from sklearn.model_selection import train_test_split"
   ]
  },
  {
   "cell_type": "code",
   "execution_count": 37,
   "id": "d8704dea",
   "metadata": {
    "ExecuteTime": {
     "end_time": "2025-04-14T10:16:20.523318Z",
     "start_time": "2025-04-14T10:16:20.507602Z"
    },
    "hidden": true
   },
   "outputs": [
    {
     "data": {
      "text/html": [
       "<div>\n",
       "<style scoped>\n",
       "    .dataframe tbody tr th:only-of-type {\n",
       "        vertical-align: middle;\n",
       "    }\n",
       "\n",
       "    .dataframe tbody tr th {\n",
       "        vertical-align: top;\n",
       "    }\n",
       "\n",
       "    .dataframe thead th {\n",
       "        text-align: right;\n",
       "    }\n",
       "</style>\n",
       "<table border=\"1\" class=\"dataframe\">\n",
       "  <thead>\n",
       "    <tr style=\"text-align: right;\">\n",
       "      <th></th>\n",
       "      <th>Ad_ID</th>\n",
       "      <th>User_ID</th>\n",
       "      <th>Converted</th>\n",
       "    </tr>\n",
       "  </thead>\n",
       "  <tbody>\n",
       "    <tr>\n",
       "      <th>0</th>\n",
       "      <td>Ad_102</td>\n",
       "      <td>User_48</td>\n",
       "      <td>1</td>\n",
       "    </tr>\n",
       "    <tr>\n",
       "      <th>1</th>\n",
       "      <td>Ad_92</td>\n",
       "      <td>User_172</td>\n",
       "      <td>1</td>\n",
       "    </tr>\n",
       "    <tr>\n",
       "      <th>2</th>\n",
       "      <td>Ad_14</td>\n",
       "      <td>User_29</td>\n",
       "      <td>0</td>\n",
       "    </tr>\n",
       "    <tr>\n",
       "      <th>3</th>\n",
       "      <td>Ad_106</td>\n",
       "      <td>User_143</td>\n",
       "      <td>0</td>\n",
       "    </tr>\n",
       "    <tr>\n",
       "      <th>4</th>\n",
       "      <td>Ad_71</td>\n",
       "      <td>User_167</td>\n",
       "      <td>0</td>\n",
       "    </tr>\n",
       "    <tr>\n",
       "      <th>...</th>\n",
       "      <td>...</td>\n",
       "      <td>...</td>\n",
       "      <td>...</td>\n",
       "    </tr>\n",
       "    <tr>\n",
       "      <th>995</th>\n",
       "      <td>Ad_140</td>\n",
       "      <td>User_25</td>\n",
       "      <td>1</td>\n",
       "    </tr>\n",
       "    <tr>\n",
       "      <th>996</th>\n",
       "      <td>Ad_122</td>\n",
       "      <td>User_71</td>\n",
       "      <td>1</td>\n",
       "    </tr>\n",
       "    <tr>\n",
       "      <th>997</th>\n",
       "      <td>Ad_61</td>\n",
       "      <td>User_47</td>\n",
       "      <td>0</td>\n",
       "    </tr>\n",
       "    <tr>\n",
       "      <th>998</th>\n",
       "      <td>Ad_31</td>\n",
       "      <td>User_193</td>\n",
       "      <td>0</td>\n",
       "    </tr>\n",
       "    <tr>\n",
       "      <th>999</th>\n",
       "      <td>Ad_28</td>\n",
       "      <td>User_197</td>\n",
       "      <td>0</td>\n",
       "    </tr>\n",
       "  </tbody>\n",
       "</table>\n",
       "<p>1000 rows × 3 columns</p>\n",
       "</div>"
      ],
      "text/plain": [
       "      Ad_ID   User_ID  Converted\n",
       "0    Ad_102   User_48          1\n",
       "1     Ad_92  User_172          1\n",
       "2     Ad_14   User_29          0\n",
       "3    Ad_106  User_143          0\n",
       "4     Ad_71  User_167          0\n",
       "..      ...       ...        ...\n",
       "995  Ad_140   User_25          1\n",
       "996  Ad_122   User_71          1\n",
       "997   Ad_61   User_47          0\n",
       "998   Ad_31  User_193          0\n",
       "999   Ad_28  User_197          0\n",
       "\n",
       "[1000 rows x 3 columns]"
      ]
     },
     "execution_count": 37,
     "metadata": {},
     "output_type": "execute_result"
    }
   ],
   "source": [
    "# Step 1: Simulate sample data with high-cardinality categorical features\n",
    "np.random.seed(42)\n",
    "n_samples = 1000\n",
    "\n",
    "data = pd.DataFrame({\n",
    "    'Ad_ID': np.random.choice([f'Ad_{i}' for i in range(150)], size=n_samples),\n",
    "    'User_ID': np.random.choice([f'User_{i}' for i in range(200)], size=n_samples),\n",
    "    'Converted': np.random.choice([0, 1], size=n_samples, p=[0.7, 0.3])\n",
    "})\n",
    "data"
   ]
  },
  {
   "cell_type": "code",
   "execution_count": 38,
   "id": "056f0dde",
   "metadata": {
    "ExecuteTime": {
     "end_time": "2025-04-14T10:16:26.607343Z",
     "start_time": "2025-04-14T10:16:26.597835Z"
    },
    "hidden": true
   },
   "outputs": [
    {
     "name": "stdout",
     "output_type": "stream",
     "text": [
      "🔢 Unique Ad_IDs: 150\n",
      "🔢 Unique User_IDs: 199\n"
     ]
    }
   ],
   "source": [
    "print(\"🔢 Unique Ad_IDs:\", data['Ad_ID'].nunique())\n",
    "print(\"🔢 Unique User_IDs:\", data['User_ID'].nunique())"
   ]
  },
  {
   "cell_type": "code",
   "execution_count": 39,
   "id": "b210b6a6",
   "metadata": {
    "ExecuteTime": {
     "end_time": "2025-04-14T10:16:38.387604Z",
     "start_time": "2025-04-14T10:16:38.383588Z"
    },
    "hidden": true
   },
   "outputs": [],
   "source": [
    "# Step 2: Encode high-cardinality features (Label Encoding)\n",
    "le_ad = LabelEncoder()\n",
    "le_user = LabelEncoder()"
   ]
  },
  {
   "cell_type": "code",
   "execution_count": 40,
   "id": "4156d942",
   "metadata": {
    "ExecuteTime": {
     "end_time": "2025-04-14T10:16:45.020904Z",
     "start_time": "2025-04-14T10:16:45.009382Z"
    },
    "hidden": true
   },
   "outputs": [],
   "source": [
    "data['Ad_ID_enc'] = le_ad.fit_transform(data['Ad_ID'])\n",
    "data['User_ID_enc'] = le_user.fit_transform(data['User_ID'])"
   ]
  },
  {
   "cell_type": "code",
   "execution_count": 42,
   "id": "7412c6c8",
   "metadata": {
    "ExecuteTime": {
     "end_time": "2025-04-14T10:17:00.369362Z",
     "start_time": "2025-04-14T10:17:00.358840Z"
    },
    "hidden": true
   },
   "outputs": [
    {
     "data": {
      "text/html": [
       "<div>\n",
       "<style scoped>\n",
       "    .dataframe tbody tr th:only-of-type {\n",
       "        vertical-align: middle;\n",
       "    }\n",
       "\n",
       "    .dataframe tbody tr th {\n",
       "        vertical-align: top;\n",
       "    }\n",
       "\n",
       "    .dataframe thead th {\n",
       "        text-align: right;\n",
       "    }\n",
       "</style>\n",
       "<table border=\"1\" class=\"dataframe\">\n",
       "  <thead>\n",
       "    <tr style=\"text-align: right;\">\n",
       "      <th></th>\n",
       "      <th>Ad_ID</th>\n",
       "      <th>User_ID</th>\n",
       "      <th>Converted</th>\n",
       "      <th>Ad_ID_enc</th>\n",
       "      <th>User_ID_enc</th>\n",
       "    </tr>\n",
       "  </thead>\n",
       "  <tbody>\n",
       "    <tr>\n",
       "      <th>0</th>\n",
       "      <td>Ad_102</td>\n",
       "      <td>User_48</td>\n",
       "      <td>1</td>\n",
       "      <td>5</td>\n",
       "      <td>143</td>\n",
       "    </tr>\n",
       "    <tr>\n",
       "      <th>1</th>\n",
       "      <td>Ad_92</td>\n",
       "      <td>User_172</td>\n",
       "      <td>1</td>\n",
       "      <td>142</td>\n",
       "      <td>82</td>\n",
       "    </tr>\n",
       "    <tr>\n",
       "      <th>2</th>\n",
       "      <td>Ad_14</td>\n",
       "      <td>User_29</td>\n",
       "      <td>0</td>\n",
       "      <td>46</td>\n",
       "      <td>122</td>\n",
       "    </tr>\n",
       "    <tr>\n",
       "      <th>3</th>\n",
       "      <td>Ad_106</td>\n",
       "      <td>User_143</td>\n",
       "      <td>0</td>\n",
       "      <td>9</td>\n",
       "      <td>50</td>\n",
       "    </tr>\n",
       "    <tr>\n",
       "      <th>4</th>\n",
       "      <td>Ad_71</td>\n",
       "      <td>User_167</td>\n",
       "      <td>0</td>\n",
       "      <td>119</td>\n",
       "      <td>76</td>\n",
       "    </tr>\n",
       "  </tbody>\n",
       "</table>\n",
       "</div>"
      ],
      "text/plain": [
       "    Ad_ID   User_ID  Converted  Ad_ID_enc  User_ID_enc\n",
       "0  Ad_102   User_48          1          5          143\n",
       "1   Ad_92  User_172          1        142           82\n",
       "2   Ad_14   User_29          0         46          122\n",
       "3  Ad_106  User_143          0          9           50\n",
       "4   Ad_71  User_167          0        119           76"
      ]
     },
     "execution_count": 42,
     "metadata": {},
     "output_type": "execute_result"
    }
   ],
   "source": [
    "data.head()"
   ]
  },
  {
   "cell_type": "code",
   "execution_count": 41,
   "id": "c6a8d08b",
   "metadata": {
    "ExecuteTime": {
     "end_time": "2025-04-14T10:16:53.110064Z",
     "start_time": "2025-04-14T10:16:53.101217Z"
    },
    "hidden": true
   },
   "outputs": [],
   "source": [
    "# Step 3: Feature matrix (X) and target vector (y)\n",
    "X = data[['Ad_ID_enc', 'User_ID_enc']]\n",
    "y = data['Converted']"
   ]
  },
  {
   "cell_type": "code",
   "execution_count": 43,
   "id": "65e70736",
   "metadata": {
    "ExecuteTime": {
     "end_time": "2025-04-14T10:17:32.340634Z",
     "start_time": "2025-04-14T10:17:32.323343Z"
    },
    "hidden": true
   },
   "outputs": [
    {
     "data": {
      "text/html": [
       "<div>\n",
       "<style scoped>\n",
       "    .dataframe tbody tr th:only-of-type {\n",
       "        vertical-align: middle;\n",
       "    }\n",
       "\n",
       "    .dataframe tbody tr th {\n",
       "        vertical-align: top;\n",
       "    }\n",
       "\n",
       "    .dataframe thead th {\n",
       "        text-align: right;\n",
       "    }\n",
       "</style>\n",
       "<table border=\"1\" class=\"dataframe\">\n",
       "  <thead>\n",
       "    <tr style=\"text-align: right;\">\n",
       "      <th></th>\n",
       "      <th>Ad_ID_enc</th>\n",
       "      <th>User_ID_enc</th>\n",
       "    </tr>\n",
       "  </thead>\n",
       "  <tbody>\n",
       "    <tr>\n",
       "      <th>0</th>\n",
       "      <td>5</td>\n",
       "      <td>143</td>\n",
       "    </tr>\n",
       "    <tr>\n",
       "      <th>1</th>\n",
       "      <td>142</td>\n",
       "      <td>82</td>\n",
       "    </tr>\n",
       "    <tr>\n",
       "      <th>2</th>\n",
       "      <td>46</td>\n",
       "      <td>122</td>\n",
       "    </tr>\n",
       "    <tr>\n",
       "      <th>3</th>\n",
       "      <td>9</td>\n",
       "      <td>50</td>\n",
       "    </tr>\n",
       "    <tr>\n",
       "      <th>4</th>\n",
       "      <td>119</td>\n",
       "      <td>76</td>\n",
       "    </tr>\n",
       "    <tr>\n",
       "      <th>...</th>\n",
       "      <td>...</td>\n",
       "      <td>...</td>\n",
       "    </tr>\n",
       "    <tr>\n",
       "      <th>995</th>\n",
       "      <td>47</td>\n",
       "      <td>118</td>\n",
       "    </tr>\n",
       "    <tr>\n",
       "      <th>996</th>\n",
       "      <td>27</td>\n",
       "      <td>168</td>\n",
       "    </tr>\n",
       "    <tr>\n",
       "      <th>997</th>\n",
       "      <td>108</td>\n",
       "      <td>142</td>\n",
       "    </tr>\n",
       "    <tr>\n",
       "      <th>998</th>\n",
       "      <td>75</td>\n",
       "      <td>105</td>\n",
       "    </tr>\n",
       "    <tr>\n",
       "      <th>999</th>\n",
       "      <td>71</td>\n",
       "      <td>109</td>\n",
       "    </tr>\n",
       "  </tbody>\n",
       "</table>\n",
       "<p>1000 rows × 2 columns</p>\n",
       "</div>"
      ],
      "text/plain": [
       "     Ad_ID_enc  User_ID_enc\n",
       "0            5          143\n",
       "1          142           82\n",
       "2           46          122\n",
       "3            9           50\n",
       "4          119           76\n",
       "..         ...          ...\n",
       "995         47          118\n",
       "996         27          168\n",
       "997        108          142\n",
       "998         75          105\n",
       "999         71          109\n",
       "\n",
       "[1000 rows x 2 columns]"
      ]
     },
     "execution_count": 43,
     "metadata": {},
     "output_type": "execute_result"
    }
   ],
   "source": [
    "X"
   ]
  },
  {
   "cell_type": "code",
   "execution_count": 44,
   "id": "55a01b10",
   "metadata": {
    "ExecuteTime": {
     "end_time": "2025-04-14T10:17:39.380222Z",
     "start_time": "2025-04-14T10:17:39.370592Z"
    },
    "hidden": true
   },
   "outputs": [
    {
     "data": {
      "text/plain": [
       "0      1\n",
       "1      1\n",
       "2      0\n",
       "3      0\n",
       "4      0\n",
       "      ..\n",
       "995    1\n",
       "996    1\n",
       "997    0\n",
       "998    0\n",
       "999    0\n",
       "Name: Converted, Length: 1000, dtype: int32"
      ]
     },
     "execution_count": 44,
     "metadata": {},
     "output_type": "execute_result"
    }
   ],
   "source": [
    "y"
   ]
  },
  {
   "cell_type": "code",
   "execution_count": 45,
   "id": "c515e82d",
   "metadata": {
    "ExecuteTime": {
     "end_time": "2025-04-14T10:17:48.972886Z",
     "start_time": "2025-04-14T10:17:48.872202Z"
    },
    "hidden": true
   },
   "outputs": [
    {
     "data": {
      "text/html": [
       "<style>#sk-container-id-1 {\n",
       "  /* Definition of color scheme common for light and dark mode */\n",
       "  --sklearn-color-text: black;\n",
       "  --sklearn-color-line: gray;\n",
       "  /* Definition of color scheme for unfitted estimators */\n",
       "  --sklearn-color-unfitted-level-0: #fff5e6;\n",
       "  --sklearn-color-unfitted-level-1: #f6e4d2;\n",
       "  --sklearn-color-unfitted-level-2: #ffe0b3;\n",
       "  --sklearn-color-unfitted-level-3: chocolate;\n",
       "  /* Definition of color scheme for fitted estimators */\n",
       "  --sklearn-color-fitted-level-0: #f0f8ff;\n",
       "  --sklearn-color-fitted-level-1: #d4ebff;\n",
       "  --sklearn-color-fitted-level-2: #b3dbfd;\n",
       "  --sklearn-color-fitted-level-3: cornflowerblue;\n",
       "\n",
       "  /* Specific color for light theme */\n",
       "  --sklearn-color-text-on-default-background: var(--sg-text-color, var(--theme-code-foreground, var(--jp-content-font-color1, black)));\n",
       "  --sklearn-color-background: var(--sg-background-color, var(--theme-background, var(--jp-layout-color0, white)));\n",
       "  --sklearn-color-border-box: var(--sg-text-color, var(--theme-code-foreground, var(--jp-content-font-color1, black)));\n",
       "  --sklearn-color-icon: #696969;\n",
       "\n",
       "  @media (prefers-color-scheme: dark) {\n",
       "    /* Redefinition of color scheme for dark theme */\n",
       "    --sklearn-color-text-on-default-background: var(--sg-text-color, var(--theme-code-foreground, var(--jp-content-font-color1, white)));\n",
       "    --sklearn-color-background: var(--sg-background-color, var(--theme-background, var(--jp-layout-color0, #111)));\n",
       "    --sklearn-color-border-box: var(--sg-text-color, var(--theme-code-foreground, var(--jp-content-font-color1, white)));\n",
       "    --sklearn-color-icon: #878787;\n",
       "  }\n",
       "}\n",
       "\n",
       "#sk-container-id-1 {\n",
       "  color: var(--sklearn-color-text);\n",
       "}\n",
       "\n",
       "#sk-container-id-1 pre {\n",
       "  padding: 0;\n",
       "}\n",
       "\n",
       "#sk-container-id-1 input.sk-hidden--visually {\n",
       "  border: 0;\n",
       "  clip: rect(1px 1px 1px 1px);\n",
       "  clip: rect(1px, 1px, 1px, 1px);\n",
       "  height: 1px;\n",
       "  margin: -1px;\n",
       "  overflow: hidden;\n",
       "  padding: 0;\n",
       "  position: absolute;\n",
       "  width: 1px;\n",
       "}\n",
       "\n",
       "#sk-container-id-1 div.sk-dashed-wrapped {\n",
       "  border: 1px dashed var(--sklearn-color-line);\n",
       "  margin: 0 0.4em 0.5em 0.4em;\n",
       "  box-sizing: border-box;\n",
       "  padding-bottom: 0.4em;\n",
       "  background-color: var(--sklearn-color-background);\n",
       "}\n",
       "\n",
       "#sk-container-id-1 div.sk-container {\n",
       "  /* jupyter's `normalize.less` sets `[hidden] { display: none; }`\n",
       "     but bootstrap.min.css set `[hidden] { display: none !important; }`\n",
       "     so we also need the `!important` here to be able to override the\n",
       "     default hidden behavior on the sphinx rendered scikit-learn.org.\n",
       "     See: https://github.com/scikit-learn/scikit-learn/issues/21755 */\n",
       "  display: inline-block !important;\n",
       "  position: relative;\n",
       "}\n",
       "\n",
       "#sk-container-id-1 div.sk-text-repr-fallback {\n",
       "  display: none;\n",
       "}\n",
       "\n",
       "div.sk-parallel-item,\n",
       "div.sk-serial,\n",
       "div.sk-item {\n",
       "  /* draw centered vertical line to link estimators */\n",
       "  background-image: linear-gradient(var(--sklearn-color-text-on-default-background), var(--sklearn-color-text-on-default-background));\n",
       "  background-size: 2px 100%;\n",
       "  background-repeat: no-repeat;\n",
       "  background-position: center center;\n",
       "}\n",
       "\n",
       "/* Parallel-specific style estimator block */\n",
       "\n",
       "#sk-container-id-1 div.sk-parallel-item::after {\n",
       "  content: \"\";\n",
       "  width: 100%;\n",
       "  border-bottom: 2px solid var(--sklearn-color-text-on-default-background);\n",
       "  flex-grow: 1;\n",
       "}\n",
       "\n",
       "#sk-container-id-1 div.sk-parallel {\n",
       "  display: flex;\n",
       "  align-items: stretch;\n",
       "  justify-content: center;\n",
       "  background-color: var(--sklearn-color-background);\n",
       "  position: relative;\n",
       "}\n",
       "\n",
       "#sk-container-id-1 div.sk-parallel-item {\n",
       "  display: flex;\n",
       "  flex-direction: column;\n",
       "}\n",
       "\n",
       "#sk-container-id-1 div.sk-parallel-item:first-child::after {\n",
       "  align-self: flex-end;\n",
       "  width: 50%;\n",
       "}\n",
       "\n",
       "#sk-container-id-1 div.sk-parallel-item:last-child::after {\n",
       "  align-self: flex-start;\n",
       "  width: 50%;\n",
       "}\n",
       "\n",
       "#sk-container-id-1 div.sk-parallel-item:only-child::after {\n",
       "  width: 0;\n",
       "}\n",
       "\n",
       "/* Serial-specific style estimator block */\n",
       "\n",
       "#sk-container-id-1 div.sk-serial {\n",
       "  display: flex;\n",
       "  flex-direction: column;\n",
       "  align-items: center;\n",
       "  background-color: var(--sklearn-color-background);\n",
       "  padding-right: 1em;\n",
       "  padding-left: 1em;\n",
       "}\n",
       "\n",
       "\n",
       "/* Toggleable style: style used for estimator/Pipeline/ColumnTransformer box that is\n",
       "clickable and can be expanded/collapsed.\n",
       "- Pipeline and ColumnTransformer use this feature and define the default style\n",
       "- Estimators will overwrite some part of the style using the `sk-estimator` class\n",
       "*/\n",
       "\n",
       "/* Pipeline and ColumnTransformer style (default) */\n",
       "\n",
       "#sk-container-id-1 div.sk-toggleable {\n",
       "  /* Default theme specific background. It is overwritten whether we have a\n",
       "  specific estimator or a Pipeline/ColumnTransformer */\n",
       "  background-color: var(--sklearn-color-background);\n",
       "}\n",
       "\n",
       "/* Toggleable label */\n",
       "#sk-container-id-1 label.sk-toggleable__label {\n",
       "  cursor: pointer;\n",
       "  display: block;\n",
       "  width: 100%;\n",
       "  margin-bottom: 0;\n",
       "  padding: 0.5em;\n",
       "  box-sizing: border-box;\n",
       "  text-align: center;\n",
       "}\n",
       "\n",
       "#sk-container-id-1 label.sk-toggleable__label-arrow:before {\n",
       "  /* Arrow on the left of the label */\n",
       "  content: \"▸\";\n",
       "  float: left;\n",
       "  margin-right: 0.25em;\n",
       "  color: var(--sklearn-color-icon);\n",
       "}\n",
       "\n",
       "#sk-container-id-1 label.sk-toggleable__label-arrow:hover:before {\n",
       "  color: var(--sklearn-color-text);\n",
       "}\n",
       "\n",
       "/* Toggleable content - dropdown */\n",
       "\n",
       "#sk-container-id-1 div.sk-toggleable__content {\n",
       "  max-height: 0;\n",
       "  max-width: 0;\n",
       "  overflow: hidden;\n",
       "  text-align: left;\n",
       "  /* unfitted */\n",
       "  background-color: var(--sklearn-color-unfitted-level-0);\n",
       "}\n",
       "\n",
       "#sk-container-id-1 div.sk-toggleable__content.fitted {\n",
       "  /* fitted */\n",
       "  background-color: var(--sklearn-color-fitted-level-0);\n",
       "}\n",
       "\n",
       "#sk-container-id-1 div.sk-toggleable__content pre {\n",
       "  margin: 0.2em;\n",
       "  border-radius: 0.25em;\n",
       "  color: var(--sklearn-color-text);\n",
       "  /* unfitted */\n",
       "  background-color: var(--sklearn-color-unfitted-level-0);\n",
       "}\n",
       "\n",
       "#sk-container-id-1 div.sk-toggleable__content.fitted pre {\n",
       "  /* unfitted */\n",
       "  background-color: var(--sklearn-color-fitted-level-0);\n",
       "}\n",
       "\n",
       "#sk-container-id-1 input.sk-toggleable__control:checked~div.sk-toggleable__content {\n",
       "  /* Expand drop-down */\n",
       "  max-height: 200px;\n",
       "  max-width: 100%;\n",
       "  overflow: auto;\n",
       "}\n",
       "\n",
       "#sk-container-id-1 input.sk-toggleable__control:checked~label.sk-toggleable__label-arrow:before {\n",
       "  content: \"▾\";\n",
       "}\n",
       "\n",
       "/* Pipeline/ColumnTransformer-specific style */\n",
       "\n",
       "#sk-container-id-1 div.sk-label input.sk-toggleable__control:checked~label.sk-toggleable__label {\n",
       "  color: var(--sklearn-color-text);\n",
       "  background-color: var(--sklearn-color-unfitted-level-2);\n",
       "}\n",
       "\n",
       "#sk-container-id-1 div.sk-label.fitted input.sk-toggleable__control:checked~label.sk-toggleable__label {\n",
       "  background-color: var(--sklearn-color-fitted-level-2);\n",
       "}\n",
       "\n",
       "/* Estimator-specific style */\n",
       "\n",
       "/* Colorize estimator box */\n",
       "#sk-container-id-1 div.sk-estimator input.sk-toggleable__control:checked~label.sk-toggleable__label {\n",
       "  /* unfitted */\n",
       "  background-color: var(--sklearn-color-unfitted-level-2);\n",
       "}\n",
       "\n",
       "#sk-container-id-1 div.sk-estimator.fitted input.sk-toggleable__control:checked~label.sk-toggleable__label {\n",
       "  /* fitted */\n",
       "  background-color: var(--sklearn-color-fitted-level-2);\n",
       "}\n",
       "\n",
       "#sk-container-id-1 div.sk-label label.sk-toggleable__label,\n",
       "#sk-container-id-1 div.sk-label label {\n",
       "  /* The background is the default theme color */\n",
       "  color: var(--sklearn-color-text-on-default-background);\n",
       "}\n",
       "\n",
       "/* On hover, darken the color of the background */\n",
       "#sk-container-id-1 div.sk-label:hover label.sk-toggleable__label {\n",
       "  color: var(--sklearn-color-text);\n",
       "  background-color: var(--sklearn-color-unfitted-level-2);\n",
       "}\n",
       "\n",
       "/* Label box, darken color on hover, fitted */\n",
       "#sk-container-id-1 div.sk-label.fitted:hover label.sk-toggleable__label.fitted {\n",
       "  color: var(--sklearn-color-text);\n",
       "  background-color: var(--sklearn-color-fitted-level-2);\n",
       "}\n",
       "\n",
       "/* Estimator label */\n",
       "\n",
       "#sk-container-id-1 div.sk-label label {\n",
       "  font-family: monospace;\n",
       "  font-weight: bold;\n",
       "  display: inline-block;\n",
       "  line-height: 1.2em;\n",
       "}\n",
       "\n",
       "#sk-container-id-1 div.sk-label-container {\n",
       "  text-align: center;\n",
       "}\n",
       "\n",
       "/* Estimator-specific */\n",
       "#sk-container-id-1 div.sk-estimator {\n",
       "  font-family: monospace;\n",
       "  border: 1px dotted var(--sklearn-color-border-box);\n",
       "  border-radius: 0.25em;\n",
       "  box-sizing: border-box;\n",
       "  margin-bottom: 0.5em;\n",
       "  /* unfitted */\n",
       "  background-color: var(--sklearn-color-unfitted-level-0);\n",
       "}\n",
       "\n",
       "#sk-container-id-1 div.sk-estimator.fitted {\n",
       "  /* fitted */\n",
       "  background-color: var(--sklearn-color-fitted-level-0);\n",
       "}\n",
       "\n",
       "/* on hover */\n",
       "#sk-container-id-1 div.sk-estimator:hover {\n",
       "  /* unfitted */\n",
       "  background-color: var(--sklearn-color-unfitted-level-2);\n",
       "}\n",
       "\n",
       "#sk-container-id-1 div.sk-estimator.fitted:hover {\n",
       "  /* fitted */\n",
       "  background-color: var(--sklearn-color-fitted-level-2);\n",
       "}\n",
       "\n",
       "/* Specification for estimator info (e.g. \"i\" and \"?\") */\n",
       "\n",
       "/* Common style for \"i\" and \"?\" */\n",
       "\n",
       ".sk-estimator-doc-link,\n",
       "a:link.sk-estimator-doc-link,\n",
       "a:visited.sk-estimator-doc-link {\n",
       "  float: right;\n",
       "  font-size: smaller;\n",
       "  line-height: 1em;\n",
       "  font-family: monospace;\n",
       "  background-color: var(--sklearn-color-background);\n",
       "  border-radius: 1em;\n",
       "  height: 1em;\n",
       "  width: 1em;\n",
       "  text-decoration: none !important;\n",
       "  margin-left: 1ex;\n",
       "  /* unfitted */\n",
       "  border: var(--sklearn-color-unfitted-level-1) 1pt solid;\n",
       "  color: var(--sklearn-color-unfitted-level-1);\n",
       "}\n",
       "\n",
       ".sk-estimator-doc-link.fitted,\n",
       "a:link.sk-estimator-doc-link.fitted,\n",
       "a:visited.sk-estimator-doc-link.fitted {\n",
       "  /* fitted */\n",
       "  border: var(--sklearn-color-fitted-level-1) 1pt solid;\n",
       "  color: var(--sklearn-color-fitted-level-1);\n",
       "}\n",
       "\n",
       "/* On hover */\n",
       "div.sk-estimator:hover .sk-estimator-doc-link:hover,\n",
       ".sk-estimator-doc-link:hover,\n",
       "div.sk-label-container:hover .sk-estimator-doc-link:hover,\n",
       ".sk-estimator-doc-link:hover {\n",
       "  /* unfitted */\n",
       "  background-color: var(--sklearn-color-unfitted-level-3);\n",
       "  color: var(--sklearn-color-background);\n",
       "  text-decoration: none;\n",
       "}\n",
       "\n",
       "div.sk-estimator.fitted:hover .sk-estimator-doc-link.fitted:hover,\n",
       ".sk-estimator-doc-link.fitted:hover,\n",
       "div.sk-label-container:hover .sk-estimator-doc-link.fitted:hover,\n",
       ".sk-estimator-doc-link.fitted:hover {\n",
       "  /* fitted */\n",
       "  background-color: var(--sklearn-color-fitted-level-3);\n",
       "  color: var(--sklearn-color-background);\n",
       "  text-decoration: none;\n",
       "}\n",
       "\n",
       "/* Span, style for the box shown on hovering the info icon */\n",
       ".sk-estimator-doc-link span {\n",
       "  display: none;\n",
       "  z-index: 9999;\n",
       "  position: relative;\n",
       "  font-weight: normal;\n",
       "  right: .2ex;\n",
       "  padding: .5ex;\n",
       "  margin: .5ex;\n",
       "  width: min-content;\n",
       "  min-width: 20ex;\n",
       "  max-width: 50ex;\n",
       "  color: var(--sklearn-color-text);\n",
       "  box-shadow: 2pt 2pt 4pt #999;\n",
       "  /* unfitted */\n",
       "  background: var(--sklearn-color-unfitted-level-0);\n",
       "  border: .5pt solid var(--sklearn-color-unfitted-level-3);\n",
       "}\n",
       "\n",
       ".sk-estimator-doc-link.fitted span {\n",
       "  /* fitted */\n",
       "  background: var(--sklearn-color-fitted-level-0);\n",
       "  border: var(--sklearn-color-fitted-level-3);\n",
       "}\n",
       "\n",
       ".sk-estimator-doc-link:hover span {\n",
       "  display: block;\n",
       "}\n",
       "\n",
       "/* \"?\"-specific style due to the `<a>` HTML tag */\n",
       "\n",
       "#sk-container-id-1 a.estimator_doc_link {\n",
       "  float: right;\n",
       "  font-size: 1rem;\n",
       "  line-height: 1em;\n",
       "  font-family: monospace;\n",
       "  background-color: var(--sklearn-color-background);\n",
       "  border-radius: 1rem;\n",
       "  height: 1rem;\n",
       "  width: 1rem;\n",
       "  text-decoration: none;\n",
       "  /* unfitted */\n",
       "  color: var(--sklearn-color-unfitted-level-1);\n",
       "  border: var(--sklearn-color-unfitted-level-1) 1pt solid;\n",
       "}\n",
       "\n",
       "#sk-container-id-1 a.estimator_doc_link.fitted {\n",
       "  /* fitted */\n",
       "  border: var(--sklearn-color-fitted-level-1) 1pt solid;\n",
       "  color: var(--sklearn-color-fitted-level-1);\n",
       "}\n",
       "\n",
       "/* On hover */\n",
       "#sk-container-id-1 a.estimator_doc_link:hover {\n",
       "  /* unfitted */\n",
       "  background-color: var(--sklearn-color-unfitted-level-3);\n",
       "  color: var(--sklearn-color-background);\n",
       "  text-decoration: none;\n",
       "}\n",
       "\n",
       "#sk-container-id-1 a.estimator_doc_link.fitted:hover {\n",
       "  /* fitted */\n",
       "  background-color: var(--sklearn-color-fitted-level-3);\n",
       "}\n",
       "</style><div id=\"sk-container-id-1\" class=\"sk-top-container\"><div class=\"sk-text-repr-fallback\"><pre>SelectKBest(k=&#x27;all&#x27;, score_func=&lt;function chi2 at 0x0000021F2E415AF0&gt;)</pre><b>In a Jupyter environment, please rerun this cell to show the HTML representation or trust the notebook. <br />On GitHub, the HTML representation is unable to render, please try loading this page with nbviewer.org.</b></div><div class=\"sk-container\" hidden><div class=\"sk-item\"><div class=\"sk-estimator fitted sk-toggleable\"><input class=\"sk-toggleable__control sk-hidden--visually\" id=\"sk-estimator-id-1\" type=\"checkbox\" checked><label for=\"sk-estimator-id-1\" class=\"sk-toggleable__label fitted sk-toggleable__label-arrow fitted\">&nbsp;&nbsp;SelectKBest<a class=\"sk-estimator-doc-link fitted\" rel=\"noreferrer\" target=\"_blank\" href=\"https://scikit-learn.org/1.4/modules/generated/sklearn.feature_selection.SelectKBest.html\">?<span>Documentation for SelectKBest</span></a><span class=\"sk-estimator-doc-link fitted\">i<span>Fitted</span></span></label><div class=\"sk-toggleable__content fitted\"><pre>SelectKBest(k=&#x27;all&#x27;, score_func=&lt;function chi2 at 0x0000021F2E415AF0&gt;)</pre></div> </div></div></div></div>"
      ],
      "text/plain": [
       "SelectKBest(k='all', score_func=<function chi2 at 0x0000021F2E415AF0>)"
      ]
     },
     "execution_count": 45,
     "metadata": {},
     "output_type": "execute_result"
    }
   ],
   "source": [
    "# Step 4: Apply Chi-Square Test\n",
    "chi2_selector = SelectKBest(score_func=chi2, k='all')\n",
    "chi2_selector.fit(X, y)"
   ]
  },
  {
   "cell_type": "code",
   "execution_count": 46,
   "id": "05e0d47f",
   "metadata": {
    "ExecuteTime": {
     "end_time": "2025-04-14T10:18:05.724504Z",
     "start_time": "2025-04-14T10:18:05.710454Z"
    },
    "hidden": true
   },
   "outputs": [],
   "source": [
    "# Step 5: Get scores\n",
    "chi2_scores = chi2_selector.scores_\n",
    "p_values = chi2_selector.pvalues_"
   ]
  },
  {
   "cell_type": "code",
   "execution_count": 47,
   "id": "2bd39f5c",
   "metadata": {
    "ExecuteTime": {
     "end_time": "2025-04-14T10:18:19.303798Z",
     "start_time": "2025-04-14T10:18:19.286118Z"
    },
    "hidden": true
   },
   "outputs": [
    {
     "name": "stdout",
     "output_type": "stream",
     "text": [
      "📊 Feature: Ad_ID_enc, Chi2 Score: 3.81, P-value: 0.0509\n",
      "📊 Feature: User_ID_enc, Chi2 Score: 8.89, P-value: 0.0029\n"
     ]
    }
   ],
   "source": [
    "# Step 6: Display results\n",
    "features = ['Ad_ID_enc', 'User_ID_enc']\n",
    "for feat, score, p in zip(features, chi2_scores, p_values):\n",
    "    print(f\"📊 Feature: {feat}, Chi2 Score: {score:.2f}, P-value: {p:.4f}\")"
   ]
  },
  {
   "cell_type": "code",
   "execution_count": 48,
   "id": "3207bad2",
   "metadata": {
    "ExecuteTime": {
     "end_time": "2025-04-14T10:18:24.321254Z",
     "start_time": "2025-04-14T10:18:24.317488Z"
    },
    "hidden": true
   },
   "outputs": [
    {
     "name": "stdout",
     "output_type": "stream",
     "text": [
      "❌ 'Ad_ID_enc' is NOT statistically significant.\n",
      "✅ 'User_ID_enc' is statistically significant (associated with Conversion).\n"
     ]
    }
   ],
   "source": [
    "# Step 7: Interpretation\n",
    "alpha = 0.05\n",
    "for feat, p in zip(features, p_values):\n",
    "    if p < alpha:\n",
    "        print(f\"✅ '{feat}' is statistically significant (associated with Conversion).\")\n",
    "    else:\n",
    "        print(f\"❌ '{feat}' is NOT statistically significant.\")"
   ]
  },
  {
   "cell_type": "markdown",
   "id": "5068be01",
   "metadata": {
    "ExecuteTime": {
     "end_time": "2025-04-14T10:15:45.825417Z",
     "start_time": "2025-04-14T10:15:45.815912Z"
    },
    "hidden": true
   },
   "source": [
    "### 🔍 **What this does**:\n",
    "\n",
    "\n",
    "- Simulates a dataset with >100 unique `Ad_ID` and `User_ID` values.\n",
    "\n",
    "\n",
    "- Uses label encoding to transform these into numeric features.\n",
    "\n",
    "\n",
    "- Applies the **Chi-Square test** to find how strongly these features are associated with the target (`Converted`).\n",
    "\n",
    "\n",
    "- Prints the chi-square score, p-value, and whether the feature is significant."
   ]
  },
  {
   "cell_type": "markdown",
   "id": "ca12e7aa",
   "metadata": {
    "hidden": true
   },
   "source": [
    "## 📅 <span class=\"burk\">Heatmap</span>\n",
    "**Use standardized residuals heatmap to visualize chi-square results.**"
   ]
  },
  {
   "cell_type": "code",
   "execution_count": 72,
   "id": "b09f01b4",
   "metadata": {
    "ExecuteTime": {
     "end_time": "2025-04-14T11:47:46.257951Z",
     "start_time": "2025-04-14T11:47:43.250005Z"
    },
    "hidden": true
   },
   "outputs": [],
   "source": [
    "import pandas as pd\n",
    "import numpy as np\n",
    "import seaborn as sns\n",
    "import matplotlib.pyplot as plt\n",
    "from scipy.stats import chi2_contingency"
   ]
  },
  {
   "cell_type": "code",
   "execution_count": 71,
   "id": "ec5ce39e",
   "metadata": {
    "ExecuteTime": {
     "end_time": "2025-04-14T11:47:31.130349Z",
     "start_time": "2025-04-14T11:47:31.116745Z"
    },
    "hidden": true
   },
   "outputs": [
    {
     "data": {
      "text/html": [
       "<div>\n",
       "<style scoped>\n",
       "    .dataframe tbody tr th:only-of-type {\n",
       "        vertical-align: middle;\n",
       "    }\n",
       "\n",
       "    .dataframe tbody tr th {\n",
       "        vertical-align: top;\n",
       "    }\n",
       "\n",
       "    .dataframe thead th {\n",
       "        text-align: right;\n",
       "    }\n",
       "</style>\n",
       "<table border=\"1\" class=\"dataframe\">\n",
       "  <thead>\n",
       "    <tr style=\"text-align: right;\">\n",
       "      <th></th>\n",
       "      <th>Branch</th>\n",
       "      <th>Satisfaction</th>\n",
       "      <th>Count</th>\n",
       "    </tr>\n",
       "  </thead>\n",
       "  <tbody>\n",
       "    <tr>\n",
       "      <th>0</th>\n",
       "      <td>A</td>\n",
       "      <td>Satisfied</td>\n",
       "      <td>60</td>\n",
       "    </tr>\n",
       "    <tr>\n",
       "      <th>1</th>\n",
       "      <td>A</td>\n",
       "      <td>Dissatisfied</td>\n",
       "      <td>20</td>\n",
       "    </tr>\n",
       "    <tr>\n",
       "      <th>2</th>\n",
       "      <td>B</td>\n",
       "      <td>Satisfied</td>\n",
       "      <td>40</td>\n",
       "    </tr>\n",
       "    <tr>\n",
       "      <th>3</th>\n",
       "      <td>B</td>\n",
       "      <td>Dissatisfied</td>\n",
       "      <td>30</td>\n",
       "    </tr>\n",
       "    <tr>\n",
       "      <th>4</th>\n",
       "      <td>C</td>\n",
       "      <td>Satisfied</td>\n",
       "      <td>50</td>\n",
       "    </tr>\n",
       "    <tr>\n",
       "      <th>5</th>\n",
       "      <td>C</td>\n",
       "      <td>Dissatisfied</td>\n",
       "      <td>10</td>\n",
       "    </tr>\n",
       "  </tbody>\n",
       "</table>\n",
       "</div>"
      ],
      "text/plain": [
       "  Branch  Satisfaction  Count\n",
       "0      A     Satisfied     60\n",
       "1      A  Dissatisfied     20\n",
       "2      B     Satisfied     40\n",
       "3      B  Dissatisfied     30\n",
       "4      C     Satisfied     50\n",
       "5      C  Dissatisfied     10"
      ]
     },
     "execution_count": 71,
     "metadata": {},
     "output_type": "execute_result"
    }
   ],
   "source": [
    "\n",
    "data = pd.DataFrame({\n",
    "    'Branch': ['A', 'A', 'B', 'B', 'C', 'C'],\n",
    "    'Satisfaction': ['Satisfied', 'Dissatisfied'] * 3,\n",
    "    'Count': [60, 20, 40, 30, 50, 10]\n",
    "})\n",
    "data"
   ]
  },
  {
   "cell_type": "code",
   "execution_count": 73,
   "id": "5b34e892",
   "metadata": {
    "ExecuteTime": {
     "end_time": "2025-04-14T11:49:05.600932Z",
     "start_time": "2025-04-14T11:49:05.582836Z"
    },
    "hidden": true
   },
   "outputs": [
    {
     "data": {
      "text/html": [
       "<div>\n",
       "<style scoped>\n",
       "    .dataframe tbody tr th:only-of-type {\n",
       "        vertical-align: middle;\n",
       "    }\n",
       "\n",
       "    .dataframe tbody tr th {\n",
       "        vertical-align: top;\n",
       "    }\n",
       "\n",
       "    .dataframe thead th {\n",
       "        text-align: right;\n",
       "    }\n",
       "</style>\n",
       "<table border=\"1\" class=\"dataframe\">\n",
       "  <thead>\n",
       "    <tr style=\"text-align: right;\">\n",
       "      <th>Branch</th>\n",
       "      <th>A</th>\n",
       "      <th>B</th>\n",
       "      <th>C</th>\n",
       "    </tr>\n",
       "    <tr>\n",
       "      <th>Satisfaction</th>\n",
       "      <th></th>\n",
       "      <th></th>\n",
       "      <th></th>\n",
       "    </tr>\n",
       "  </thead>\n",
       "  <tbody>\n",
       "    <tr>\n",
       "      <th>Dissatisfied</th>\n",
       "      <td>20</td>\n",
       "      <td>30</td>\n",
       "      <td>10</td>\n",
       "    </tr>\n",
       "    <tr>\n",
       "      <th>Satisfied</th>\n",
       "      <td>60</td>\n",
       "      <td>40</td>\n",
       "      <td>50</td>\n",
       "    </tr>\n",
       "  </tbody>\n",
       "</table>\n",
       "</div>"
      ],
      "text/plain": [
       "Branch         A   B   C\n",
       "Satisfaction            \n",
       "Dissatisfied  20  30  10\n",
       "Satisfied     60  40  50"
      ]
     },
     "execution_count": 73,
     "metadata": {},
     "output_type": "execute_result"
    }
   ],
   "source": [
    "contingency_table = data.pivot(columns='Branch', index='Satisfaction', values='Count')\n",
    "contingency_table"
   ]
  },
  {
   "cell_type": "code",
   "execution_count": 74,
   "id": "ac3545ac",
   "metadata": {
    "ExecuteTime": {
     "end_time": "2025-04-14T11:49:32.877114Z",
     "start_time": "2025-04-14T11:49:32.865059Z"
    },
    "hidden": true
   },
   "outputs": [],
   "source": [
    "chi2_stats, p_value, dof, expected = chi2_contingency(contingency_table)"
   ]
  },
  {
   "cell_type": "code",
   "execution_count": 78,
   "id": "6d9e6148",
   "metadata": {
    "ExecuteTime": {
     "end_time": "2025-04-14T11:50:23.250046Z",
     "start_time": "2025-04-14T11:50:23.231958Z"
    },
    "hidden": true
   },
   "outputs": [
    {
     "name": "stdout",
     "output_type": "stream",
     "text": [
      "\n",
      "✅ Chi-Square Statistic: 11.666666666666668\n",
      "🧪 Degrees of Freedom: 2\n",
      "📉 p-value: 0.0029282996948181853\n"
     ]
    }
   ],
   "source": [
    "print(\"\\n✅ Chi-Square Statistic:\", chi2_stats)\n",
    "print(\"🧪 Degrees of Freedom:\", dof)\n",
    "print(\"📉 p-value:\", p_value)"
   ]
  },
  {
   "cell_type": "code",
   "execution_count": 80,
   "id": "fbf88a5a",
   "metadata": {
    "ExecuteTime": {
     "end_time": "2025-04-14T11:51:07.382888Z",
     "start_time": "2025-04-14T11:51:07.363014Z"
    },
    "hidden": true
   },
   "outputs": [
    {
     "data": {
      "text/html": [
       "<div>\n",
       "<style scoped>\n",
       "    .dataframe tbody tr th:only-of-type {\n",
       "        vertical-align: middle;\n",
       "    }\n",
       "\n",
       "    .dataframe tbody tr th {\n",
       "        vertical-align: top;\n",
       "    }\n",
       "\n",
       "    .dataframe thead th {\n",
       "        text-align: right;\n",
       "    }\n",
       "</style>\n",
       "<table border=\"1\" class=\"dataframe\">\n",
       "  <thead>\n",
       "    <tr style=\"text-align: right;\">\n",
       "      <th>Branch</th>\n",
       "      <th>A</th>\n",
       "      <th>B</th>\n",
       "      <th>C</th>\n",
       "    </tr>\n",
       "    <tr>\n",
       "      <th>Satisfaction</th>\n",
       "      <th></th>\n",
       "      <th></th>\n",
       "      <th></th>\n",
       "    </tr>\n",
       "  </thead>\n",
       "  <tbody>\n",
       "    <tr>\n",
       "      <th>Dissatisfied</th>\n",
       "      <td>22.857143</td>\n",
       "      <td>20.0</td>\n",
       "      <td>17.142857</td>\n",
       "    </tr>\n",
       "    <tr>\n",
       "      <th>Satisfied</th>\n",
       "      <td>57.142857</td>\n",
       "      <td>50.0</td>\n",
       "      <td>42.857143</td>\n",
       "    </tr>\n",
       "  </tbody>\n",
       "</table>\n",
       "</div>"
      ],
      "text/plain": [
       "Branch                A     B          C\n",
       "Satisfaction                            \n",
       "Dissatisfied  22.857143  20.0  17.142857\n",
       "Satisfied     57.142857  50.0  42.857143"
      ]
     },
     "execution_count": 80,
     "metadata": {},
     "output_type": "execute_result"
    }
   ],
   "source": [
    "expected_df = pd.DataFrame(expected, index=contingency_table.index, columns=contingency_table.columns)\n",
    "expected_df\n"
   ]
  },
  {
   "cell_type": "markdown",
   "id": "c85150df",
   "metadata": {
    "hidden": true
   },
   "source": [
    "###  Compute Standardized Residuals"
   ]
  },
  {
   "cell_type": "code",
   "execution_count": 81,
   "id": "c39e453e",
   "metadata": {
    "ExecuteTime": {
     "end_time": "2025-04-14T11:51:49.236752Z",
     "start_time": "2025-04-14T11:51:49.224389Z"
    },
    "hidden": true
   },
   "outputs": [
    {
     "data": {
      "text/html": [
       "<div>\n",
       "<style scoped>\n",
       "    .dataframe tbody tr th:only-of-type {\n",
       "        vertical-align: middle;\n",
       "    }\n",
       "\n",
       "    .dataframe tbody tr th {\n",
       "        vertical-align: top;\n",
       "    }\n",
       "\n",
       "    .dataframe thead th {\n",
       "        text-align: right;\n",
       "    }\n",
       "</style>\n",
       "<table border=\"1\" class=\"dataframe\">\n",
       "  <thead>\n",
       "    <tr style=\"text-align: right;\">\n",
       "      <th>Branch</th>\n",
       "      <th>A</th>\n",
       "      <th>B</th>\n",
       "      <th>C</th>\n",
       "    </tr>\n",
       "    <tr>\n",
       "      <th>Satisfaction</th>\n",
       "      <th></th>\n",
       "      <th></th>\n",
       "      <th></th>\n",
       "    </tr>\n",
       "  </thead>\n",
       "  <tbody>\n",
       "    <tr>\n",
       "      <th>Dissatisfied</th>\n",
       "      <td>-0.597614</td>\n",
       "      <td>2.236068</td>\n",
       "      <td>-1.725164</td>\n",
       "    </tr>\n",
       "    <tr>\n",
       "      <th>Satisfied</th>\n",
       "      <td>0.377964</td>\n",
       "      <td>-1.414214</td>\n",
       "      <td>1.091089</td>\n",
       "    </tr>\n",
       "  </tbody>\n",
       "</table>\n",
       "</div>"
      ],
      "text/plain": [
       "Branch               A         B         C\n",
       "Satisfaction                              \n",
       "Dissatisfied -0.597614  2.236068 -1.725164\n",
       "Satisfied     0.377964 -1.414214  1.091089"
      ]
     },
     "execution_count": 81,
     "metadata": {},
     "output_type": "execute_result"
    }
   ],
   "source": [
    "residuals = (contingency_table - expected_df) / np.sqrt(expected_df)\n",
    "residuals"
   ]
  },
  {
   "cell_type": "code",
   "execution_count": 82,
   "id": "90eff281",
   "metadata": {
    "ExecuteTime": {
     "end_time": "2025-04-14T11:52:06.844210Z",
     "start_time": "2025-04-14T11:52:06.194678Z"
    },
    "hidden": true
   },
   "outputs": [
    {
     "data": {
      "image/png": "[encoded data removed]",
      "text/plain": [
       "<Figure size 600x400 with 2 Axes>"
      ]
     },
     "metadata": {},
     "output_type": "display_data"
    }
   ],
   "source": [
    "# Step 5: Visualize with Heatmap\n",
    "plt.figure(figsize=(6, 4))\n",
    "sns.heatmap(residuals, annot=True, cmap='coolwarm', center=0, fmt=\".2f\")\n",
    "plt.title(\"Standardized Residuals Heatmap\")\n",
    "plt.ylabel(\"Branch\")\n",
    "plt.xlabel(\"Satisfaction\")\n",
    "plt.tight_layout()\n",
    "plt.show()"
   ]
  },
  {
   "cell_type": "markdown",
   "id": "9828272b",
   "metadata": {
    "hidden": true
   },
   "source": [
    "### 🔍 Interpretation:\n",
    "\n",
    "- **Standardized residuals** tell us how far the observed value is from expected, in standard deviation units.\n",
    "\n",
    "\n",
    "- **Positive residuals** = more than expected  \n",
    "\n",
    "\n",
    "- **Negative residuals** = less than expected  \n",
    "\n",
    "\n",
    "- **|Residual| > 2** indicates **statistically significant deviation**."
   ]
  },
  {
   "cell_type": "markdown",
   "id": "2da5026b",
   "metadata": {
    "heading_collapsed": true,
    "hidden": true
   },
   "source": [
    "## 📅 **[2025-03-27] – Q19**\n",
    "**Implement a rolling chi-square test in streaming data.**"
   ]
  },
  {
   "cell_type": "markdown",
   "id": "777b3e62",
   "metadata": {
    "hidden": true
   },
   "source": [
    "```python\n",
    "# Simulate Kafka stream batches with columns: `Category`, `Clicked`\n",
    "# Window: 1 hour, rolling\n",
    "```"
   ]
  },
  {
   "cell_type": "markdown",
   "id": "e067d86d",
   "metadata": {
    "heading_collapsed": true,
    "hidden": true
   },
   "source": [
    "## 📅 **[2025-03-26] – Q20**\n",
    "**Build custom Python function for chi-square test and Cramér’s V.**"
   ]
  },
  {
   "cell_type": "markdown",
   "id": "67598a59",
   "metadata": {
    "hidden": true
   },
   "source": [
    "```python\n",
    "# Function input: Two pandas Series with categorical data\n",
    "# Output: Chi-square value, p-value, Cramér’s V, and interpretation\n",
    "```"
   ]
  },
  {
   "cell_type": "markdown",
   "id": "b4d6b715",
   "metadata": {
    "heading_collapsed": true
   },
   "source": [
    "# ANNOVA (one-way)"
   ]
  },
  {
   "cell_type": "markdown",
   "id": "d3bd4515",
   "metadata": {
    "hidden": true
   },
   "source": [
    "Here are **20 difficult and interview-relevant One-Way ANOVA (Analysis of Variance)** questions, suitable for **Data Scientist roles with 3–7 years of experience**. Each question includes the context and data required to solve it using Python (e.g., `scipy.stats.f_oneway`, `statsmodels`, or `pingouin`).\n",
    "\n",
    "---\n",
    "\n",
    "### **1. Product A/B/C Testing Across Regions**\n",
    "\n",
    "Three versions of a product (A, B, C) were launched in three different regions. After one month, these are the average user satisfaction scores (scale: 1–10):\n",
    "\n",
    "```python\n",
    "product_A = [7.2, 6.8, 7.5, 6.9, 7.1]\n",
    "product_B = [6.5, 6.7, 6.4, 6.9, 6.6]\n",
    "product_C = [7.3, 7.5, 7.1, 7.6, 7.4]\n",
    "```\n",
    "\n",
    "**Question:** Is there a significant difference in user satisfaction across the three versions?\n",
    "\n",
    "---\n",
    "\n",
    "### **2. Campaign Effectiveness on Leads Generated**\n",
    "\n",
    "You run 4 different marketing campaigns and measure leads generated:\n",
    "\n",
    "```python\n",
    "campaign_1 = [130, 125, 140, 135, 128]\n",
    "campaign_2 = [115, 118, 120, 117, 119]\n",
    "campaign_3 = [135, 140, 132, 137, 134]\n",
    "campaign_4 = [122, 120, 125, 121, 124]\n",
    "```\n",
    "\n",
    "**Question:** Do all campaigns perform equally in terms of leads generated?\n",
    "\n",
    "---\n",
    "\n",
    "### **3. App Engagement Based on UI Themes**\n",
    "\n",
    "You test three UI themes and measure average session durations (in minutes):\n",
    "\n",
    "```python\n",
    "theme_1 = [5.2, 5.8, 6.1, 5.9, 5.7]\n",
    "theme_2 = [6.2, 6.3, 6.1, 6.0, 6.5]\n",
    "theme_3 = [4.9, 5.0, 5.2, 5.1, 4.8]\n",
    "```\n",
    "\n",
    "**Question:** Is session duration significantly impacted by UI theme?\n",
    "\n",
    "---\n",
    "\n",
    "### **4. Customer Spend Across Membership Levels**\n",
    "\n",
    "You record average monthly spend (in $) of customers across Silver, Gold, and Platinum tiers:\n",
    "\n",
    "```python\n",
    "silver = [230, 210, 215, 225, 240]\n",
    "gold = [310, 315, 300, 320, 305]\n",
    "platinum = [420, 430, 415, 410, 425]\n",
    "```\n",
    "\n",
    "**Question:** Does spending differ significantly by membership level?\n",
    "\n",
    "---\n",
    "\n",
    "### **5. Employee Productivity Across Shifts**\n",
    "\n",
    "Productivity scores (out of 100) from employees working in three different shifts:\n",
    "\n",
    "```python\n",
    "morning = [82, 85, 84, 86, 83]\n",
    "evening = [80, 78, 79, 81, 77]\n",
    "night = [75, 74, 76, 73, 72]\n",
    "```\n",
    "\n",
    "**Question:** Is the shift affecting employee productivity?\n",
    "\n",
    "---\n",
    "\n",
    "### **6. Delivery Time Across Cities**\n",
    "\n",
    "Delivery times (in hours) for the same logistics company in three cities:\n",
    "\n",
    "```python\n",
    "city_A = [12.1, 12.3, 11.8, 12.5, 12.0]\n",
    "city_B = [13.2, 13.4, 13.1, 13.0, 13.3]\n",
    "city_C = [11.7, 11.6, 11.9, 11.5, 11.8]\n",
    "```\n",
    "\n",
    "**Question:** Is there a significant difference in delivery time across cities?\n",
    "\n",
    "---\n",
    "\n",
    "### **7. Conversion Rate by Traffic Source**\n",
    "\n",
    "You track conversion rate (%) across different traffic sources:\n",
    "\n",
    "```python\n",
    "organic = [3.5, 3.2, 3.3, 3.6, 3.4]\n",
    "paid = [4.1, 4.2, 4.0, 4.3, 4.1]\n",
    "referral = [3.0, 2.9, 3.1, 3.0, 3.2]\n",
    "```\n",
    "\n",
    "**Question:** Do conversion rates vary significantly by traffic source?\n",
    "\n",
    "---\n",
    "\n",
    "### **8. Temperature Control Across Factories**\n",
    "\n",
    "Temperature readings from three factories:\n",
    "\n",
    "```python\n",
    "factory_1 = [22.5, 22.8, 23.0, 22.6, 22.7]\n",
    "factory_2 = [23.1, 23.4, 23.2, 23.0, 23.3]\n",
    "factory_3 = [22.0, 22.1, 22.3, 21.9, 22.2]\n",
    "```\n",
    "\n",
    "**Question:** Is temperature control consistent across factories?\n",
    "\n",
    "---\n",
    "\n",
    "### **9. Sales Across Branches**\n",
    "\n",
    "Weekly sales ($) across 4 store branches:\n",
    "\n",
    "```python\n",
    "branch_1 = [8200, 8300, 8100, 8250, 8400]\n",
    "branch_2 = [7950, 8000, 8100, 7980, 8050]\n",
    "branch_3 = [8600, 8700, 8650, 8580, 8720]\n",
    "branch_4 = [7800, 7750, 7700, 7820, 7780]\n",
    "```\n",
    "\n",
    "**Question:** Is there a significant difference in performance across branches?\n",
    "\n",
    "---\n",
    "\n",
    "### **10. Credit Score Change After Different Financial Programs**\n",
    "\n",
    "Credit score improvements (in points) after enrolling in 3 financial improvement programs:\n",
    "\n",
    "```python\n",
    "program_1 = [25, 30, 28, 27, 26]\n",
    "program_2 = [35, 36, 34, 33, 37]\n",
    "program_3 = [20, 21, 19, 18, 22]\n",
    "```\n",
    "\n",
    "**Question:** Is there a difference in improvement between programs?\n",
    "\n",
    "---\n",
    "\n",
    "### **11. Error Rate in ML Models**\n",
    "\n",
    "You compare the error rate (in %) of three models across 5 test runs:\n",
    "\n",
    "```python\n",
    "model_1 = [6.1, 6.3, 6.2, 6.0, 6.1]\n",
    "model_2 = [5.5, 5.6, 5.7, 5.4, 5.5]\n",
    "model_3 = [6.8, 6.7, 6.9, 6.6, 6.8]\n",
    "```\n",
    "\n",
    "**Question:** Is the error rate significantly different among models?\n",
    "\n",
    "---\n",
    "\n",
    "### **12. Investment Return Based on Risk Profile**\n",
    "\n",
    "Return % of portfolios classified as low-risk, medium-risk, and high-risk:\n",
    "\n",
    "```python\n",
    "low = [4.2, 4.0, 4.3, 4.1, 4.2]\n",
    "medium = [6.1, 6.0, 6.2, 5.9, 6.1]\n",
    "high = [9.0, 8.8, 9.1, 8.9, 9.0]\n",
    "```\n",
    "\n",
    "**Question:** Does investment risk profile significantly affect returns?\n",
    "\n",
    "---\n",
    "\n",
    "### **13. Student Test Scores Based on Learning Platform**\n",
    "\n",
    "Scores from students using three platforms:\n",
    "\n",
    "```python\n",
    "platform_1 = [88, 85, 87, 86, 89]\n",
    "platform_2 = [91, 92, 90, 93, 91]\n",
    "platform_3 = [82, 80, 83, 81, 84]\n",
    "```\n",
    "\n",
    "**Question:** Which platform contributes significantly to better test scores?\n",
    "\n",
    "---\n",
    "\n",
    "### **14. Average Processing Time by Team**\n",
    "\n",
    "Three teams handle support tickets. Their average processing times:\n",
    "\n",
    "```python\n",
    "team_A = [45, 48, 47, 46, 44]\n",
    "team_B = [50, 52, 49, 51, 53]\n",
    "team_C = [42, 43, 41, 40, 44]\n",
    "```\n",
    "\n",
    "**Question:** Does team assignment significantly impact processing time?\n",
    "\n",
    "---\n",
    "\n",
    "### **15. CPU Usage Across Software Versions**\n",
    "\n",
    "Average CPU usage across software versions:\n",
    "\n",
    "```python\n",
    "version_1 = [62, 60, 61, 63, 59]\n",
    "version_2 = [67, 68, 69, 66, 67]\n",
    "version_3 = [55, 56, 54, 57, 55]\n",
    "```\n",
    "\n",
    "**Question:** Are CPU usages significantly different across versions?\n",
    "\n",
    "---\n",
    "\n",
    "### **16. User Retention Across Feature Flags**\n",
    "\n",
    "You track 7-day retention rates across 3 feature flags:\n",
    "\n",
    "```python\n",
    "feature_A = [45.2, 46.1, 44.9, 45.5, 46.0]\n",
    "feature_B = [47.8, 48.2, 47.5, 47.9, 48.0]\n",
    "feature_C = [43.0, 43.5, 42.9, 43.1, 43.3]\n",
    "```\n",
    "\n",
    "**Question:** Which feature setting improves retention?\n",
    "\n",
    "---\n",
    "\n",
    "### **17. Mobile App Ratings by Platform**\n",
    "\n",
    "User ratings for iOS, Android, and Web app versions:\n",
    "\n",
    "```python\n",
    "ios = [4.5, 4.4, 4.6, 4.5, 4.5]\n",
    "android = [4.3, 4.2, 4.1, 4.3, 4.2]\n",
    "web = [4.6, 4.7, 4.5, 4.6, 4.8]\n",
    "```\n",
    "\n",
    "**Question:** Is there a platform-based difference in ratings?\n",
    "\n",
    "---\n",
    "\n",
    "### **18. Response Time After AI Integration**\n",
    "\n",
    "Average response time (in ms) from three different chatbot versions:\n",
    "\n",
    "```python\n",
    "v1 = [220, 230, 225, 222, 228]\n",
    "v2 = [210, 212, 209, 211, 208]\n",
    "v3 = [240, 245, 238, 242, 239]\n",
    "```\n",
    "\n",
    "**Question:** Has the AI chatbot significantly improved response time?\n",
    "\n",
    "---\n",
    "\n",
    "### **19. Salary Increment Post Training by Department**\n",
    "\n",
    "Post-training salary increments across departments:\n",
    "\n",
    "```python\n",
    "dept_A = [500, 520, 510, 530, 515]\n",
    "dept_B = [450, 460, 455, 470, 465]\n",
    "dept_C = [480, 490, 485, 475, 488]\n",
    "```\n",
    "\n",
    "**Question:** Are training impacts on salary equal across departments?\n",
    "\n",
    "---\n",
    "\n",
    "### **20. Noise Levels Across Offices**\n",
    "\n",
    "You measured noise levels in decibels across office areas:\n",
    "\n",
    "```python\n",
    "area_1 = [60, 62, 61, 59, 60]\n",
    "area_2 = [65, 64, 66, 65, 63]\n",
    "area_3 = [58, 59, 57, 58, 60]\n",
    "```\n",
    "\n",
    "**Question:** Do different office areas significantly vary in noise level?\n",
    "\n",
    "---\n",
    "\n",
    "Would you like Python boilerplate code to solve one or two examples using `scipy.stats.f_oneway` or `statsmodels`?"
   ]
  },
  {
   "cell_type": "markdown",
   "id": "43fb6089",
   "metadata": {
    "hidden": true
   },
   "source": [
    "Here's a clean and reusable **Python code template for One-Way ANOVA**, suitable for solving real-world problems and common **data science interview questions** (3–7 years experience level).\n",
    "\n",
    "---\n",
    "\n",
    "### ✅ Python Code Template: One-Way ANOVA\n",
    "\n",
    "```python\n",
    "import pandas as pd\n",
    "import scipy.stats as stats\n",
    "import matplotlib.pyplot as plt\n",
    "import seaborn as sns\n",
    "\n",
    "# Step 1: Prepare Your Data (Replace with your real dataset)\n",
    "data = {\n",
    "    'Group': ['A'] * 5 + ['B'] * 5 + ['C'] * 5,\n",
    "    'Score': [85, 87, 90, 88, 86, 78, 82, 84, 79, 80, 92, 95, 94, 93, 96]\n",
    "}\n",
    "df = pd.DataFrame(data)\n",
    "\n",
    "# Step 2: Visualize the data\n",
    "sns.boxplot(x='Group', y='Score', data=df)\n",
    "plt.title('Score Distribution by Group')\n",
    "plt.show()\n",
    "\n",
    "# Step 3: Prepare the data for ANOVA\n",
    "grouped_data = [df[df['Group'] == grp]['Score'] for grp in df['Group'].unique()]\n",
    "\n",
    "# Step 4: Perform One-Way ANOVA\n",
    "f_stat, p_value = stats.f_oneway(*grouped_data)\n",
    "\n",
    "print(\"F-statistic:\", f_stat)\n",
    "print(\"p-value:\", p_value)\n",
    "\n",
    "# Step 5: Interpretation\n",
    "alpha = 0.05\n",
    "if p_value < alpha:\n",
    "    print(\"Reject the null hypothesis: At least one group mean is significantly different.\")\n",
    "else:\n",
    "    print(\"Fail to reject the null hypothesis: No significant difference among group means.\")\n",
    "```\n",
    "\n",
    "---\n",
    "\n",
    "### 🧠 Notes\n",
    "\n",
    "- `stats.f_oneway(*groups)` is used for classical **one-way ANOVA** where:\n",
    "  - Each group is independent.\n",
    "  - Residuals are normally distributed.\n",
    "  - Variance is assumed to be equal (can be checked separately).\n",
    "- You can add **Tukey's HSD test** for post-hoc analysis if the result is significant.\n",
    "\n",
    "---\n",
    "\n",
    "### 🔍 Optional: Tukey’s Post Hoc Test\n",
    "\n",
    "```python\n",
    "from statsmodels.stats.multicomp import pairwise_tukeyhsd\n",
    "\n",
    "tukey = pairwise_tukeyhsd(endog=df['Score'], groups=df['Group'], alpha=0.05)\n",
    "print(tukey)\n",
    "tukey.plot_simultaneous()\n",
    "plt.show()\n",
    "```\n",
    "\n",
    "---\n",
    "\n",
    "Let me know if you want:\n",
    "- A version with **Levene’s test** (for checking equal variances)\n",
    "- An example using **real-life datasets** (e.g., tips, iris, employee performance)\n",
    "- Or the same template wrapped as a **function or notebook**\n",
    "\n",
    "Happy to help build out your ANOVA interview prep!"
   ]
  },
  {
   "cell_type": "markdown",
   "id": "9d962268",
   "metadata": {
    "hidden": true
   },
   "source": [
    "Absolutely! Here's your enhanced **One-Way ANOVA template in Python** with **Levene’s test** included to check for **homogeneity of variances**—a critical assumption for standard ANOVA.\n",
    "\n",
    "---\n",
    "\n",
    "### ✅ Python Code Template: One-Way ANOVA with Levene's Test\n",
    "\n",
    "```python\n",
    "import pandas as pd\n",
    "import scipy.stats as stats\n",
    "import matplotlib.pyplot as plt\n",
    "import seaborn as sns\n",
    "from statsmodels.stats.multicomp import pairwise_tukeyhsd\n",
    "\n",
    "# Step 1: Sample Data (Replace this with your real data)\n",
    "data = {\n",
    "    'Group': ['A'] * 5 + ['B'] * 5 + ['C'] * 5,\n",
    "    'Score': [85, 87, 90, 88, 86, 78, 82, 84, 79, 80, 92, 95, 94, 93, 96]\n",
    "}\n",
    "df = pd.DataFrame(data)\n",
    "\n",
    "# Step 2: Visualize Group Distributions\n",
    "sns.boxplot(x='Group', y='Score', data=df)\n",
    "plt.title('Score Distribution by Group')\n",
    "plt.show()\n",
    "\n",
    "# Step 3: Prepare data by group\n",
    "groups = df['Group'].unique()\n",
    "grouped_data = [df[df['Group'] == group]['Score'] for group in groups]\n",
    "\n",
    "# Step 4: Levene’s Test for Equal Variance\n",
    "levene_stat, levene_p = stats.levene(*grouped_data)\n",
    "print(\"Levene’s Test:\")\n",
    "print(\"Statistic:\", levene_stat)\n",
    "print(\"p-value:\", levene_p)\n",
    "\n",
    "# Step 5: One-Way ANOVA\n",
    "print(\"\\nOne-Way ANOVA:\")\n",
    "if levene_p > 0.05:\n",
    "    print(\"Variances are equal (p > 0.05). Proceed with standard ANOVA.\")\n",
    "else:\n",
    "    print(\"Warning: Variances may not be equal (p < 0.05). Consider Welch’s ANOVA.\")\n",
    "\n",
    "f_stat, p_value = stats.f_oneway(*grouped_data)\n",
    "print(\"F-statistic:\", f_stat)\n",
    "print(\"p-value:\", p_value)\n",
    "\n",
    "# Step 6: Interpretation\n",
    "alpha = 0.05\n",
    "if p_value < alpha:\n",
    "    print(\"Reject null hypothesis: At least one group mean is significantly different.\")\n",
    "    \n",
    "    # Optional: Post-Hoc Test if ANOVA is significant\n",
    "    print(\"\\nTukey's HSD Post Hoc Test:\")\n",
    "    tukey = pairwise_tukeyhsd(endog=df['Score'], groups=df['Group'], alpha=alpha)\n",
    "    print(tukey)\n",
    "    tukey.plot_simultaneous()\n",
    "    plt.show()\n",
    "else:\n",
    "    print(\"Fail to reject null hypothesis: No significant difference among group means.\")\n",
    "```\n",
    "\n",
    "---\n",
    "\n",
    "### 🧠 Key Points for Interviews\n",
    "\n",
    "- **Levene's test** checks for **equal variance** (homoscedasticity), required for ANOVA.\n",
    "- If Levene’s p-value < 0.05, variances are **unequal** → suggest using **Welch’s ANOVA** (`statsmodels`).\n",
    "- You should mention this diagnostic check in interviews to show statistical maturity.\n",
    "\n",
    "---\n",
    "\n",
    "Let me know if you'd like the **Welch’s ANOVA version** too (which handles unequal variances), or if you want to turn this into a reusable function/class for your portfolio."
   ]
  },
  {
   "cell_type": "markdown",
   "id": "c9a5e585",
   "metadata": {
    "hidden": true
   },
   "source": []
  },
  {
   "cell_type": "markdown",
   "id": "4268452a",
   "metadata": {
    "heading_collapsed": true
   },
   "source": [
    "# ANNOVA (two-way)"
   ]
  },
  {
   "cell_type": "markdown",
   "id": "1cb8d6dd",
   "metadata": {
    "hidden": true
   },
   "source": [
    "Here are **20 difficult Two-Way ANOVA** questions tailored for **data scientist interviews (3–7 years experience)**. These questions require **Python implementation** and are designed to assess your understanding of **interaction effects**, **main effects**, **assumptions testing**, and **interpretation** of Two-Way ANOVA results.\n",
    "\n",
    "---\n",
    "\n",
    "### ✅ DATASETS NOTE:\n",
    "\n",
    "Each question either comes with synthetic data or a sample that can be created using Python. Use `pandas`, `statsmodels`, `scipy`, and `seaborn/matplotlib` for analysis.\n",
    "\n",
    "---\n",
    "\n",
    "## 🔬 Two-Way ANOVA — Interview-Level Questions\n",
    "\n",
    "---\n",
    "\n",
    "### **Q1. Productivity by Department and Experience**\n",
    "You are given the following dataset of employee productivity scores:\n",
    "\n",
    "| Employee_ID | Department | Experience_Level | Productivity_Score |\n",
    "|-------------|------------|------------------|---------------------|\n",
    "| E001        | Sales      | Junior           | 65                  |\n",
    "| E002        | Sales      | Senior           | 82                  |\n",
    "| E003        | HR         | Junior           | 58                  |\n",
    "| E004        | HR         | Senior           | 75                  |\n",
    "| ...         | ...        | ...              | ...                 |\n",
    "\n",
    "**Question:**  \n",
    "Perform a Two-Way ANOVA to test whether **Department**, **Experience_Level**, or their interaction significantly affects **Productivity_Score**.\n",
    "\n",
    "---\n",
    "\n",
    "### **Q2. Marketing Campaign Effectiveness**\n",
    "You run an experiment with 3 **ad types** (Video, Banner, Text) across 2 **regions** (Urban, Rural).\n",
    "\n",
    "**Data:**\n",
    "Create synthetic data with `n=15` per group, assuming the dependent variable is **Conversion Rate**.\n",
    "\n",
    "**Question:**  \n",
    "Does ad type, region, or their interaction affect conversion rate?\n",
    "\n",
    "---\n",
    "\n",
    "### **Q3. Drug Efficacy Test**\n",
    "A pharmaceutical company tests **3 drugs** (A, B, C) on patients across **2 age groups** (Below 50, Above 50). The dependent variable is **recovery days**.\n",
    "\n",
    "**Question:**  \n",
    "Use Two-Way ANOVA to determine whether **drug type**, **age group**, or their interaction affects recovery time.\n",
    "\n",
    "---\n",
    "\n",
    "### **Q4. Student Performance by Teaching Method and Gender**\n",
    "Dataset contains:\n",
    "\n",
    "- Teaching_Method: ['Traditional', 'Online', 'Hybrid']\n",
    "- Gender: ['Male', 'Female']\n",
    "- Test_Score: float values\n",
    "\n",
    "**Question:**  \n",
    "Is there a significant interaction between **teaching method** and **gender** on **student performance**?\n",
    "\n",
    "---\n",
    "\n",
    "### **Q5. Website Engagement Metrics**\n",
    "You test two factors:  \n",
    "- **UI Theme**: Light, Dark  \n",
    "- **Device Type**: Desktop, Mobile  \n",
    "\n",
    "**Dependent variable**: Avg Session Duration (in seconds)\n",
    "\n",
    "**Question:**  \n",
    "Run a Two-Way ANOVA and check if there's a significant interaction between UI theme and device type.\n",
    "\n",
    "---\n",
    "\n",
    "### **Q6. Manufacturing Defects**\n",
    "Two factories (Factory A, Factory B) use three **machines** each (M1, M2, M3). You measure **number of defective items** over multiple shifts.\n",
    "\n",
    "**Question:**  \n",
    "Does factory, machine type, or their interaction affect the number of defects?\n",
    "\n",
    "---\n",
    "\n",
    "### **Q7. Call Center Analysis**\n",
    "A telecom company records:\n",
    "- **Shift**: Morning, Evening  \n",
    "- **Language**: English, Spanish  \n",
    "- **Call Duration** (in mins)\n",
    "\n",
    "**Question:**  \n",
    "Is there a statistically significant difference in call duration based on shift and language? What about their interaction?\n",
    "\n",
    "---\n",
    "\n",
    "### **Q8. Customer Ratings in Retail**\n",
    "You're analyzing customer ratings based on:\n",
    "- **Store Type**: Online, Offline  \n",
    "- **Discount_Level**: High, Medium, Low  \n",
    "- **Customer Rating (out of 10)**\n",
    "\n",
    "**Question:**  \n",
    "Use Two-Way ANOVA to test the main and interaction effects.\n",
    "\n",
    "---\n",
    "\n",
    "### **Q9. Battery Performance**\n",
    "Battery tested across:\n",
    "- **Temperature**: Low, Normal, High  \n",
    "- **Brand**: X, Y  \n",
    "\n",
    "**Metric:** Battery Life (in hours)\n",
    "\n",
    "**Question:**  \n",
    "Do temperature and brand affect battery performance independently or interactively?\n",
    "\n",
    "---\n",
    "\n",
    "### **Q10. Employee Stress**\n",
    "Measure stress levels (0–100 scale) for:\n",
    "- **Workload**: Low, Medium, High  \n",
    "- **Work Mode**: Remote, In-office\n",
    "\n",
    "**Question:**  \n",
    "Is there a significant interaction effect between workload and work mode on stress?\n",
    "\n",
    "---\n",
    "\n",
    "### **Q11. Hotel Reviews Analysis**\n",
    "Guests provide ratings across:\n",
    "- **Booking Source**: Website, App  \n",
    "- **Stay Length**: Short, Long  \n",
    "- **Satisfaction Score** (0–100)\n",
    "\n",
    "**Question:**  \n",
    "Is guest satisfaction influenced by booking source, stay length, or their interaction?\n",
    "\n",
    "---\n",
    "\n",
    "### **Q12. E-commerce Return Rates**\n",
    "Dataset:\n",
    "- **Item Category**: Electronics, Clothing  \n",
    "- **Shipping Speed**: Standard, Express  \n",
    "- **Return Rate**: %\n",
    "\n",
    "**Question:**  \n",
    "Conduct a Two-Way ANOVA and interpret results.\n",
    "\n",
    "---\n",
    "\n",
    "### **Q13. Online Learning Engagement**\n",
    "Factors:\n",
    "- **Learning Format**: Recorded, Live  \n",
    "- **Course Type**: Technical, Non-Technical  \n",
    "- **Engagement Score**\n",
    "\n",
    "**Question:**  \n",
    "Is there an interaction effect between learning format and course type on engagement?\n",
    "\n",
    "---\n",
    "\n",
    "### **Q14. Airline Delay**\n",
    "You analyze delays based on:\n",
    "- **Airline**: A, B, C  \n",
    "- **Time of Day**: Morning, Evening  \n",
    "- **Delay (minutes)**\n",
    "\n",
    "**Question:**  \n",
    "Do airline and time affect delays? Is the interaction significant?\n",
    "\n",
    "---\n",
    "\n",
    "### **Q15. Retail Footfall**\n",
    "Data:\n",
    "- **Season**: Summer, Winter  \n",
    "- **Ad Campaign**: Facebook, TV  \n",
    "- **Footfall Count**\n",
    "\n",
    "**Question:**  \n",
    "Use Two-Way ANOVA to test interaction and main effects.\n",
    "\n",
    "---\n",
    "\n",
    "### **Q16. Sales Training Programs**\n",
    "A company implements:\n",
    "- **Training Type**: A, B  \n",
    "- **Experience Level**: Junior, Senior  \n",
    "- **Sales Revenue**\n",
    "\n",
    "**Question:**  \n",
    "Does training type impact revenue differently for different experience levels?\n",
    "\n",
    "---\n",
    "\n",
    "### **Q17. Movie Ratings**\n",
    "Users rated movies based on:\n",
    "- **Genre**: Action, Comedy  \n",
    "- **Platform**: Mobile, Desktop  \n",
    "- **Rating (0–10)**\n",
    "\n",
    "**Question:**  \n",
    "Run a Two-Way ANOVA to understand interaction between genre and platform.\n",
    "\n",
    "---\n",
    "\n",
    "### **Q18. Fitness Program Study**\n",
    "Variables:\n",
    "- **Diet Plan**: Keto, Low-Carb, Vegan  \n",
    "- **Exercise Routine**: Cardio, Strength  \n",
    "- **Weight Loss (kg)**\n",
    "\n",
    "**Question:**  \n",
    "Is weight loss impacted more by diet, exercise, or their combination?\n",
    "\n",
    "---\n",
    "\n",
    "### **Q19. Insurance Claims Fraud Detection**\n",
    "You analyze:\n",
    "- **Policy Type**: Health, Vehicle  \n",
    "- **Claim Channel**: Online, Agent  \n",
    "- **Fraud Score (0–1)**\n",
    "\n",
    "**Question:**  \n",
    "Is there a significant interaction between policy type and claim channel?\n",
    "\n",
    "---\n",
    "\n",
    "### **Q20. Bank Loan Approval Times**\n",
    "Dataset:\n",
    "- **Branch Location**: Urban, Suburban, Rural  \n",
    "- **Loan Type**: Home, Auto  \n",
    "- **Approval Time (days)**\n",
    "\n",
    "**Question:**  \n",
    "Analyze using Two-Way ANOVA to identify interaction and main effects.\n",
    "\n",
    "---\n",
    "\n",
    "Let me know if you'd like the **code templates**, **sample synthetic data**, or **detailed solutions** for these questions."
   ]
  },
  {
   "cell_type": "markdown",
   "id": "38a9f608",
   "metadata": {
    "hidden": true
   },
   "source": [
    "Here's a **Python code template** for solving any **Two-Way ANOVA** problem using `statsmodels`. This can be adapted for any of the 20 interview questions I gave earlier.\n",
    "\n",
    "---\n",
    "\n",
    "### ✅ Python Code Template for Two-Way ANOVA\n",
    "\n",
    "```python\n",
    "import pandas as pd\n",
    "import statsmodels.api as sm\n",
    "from statsmodels.formula.api import ols\n",
    "import matplotlib.pyplot as plt\n",
    "import seaborn as sns\n",
    "\n",
    "# Example: Simulated Data (Replace with your own data)\n",
    "data = {\n",
    "    'FactorA': ['A1', 'A1', 'A1', 'A2', 'A2', 'A2', 'A3', 'A3', 'A3'] * 2,\n",
    "    'FactorB': ['B1'] * 9 + ['B2'] * 9,\n",
    "    'Response': [12, 14, 13, 18, 20, 19, 25, 27, 26, 15, 16, 14, 21, 22, 20, 28, 30, 29]\n",
    "}\n",
    "df = pd.DataFrame(data)\n",
    "\n",
    "# Check the first few rows\n",
    "print(df.head())\n",
    "\n",
    "# Optional: Plot the interaction\n",
    "sns.pointplot(x='FactorA', y='Response', hue='FactorB', data=df, dodge=True, markers=['o', 's'], capsize=.1)\n",
    "plt.title('Interaction Plot')\n",
    "plt.show()\n",
    "\n",
    "# Run Two-Way ANOVA (with interaction)\n",
    "model = ols('Response ~ C(FactorA) + C(FactorB) + C(FactorA):C(FactorB)', data=df).fit()\n",
    "anova_table = sm.stats.anova_lm(model, typ=2)  # type 2 for balanced design\n",
    "print(anova_table)\n",
    "\n",
    "# Optional: Check model assumptions\n",
    "residuals = model.resid\n",
    "fitted = model.fittedvalues\n",
    "\n",
    "# Residual plot\n",
    "sns.residplot(x=fitted, y=residuals, lowess=True)\n",
    "plt.axhline(0, linestyle='--')\n",
    "plt.title(\"Residuals vs Fitted\")\n",
    "plt.show()\n",
    "\n",
    "# Histogram of residuals\n",
    "sns.histplot(residuals, kde=True)\n",
    "plt.title(\"Histogram of Residuals\")\n",
    "plt.show()\n",
    "```\n",
    "\n",
    "---\n",
    "\n",
    "### 🧠 Key Customization Points\n",
    "\n",
    "- Change `'FactorA'`, `'FactorB'`, and `'Response'` to match your dataset.\n",
    "- Use `ols('Response ~ C(FactorA) + C(FactorB) + C(FactorA):C(FactorB)', ...)` for interaction.\n",
    "- Use `typ=2` or `typ=3` depending on whether the design is **balanced or unbalanced**.\n",
    "- Plot interaction effects to visualize **crossed lines (interaction)**.\n",
    "\n",
    "---\n",
    "\n",
    "Let me know if you want:\n",
    "- A version with **p-value interpretation**\n",
    "- A reusable **function template**\n",
    "- A notebook with multiple examples\n",
    "- Help generating synthetic datasets for practice\n",
    "\n",
    "I'm happy to customize it based on your next move!"
   ]
  },
  {
   "cell_type": "code",
   "execution_count": null,
   "id": "1d1f19ab",
   "metadata": {
    "hidden": true
   },
   "outputs": [],
   "source": []
  }
 ],
 "metadata": {
  "kernelspec": {
   "display_name": "gpu_envi",
   "language": "python",
   "name": "gpu_envi"
  },
  "language_info": {
   "codemirror_mode": {
    "name": "ipython",
    "version": 3
   },
   "file_extension": ".py",
   "mimetype": "text/x-python",
   "name": "python",
   "nbconvert_exporter": "python",
   "pygments_lexer": "ipython3",
   "version": "3.9.0"
  }
 },
 "nbformat": 4,
 "nbformat_minor": 5
}
