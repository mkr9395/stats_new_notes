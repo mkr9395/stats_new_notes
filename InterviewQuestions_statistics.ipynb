{
 "cells": [
  {
   "cell_type": "markdown",
   "id": "4573e44f",
   "metadata": {},
   "source": [
    "## What are different types of Sampling Techniques:"
   ]
  },
  {
   "cell_type": "markdown",
   "id": "8d8fa057",
   "metadata": {},
   "source": [
    "Sampling techniques are used in statistics to select a subset (sample) from a larger population for the purpose of making inferences about that population. \n",
    "\n",
    "Different types of sampling techniques with examples and explanations of when to use each:\n",
    "\n",
    "#### 1. **Simple Random Sampling (SRS):**\n",
    "   \n",
    "   \n",
    "   - **Description:** In SRS, each member of the population has an equal chance of being selected, and selection is done without any bias.\n",
    "   \n",
    "   \n",
    "   - **Example:** To study the average income of citizens in a city, you assign a unique number to each citizen and use a random number generator to select a sample.\n",
    "   \n",
    "   \n",
    "   - **When to Use:** When you want a representative sample from a homogeneous population, especially when population data is readily available.\n",
    "\n",
    "\n",
    "\n",
    "#### 2. **Stratified Sampling:**\n",
    "   \n",
    "   \n",
    "   - **Description:** The population is divided into distinct subgroups or strata, and then samples are randomly selected from each stratum.\n",
    "   \n",
    "   \n",
    "   - **Example:** When studying educational achievement in a country, you might divide the population into strata based on grade levels (e.g., elementary, middle, high school) and sample from each stratum.\n",
    "   \n",
    "   \n",
    "   - **When to Use:** When the population has clear subgroups, and you want to ensure representation from each subgroup.\n",
    "\n",
    "\n",
    "\n",
    "#### 3. **Systematic Sampling:**\n",
    "   \n",
    "   \n",
    "   - **Description:** Every nth item from a list or sequence is selected as part of the sample.\n",
    "   \n",
    "   \n",
    "   - **Example:** In a factory, you might select every 20th product off the assembly line for quality control checks.\n",
    "   \n",
    "   \n",
    "   - **When to Use:** When there's a natural order or sequence to the population, and you want a systematic and efficient method of sampling.\n",
    "\n",
    "\n",
    "\n",
    "#### 4. **Cluster Sampling:**\n",
    "   \n",
    "   \n",
    "   - **Description:** The population is divided into clusters or groups, and a random sample of clusters is selected. Then, all members within the selected clusters are included in the sample.\n",
    "   \n",
    "   \n",
    "   - **Example:** In a nationwide health survey, you randomly select a few counties, and then survey all households within those counties.\n",
    "   \n",
    "   \n",
    "   - **When to Use:** When it's impractical or costly to survey the entire population, but clusters can be sampled more easily.\n",
    "\n",
    "\n",
    "\n",
    "\n",
    "\n",
    "\n",
    "\n",
    "#### 5. **Random Sampling with Replacement vs. Without Replacement:**\n",
    "\n",
    "   \n",
    "   - **Description:** In random sampling with replacement, each selected item is returned to the population before the next selection; without replacement means items are not returned.\n",
    "    \n",
    "   \n",
    "   - **Example:** Drawing cards from a deck with or without replacement.\n",
    "    \n",
    "   \n",
    "   - **When to Use:** With replacement is used when items are homogeneous and could be selected multiple times; without replacement is used when each item can be selected only once.\n"
   ]
  },
  {
   "cell_type": "markdown",
   "id": "ae1b0199",
   "metadata": {},
   "source": [
    "Certainly! Here are 50 commonly asked questions related to statistics for a data scientist or machine learning engineer interview, along with brief answers:\n",
    "\n",
    "**1. What is statistics?**\n",
    "   - **Answer:** Statistics is the study of collecting, organizing, analyzing, interpreting, and presenting data to make informed decisions.\n",
    "\n",
    "**2. Explain the difference between population and sample.**\n",
    "   - **Answer:** The population is the entire group of interest, while a sample is a subset of the population used for analysis.\n",
    "\n",
    "**3. What are descriptive and inferential statistics?**\n",
    "   - **Answer:** Descriptive statistics summarize and describe data, while inferential statistics make predictions or inferences about populations based on sample data.\n",
    "\n",
    "**4. Define mean, median, and mode.**\n",
    "   - **Answer:** Mean is the average of a dataset, median is the middle value when data is sorted, and mode is the most frequently occurring value.\n",
    "\n",
    "**5. What is standard deviation?**\n",
    "   - **Answer:** Standard deviation measures the spread or variability of data points from the mean.\n",
    "\n",
    "**6. Explain the concept of variance.**\n",
    "   - **Answer:** Variance quantifies how data points deviate from the mean, calculated as the average of squared deviations.\n",
    "\n",
    "**7. What is a normal distribution?**\n",
    "   - **Answer:** A normal distribution is a symmetric, bell-shaped probability distribution with a well-defined mean and standard deviation.\n",
    "\n",
    "**8. What is the Central Limit Theorem?**\n",
    "   - **Answer:** The Central Limit Theorem states that the sampling distribution of the sample mean approaches a normal distribution as the sample size increases, regardless of the population's distribution.\n",
    "\n",
    "**9. Describe Type I and Type II errors in hypothesis testing.**\n",
    "   - **Answer:** Type I error occurs when you reject a true null hypothesis, and Type II error occurs when you fail to reject a false null hypothesis.\n",
    "\n",
    "**10. What is p-value in hypothesis testing?**\n",
    "    - **Answer:** The p-value is the probability of observing a test statistic as extreme as or more extreme than what was observed, assuming the null hypothesis is true. A smaller p-value suggests stronger evidence against the null hypothesis.\n",
    "\n",
    "**11. What is the difference between correlation and causation?**\n",
    "    - **Answer:** Correlation indicates a statistical relationship between two variables, while causation implies that one variable directly affects the other.\n",
    "\n",
    "**12. Define statistical power.**\n",
    "    - **Answer:** Statistical power is the probability of correctly rejecting a false null hypothesis (Type II error). It measures the test's ability to detect a true effect.\n",
    "\n",
    "**13. What is the purpose of a confidence interval?**\n",
    "    - **Answer:** A confidence interval provides a range of values within which a population parameter is likely to fall with a certain level of confidence.\n",
    "\n",
    "**14. Explain overfitting in machine learning.**\n",
    "    - **Answer:** Overfitting occurs when a model learns the noise in the training data rather than the underlying patterns, resulting in poor performance on new data.\n",
    "\n",
    "**15. What is cross-validation, and why is it important?**\n",
    "    - **Answer:** Cross-validation is a technique for assessing a model's generalization performance by partitioning the data into training and testing sets multiple times. It helps detect overfitting and provides a more robust evaluation of the model.\n",
    "\n",
    "**16. What is the bias-variance trade-off in machine learning?**\n",
    "    - **Answer:** The bias-variance trade-off refers to the balance between a model's ability to fit the training data (low bias) and its ability to generalize to new data (low variance). Increasing model complexity reduces bias but increases variance.\n",
    "\n",
    "**17. Explain the ROC curve and AUC in binary classification.**\n",
    "    - **Answer:** The ROC (Receiver Operating Characteristic) curve plots the true positive rate against the false positive rate at various thresholds. AUC (Area Under the Curve) measures the area under the ROC curve and quantifies a model's discrimination ability.\n",
    "\n",
    "**18. What is the purpose of regularization in machine learning?**\n",
    "    - **Answer:** Regularization techniques (e.g., L1 and L2 regularization) are used to prevent overfitting by adding a penalty term to the model's loss function, discouraging large coefficients.\n",
    "\n",
    "**19. What are precision and recall in classification?**\n",
    "    - **Answer:** Precision is the ratio of true positives to the total predicted positives, while recall is the ratio of true positives to the total actual positives. They are used to evaluate a model's performance on imbalanced datasets.\n",
    "\n",
    "**20. Explain the bias-variance decomposition of mean squared error (MSE).**\n",
    "    - **Answer:** The MSE can be decomposed into three components: bias^2, variance, and irreducible error. This decomposition illustrates how errors arise from bias (model simplification), variance (model complexity), and inherent noise.\n",
    "\n",
    "**21. What is the curse of dimensionality?**\n",
    "    - **Answer:** The curse of dimensionality refers to the challenges that arise when working with high-dimensional data, such as increased computational complexity and the need for more data to maintain model generalization.\n",
    "\n",
    "**22. What is feature engineering in machine learning?**\n",
    "    - **Answer:** Feature engineering involves creating, selecting, or transforming input variables (features) to improve a model's performance.\n",
    "\n",
    "**23. Describe k-fold cross-validation.**\n",
    "    - **Answer:** K-fold cross-validation partitions the dataset into k subsets (folds). The model is trained on k-1 folds and tested on the remaining fold, repeated k times. It provides a more reliable estimate of model performance than a single train-test split.\n",
    "\n",
    "**24. What is a confusion matrix, and how is it used?**\n",
    "    - **Answer:** A confusion matrix is a table that summarizes the performance of a classification model, showing true positives, true negatives, false positives, and false negatives. It's used to calculate various evaluation metrics like accuracy, precision, recall, and F1-score.\n",
    "\n",
    "**25. What is the bias of an estimator?**\n",
    "    - **Answer:** The bias of an estimator measures the systematic error between the expected value of the estimator and the true population parameter it is estimating. An estimator is unbiased if its expected value equals the true parameter value.\n",
    "\n",
    "**26. Explain the law of large numbers.**\n",
    "    - **Answer:** The law of large numbers states that as the sample size increases, the sample mean approaches the population mean. In other words, with a sufficiently large sample, sample statistics become more reliable estimates of population parameters.\n",
    "\n",
    "**27. What is the difference between a hypothesis test and a confidence interval?**\n",
    "    - **Answer:** A hypothesis test assesses the significance of a specific hypothesis about a population parameter, while a confidence interval provides a range of values for the parameter without making a specific hypothesis.\n",
    "\n",
    "**28. What is multicollinearity in regression analysis?**\n",
    "    - **Answer:** Multicollinearity occurs when two or more independent variables in a regression model are highly correlated, making it challenging to distinguish their individual effects on the dependent variable.\n",
    "\n",
    "**29. Define A/B testing.**\n",
    "    - **Answer:** A/B testing, also known as split testing, is an experimental method where two or more versions (A and B) of a web page, app, or product are compared to determine which one performs better in terms of user engagement or other metrics.\n",
    "\n",
    "**30. What is the purpose of a t-test?**\n",
    "    - **Answer:** A t-test is used to compare the means of two groups and determine if there is a statistically significant difference between them.\n",
    "\n",
    "**\n",
    "\n",
    "31. Explain the concept of outliers.**\n",
    "    - **Answer:** Outliers are data points that significantly differ from the rest of the data. They can skew statistical analysis and should be carefully examined for validity.\n",
    "\n",
    "**32. What is the difference between correlation and covariance?**\n",
    "    - **Answer:** Correlation is a standardized measure of the strength and direction of a linear relationship between two variables, while covariance measures the degree to which two variables change together.\n",
    "\n",
    "**33. What is a box plot, and what information does it provide?**\n",
    "    - **Answer:** A box plot displays the distribution of a dataset by showing the median, quartiles, and potential outliers. It provides a visual summary of the data's central tendency and spread.\n",
    "\n",
    "**34. Explain the purpose of feature scaling in machine learning.**\n",
    "    - **Answer:** Feature scaling standardizes or normalizes input features to ensure that they have similar scales. It helps algorithms converge faster and perform better, especially for methods sensitive to feature scales (e.g., gradient descent).\n",
    "\n",
    "**35. What is the Bayes' theorem, and how is it used in statistics?**\n",
    "    - **Answer:** Bayes' theorem is a formula used to update the probability for a hypothesis based on new evidence. In statistics, it is commonly used in Bayesian inference and Bayesian machine learning.\n",
    "\n",
    "**36. What is bootstrapping in statistics?**\n",
    "    - **Answer:** Bootstrapping is a resampling technique that repeatedly samples from a dataset with replacement to estimate population parameters or assess the sampling distribution of a statistic.\n",
    "\n",
    "**37. Define cross-correlation and autocorrelation.**\n",
    "    - **Answer:** Cross-correlation measures the similarity between two different time series, while autocorrelation measures the similarity between a time series and a lagged version of itself.\n",
    "\n",
    "**38. Explain the concept of skewness in a probability distribution.**\n",
    "    - **Answer:** Skewness quantifies the asymmetry of a probability distribution. A positive skew indicates a longer tail on the right, while a negative skew indicates a longer tail on the left.\n",
    "\n",
    "**39. What is the Kolmogorov-Smirnov test used for?**\n",
    "    - **Answer:** The Kolmogorov-Smirnov test is a non-parametric test used to compare the distribution of a sample to a known distribution or to compare two sample distributions for similarity.\n",
    "\n",
    "**40. What is the purpose of outlier detection techniques like the Z-score and IQR method?**\n",
    "    - **Answer:** Outlier detection techniques help identify and remove or handle extreme values in data that can adversely affect statistical analysis or machine learning models.\n",
    "\n",
    "**41. What is the difference between time-series data and cross-sectional data?**\n",
    "    - **Answer:** Time-series data is collected over time at specific intervals, while cross-sectional data is collected from multiple subjects or entities at a single point in time.\n",
    "\n",
    "**42. Explain the difference between parametric and non-parametric statistics.**\n",
    "    - **Answer:** Parametric statistics assume specific properties of the underlying data distribution, while non-parametric statistics make fewer assumptions about the distribution.\n",
    "\n",
    "**43. What is the purpose of hypothesis testing in statistics?**\n",
    "    - **Answer:** Hypothesis testing is used to make decisions about population parameters based on sample data, helping to assess the significance of relationships or differences.\n",
    "\n",
    "**44. What are the key assumptions of linear regression?**\n",
    "    - **Answer:** Linear regression assumes that the relationship between the dependent variable and independent variables is linear, errors are normally distributed, and the residuals have constant variance (homoscedasticity).\n",
    "\n",
    "**45. What is a correlation matrix, and how is it useful?**\n",
    "    - **Answer:** A correlation matrix displays pairwise correlations between variables. It is useful for identifying relationships between variables and identifying multicollinearity in regression analysis.\n",
    "\n",
    "**46. Explain the concept of statistical power and its importance.**\n",
    "    - **Answer:** Statistical power is the probability of correctly rejecting a false null hypothesis. It's important because it helps ensure that a study can detect true effects when they exist.\n",
    "\n",
    "**47. What is the purpose of a chi-squared test, and when is it used?**\n",
    "    - **Answer:** A chi-squared test is used to determine if there is a significant association between two categorical variables in a contingency table.\n",
    "\n",
    "**48. Describe the concept of entropy in information theory.**\n",
    "    - **Answer:** Entropy measures the uncertainty or disorder in a random variable. In information theory, it quantifies the average amount of information contained in a message or dataset.\n",
    "\n",
    "**49. What is the difference between supervised and unsupervised learning in machine learning?**\n",
    "    - **Answer:** In supervised learning, the model is trained on labeled data, while in unsupervised learning, the model finds patterns or structures in unlabeled data.\n",
    "\n",
    "**50. Explain the concept of bias in machine learning models.**\n",
    "    - **Answer:** Bias in machine learning models occurs when the model consistently makes errors in predictions due to systematic inaccuracies or assumptions in the model. It can lead to unfair or discriminatory outcomes.\n",
    "\n",
    "These questions cover a range of statistical concepts commonly encountered in data science and machine learning roles. Be prepared to discuss these topics in-depth and provide examples and practical applications during your interview."
   ]
  },
  {
   "cell_type": "markdown",
   "id": "b52ada3e",
   "metadata": {},
   "source": [
    "## Difference between z-statistics, z-score and z-test."
   ]
  },
  {
   "cell_type": "markdown",
   "id": "de37c7c0",
   "metadata": {},
   "source": [
    "### NOTE : Z-statistics, Z-test statistic and Z-value is the same thing"
   ]
  },
  {
   "cell_type": "markdown",
   "id": "48735671",
   "metadata": {},
   "source": [
    "Certainly! Let's break down the differences between Z-statistics, Z-scores, and Z-tests in simple terms with examples:\n",
    "\n",
    "**1. Z-Statistic:**\n",
    "- **What it is:** A Z-statistic is a single number that describes how far a particular data point is from the mean of a data set in terms of standard deviations.\n",
    "\n",
    "\n",
    "- **Example:** Suppose you have a test score of 85, and the average (mean) test score is 70, with a standard deviation of 10. The Z-statistic for your score would be:\n",
    "$$Z=\\frac{x-\\mu}{\\sigma}$$\n",
    "   Z = (85 - 70) / 10 = 1.5\n",
    "\n",
    "   This means your score is 1.5 standard deviations above the mean.\n",
    "\n",
    "\n",
    "- __Z-statistics are often used in hypothesis testing to make decisions about population parameters or sample statistics. They help assess whether observed differences are statistically significant.__\n",
    "\n",
    "\n",
    "\n",
    "**2. Z-Score:**\n",
    "\n",
    "\n",
    "- **What it is:** A Z-score is also a number that tells you how far a data point is from the mean, but it's typically used to standardize data from different distributions to a common scale (mean of 0 and standard deviation of 1).\n",
    "\n",
    "\n",
    "- **Example:** Imagine you have two classes with different grading systems, and you want to compare the performance of students in both classes. In Class A, the mean score is 75, and the standard deviation is 5. In Class B, the mean score is 85, and the standard deviation is 10. To compare the performance, you can calculate Z-scores for a score of 80 in both classes:\n",
    "\n",
    "   Z_A = (80 - 75) / 5 = 1\n",
    "   Z_B = (80 - 85) / 10 = -0.5\n",
    "\n",
    "   Now, you have standardized the scores, and you can easily see that the student in Class A scored 1 standard deviation above the class average, while the student in Class B scored 0.5 standard deviations below the class average.\n",
    "   \n",
    "   \n",
    "- __Z-scores are used for standardization and comparison of data points from different distributions. They tell you how many standard deviations a data point is away from the mean of its own distribution.__\n",
    "\n",
    "\n",
    "\n",
    "**3. Z-Test:**\n",
    "- **What it is:** A Z-test is a statistical hypothesis test that uses Z-statistics to determine if there is a significant difference between a sample statistic and a population parameter or between two sample statistics. It's used to make decisions based on data.\n",
    "\n",
    "$$Z = \\frac{\\bar X - \\mu}{\\frac{\\sigma}{\\sqrt n}}$$\n",
    "- **Example:** Let's say you work at a chocolate factory, and the company claims that the average weight of a chocolate bar is 50 grams. You randomly sample 30 chocolate bars, weigh them, and find that the average weight of your sample is 48 grams with a standard deviation of 3 grams. To test if this difference is significant, you can perform a Z-test:\n",
    "\n",
    "   Z = (48 - 50) / (3/√30) ≈ -2.74\n",
    "\n",
    "   You compare this Z-statistic to a critical value or a significance level to determine if the difference in weight is statistically significant. If it is, you may conclude that the company's claim of a 50-gram average weight is not supported by the sample data.\n",
    "\n",
    "In summary, a Z-statistic is a measure of how far a data point is from a mean in terms of standard deviations, a Z-score standardizes data for comparison, and a Z-test is a statistical test that uses Z-statistics to make decisions about population parameters or sample statistics."
   ]
  },
  {
   "cell_type": "markdown",
   "id": "3d91973b",
   "metadata": {},
   "source": [
    "# CHATGPT"
   ]
  },
  {
   "cell_type": "markdown",
   "id": "01ff09e4",
   "metadata": {},
   "source": [
    "\n",
    "\n",
    "## **Probability and Distributions**\n",
    "### **1. What is the difference between a Probability Mass Function (PMF) and a Probability Density Function (PDF)?**  \n",
    "- **PMF**: Used for **discrete** random variables. It gives the probability of a specific outcome.  \n",
    "- **PDF**: Used for **continuous** random variables. The probability of any specific value is **zero**; instead, probability is calculated over an interval using integration.\n",
    "\n",
    "---\n",
    "\n",
    "### **2. What is the Central Limit Theorem (CLT) and why is it important?**  \n",
    "- The **CLT states** that the sampling distribution of the mean of a large number of independent, identically distributed (i.i.d) random variables approaches a **normal distribution**, regardless of the original distribution.  \n",
    "- **Importance**:  \n",
    "  - Enables **hypothesis testing** and **confidence intervals**.  \n",
    "  - Justifies the use of **Gaussian-based models**.  \n",
    "\n",
    "---\n",
    "\n",
    "### **3. What is the difference between Parametric and Non-Parametric tests?**  \n",
    "| Feature  | Parametric  | Non-Parametric  |\n",
    "|----------|------------|----------------|\n",
    "| Assumptions | Data follows a specific distribution (e.g., Normal) | No strict distribution assumptions |\n",
    "| Examples | t-test, ANOVA | Wilcoxon test, Kruskal-Wallis |\n",
    "| Data Type | Interval, Ratio | Ordinal, Nominal |\n",
    "\n",
    "---\n",
    "\n",
    "### **4. What is the Kolmogorov-Smirnov test?**  \n",
    "- A **non-parametric** test used to compare:  \n",
    "  1. A sample with a **known distribution**.  \n",
    "  2. Two independent samples to check if they come from the same distribution.  \n",
    "- **Uses:**  \n",
    "  - Checking **normality** of data.  \n",
    "  - Comparing observed vs. expected distributions.\n",
    "\n",
    "---\n",
    "\n",
    "### **5. What is the relationship between Mean, Median, and Mode in skewed distributions?**  \n",
    "- **Right (positive) skew**: Mean > Median > Mode  \n",
    "- **Left (negative) skew**: Mode > Median > Mean  \n",
    "- **Symmetric**: Mean = Median = Mode  \n",
    "\n",
    "---\n",
    "\n",
    "### **6. What is the difference between Bayesian and Frequentist statistics?**  \n",
    "| Approach  | Frequentist  | Bayesian  |\n",
    "|-----------|-------------|-----------|\n",
    "| Definition | Probability is **frequency of events** | Probability is **degree of belief** |\n",
    "| Prior Knowledge | No prior distribution used | Uses prior and updates belief using data |\n",
    "| Example | A/B testing | Spam detection (prior spam likelihood) |\n",
    "\n",
    "---\n",
    "\n",
    "## **Inferential Statistics**\n",
    "### **7. What is the difference between Type I and Type II errors?**  \n",
    "- **Type I error (False Positive)**: Rejecting a true null hypothesis (α).  \n",
    "- **Type II error (False Negative)**: Failing to reject a false null hypothesis (β).  \n",
    "- **Trade-off**: Reducing one increases the other.\n",
    "\n",
    "---\n",
    "\n",
    "### **8. What is the difference between T-test and Z-test?**  \n",
    "| Feature | T-test | Z-test |\n",
    "|---------|-------|--------|\n",
    "| Sample Size | Small (n < 30) | Large (n ≥ 30) |\n",
    "| Population Variance | Unknown | Known |\n",
    "| Use Case | Comparing means | Testing population mean |\n",
    "\n",
    "---\n",
    "\n",
    "### **9. What is the difference between One-tailed and Two-tailed tests?**  \n",
    "- **One-tailed test**: Tests for effect in one direction only (e.g., **\"μ > μ₀\" or \"μ < μ₀\"**).  \n",
    "- **Two-tailed test**: Tests for effect in both directions (e.g., **\"μ ≠ μ₀\"**).  \n",
    "\n",
    "---\n",
    "\n",
    "### **10. What is an F-test? When do we use it?**  \n",
    "- Used to compare **variances** of two or more groups.  \n",
    "- **Examples**:  \n",
    "  - **ANOVA (Analysis of Variance)**: Tests if means of multiple groups are different.  \n",
    "  - **Regression**: Checks significance of a model.\n",
    "\n",
    "---\n",
    "\n",
    "### **11. What is the Bonferroni correction?**  \n",
    "- A method to **control false positives** when multiple hypothesis tests are conducted.  \n",
    "- Adjusts **p-value threshold**:  \n",
    "  $$\n",
    "  \\alpha_{corrected} = \\frac{\\alpha}{m}\n",
    "  $$\n",
    "  where \\( m \\) = number of tests.\n",
    "\n",
    "---\n",
    "\n",
    "### **12. Explain Bootstrapping and its advantages.**  \n",
    "- **Bootstrapping**: Resampling with replacement to estimate **sampling distributions**.  \n",
    "- **Advantages**:  \n",
    "  - Works without normality assumptions.  \n",
    "  - Useful for **small datasets**.  \n",
    "  - Estimates **confidence intervals**.  \n",
    "\n",
    "---\n",
    "\n",
    "## **Regression Analysis**\n",
    "### **13. What is Heteroscedasticity and how do you detect it?**  \n",
    "- **Unequal variance** in residuals of regression models.  \n",
    "- **Detection**:  \n",
    "  - **Breusch-Pagan test**  \n",
    "  - **White’s test**  \n",
    "  - Plot residuals vs. fitted values.  \n",
    "- **Fixes**:  \n",
    "  - Log transformation  \n",
    "  - Weighted least squares  \n",
    "\n",
    "---\n",
    "\n",
    "### **14. What is Multicollinearity? How do you fix it?**  \n",
    "- **Highly correlated independent variables** cause instability in regression coefficients.  \n",
    "- **Detection**:  \n",
    "  - **Variance Inflation Factor (VIF)** (> 10 is problematic).  \n",
    "- **Fixes**:  \n",
    "  - Remove highly correlated features.  \n",
    "  - Use **Principal Component Analysis (PCA)**.  \n",
    "\n",
    "---\n",
    "\n",
    "### **15. What is the difference between R² and Adjusted R²?**  \n",
    "- **R²**: Measures explained variance but increases with more features.  \n",
    "- **Adjusted R²**: Penalizes for extra features.  \n",
    "  \\[\n",
    "  R^2_{adj} = 1 - \\frac{(1 - R^2) (n - 1)}{n - k - 1}\n",
    "  \\]\n",
    "  where \\( n \\) is sample size, \\( k \\) is number of predictors.\n",
    "\n",
    "---\n",
    "\n",
    "### **16. What is an Odds Ratio in Logistic Regression?**  \n",
    "- **Odds Ratio (OR)**: Measures effect size of a predictor.  \n",
    "  \\[\n",
    "  OR = e^{\\beta}\n",
    "  \\]\n",
    "  - If **OR > 1**, predictor increases probability of outcome.  \n",
    "  - If **OR < 1**, predictor decreases probability.\n",
    "\n",
    "---\n",
    "\n",
    "## **Time Series Analysis**\n",
    "### **17. What is Stationarity in Time Series? How do you test for it?**  \n",
    "- A time series is **stationary** if its statistical properties (**mean, variance, autocorrelation**) remain constant over time.  \n",
    "- **Tests**:  \n",
    "  - **Augmented Dickey-Fuller (ADF) test**  \n",
    "  - **KPSS test**  \n",
    "\n",
    "---\n",
    "\n",
    "### **18. What is Autocorrelation Function (ACF) and Partial Autocorrelation Function (PACF)?**  \n",
    "- **ACF**: Measures correlation of time series with lagged versions.  \n",
    "- **PACF**: Measures direct correlation after removing indirect correlations.  \n",
    "- **Use Case**: Identifying AR (PACF) and MA (ACF) terms in ARIMA.\n",
    "\n",
    "---\n",
    "\n",
    "### **19. What is an ARIMA model?**  \n",
    "- **Autoregressive (AR)**: Uses past values.  \n",
    "- **Integrated (I)**: Differencing to remove trends.  \n",
    "- **Moving Average (MA)**: Uses past errors.  \n",
    "\n",
    "---\n",
    "\n",
    "## **Bayesian Statistics**\n",
    "### **20. What is Markov Chain Monte Carlo (MCMC)?**  \n",
    "- A method to **approximate probability distributions** by generating samples.  \n",
    "- Used in **Bayesian inference** when exact solutions are intractable.\n",
    "\n",
    "---\n",
    "\n",
    "## **Miscellaneous**\n",
    "### **21. What is Jensen’s Inequality?**  \n",
    "- If \\( f \\) is a **convex function**, then:\n",
    "  \\[\n",
    "  f(E[X]) \\leq E[f(X)]\n",
    "  \\]\n",
    "  - **Application**: Log-likelihood in Maximum Likelihood Estimation (MLE).  \n",
    "\n",
    "---\n",
    "\n",
    "### **22. Explain the Dirichlet Distribution.**  \n",
    "- A **prior distribution** for **categorical** probabilities in Bayesian models.  \n",
    "\n",
    "---\n",
    "\n",
    "### **23. What is a Wald Test?**  \n",
    "- Tests if **a regression coefficient** is significantly different from zero.  \n",
    "\n",
    "---\n",
    "\n",
    "### **24. What is the likelihood ratio test?**  \n",
    "- Compares nested models:  \n",
    "  $$\n",
    "  \\Lambda = \\frac{L_0}{L_1}\n",
    "  $$\n",
    "  where $L_0$ is likelihood of null model, $L_1$ is full model.  \n",
    "\n"
   ]
  },
  {
   "cell_type": "markdown",
   "id": "ff63c6eb",
   "metadata": {},
   "source": [
    "# GEMINI\n"
   ]
  },
  {
   "cell_type": "markdown",
   "id": "9028f7e6",
   "metadata": {},
   "source": [
    "Absolutely! Here are 30 challenging statistics questions tailored for a data scientist/ML engineer with 5 years of experience, along with detailed answers:\n",
    "\n",
    "**1. Hypothesis Testing & Power:**\n",
    "\n",
    "* **Question:** Explain the concept of statistical power and how it relates to Type II errors. How would you design an A/B test to maximize power while controlling for Type I errors?\n",
    "    * **Answer:**\n",
    "        * Statistical power is the probability of correctly rejecting a false null hypothesis. Type II error (beta) is failing to reject a false null hypothesis. Power = 1 - beta.\n",
    "        * To maximize power:\n",
    "            * Increase sample size.\n",
    "            * Increase the effect size.\n",
    "            * Reduce variability in the data.\n",
    "            * Set a higher alpha level (but increases Type I error).\n",
    "        * A/B test design: Use appropriate sample size calculations, minimize variance through stratified sampling, and carefully select the significance level.\n",
    "\n",
    "**2. Bayesian Inference:**\n",
    "\n",
    "* **Question:** Describe a scenario where Bayesian inference would be preferred over frequentist methods. Explain how you would construct a Bayesian model for that scenario.\n",
    "    * **Answer:**\n",
    "        * When prior knowledge is available or when dealing with small sample sizes.\n",
    "        * Example: Predicting conversion rates for a new product with limited initial data.\n",
    "        * Model: Define a prior distribution for the conversion rate, collect data, and update the prior to a posterior distribution using Bayes' theorem.\n",
    "\n",
    "**3. Time Series Analysis:**\n",
    "\n",
    "* **Question:** How would you handle non-stationary time series data? Explain the steps involved in building an ARIMA model and how you would evaluate its performance.\n",
    "    * **Answer:**\n",
    "        * Non-stationary data: Use differencing, detrending, or seasonal decomposition.\n",
    "        * ARIMA: Identify p, d, q parameters using ACF and PACF plots.\n",
    "        * Evaluation: Use metrics like AIC, BIC, RMSE, and perform residual analysis.\n",
    "\n",
    "**4. Model Evaluation:**\n",
    "\n",
    "* **Question:** Beyond accuracy, precision, recall, and F1-score, what other metrics are crucial for evaluating models in imbalanced datasets? Explain their significance.\n",
    "    * **Answer:**\n",
    "        * AUC-ROC, AUC-PR, sensitivity, specificity, and the Matthews correlation coefficient (MCC).\n",
    "        * AUC-ROC: Area under the Receiver Operating Characteristic curve.\n",
    "        * AUC-PR: Area under the precision recall curve.\n",
    "        * MCC: Considers true and false positives and negatives, robust to class imbalance.\n",
    "\n",
    "**5. Dimensionality Reduction:**\n",
    "\n",
    "* **Question:** Explain the differences between PCA and t-SNE. When would you use each technique, and what are their limitations?\n",
    "    * **Answer:**\n",
    "        * PCA: Linear dimensionality reduction, maximizes variance.\n",
    "        * t-SNE: Non-linear, preserves local structure, good for visualization.\n",
    "        * PCA: Use for linear data, feature compression. Limitations: Only linear transformations.\n",
    "        * t-SNE: Use for visualization of high-dimensional data. Limitations: Computationally expensive, difficult to interpret global structure.\n",
    "\n",
    "**6. Causal Inference:**\n",
    "\n",
    "* **Question:** Explain the concept of confounding variables and how they can affect causal inference. What are some methods for mitigating their impact?\n",
    "    * **Answer:**\n",
    "        * Confounding variables: Influence both independent and dependent variables, creating spurious associations.\n",
    "        * Mitigation:\n",
    "            * Randomized controlled trials (RCTs).\n",
    "            * Statistical methods like propensity score matching, instrumental variables, and regression adjustment.\n",
    "\n",
    "**7. Statistical Distributions:**\n",
    "\n",
    "* **Question:** Describe the properties of the exponential distribution and its relationship to the Poisson distribution. Provide a real-world example where the exponential distribution is applicable.\n",
    "    * **Answer:**\n",
    "        * Exponential distribution: Models the time between events in a Poisson process.\n",
    "        * Poisson distribution: Models the number of events in a fixed interval.\n",
    "        * Example: Time between customer arrivals at a service center.\n",
    "\n",
    "**8. Resampling Techniques:**\n",
    "\n",
    "* **Question:** Explain the differences between bootstrapping and cross-validation. When would you use each technique, and what are their advantages and disadvantages?\n",
    "    * **Answer:**\n",
    "        * Bootstrapping: Sampling with replacement to estimate statistics.\n",
    "        * Cross-validation: Partitioning data to evaluate model performance.\n",
    "        * Bootstrapping: Use for estimating confidence intervals, standard errors. Advantages: Robust to non-normality. Disadvantages: Computationally intensive.\n",
    "        * Cross-validation: Use for model selection, hyperparameter tuning. Advantages: Reduces overfitting. Disadvantages: Can be computationally expensive.\n",
    "\n",
    "**9. Handling Missing Data:**\n",
    "\n",
    "* **Question:** Describe different methods for handling missing data and explain the potential biases associated with each method.\n",
    "    * **Answer:**\n",
    "        * Methods: deletion, imputation(mean, median, KNN, MICE).\n",
    "        * Biases: Deletion can introduce bias if data is not MCAR, simple imputation can distort distributions, complex imputation can introduce noise.\n",
    "\n",
    "**10. Outlier Detection:**\n",
    "\n",
    "* **Question:** What are some robust methods for outlier detection, and when would you use them?\n",
    "    * **Answer:**\n",
    "        * Methods: IQR, Isolation Forest, Local Outlier Factor (LOF).\n",
    "        * Use robust methods when data is not normally distributed or contains high levels of noise.\n",
    "\n",
    "**11. Feature Selection:**\n",
    "\n",
    "* **Question:** Explain the differences between filter, wrapper, and embedded feature selection methods.\n",
    "    * **Answer:**\n",
    "        * Filter: Uses statistical measures.\n",
    "        * Wrapper: Uses model performance.\n",
    "        * Embedded: Integrated into the model training process.\n",
    "\n",
    "**12. Central Limit Theorem:**\n",
    "\n",
    "* **Question:** Explain the Central Limit Theorem and its importance in statistical inference.\n",
    "    * **Answer:**\n",
    "        * The distribution of sample means approaches a normal distribution as the sample size increases, regardless of the population distribution.\n",
    "        * Importance: Allows us to use normal distribution for hypothesis testing and confidence intervals.\n",
    "\n",
    "**13. Statistical significance.**\n",
    "\n",
    "* **Question:** Explain what a p-value is, and what are the limitations to relying on p-values alone.\n",
    "    * **Answer:**\n",
    "        * A p-value is the probability of obtaining results as extreme as the observed results of a statistical hypothesis test, assuming that the null hypothesis is correct.\n",
    "        * Limitations: P-values do not indicate the size of an effect, and can be easily misinterpreted.\n",
    "\n",
    "**14. Multicollinearity.**\n",
    "\n",
    "* **Question:** What is multicollinearity, and how does it impact regression models? How would you detect and address it?\n",
    "    * **Answer:**\n",
    "        * Multicollinearity occurs when independent variables in a regression model are highly correlated.\n",
    "        * Impacts: Unstable coefficient estimates, reduced statistical significance.\n",
    "        * Detection: Variance inflation factor (VIF).\n",
    "        * Address: Remove redundant variables, or use regularization.\n",
    "\n",
    "**15. Non-Parametric tests.**\n",
    "\n",
    "* **Question:** When would you use non-parametric statistical tests, and what are some examples?\n",
    "    * **Answer:**\n",
    "        * When data does not meet assumptions of parametric tests (non-normal, small sample size).\n",
    "        * Examples: Mann-Whitney U test, Wilcoxon signed-rank test, Kruskal-Wallis test.\n",
    "\n",
    "**16. Logistical Regression.**\n",
    "\n",
    "* **Question:** Describe the assumptions of logistic regression, and how to check to see if those assumptions are being met.\n",
    "    * **Answer:**\n",
    "        * Linearity of log odds, independence of errors, and lack of strong multicollinearity.\n",
    "        * Checking: residual plots, VIF scores, and examining relationships between independent variables and log odds.\n",
    "\n",
    "**17. Confidence Intervals.**\n",
    "\n",
    "* **Question:** Explain the meaning of a confidence interval, and how it differs from a prediction interval.\n",
    "    * **Answer:**\n",
    "        * Confidence interval: Range of plausible values for a population parameter.\n",
    "        * Prediction interval: Range of plausible values for a single observation.\n",
    "        * Prediction intervals are wider than confidence intervals.\n",
    "\n",
    "**18. Bias Variance Tradeoff.**\n",
    "\n",
    "* **Question:** Explain the bias-variance tradeoff in machine learning. How does it relate to model complexity?\n",
    "    * **Answer:**\n",
    "        * Bias: Error from incorrect assumptions.\n",
    "        * Variance: Error from sensitivity to small fluctuations in training data.\n",
    "        * High model complexity reduces bias but increases variance.\n",
    "\n",
    "**19. Law of Large Numbers.**\n",
    "\n",
    "* **Question:** Describe the law of large numbers, and how it is used in statistical inference.\n",
    "    * **Answer:**\n",
    "        * As the sample size increases, the sample mean converges to the population mean.\n",
    "        * Used to justify using sample statistics to estimate population parameters.\n",
    "\n",
    "**20. Sampling Methods.**\n",
    "\n",
    "* **Question:** What are the various types of sampling methods and when is each appropriate?\n",
    "    * **Answer:**\n",
    "        * Random, stratified, cluster, systematic. Each is appropiate for different data sets and desired levels of statistical accuracy.\n",
    "\n",
    "**21. Feature Engineering.**\n",
    "\n",
    "* **Question:** How do you determine what feature engineering techniques to use on a given dataset?\n",
    "    * **Answer:**\n",
    "        "
   ]
  },
  {
   "cell_type": "markdown",
   "id": "ae03d549",
   "metadata": {},
   "source": [
    "# MAIN"
   ]
  },
  {
   "cell_type": "markdown",
   "id": "669fee39",
   "metadata": {},
   "source": [
    "## What is the difference between qualitative and quantitative data?"
   ]
  },
  {
   "cell_type": "markdown",
   "id": "9bcb59cc",
   "metadata": {},
   "source": [
    "Answer:\n",
    "\n",
    "Quantitative data: Numeric, measurable, and analyzed statistically (e.g., age, income). Types include discrete and continuous data.\n",
    "\n",
    "\n",
    "Qualitative data: Descriptive, non-numeric, and analyzed by grouping (e.g., gender, marital status). Types include nominal and ordinal data."
   ]
  },
  {
   "cell_type": "markdown",
   "id": "fea80b2f",
   "metadata": {},
   "source": [
    "## How do you calculate the coefficient of variation (CV)?"
   ]
  },
  {
   "attachments": {
    "Screenshot%202025-04-08%20192358.png": {
     "image/png": "[encoded data removed]"
    }
   },
   "cell_type": "markdown",
   "id": "527589b0",
   "metadata": {},
   "source": [
    "![Screenshot%202025-04-08%20192358.png](attachment:Screenshot%202025-04-08%20192358.png)"
   ]
  },
  {
   "cell_type": "markdown",
   "id": "c5d2fdd9",
   "metadata": {},
   "source": [
    "It’s useful for comparing variability between datasets with different units or means."
   ]
  },
  {
   "cell_type": "markdown",
   "id": "c0e3e994",
   "metadata": {},
   "source": [
    "## Explain the relationship between confidence level and significance level."
   ]
  },
  {
   "cell_type": "markdown",
   "id": "cafc1fdd",
   "metadata": {},
   "source": [
    "Answer:\n",
    "\n",
    "\n",
    "\n",
    "Confidence Level (1 − α): Probability that the confidence interval contains the true population parameter.\n",
    "\n",
    "\n",
    "\n",
    "Significance Level (α): Probability of rejecting a true null hypothesis (Type I error).\n",
    "\n",
    "\n",
    "Example: At a 95% confidence level, the significance level is 0.05."
   ]
  },
  {
   "cell_type": "markdown",
   "id": "ecb7f7f1",
   "metadata": {},
   "source": [
    "## What is multicollinearity, and how do you detect it?"
   ]
  },
  {
   "cell_type": "markdown",
   "id": "75e233cf",
   "metadata": {},
   "source": [
    "Answer:\n",
    "\n",
    "Multicollinearity: Occurs when independent variables in a regression model are highly correlated, making it difficult to isolate their individual effects.\n",
    "\n",
    "__Detection :__\n",
    "\n",
    "\n",
    "Variance Inflation Factor (VIF): VIF > 5 or 10 indicates high multicollinearity.\n",
    "\n",
    "\n",
    "Correlation Matrix: High pairwise correlations (e.g., > 0.8) among independent variables.\n",
    "\n",
    "\n",
    "Condition Index: Values > 30 indicate severe multicollinearity."
   ]
  },
  {
   "cell_type": "markdown",
   "id": "e57240be",
   "metadata": {},
   "source": [
    "## What are some common methods to address multicollinearity?"
   ]
  },
  {
   "cell_type": "markdown",
   "id": "40c16e6c",
   "metadata": {},
   "source": [
    "Answer:\n",
    "\n",
    "Remove highly correlated predictors.\n",
    "\n",
    "\n",
    "Use dimensionality reduction techniques like PCA.\n",
    "\n",
    "\n",
    "Apply regularization techniques (e.g., Lasso, Ridge regression)."
   ]
  },
  {
   "cell_type": "markdown",
   "id": "6dc4dafe",
   "metadata": {},
   "source": [
    "## Question 1: What is a p-value?"
   ]
  },
  {
   "cell_type": "markdown",
   "id": "a3d07b9b",
   "metadata": {},
   "source": [
    " \n",
    "Answer: Given that the null hypothesis is true, a p-value is the probability that you would see a result at least as extreme as the one observed.\n",
    "\n",
    "P-values are typically calculated to determine whether the result of a statistical test is significant. In simple words, the p-value tells us whether there is enough evidence to reject the null hypothesis."
   ]
  },
  {
   "cell_type": "markdown",
   "id": "47fc85e5",
   "metadata": {},
   "source": [
    "## Question 2: Explain the concept of statistical power"
   ]
  },
  {
   "cell_type": "markdown",
   "id": "ce9515a8",
   "metadata": {},
   "source": [
    " \n",
    "Answer: If you were to run a statistical test to detect whether an effect is present, statistical power is the probability that the test will accurately detect the effect.\n",
    "\n",
    "Here is a simple example to explain this:\n",
    "\n",
    "Let’s say we run an ad for a test group of 100 people and get 80 conversions.\n",
    "\n",
    "The null hypothesis is that the ad had no effect on the number of conversions. In reality, however, the ad did have a significant impact on the amount of sales.\n",
    "\n",
    "Statistical power is the probability that you would accurately reject the null hypothesis and actually detect the effect. A higher statistical power indicates that the test is better able to detect an effect if there is one."
   ]
  },
  {
   "cell_type": "markdown",
   "id": "78d01af1",
   "metadata": {},
   "source": [
    "## Question 3: How would you describe confidence intervals to a non-technical stakeholder?"
   ]
  },
  {
   "cell_type": "markdown",
   "id": "86305fc2",
   "metadata": {},
   "source": [
    " \n",
    "Let’s use the same example as before, in which an ad is run for a sample size of 100 people and 80 conversions are obtained.\n",
    "\n",
    "Instead of saying that the conversion rate is 80%, we would provide a range, since we don’t know how the true population would behave. In other words, if we were to take an infinite number of samples, how many conversions would we see?\n",
    "\n",
    "Here is an example of what we might say solely based on the data obtained from our sample:\n",
    "\n",
    "“If we were to run this ad for a larger group of people, we are 95% confident that the conversion rate will fall anywhere between 75% to 88%.”\n",
    "\n",
    "We use this range because we don’t know how the total population will react, and can only generate an estimate based on our test group, which is just a sample."
   ]
  },
  {
   "cell_type": "markdown",
   "id": "2a67914f",
   "metadata": {},
   "source": [
    "## Question 4: What is the difference between a parametric and non-parametric test?"
   ]
  },
  {
   "cell_type": "markdown",
   "id": "5f8f362e",
   "metadata": {},
   "source": [
    "Parametric and non-parametric tests are two broad categories of statistical tests used to analyze data, depending on the characteristics and assumptions about the data.\n",
    "\n",
    "---\n",
    "\n",
    "### 🔹 **Parametric Tests**\n",
    "**Definition**: Parametric tests assume that the data follows a certain distribution (typically normal distribution) and relies on parameters such as the mean and standard deviation.\n",
    "\n",
    "**Key Assumptions**:\n",
    "- Data is normally distributed.\n",
    "- Homogeneity of variance (equal variances in groups).\n",
    "- Data is measured on an interval or ratio scale.\n",
    "- Sample size is reasonably large.\n",
    "\n",
    "**Examples of Parametric Tests**:\n",
    "\n",
    "| Test | Purpose |\n",
    "|------|---------|\n",
    "| **t-test (one-sample, two-sample, paired)** | Compare means between groups |\n",
    "| **ANOVA (Analysis of Variance)** | Compare means of 3 or more groups |\n",
    "| **Pearson correlation** | Measure linear relationship between two variables |\n",
    "| **Linear regression** | Model relationship between dependent and independent variables |\n",
    "\n",
    "---\n",
    "\n",
    "### 🔹 **Non-Parametric Tests**\n",
    "**Definition**: Non-parametric tests **do not assume** a specific distribution for the data. They are more flexible and can be used when parametric assumptions are violated.\n",
    "\n",
    "**When to Use**:\n",
    "\n",
    "\n",
    "- Data is ordinal, nominal, or not normally distributed.\n",
    "\n",
    "\n",
    "- Small sample size.\n",
    "\n",
    "\n",
    "- Outliers are present.\n",
    "\n",
    "**Examples of Non-Parametric Tests**:\n",
    "\n",
    "\n",
    "| Test | Purpose |\n",
    "|------|---------|\n",
    "| **Mann-Whitney U test** | Compare medians between two independent groups (non-parametric alternative to two-sample t-test) |\n",
    "| **Wilcoxon signed-rank test** | Compare medians of two related samples (non-parametric alternative to paired t-test) |\n",
    "| **Kruskal-Wallis test** | Compare medians of 3 or more groups (non-parametric alternative to ANOVA) |\n",
    "| **Spearman’s rank correlation** | Assess monotonic relationship between two variables |\n",
    "| **Chi-square test** | Test relationships between categorical variables |"
   ]
  },
  {
   "cell_type": "markdown",
   "id": "18f938df",
   "metadata": {},
   "source": [
    "---\n",
    "\n",
    "### 🔄 Summary Table:\n",
    "\n",
    "| Criteria | Parametric | Non-Parametric |\n",
    "|----------|------------|----------------|\n",
    "| Assumes normal distribution | ✅ Yes | ❌ No |\n",
    "| Based on parameters (mean, SD) | ✅ Yes | ❌ No |\n",
    "| Uses raw data | ✅ Yes | 🔁 Often uses ranks |\n",
    "| Robust to outliers | ❌ No | ✅ Yes |\n",
    "| More powerful (if assumptions met) | ✅ Yes | ❌ Less powerful |\n",
    "\n",
    "---\n",
    "\n",
    "Let me know if you’d like a cheat sheet or want help selecting a test for a dataset!"
   ]
  },
  {
   "cell_type": "markdown",
   "id": "03472001",
   "metadata": {},
   "source": [
    "## Question 5: What is the difference between covariance and correlation?"
   ]
  },
  {
   "cell_type": "markdown",
   "id": "20422001",
   "metadata": {},
   "source": [
    " \n",
    "Covariance measures the direction of the linear relationship between variables. Correlation measures the strength and direction of this relationship.\n",
    "\n",
    "While both correlation and covariance give you similar information about feature relationship, the main difference between them is scale.\n",
    "\n",
    "Correlation ranges between -1 and +1. It is standardized, and easily allows you to understand whether there is a positive or negative relationship between features and how strong this effect is. On the other hand, covariance is displayed in the same units as the dependent and independent variables, which can make it slightly harder to interpret."
   ]
  },
  {
   "cell_type": "markdown",
   "id": "cbe6a250",
   "metadata": {},
   "source": [
    "## Question 6: How would you analyze and handle outliers in a dataset?"
   ]
  },
  {
   "cell_type": "markdown",
   "id": "084799a9",
   "metadata": {},
   "source": [
    " \n",
    "There are a few ways to detect outliers in the dataset.\n",
    "\n",
    "**Visual methods :** Outliers can be visually identified using charts like boxplots and scatterplots Points that are outside the whiskers of a boxplot are typically outliers. When using scatterplots, outliers can be detected as points that are far away from other data points in the visualization.\n",
    "\n",
    "\n",
    "**Non-visual methods (Z-score):** One non-visual technique to detect outliers is the Z-Score. Z-Scores are computed by subtracting a value from the mean and dividing it by the standard deviation. This tells us how many standard deviations away from the mean a value is. Values that are above or below 3 standard deviations from the mean are considered outliers.\n",
    "\n",
    "\n",
    "**Interquartile range (IQR) :** Calculate the IQR, which represents the range of values within the middle 50% of the dataset, and identify data points outside this range."
   ]
  },
  {
   "cell_type": "markdown",
   "id": "6cca5b09",
   "metadata": {},
   "source": [
    "## Question 7: Differentiate between a one-tailed and two-tailed test."
   ]
  },
  {
   "cell_type": "markdown",
   "id": "f06bce52",
   "metadata": {},
   "source": [
    " \n",
    "A one-tailed test checks whether there is a relationship or effect in a single direction. For example, after running an ad, you can use a one-tailed test to check for a positive impact, i.e. an increase in sales. This is a right-tailed test.\n",
    "\n",
    "A two-tailed test examines the possibility of a relationship in both directions. For instance, if a new teaching style has been implemented in all public schools, a two-tailed test would assess whether there is a significant increase or decrease in scores."
   ]
  },
  {
   "cell_type": "markdown",
   "id": "0e5eb4a0",
   "metadata": {},
   "source": [
    "## Question 8: Given the following scenario, which statistical test would you choose to implement?"
   ]
  },
  {
   "cell_type": "markdown",
   "id": "44bfbae5",
   "metadata": {},
   "source": [
    " \n",
    "An online retailer want to evaluate the effectiveness of a new ad campaign. They collect daily sales data for 30 days before and after the ad was launched. The company wants to determine if the ad contributed to a significant difference in daily sales.\n",
    "\n",
    "Options:\n",
    "\n",
    "A) Chi-squared test\n",
    "\n",
    "\n",
    "B) Paired t-test\n",
    "\n",
    "\n",
    "C) One-way ANOVA\n",
    "\n",
    "\n",
    "d) Independent samples t-test\n",
    "\n",
    "Answer: To evaluate the effectiveness of a new ad campaign, we should use an paired t-test.\n",
    "A paired t-test is used to compare the means of two samples and check if a difference is statistically significant.\n",
    "In this case, we are comparing sales before and after the ad was run, comparing a change in the same group of data, which is why we use a paired t-test instead of an independent samples t-test.\n",
    " "
   ]
  },
  {
   "cell_type": "markdown",
   "id": "0a2afdaa",
   "metadata": {},
   "source": [
    "## Question 9: What is a Chi-Square test of independence?"
   ]
  },
  {
   "cell_type": "markdown",
   "id": "9d097f81",
   "metadata": {},
   "source": [
    " \n",
    "A Chi-Square test of independence is used to examine the relationship between observed and expected results. The null hypothesis (H0) of this test is that any observed difference between the features is purely due to chance.\n",
    "\n",
    "In simple terms, this test can help us identify if the relationship between two categorical variables is due to chance, or whether there is a statistically significant association between them.\n",
    "\n",
    "For example, if you wanted to test whether there was a relationship between gender (Male vs Female) and ice cream flavor preference (Vanilla vs Chocolate), you can use a Chi-Square test of independence."
   ]
  },
  {
   "cell_type": "markdown",
   "id": "51634f08",
   "metadata": {},
   "source": [
    "## Question 10: Explain the concept of regularization in regression models."
   ]
  },
  {
   "cell_type": "markdown",
   "id": "4c450d35",
   "metadata": {},
   "source": [
    " \n",
    "Regularization is a technique that is used to reduce overfitting by adding extra information to it, allowing models to adapt and generalize better to datasets that they haven't been trained on.\n",
    "\n",
    "In regression, there are two commonly-used regularization techniques: ridge and lasso regression.\n",
    "\n",
    "These are models that slightly change the error equation of the regression model by adding a penalty term to it.\n",
    "\n",
    "In the case of ridge regression, a penalty term is multiplied by the sum of squared coefficients. This means that models with larger coefficients are penalized more. In lasso regression, a penalty term is multiplied by the sum of absolute coefficients.\n",
    "\n",
    "While the primary objective of both methods is to shrink the size of coefficients while minimizing model error, ridge regression penalizes large coefficients more.\n",
    "\n",
    "On the other hand, lasso regression applies a constant penalty to each coefficient, which means that coefficients can shrink to zero in some cases."
   ]
  },
  {
   "cell_type": "markdown",
   "id": "aa2acadc",
   "metadata": {},
   "source": [
    "## What is the Pareto principle?"
   ]
  },
  {
   "cell_type": "markdown",
   "id": "a4ccf6d7",
   "metadata": {},
   "source": [
    "The Pareto principle, also known as the 80/20 rule, suggests that 80 percent of the effects or results in a given situation are typically generated by 20 percent of the causes. For example, 80 percent of sales come from 20 percent of customers in business."
   ]
  },
  {
   "cell_type": "markdown",
   "id": "41662b08",
   "metadata": {},
   "source": [
    "## What is the Law of Large Numbers in statistics?"
   ]
  },
  {
   "cell_type": "markdown",
   "id": "3d9452a4",
   "metadata": {},
   "source": [
    "The Law of Large Numbers in statistics states that as the number of trials or observations in an experiment increases, the average or expected value of the results will approach the true or expected value. This principle demonstrates the convergence of sample statistics to population parameters with a larger sample size.\n",
    "\n",
    "\n",
    "As an example, let us check the probability of rolling a six-sided dice three times. The expected value obtained is far from the average value. And if we roll a dice a large number of times, we will obtain the average result closer to the expected value (which is 3.5 in this case). "
   ]
  },
  {
   "cell_type": "markdown",
   "id": "ad47ab2e",
   "metadata": {},
   "source": [
    "## What is the assumption of normality?"
   ]
  },
  {
   "cell_type": "markdown",
   "id": "35ce9635",
   "metadata": {},
   "source": [
    "It refers to the assumption that the distribution of sample means, particularly across independent samples, follows a normal (bell-shaped) distribution. This assumption is essential for many statistical tests and models."
   ]
  },
  {
   "cell_type": "markdown",
   "id": "50e1c40a",
   "metadata": {},
   "source": [
    "## What is the meaning of Six Sigma in statistics?"
   ]
  },
  {
   "cell_type": "markdown",
   "id": "71967d64",
   "metadata": {},
   "source": [
    "In statistics, Six Sigma refers to a quality control methodology aimed at producing a data set or process that is nearly error-free. It is typically measured in terms of standard deviations (sigma), and a process is considered at the six sigma level when it is 99.99966% error-free, indicating high reliability."
   ]
  },
  {
   "cell_type": "markdown",
   "id": "32156ccc",
   "metadata": {},
   "source": [
    "## 11. What is the meaning of KPI in statistics?"
   ]
  },
  {
   "cell_type": "markdown",
   "id": "59449330",
   "metadata": {},
   "source": [
    "KPI stands for key performance indicators in statistics. It is a quantifiable metric to assess whether specific goals or objectives are being achieved. KPIs are crucial for measuring performance in various contexts, such as organizations, projects, or individuals."
   ]
  },
  {
   "cell_type": "markdown",
   "id": "30ddba38",
   "metadata": {},
   "source": [
    "## 13. What are some of the properties of a normal distribution?"
   ]
  },
  {
   "cell_type": "markdown",
   "id": "585427c7",
   "metadata": {},
   "source": [
    "The normal distribution is also known as the Gaussian distribution. It has key properties, including symmetry, unimodality (a single peak), and the mean, median, and mode, all equal and located at the center. It forms a bell-shaped curve when graphed."
   ]
  },
  {
   "cell_type": "markdown",
   "id": "c3d41f92",
   "metadata": {},
   "source": [
    "## 14. How would you describe a ‘p-value’?"
   ]
  },
  {
   "cell_type": "markdown",
   "id": "6a950bdd",
   "metadata": {},
   "source": [
    "A p-value is a statistical measure calculated during hypothesis testing. It represents the probability of observing data as extreme as what was obtained in the experiment if the null hypothesis were true. A smaller p-value indicates stronger evidence against the null hypothesis, suggesting that the results are statistically significant."
   ]
  },
  {
   "cell_type": "markdown",
   "id": "77acbbc7",
   "metadata": {},
   "source": [
    "## Give an example of a dataset with a non-Gaussian distribution."
   ]
  },
  {
   "cell_type": "markdown",
   "id": "b8449a9b",
   "metadata": {},
   "source": [
    "Bacterial growth is an example of a dataset with a non-Gaussian or exponential distribution. In such datasets, the values are typically skewed to one side of the graph, unlike the symmetrical bell curve of a Gaussian (normal) distribution. Non-Gaussian distributions are common in various real-world processes and phenomena."
   ]
  },
  {
   "cell_type": "markdown",
   "id": "4a86b211",
   "metadata": {},
   "source": [
    "## What are the key assumptions necessary for linear regression?"
   ]
  },
  {
   "cell_type": "markdown",
   "id": "8f32bbf5",
   "metadata": {},
   "source": [
    "Linear regression relies on several key assumptions:\n",
    "\n",
    "1. Linearity: The relationship between predictor variables and the outcome variable is linear.\n",
    "\n",
    "\n",
    "2. Normality: The errors (residuals) are normally distributed.\n",
    "\n",
    "\n",
    "3. Independence: Residuals are independent of each other, meaning one observation’s error does not affect another’s.\n",
    "\n",
    "\n",
    "4. Homoscedasticity: The variance of residuals is constant across all levels of predictor variables.\n",
    "\n",
    "\n",
    "Violations of these assumptions can affect the model’s accuracy and reliability."
   ]
  },
  {
   "cell_type": "markdown",
   "id": "4873c2a7",
   "metadata": {},
   "source": [
    "## When should you opt for a t-test instead of a z-test in statistical hypothesis testing?"
   ]
  },
  {
   "cell_type": "markdown",
   "id": "a83a890a",
   "metadata": {},
   "source": [
    "You should choose a t-test for a small sample size (n<30). It can also be used when the population standard deviation is unknown. \n",
    "\n",
    "\n",
    "A z-test is appropriate for more extensive samples (n>30). It is used when the population standard deviation is known. The t-test uses the t-distribution, which accounts for the more significant uncertainty in smaller samples."
   ]
  },
  {
   "cell_type": "markdown",
   "id": "410eaf16",
   "metadata": {},
   "source": [
    "## Describe the difference between low and high-bias Machine Learning algorithms."
   ]
  },
  {
   "cell_type": "markdown",
   "id": "61e193df",
   "metadata": {},
   "source": [
    "Low-bias machine learning algorithms, such as decision trees and k-nearest Neighbors, have the flexibility to capture complex patterns in data. Preconceived notions less constrain them and can fit the data closely.\n",
    "\n",
    "\n",
    "\n",
    "In contrast, high-bias algorithms like Linear Regression and Logistic Regression have simpler models and make stronger assumptions. They may not fit the data as closely but are less prone to overfitting small variations in the data."
   ]
  },
  {
   "cell_type": "markdown",
   "id": "8e9093c5",
   "metadata": {},
   "source": [
    "## What is cherry-picking, P-hacking, and the practice of significance chasing in statistics?"
   ]
  },
  {
   "cell_type": "markdown",
   "id": "7fe4edad",
   "metadata": {},
   "source": [
    "Cherry-picking is the selective presentation of data that supports a specific claim while ignoring contradictory data.\n",
    "\n",
    "\n",
    "P-hacking involves manipulating data analysis to find statistically significant patterns even when no real effect exists.\n",
    "\n",
    "\n",
    "Significance chasing, also known as Data Dredging or Data Snooping, involves presenting insignificant results as if they are almost significant, potentially leading to misleading conclusions."
   ]
  },
  {
   "cell_type": "markdown",
   "id": "8257f564",
   "metadata": {},
   "source": [
    "## Explain the distinction between type I and type II errors in hypothesis testing."
   ]
  },
  {
   "cell_type": "markdown",
   "id": "3ebb46fe",
   "metadata": {},
   "source": [
    "Type I error occurs when the null hypothesis is incorrectly rejected, suggesting an effect exists when it doesn’t (false positive). Type II error occurs when the null hypothesis is incorrectly accepted, failing to detect a real effect (false negative). These errors affect the accuracy of statistical tests and decision-making in hypothesis testing."
   ]
  },
  {
   "cell_type": "markdown",
   "id": "0a3ccd0c",
   "metadata": {},
   "source": [
    "## What are the differences between Type II error and statistical power?"
   ]
  },
  {
   "cell_type": "markdown",
   "id": "0aee413e",
   "metadata": {},
   "source": [
    "Answer:\n",
    "\n",
    "Type II Error (β) Probability of failing to reject a false null hypothesis.\n",
    "\n",
    "\n",
    "Statistical Power (1−β): Probability of correctly rejecting a false null hypothesis. Higher power reduces the likelihood of Type II errors."
   ]
  },
  {
   "cell_type": "markdown",
   "id": "a4dc8cfa",
   "metadata": {},
   "source": [
    "## Explain the concept of degrees of freedom (DF) in statistics."
   ]
  },
  {
   "cell_type": "markdown",
   "id": "e8b19633",
   "metadata": {},
   "source": [
    "Degrees of freedom (DF) in statistics represent the number of options or variables available to analyze a problem. It’s a critical concept used primarily with the t-distribution and less commonly with the z-distribution.\n",
    "\n",
    "An increase in degrees of freedom allows the t-distribution to approximate the normal distribution more closely. When DF exceeds 30, the t-distribution closely resembles a normal distribution. In essence, degrees of freedom determine the flexibility of statistical analysis and the shape of the distribution."
   ]
  },
  {
   "cell_type": "markdown",
   "id": "876e9d7c",
   "metadata": {},
   "source": [
    "## What are some of the characteristics of a normal distribution?"
   ]
  },
  {
   "cell_type": "markdown",
   "id": "4491e2a3",
   "metadata": {},
   "source": [
    "A normal distribution, often called a bell-shaped curve, possesses several key properties:\n",
    "\n",
    "Unimodal: It has only one mode or peak.\n",
    "Symmetrical: The left and right halves mirror each other.\n",
    "Central tendency: The mean, median, and mode are all centered at the midpoint of the distribution."
   ]
  },
  {
   "cell_type": "markdown",
   "id": "cc6f6210",
   "metadata": {},
   "source": [
    "## Define sensitivity in the context of statistics."
   ]
  },
  {
   "cell_type": "markdown",
   "id": "aa25d718",
   "metadata": {},
   "source": [
    "Sensitivity, often used in the context of classification models such as logistic regression or random forests, measures the accuracy of a model in identifying true positive events. It is calculated as the ratio of correctly predicted true events to the total number of actual true events. Sensitivity helps assess a model’s ability to identify positive cases correctly, which is crucial in various fields like healthcare for disease diagnosis."
   ]
  },
  {
   "cell_type": "markdown",
   "id": "7ad6fd7a",
   "metadata": {},
   "source": [
    "## What’s the advantage of using box plots?"
   ]
  },
  {
   "cell_type": "markdown",
   "id": "fde32ae1",
   "metadata": {},
   "source": [
    "Box plots concisely represent the 5-number summary (minimum, 1st quartile, median, 3rd quartile, maximum). It also facilitates easy comparison between data groups or distributions, enhancing data analysis and visualization."
   ]
  },
  {
   "cell_type": "markdown",
   "id": "8ce24cca",
   "metadata": {},
   "source": [
    "## List some examples of low and high-bias machine learning algorithms."
   ]
  },
  {
   "cell_type": "markdown",
   "id": "0425e4e8",
   "metadata": {},
   "source": [
    "Low-bias machine learning algorithms have greater flexibility to capture complex patterns and include decision trees, k-nearest Neighbors, and support vector machines. High-bias algorithms, like Linear Regression and Logistic Regression, make stronger assumptions and have simpler models, making them less prone to overfitting but potentially missing nuanced relationships in data."
   ]
  },
  {
   "cell_type": "markdown",
   "id": "fb2aff95",
   "metadata": {},
   "source": [
    "## When would the middle value be better than the average value?"
   ]
  },
  {
   "cell_type": "markdown",
   "id": "01677cc9",
   "metadata": {},
   "source": [
    "When some values are too high or too low and can change the data a lot, the middle value is better because it can show the data more accurately."
   ]
  },
  {
   "cell_type": "markdown",
   "id": "b703aa61",
   "metadata": {},
   "source": [
    "## How can you use root cause analysis in real life?"
   ]
  },
  {
   "cell_type": "markdown",
   "id": "edca28be",
   "metadata": {},
   "source": [
    "Root cause analysis is a way of finding the main cause of a problem by asking why it happened. Examples: You might see that more crimes happen in a city when more red shirts are sold. But this does not mean that one causes the other. You can always use different ways to check if something causes something else."
   ]
  },
  {
   "cell_type": "markdown",
   "id": "a2085839",
   "metadata": {},
   "source": [
    "## How are confidence tests and hypothesis tests similar? How are they different?"
   ]
  },
  {
   "cell_type": "markdown",
   "id": "dc016213",
   "metadata": {},
   "source": [
    "Confidence tests and hypothesis tests both form the foundation of statistics. \n",
    "\n",
    "The confidence interval holds importance in research to offer a strong base for research estimations, especially in medical research. The confidence interval provides a range of values that helps in capturing the unknown parameter. \n",
    "\n",
    "Hypothesis testing is used to test an experiment or observation and determine if the results did not occur purely by chance or luck using the below formula where ‘p’ is some parameter. \n",
    "\n",
    "Confidence and hypothesis testing are inferential techniques used to either estimate a parameter or test the validity of a hypothesis using a sample of data from that data set. While confidence interval provides a range of values for an accurate estimation of the precision of that parameter, hypothesis testing tells us how confident we are inaccurately drawing conclusions about a parameter from a sample. Both can be used to infer population parameters in tandem. \n",
    "\n",
    "In case we include 0 in the confidence interval, it indicates that the sample and population have no difference. If we get a p-value that is higher than alpha from hypothesis testing, it means that we will fail to reject the bull hypothesis."
   ]
  },
  {
   "cell_type": "markdown",
   "id": "3b3e9b38",
   "metadata": {},
   "source": [
    "## What is the relationship between mean and median in normal distribution?"
   ]
  },
  {
   "cell_type": "markdown",
   "id": "510e6a7c",
   "metadata": {},
   "source": [
    "In a normal distribution, the mean and the median are equal."
   ]
  },
  {
   "cell_type": "markdown",
   "id": "45830ea2",
   "metadata": {},
   "source": [
    "## What is the relationship between standard error and margin of error?"
   ]
  },
  {
   "cell_type": "markdown",
   "id": "f94e3a63",
   "metadata": {},
   "source": [
    "Margin of error = Critical value X Standard deviation for the population \n",
    "\n",
    "\n",
    "and\n",
    "\n",
    "\n",
    "Margin of error = Critical value X Standard error of the sample.\n",
    "\n",
    "\n",
    "\n",
    "The margin of error will increase with the standard error. "
   ]
  },
  {
   "cell_type": "markdown",
   "id": "cbe450f2",
   "metadata": {},
   "source": [
    "## What is the Kolmogorov-Smirnov test?"
   ]
  },
  {
   "cell_type": "markdown",
   "id": "4fb46259",
   "metadata": {},
   "source": [
    "Answer:\n",
    "\n",
    "A non-parametric test that compares a sample distribution with a reference distribution or two sample distributions to check for differences.\n",
    "\n",
    "\n",
    "Used to test for normality or distribution equality."
   ]
  },
  {
   "cell_type": "markdown",
   "id": "daba6ff9",
   "metadata": {},
   "source": [
    "## What does it mean if a model is heteroscedastic?"
   ]
  },
  {
   "cell_type": "markdown",
   "id": "cf4cc6e2",
   "metadata": {},
   "source": [
    "A model is said to be heteroscedastic when the variation in errors comes out to be inconsistent. It often occurs in two forms – conditional and unconditional."
   ]
  },
  {
   "cell_type": "markdown",
   "id": "7d5bd76d",
   "metadata": {},
   "source": [
    "## What is selection bias and why is it important?"
   ]
  },
  {
   "cell_type": "markdown",
   "id": "0b6548a1",
   "metadata": {},
   "source": [
    "Selection bias is a term in statistics used to denote the situation when selected individuals or a group within a study differ in a manner from the population of interest that they give systematic error in the outcome.\n",
    "\n",
    "Typically selection bias can be identified using bivariate tests apart from using other methods of multiple regression such as logistic regression.\n",
    "\n",
    "It is crucial to understand and identify selection bias to avoid skewing results in a study. Selection bias can lead to false insights about a particular population group in a study.\n",
    "\n",
    "Different types of selection bias include –\n",
    "\n",
    "1. Sampling bias – It is often caused by non-random sampling. The best way to overcome this is by drawing from a sample that is not self-selecting.\n",
    "\n",
    "\n",
    "2. Participant attrition – The dropout rate of participants from a study constitutes participant attrition. It can be avoided by following up with the participants who dropped off to determine if the attrition is due to the presence of a common factor between participants or something else.\n",
    "\n",
    "\n",
    "3. Exposure – It occurs due to the incorrect assessment or the lack of internal validity between exposure and effect in a population.\n",
    "\n",
    "\n",
    "4. Data – It includes dredging of data and cherry-picking and occurs when a large number of variables are present in the data causing even bogus results to appear significant. \n",
    "\n",
    "\n",
    "5. Time-interval – It is a sampling error that occurs when observations are selected from a certain time period only. For example, analyzing sales during the Christmas season.\n",
    "\n",
    "\n",
    "6. Observer selection- It is a kind of discrepancy or detection bias that occurs during the observation of a process and dictates that for the data to be observable, it must be compatible with the life that observes it."
   ]
  },
  {
   "cell_type": "markdown",
   "id": "c192815c",
   "metadata": {},
   "source": [
    "## What does autocorrelation mean?"
   ]
  },
  {
   "cell_type": "markdown",
   "id": "c4ae7a37",
   "metadata": {},
   "source": [
    "Autocorrelation is a representation of the degree of correlation between the two variables in a given time series. It means that the data is correlated in a way that future outcomes are linked to past outcomes. Autocorrelation makes a model less accurate because even errors follow a sequential pattern. "
   ]
  },
  {
   "cell_type": "markdown",
   "id": "f9c99b6c",
   "metadata": {},
   "source": [
    "## What is Bessel’s correction?"
   ]
  },
  {
   "cell_type": "markdown",
   "id": "668ea4fa",
   "metadata": {},
   "source": [
    "Bessel’s correction advocates the use of n-1 instead of n in the formula of standard deviation. It helps to increase the accuracy of results while analyzing a sample of data to derive more general conclusions."
   ]
  },
  {
   "cell_type": "markdown",
   "id": "491eb0b7",
   "metadata": {},
   "source": [
    "## Does symmetric distribution need to be unimodal?"
   ]
  },
  {
   "cell_type": "markdown",
   "id": "e83f0d98",
   "metadata": {},
   "source": [
    "Symmetrical distribution does not necessarily need to be unimodal, they can be skewed or asymmetric. They can be bimodal with two peaks or multimodal with multiple peaks. "
   ]
  },
  {
   "cell_type": "markdown",
   "id": "bf49199e",
   "metadata": {},
   "source": [
    "## What is the benefit of using box plots?"
   ]
  },
  {
   "cell_type": "markdown",
   "id": "f258d44d",
   "metadata": {},
   "source": [
    "Boxplot is a visually effective representation of two or more data sets and facilitates quick comparison between a group of histograms."
   ]
  },
  {
   "cell_type": "markdown",
   "id": "6fb99461",
   "metadata": {},
   "source": [
    "## What is the meaning of sensitivity in statistics?"
   ]
  },
  {
   "cell_type": "markdown",
   "id": "0daee1a7",
   "metadata": {},
   "source": [
    "Sensitivity refers to the accuracy of a classifier in a test. It can be calculated using the formula –\n",
    "\n",
    "Sensitivity = Predicted True Events/Total number of Events"
   ]
  },
  {
   "cell_type": "markdown",
   "id": "6f13839a",
   "metadata": {},
   "source": [
    "## What is the F-statistic in ANOVA?"
   ]
  },
  {
   "cell_type": "markdown",
   "id": "721bdf7e",
   "metadata": {},
   "source": [
    "Answer:\n",
    "\n",
    "Measures the ratio of variance explained by the model to the variance within groups.\n",
    "\n",
    "\n",
    "Higher F-statistic indicates a significant difference among group means."
   ]
  },
  {
   "cell_type": "markdown",
   "id": "7176c838",
   "metadata": {},
   "source": [
    "## What is kurtosis?"
   ]
  },
  {
   "cell_type": "markdown",
   "id": "9c8cadc9",
   "metadata": {},
   "source": [
    "Kurtosis is a measure of the degree of the extreme values present in one tail of distribution or the peaks of frequency distribution as compared to the others. \n",
    "\n",
    "\n",
    "The standard normal distribution has a kurtosis of 3 whereas the values of symmetry and kurtosis between -2 and +2 are considered normal and acceptable. The data sets with a high level of kurtosis imply that there is a presence of outliers. \n",
    "\n",
    "\n",
    "One needs to add data or remove outliers to overcome this problem. \n",
    "\n",
    "\n",
    "\n",
    "Data sets with low kurtosis levels have light tails and lack outliers."
   ]
  },
  {
   "cell_type": "markdown",
   "id": "eac316e7",
   "metadata": {},
   "source": [
    "Types:\n",
    "\n",
    "\n",
    "1. Mesokurtic: Normal distribution (moderate tails).\n",
    "\n",
    "\n",
    "2. Leptokurtic: Heavy tails and sharp peak.\n",
    "\n",
    "\n",
    "3. Platykurtic: Light tails and flat peak."
   ]
  },
  {
   "cell_type": "markdown",
   "id": "2f84a01a",
   "metadata": {},
   "source": [
    "## What is the Durbin-Watson test?"
   ]
  },
  {
   "cell_type": "markdown",
   "id": "dd09e5cb",
   "metadata": {},
   "source": [
    "Answer:\n",
    "\n",
    "Used in regression to detect autocorrelation in residuals.\n",
    "\n",
    "\n",
    "Values close to 2 indicate no autocorrelation; values closer to 0 or 4 indicate positive or negative autocorrelation, respectively."
   ]
  },
  {
   "cell_type": "markdown",
   "id": "0b7cb510",
   "metadata": {},
   "source": [
    "## What is the difference between A/B testing and hypothesis testing?"
   ]
  },
  {
   "cell_type": "markdown",
   "id": "8427df23",
   "metadata": {},
   "source": [
    "Answer:\n",
    "\n",
    "A/B Testing: A specific type of hypothesis testing used to compare two versions (A and B) of a product, webpage, or process to determine which performs better.\n",
    "\n",
    "\n",
    "Hypothesis Testing: A general statistical framework to test assumptions about a population parameter."
   ]
  },
  {
   "cell_type": "markdown",
   "id": "c22fef8f",
   "metadata": {},
   "source": [
    "## How do you interpret a QQ-plot?"
   ]
  },
  {
   "cell_type": "markdown",
   "id": "760c2161",
   "metadata": {},
   "source": [
    "Answer: A QQ-plot compares the distribution of a dataset with a theoretical distribution (e.g., normal). Points along the diagonal indicate a good fit, while deviations suggest discrepancies."
   ]
  },
  {
   "cell_type": "markdown",
   "id": "4c05b24a",
   "metadata": {},
   "source": [
    "## Good questions here also (advance level) : https://github.com/youssefHosni/Data-Science-Interview-Questions-Answers/blob/main/Statistics%20Interview%20Questions%20%26%20Answers%20for%20Data%20Scientists.md"
   ]
  },
  {
   "cell_type": "markdown",
   "id": "1640f292",
   "metadata": {},
   "source": []
  },
  {
   "cell_type": "markdown",
   "id": "28f1a14f",
   "metadata": {},
   "source": []
  },
  {
   "cell_type": "code",
   "execution_count": null,
   "id": "ef74f565",
   "metadata": {},
   "outputs": [],
   "source": []
  },
  {
   "cell_type": "code",
   "execution_count": null,
   "id": "5af96af2",
   "metadata": {},
   "outputs": [],
   "source": []
  },
  {
   "cell_type": "code",
   "execution_count": null,
   "id": "9c6e6d27",
   "metadata": {},
   "outputs": [],
   "source": []
  },
  {
   "cell_type": "code",
   "execution_count": null,
   "id": "e0b3e7ba",
   "metadata": {},
   "outputs": [],
   "source": []
  },
  {
   "cell_type": "code",
   "execution_count": null,
   "id": "4a7689b9",
   "metadata": {},
   "outputs": [],
   "source": []
  },
  {
   "cell_type": "code",
   "execution_count": null,
   "id": "d0fda866",
   "metadata": {},
   "outputs": [],
   "source": []
  }
 ],
 "metadata": {
  "kernelspec": {
   "display_name": "Python 3 (ipykernel)",
   "language": "python",
   "name": "python3"
  },
  "language_info": {
   "codemirror_mode": {
    "name": "ipython",
    "version": 3
   },
   "file_extension": ".py",
   "mimetype": "text/x-python",
   "name": "python",
   "nbconvert_exporter": "python",
   "pygments_lexer": "ipython3",
   "version": "3.9.13"
  }
 },
 "nbformat": 4,
 "nbformat_minor": 5
}
